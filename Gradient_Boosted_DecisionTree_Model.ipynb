{
 "cells": [
  {
   "cell_type": "markdown",
   "id": "6ee44812-6374-40f6-8285-ec85263d5d0f",
   "metadata": {
    "gradient": {
     "editing": false,
     "id": "6ee44812-6374-40f6-8285-ec85263d5d0f",
     "kernelId": "262f8bfc-2873-4228-8df1-27595fffcf1f"
    }
   },
   "source": [
    "# Build Model"
   ]
  },
  {
   "cell_type": "markdown",
   "id": "d07025eb",
   "metadata": {
    "gradient": {
     "editing": false,
     "id": "d07025eb",
     "kernelId": "262f8bfc-2873-4228-8df1-27595fffcf1f"
    }
   },
   "source": [
    "## Import the base libraries required for this modeling"
   ]
  },
  {
   "cell_type": "code",
   "execution_count": null,
   "id": "ae7c3ddc",
   "metadata": {
    "gradient": {
     "editing": false,
     "execution_count": 3,
     "id": "ae7c3ddc",
     "kernelId": "262f8bfc-2873-4228-8df1-27595fffcf1f"
    }
   },
   "outputs": [],
   "source": [
    "import warnings\n",
    "warnings.filterwarnings('ignore')\n",
    "\n",
    "%matplotlib inline\n",
    "import numpy as np\n",
    "import matplotlib.pyplot as plt\n",
    "import pandas as pd\n",
    "import seaborn as sns"
   ]
  },
  {
   "cell_type": "code",
   "execution_count": null,
   "id": "cf50dbb5",
   "metadata": {
    "gradient": {
     "editing": false,
     "execution_count": 4,
     "id": "cf50dbb5",
     "kernelId": "262f8bfc-2873-4228-8df1-27595fffcf1f"
    }
   },
   "outputs": [],
   "source": [
    "from sklearn.model_selection import train_test_split\n",
    "from sklearn.model_selection import RandomizedSearchCV\n",
    "from sklearn.metrics import accuracy_score\n",
    "from sklearn.pipeline import make_pipeline\n",
    "from sklearn.preprocessing import MinMaxScaler\n",
    "from sklearn.metrics import roc_curve, confusion_matrix, auc\n",
    "from sklearn.metrics import ConfusionMatrixDisplay\n",
    "from sklearn.metrics import roc_curve\n",
    "from sklearn.metrics import RocCurveDisplay\n",
    "from sklearn.metrics import precision_recall_curve\n",
    "from sklearn.metrics import PrecisionRecallDisplay\n",
    "from sklearn.metrics import precision_score, recall_score, f1_score"
   ]
  },
  {
   "cell_type": "code",
   "execution_count": null,
   "id": "4a900718-7da8-405d-95b4-b459a14be8eb",
   "metadata": {
    "gradient": {
     "editing": false,
     "execution_count": 5,
     "id": "4a900718-7da8-405d-95b4-b459a14be8eb",
     "kernelId": "262f8bfc-2873-4228-8df1-27595fffcf1f",
     "source_hidden": false
    }
   },
   "outputs": [
    {
     "name": "stdout",
     "output_type": "stream",
     "text": [
      "Collecting package metadata (current_repodata.json): - "
     ]
    },
    {
     "name": "stdout",
     "output_type": "stream",
     "text": [
      "\b\b\\ "
     ]
    },
    {
     "name": "stdout",
     "output_type": "stream",
     "text": [
      "\b\b| "
     ]
    },
    {
     "name": "stdout",
     "output_type": "stream",
     "text": [
      "\b\b/ "
     ]
    },
    {
     "name": "stdout",
     "output_type": "stream",
     "text": [
      "\b\b- "
     ]
    },
    {
     "name": "stdout",
     "output_type": "stream",
     "text": [
      "\b\b\\ "
     ]
    },
    {
     "name": "stdout",
     "output_type": "stream",
     "text": [
      "\b\b| "
     ]
    },
    {
     "name": "stdout",
     "output_type": "stream",
     "text": [
      "\b\b/ "
     ]
    },
    {
     "name": "stdout",
     "output_type": "stream",
     "text": [
      "\b\b- "
     ]
    },
    {
     "name": "stdout",
     "output_type": "stream",
     "text": [
      "\b\b\\ "
     ]
    },
    {
     "name": "stdout",
     "output_type": "stream",
     "text": [
      "\b\b| "
     ]
    },
    {
     "name": "stdout",
     "output_type": "stream",
     "text": [
      "\b\b/ "
     ]
    },
    {
     "name": "stdout",
     "output_type": "stream",
     "text": [
      "\b\b- "
     ]
    },
    {
     "name": "stdout",
     "output_type": "stream",
     "text": [
      "\b\b\\ "
     ]
    },
    {
     "name": "stdout",
     "output_type": "stream",
     "text": [
      "\b\b| "
     ]
    },
    {
     "name": "stdout",
     "output_type": "stream",
     "text": [
      "\b\b/ "
     ]
    },
    {
     "name": "stdout",
     "output_type": "stream",
     "text": [
      "\b\b- "
     ]
    },
    {
     "name": "stdout",
     "output_type": "stream",
     "text": [
      "\b\b\\ "
     ]
    },
    {
     "name": "stdout",
     "output_type": "stream",
     "text": [
      "\b\b| "
     ]
    },
    {
     "name": "stdout",
     "output_type": "stream",
     "text": [
      "\b\b/ "
     ]
    },
    {
     "name": "stdout",
     "output_type": "stream",
     "text": [
      "\b\b- "
     ]
    },
    {
     "name": "stdout",
     "output_type": "stream",
     "text": [
      "\b\b\\ "
     ]
    },
    {
     "name": "stdout",
     "output_type": "stream",
     "text": [
      "\b\b| "
     ]
    },
    {
     "name": "stdout",
     "output_type": "stream",
     "text": [
      "\b\b/ "
     ]
    },
    {
     "name": "stdout",
     "output_type": "stream",
     "text": [
      "\b\b- "
     ]
    },
    {
     "name": "stdout",
     "output_type": "stream",
     "text": [
      "\b\b\\ "
     ]
    },
    {
     "name": "stdout",
     "output_type": "stream",
     "text": [
      "\b\b| "
     ]
    },
    {
     "name": "stdout",
     "output_type": "stream",
     "text": [
      "\b\b/ "
     ]
    },
    {
     "name": "stdout",
     "output_type": "stream",
     "text": [
      "\b\b- "
     ]
    },
    {
     "name": "stdout",
     "output_type": "stream",
     "text": [
      "\b\b\\ "
     ]
    },
    {
     "name": "stdout",
     "output_type": "stream",
     "text": [
      "\b\b| "
     ]
    },
    {
     "name": "stdout",
     "output_type": "stream",
     "text": [
      "\b\b/ "
     ]
    },
    {
     "name": "stdout",
     "output_type": "stream",
     "text": [
      "\b\b- "
     ]
    },
    {
     "name": "stdout",
     "output_type": "stream",
     "text": [
      "\b\b\\ "
     ]
    },
    {
     "name": "stdout",
     "output_type": "stream",
     "text": [
      "\b\b| "
     ]
    },
    {
     "name": "stdout",
     "output_type": "stream",
     "text": [
      "\b\b/ "
     ]
    },
    {
     "name": "stdout",
     "output_type": "stream",
     "text": [
      "\b\b- "
     ]
    },
    {
     "name": "stdout",
     "output_type": "stream",
     "text": [
      "\b\b\\ "
     ]
    },
    {
     "name": "stdout",
     "output_type": "stream",
     "text": [
      "\b\b| "
     ]
    },
    {
     "name": "stdout",
     "output_type": "stream",
     "text": [
      "\b\b/ "
     ]
    },
    {
     "name": "stdout",
     "output_type": "stream",
     "text": [
      "\b\b- "
     ]
    },
    {
     "name": "stdout",
     "output_type": "stream",
     "text": [
      "\b\b\\ "
     ]
    },
    {
     "name": "stdout",
     "output_type": "stream",
     "text": [
      "\b\b| "
     ]
    },
    {
     "name": "stdout",
     "output_type": "stream",
     "text": [
      "\b\b/ "
     ]
    },
    {
     "name": "stdout",
     "output_type": "stream",
     "text": [
      "\b\b- "
     ]
    },
    {
     "name": "stdout",
     "output_type": "stream",
     "text": [
      "\b\b\\ "
     ]
    },
    {
     "name": "stdout",
     "output_type": "stream",
     "text": [
      "\b\b| "
     ]
    },
    {
     "name": "stdout",
     "output_type": "stream",
     "text": [
      "\b\b/ "
     ]
    },
    {
     "name": "stdout",
     "output_type": "stream",
     "text": [
      "\b\b- "
     ]
    },
    {
     "name": "stdout",
     "output_type": "stream",
     "text": [
      "\b\b\\ "
     ]
    },
    {
     "name": "stdout",
     "output_type": "stream",
     "text": [
      "\b\b| "
     ]
    },
    {
     "name": "stdout",
     "output_type": "stream",
     "text": [
      "\b\b/ "
     ]
    },
    {
     "name": "stdout",
     "output_type": "stream",
     "text": [
      "\b\b- "
     ]
    },
    {
     "name": "stdout",
     "output_type": "stream",
     "text": [
      "\b\b\\ "
     ]
    },
    {
     "name": "stdout",
     "output_type": "stream",
     "text": [
      "\b\b| "
     ]
    },
    {
     "name": "stdout",
     "output_type": "stream",
     "text": [
      "\b\b/ "
     ]
    },
    {
     "name": "stdout",
     "output_type": "stream",
     "text": [
      "\b\b- "
     ]
    },
    {
     "name": "stdout",
     "output_type": "stream",
     "text": [
      "\b\b\\ "
     ]
    },
    {
     "name": "stdout",
     "output_type": "stream",
     "text": [
      "\b\b| "
     ]
    },
    {
     "name": "stdout",
     "output_type": "stream",
     "text": [
      "\b\b/ "
     ]
    },
    {
     "name": "stdout",
     "output_type": "stream",
     "text": [
      "\b\b- "
     ]
    },
    {
     "name": "stdout",
     "output_type": "stream",
     "text": [
      "\b\b\\ "
     ]
    },
    {
     "name": "stdout",
     "output_type": "stream",
     "text": [
      "\b\b| "
     ]
    },
    {
     "name": "stdout",
     "output_type": "stream",
     "text": [
      "\b\b/ "
     ]
    },
    {
     "name": "stdout",
     "output_type": "stream",
     "text": [
      "\b\b- "
     ]
    },
    {
     "name": "stdout",
     "output_type": "stream",
     "text": [
      "\b\b\\ "
     ]
    },
    {
     "name": "stdout",
     "output_type": "stream",
     "text": [
      "\b\b| "
     ]
    },
    {
     "name": "stdout",
     "output_type": "stream",
     "text": [
      "\b\b/ "
     ]
    },
    {
     "name": "stdout",
     "output_type": "stream",
     "text": [
      "\b\b- "
     ]
    },
    {
     "name": "stdout",
     "output_type": "stream",
     "text": [
      "\b\b\\ "
     ]
    },
    {
     "name": "stdout",
     "output_type": "stream",
     "text": [
      "\b\b| "
     ]
    },
    {
     "name": "stdout",
     "output_type": "stream",
     "text": [
      "\b\b/ "
     ]
    },
    {
     "name": "stdout",
     "output_type": "stream",
     "text": [
      "\b\b- "
     ]
    },
    {
     "name": "stdout",
     "output_type": "stream",
     "text": [
      "\b\b\\ "
     ]
    },
    {
     "name": "stdout",
     "output_type": "stream",
     "text": [
      "\b\b| "
     ]
    },
    {
     "name": "stdout",
     "output_type": "stream",
     "text": [
      "\b\b/ "
     ]
    },
    {
     "name": "stdout",
     "output_type": "stream",
     "text": [
      "\b\b- "
     ]
    },
    {
     "name": "stdout",
     "output_type": "stream",
     "text": [
      "\b\b\\ "
     ]
    },
    {
     "name": "stdout",
     "output_type": "stream",
     "text": [
      "\b\b| "
     ]
    },
    {
     "name": "stdout",
     "output_type": "stream",
     "text": [
      "\b\b/ "
     ]
    },
    {
     "name": "stdout",
     "output_type": "stream",
     "text": [
      "\b\b- "
     ]
    },
    {
     "name": "stdout",
     "output_type": "stream",
     "text": [
      "\b\b\\ "
     ]
    },
    {
     "name": "stdout",
     "output_type": "stream",
     "text": [
      "\b\b| "
     ]
    },
    {
     "name": "stdout",
     "output_type": "stream",
     "text": [
      "\b\b/ "
     ]
    },
    {
     "name": "stdout",
     "output_type": "stream",
     "text": [
      "\b\b- "
     ]
    },
    {
     "name": "stdout",
     "output_type": "stream",
     "text": [
      "\b\b\\ "
     ]
    },
    {
     "name": "stdout",
     "output_type": "stream",
     "text": [
      "\b\b| "
     ]
    },
    {
     "name": "stdout",
     "output_type": "stream",
     "text": [
      "\b\b/ "
     ]
    },
    {
     "name": "stdout",
     "output_type": "stream",
     "text": [
      "\b\b- "
     ]
    },
    {
     "name": "stdout",
     "output_type": "stream",
     "text": [
      "\b\b\\ "
     ]
    },
    {
     "name": "stdout",
     "output_type": "stream",
     "text": [
      "\b\b| "
     ]
    },
    {
     "name": "stdout",
     "output_type": "stream",
     "text": [
      "\b\b/ "
     ]
    },
    {
     "name": "stdout",
     "output_type": "stream",
     "text": [
      "\b\b- "
     ]
    },
    {
     "name": "stdout",
     "output_type": "stream",
     "text": [
      "\b\b\\ "
     ]
    },
    {
     "name": "stdout",
     "output_type": "stream",
     "text": [
      "\b\b| "
     ]
    },
    {
     "name": "stdout",
     "output_type": "stream",
     "text": [
      "\b\b/ "
     ]
    },
    {
     "name": "stdout",
     "output_type": "stream",
     "text": [
      "\b\b- "
     ]
    },
    {
     "name": "stdout",
     "output_type": "stream",
     "text": [
      "\b\b\\ "
     ]
    },
    {
     "name": "stdout",
     "output_type": "stream",
     "text": [
      "\b\b| "
     ]
    },
    {
     "name": "stdout",
     "output_type": "stream",
     "text": [
      "\b\b/ "
     ]
    },
    {
     "name": "stdout",
     "output_type": "stream",
     "text": [
      "\b\b- "
     ]
    },
    {
     "name": "stdout",
     "output_type": "stream",
     "text": [
      "\b\b\\ "
     ]
    },
    {
     "name": "stdout",
     "output_type": "stream",
     "text": [
      "\b\b| "
     ]
    },
    {
     "name": "stdout",
     "output_type": "stream",
     "text": [
      "\b\b/ "
     ]
    },
    {
     "name": "stdout",
     "output_type": "stream",
     "text": [
      "\b\b- "
     ]
    },
    {
     "name": "stdout",
     "output_type": "stream",
     "text": [
      "\b\b\\ "
     ]
    },
    {
     "name": "stdout",
     "output_type": "stream",
     "text": [
      "\b\b| "
     ]
    },
    {
     "name": "stdout",
     "output_type": "stream",
     "text": [
      "\b\b/ "
     ]
    },
    {
     "name": "stdout",
     "output_type": "stream",
     "text": [
      "\b\b- "
     ]
    },
    {
     "name": "stdout",
     "output_type": "stream",
     "text": [
      "\b\b\\ "
     ]
    },
    {
     "name": "stdout",
     "output_type": "stream",
     "text": [
      "\b\b| "
     ]
    },
    {
     "name": "stdout",
     "output_type": "stream",
     "text": [
      "\b\b/ "
     ]
    },
    {
     "name": "stdout",
     "output_type": "stream",
     "text": [
      "\b\b- "
     ]
    },
    {
     "name": "stdout",
     "output_type": "stream",
     "text": [
      "\b\b\\ "
     ]
    },
    {
     "name": "stdout",
     "output_type": "stream",
     "text": [
      "\b\bdone\r\n",
      "Solving environment: / "
     ]
    },
    {
     "name": "stdout",
     "output_type": "stream",
     "text": [
      "\b\b- "
     ]
    },
    {
     "name": "stdout",
     "output_type": "stream",
     "text": [
      "\b\b\\ "
     ]
    },
    {
     "name": "stdout",
     "output_type": "stream",
     "text": [
      "\b\b| "
     ]
    },
    {
     "name": "stdout",
     "output_type": "stream",
     "text": [
      "\b\b/ "
     ]
    },
    {
     "name": "stdout",
     "output_type": "stream",
     "text": [
      "\b\b- "
     ]
    },
    {
     "name": "stdout",
     "output_type": "stream",
     "text": [
      "\b\b\\ "
     ]
    },
    {
     "name": "stdout",
     "output_type": "stream",
     "text": [
      "\b\b| "
     ]
    },
    {
     "name": "stdout",
     "output_type": "stream",
     "text": [
      "\b\b/ "
     ]
    },
    {
     "name": "stdout",
     "output_type": "stream",
     "text": [
      "\b\b- "
     ]
    },
    {
     "name": "stdout",
     "output_type": "stream",
     "text": [
      "\b\b\\ "
     ]
    },
    {
     "name": "stdout",
     "output_type": "stream",
     "text": [
      "\b\b| "
     ]
    },
    {
     "name": "stdout",
     "output_type": "stream",
     "text": [
      "\b\b/ "
     ]
    },
    {
     "name": "stdout",
     "output_type": "stream",
     "text": [
      "\b\b- "
     ]
    },
    {
     "name": "stdout",
     "output_type": "stream",
     "text": [
      "\b\b\\ "
     ]
    },
    {
     "name": "stdout",
     "output_type": "stream",
     "text": [
      "\b\b| "
     ]
    },
    {
     "name": "stdout",
     "output_type": "stream",
     "text": [
      "\b\b/ "
     ]
    },
    {
     "name": "stdout",
     "output_type": "stream",
     "text": [
      "\b\b- "
     ]
    },
    {
     "name": "stdout",
     "output_type": "stream",
     "text": [
      "\b\b\\ "
     ]
    },
    {
     "name": "stdout",
     "output_type": "stream",
     "text": [
      "\b\b| "
     ]
    },
    {
     "name": "stdout",
     "output_type": "stream",
     "text": [
      "\b\b/ "
     ]
    },
    {
     "name": "stdout",
     "output_type": "stream",
     "text": [
      "\b\b- "
     ]
    },
    {
     "name": "stdout",
     "output_type": "stream",
     "text": [
      "\b\b\\ "
     ]
    },
    {
     "name": "stdout",
     "output_type": "stream",
     "text": [
      "\b\b| "
     ]
    },
    {
     "name": "stdout",
     "output_type": "stream",
     "text": [
      "\b\b/ "
     ]
    },
    {
     "name": "stdout",
     "output_type": "stream",
     "text": [
      "\b\b- "
     ]
    },
    {
     "name": "stdout",
     "output_type": "stream",
     "text": [
      "\b\b\\ "
     ]
    },
    {
     "name": "stdout",
     "output_type": "stream",
     "text": [
      "\b\b| "
     ]
    },
    {
     "name": "stdout",
     "output_type": "stream",
     "text": [
      "\b\b/ "
     ]
    },
    {
     "name": "stdout",
     "output_type": "stream",
     "text": [
      "\b\b- "
     ]
    },
    {
     "name": "stdout",
     "output_type": "stream",
     "text": [
      "\b\b\\ "
     ]
    },
    {
     "name": "stdout",
     "output_type": "stream",
     "text": [
      "\b\b| "
     ]
    },
    {
     "name": "stdout",
     "output_type": "stream",
     "text": [
      "\b\b/ "
     ]
    },
    {
     "name": "stdout",
     "output_type": "stream",
     "text": [
      "\b\b- "
     ]
    },
    {
     "name": "stdout",
     "output_type": "stream",
     "text": [
      "\b\b\\ "
     ]
    },
    {
     "name": "stdout",
     "output_type": "stream",
     "text": [
      "\b\b| "
     ]
    },
    {
     "name": "stdout",
     "output_type": "stream",
     "text": [
      "\b\b/ "
     ]
    },
    {
     "name": "stdout",
     "output_type": "stream",
     "text": [
      "\b\b- "
     ]
    },
    {
     "name": "stdout",
     "output_type": "stream",
     "text": [
      "\b\b\\ "
     ]
    },
    {
     "name": "stdout",
     "output_type": "stream",
     "text": [
      "\b\b| "
     ]
    },
    {
     "name": "stdout",
     "output_type": "stream",
     "text": [
      "\b\b/ "
     ]
    },
    {
     "name": "stdout",
     "output_type": "stream",
     "text": [
      "\b\b- "
     ]
    },
    {
     "name": "stdout",
     "output_type": "stream",
     "text": [
      "\b\b\\ "
     ]
    },
    {
     "name": "stdout",
     "output_type": "stream",
     "text": [
      "\b\b| "
     ]
    },
    {
     "name": "stdout",
     "output_type": "stream",
     "text": [
      "\b\b/ "
     ]
    },
    {
     "name": "stdout",
     "output_type": "stream",
     "text": [
      "\b\b- "
     ]
    },
    {
     "name": "stdout",
     "output_type": "stream",
     "text": [
      "\b\b\\ "
     ]
    },
    {
     "name": "stdout",
     "output_type": "stream",
     "text": [
      "\b\b| "
     ]
    },
    {
     "name": "stdout",
     "output_type": "stream",
     "text": [
      "\b\b/ "
     ]
    },
    {
     "name": "stdout",
     "output_type": "stream",
     "text": [
      "\b\b- "
     ]
    },
    {
     "name": "stdout",
     "output_type": "stream",
     "text": [
      "\b\b\\ "
     ]
    },
    {
     "name": "stdout",
     "output_type": "stream",
     "text": [
      "\b\b| "
     ]
    },
    {
     "name": "stdout",
     "output_type": "stream",
     "text": [
      "\b\b/ "
     ]
    },
    {
     "name": "stdout",
     "output_type": "stream",
     "text": [
      "\b\b- "
     ]
    },
    {
     "name": "stdout",
     "output_type": "stream",
     "text": [
      "\b\b\\ "
     ]
    },
    {
     "name": "stdout",
     "output_type": "stream",
     "text": [
      "\b\b| "
     ]
    },
    {
     "name": "stdout",
     "output_type": "stream",
     "text": [
      "\b\b/ "
     ]
    },
    {
     "name": "stdout",
     "output_type": "stream",
     "text": [
      "\b\b- "
     ]
    },
    {
     "name": "stdout",
     "output_type": "stream",
     "text": [
      "\b\b\\ "
     ]
    },
    {
     "name": "stdout",
     "output_type": "stream",
     "text": [
      "\b\b| "
     ]
    },
    {
     "name": "stdout",
     "output_type": "stream",
     "text": [
      "\b\b/ "
     ]
    },
    {
     "name": "stdout",
     "output_type": "stream",
     "text": [
      "\b\b- "
     ]
    },
    {
     "name": "stdout",
     "output_type": "stream",
     "text": [
      "\b\b\\ "
     ]
    },
    {
     "name": "stdout",
     "output_type": "stream",
     "text": [
      "\b\b| "
     ]
    },
    {
     "name": "stdout",
     "output_type": "stream",
     "text": [
      "\b\b/ "
     ]
    },
    {
     "name": "stdout",
     "output_type": "stream",
     "text": [
      "\b\b- "
     ]
    },
    {
     "name": "stdout",
     "output_type": "stream",
     "text": [
      "\b\b\\ "
     ]
    },
    {
     "name": "stdout",
     "output_type": "stream",
     "text": [
      "\b\b| "
     ]
    },
    {
     "name": "stdout",
     "output_type": "stream",
     "text": [
      "\b\b/ "
     ]
    },
    {
     "name": "stdout",
     "output_type": "stream",
     "text": [
      "\b\b- "
     ]
    },
    {
     "name": "stdout",
     "output_type": "stream",
     "text": [
      "\b\b\\ "
     ]
    },
    {
     "name": "stdout",
     "output_type": "stream",
     "text": [
      "\b\b| "
     ]
    },
    {
     "name": "stdout",
     "output_type": "stream",
     "text": [
      "\b\b/ "
     ]
    },
    {
     "name": "stdout",
     "output_type": "stream",
     "text": [
      "\b\b- "
     ]
    },
    {
     "name": "stdout",
     "output_type": "stream",
     "text": [
      "\b\b\\ "
     ]
    },
    {
     "name": "stdout",
     "output_type": "stream",
     "text": [
      "\b\b| "
     ]
    },
    {
     "name": "stdout",
     "output_type": "stream",
     "text": [
      "\b\b/ "
     ]
    },
    {
     "name": "stdout",
     "output_type": "stream",
     "text": [
      "\b\b- "
     ]
    },
    {
     "name": "stdout",
     "output_type": "stream",
     "text": [
      "\b\b\\ "
     ]
    },
    {
     "name": "stdout",
     "output_type": "stream",
     "text": [
      "\b\b| "
     ]
    },
    {
     "name": "stdout",
     "output_type": "stream",
     "text": [
      "\b\b/ "
     ]
    },
    {
     "name": "stdout",
     "output_type": "stream",
     "text": [
      "\b\b- "
     ]
    },
    {
     "name": "stdout",
     "output_type": "stream",
     "text": [
      "\b\b\\ "
     ]
    },
    {
     "name": "stdout",
     "output_type": "stream",
     "text": [
      "\b\b| "
     ]
    },
    {
     "name": "stdout",
     "output_type": "stream",
     "text": [
      "\b\b/ "
     ]
    },
    {
     "name": "stdout",
     "output_type": "stream",
     "text": [
      "\b\b- "
     ]
    },
    {
     "name": "stdout",
     "output_type": "stream",
     "text": [
      "\b\b\\ "
     ]
    },
    {
     "name": "stdout",
     "output_type": "stream",
     "text": [
      "\b\b| "
     ]
    },
    {
     "name": "stdout",
     "output_type": "stream",
     "text": [
      "\b\b/ "
     ]
    },
    {
     "name": "stdout",
     "output_type": "stream",
     "text": [
      "\b\b- "
     ]
    },
    {
     "name": "stdout",
     "output_type": "stream",
     "text": [
      "\b\b\\ "
     ]
    },
    {
     "name": "stdout",
     "output_type": "stream",
     "text": [
      "\b\b| "
     ]
    },
    {
     "name": "stdout",
     "output_type": "stream",
     "text": [
      "\b\b/ "
     ]
    },
    {
     "name": "stdout",
     "output_type": "stream",
     "text": [
      "\b\b- "
     ]
    },
    {
     "name": "stdout",
     "output_type": "stream",
     "text": [
      "\b\b\\ "
     ]
    },
    {
     "name": "stdout",
     "output_type": "stream",
     "text": [
      "\b\b| "
     ]
    },
    {
     "name": "stdout",
     "output_type": "stream",
     "text": [
      "\b\b/ "
     ]
    },
    {
     "name": "stdout",
     "output_type": "stream",
     "text": [
      "\b\b- "
     ]
    },
    {
     "name": "stdout",
     "output_type": "stream",
     "text": [
      "\b\b\\ "
     ]
    },
    {
     "name": "stdout",
     "output_type": "stream",
     "text": [
      "\b\b| "
     ]
    },
    {
     "name": "stdout",
     "output_type": "stream",
     "text": [
      "\b\b/ "
     ]
    },
    {
     "name": "stdout",
     "output_type": "stream",
     "text": [
      "\b\b- "
     ]
    },
    {
     "name": "stdout",
     "output_type": "stream",
     "text": [
      "\b\b\\ "
     ]
    },
    {
     "name": "stdout",
     "output_type": "stream",
     "text": [
      "\b\b| "
     ]
    },
    {
     "name": "stdout",
     "output_type": "stream",
     "text": [
      "\b\b/ "
     ]
    },
    {
     "name": "stdout",
     "output_type": "stream",
     "text": [
      "\b\b- "
     ]
    },
    {
     "name": "stdout",
     "output_type": "stream",
     "text": [
      "\b\b\\ "
     ]
    },
    {
     "name": "stdout",
     "output_type": "stream",
     "text": [
      "\b\b| "
     ]
    },
    {
     "name": "stdout",
     "output_type": "stream",
     "text": [
      "\b\b/ "
     ]
    },
    {
     "name": "stdout",
     "output_type": "stream",
     "text": [
      "\b\b- "
     ]
    },
    {
     "name": "stdout",
     "output_type": "stream",
     "text": [
      "\b\b\\ "
     ]
    },
    {
     "name": "stdout",
     "output_type": "stream",
     "text": [
      "\b\b| "
     ]
    },
    {
     "name": "stdout",
     "output_type": "stream",
     "text": [
      "\b\b/ "
     ]
    },
    {
     "name": "stdout",
     "output_type": "stream",
     "text": [
      "\b\b- "
     ]
    },
    {
     "name": "stdout",
     "output_type": "stream",
     "text": [
      "\b\b\\ "
     ]
    },
    {
     "name": "stdout",
     "output_type": "stream",
     "text": [
      "\b\b| "
     ]
    },
    {
     "name": "stdout",
     "output_type": "stream",
     "text": [
      "\b\b/ "
     ]
    },
    {
     "name": "stdout",
     "output_type": "stream",
     "text": [
      "\b\b- "
     ]
    },
    {
     "name": "stdout",
     "output_type": "stream",
     "text": [
      "\b\b\\ "
     ]
    },
    {
     "name": "stdout",
     "output_type": "stream",
     "text": [
      "\b\b| "
     ]
    },
    {
     "name": "stdout",
     "output_type": "stream",
     "text": [
      "\b\b/ "
     ]
    },
    {
     "name": "stdout",
     "output_type": "stream",
     "text": [
      "\b\b- "
     ]
    },
    {
     "name": "stdout",
     "output_type": "stream",
     "text": [
      "\b\b\\ "
     ]
    },
    {
     "name": "stdout",
     "output_type": "stream",
     "text": [
      "\b\b| "
     ]
    },
    {
     "name": "stdout",
     "output_type": "stream",
     "text": [
      "\b\b/ "
     ]
    },
    {
     "name": "stdout",
     "output_type": "stream",
     "text": [
      "\b\b- "
     ]
    },
    {
     "name": "stdout",
     "output_type": "stream",
     "text": [
      "\b\b\\ "
     ]
    },
    {
     "name": "stdout",
     "output_type": "stream",
     "text": [
      "\b\b| "
     ]
    },
    {
     "name": "stdout",
     "output_type": "stream",
     "text": [
      "\b\b/ "
     ]
    },
    {
     "name": "stdout",
     "output_type": "stream",
     "text": [
      "\b\b- "
     ]
    },
    {
     "name": "stdout",
     "output_type": "stream",
     "text": [
      "\b\b\\ "
     ]
    },
    {
     "name": "stdout",
     "output_type": "stream",
     "text": [
      "\b\b| "
     ]
    },
    {
     "name": "stdout",
     "output_type": "stream",
     "text": [
      "\b\b/ "
     ]
    },
    {
     "name": "stdout",
     "output_type": "stream",
     "text": [
      "\b\b- "
     ]
    },
    {
     "name": "stdout",
     "output_type": "stream",
     "text": [
      "\b\b\\ "
     ]
    },
    {
     "name": "stdout",
     "output_type": "stream",
     "text": [
      "\b\b| "
     ]
    },
    {
     "name": "stdout",
     "output_type": "stream",
     "text": [
      "\b\b/ "
     ]
    },
    {
     "name": "stdout",
     "output_type": "stream",
     "text": [
      "\b\b- "
     ]
    },
    {
     "name": "stdout",
     "output_type": "stream",
     "text": [
      "\b\b\\ "
     ]
    },
    {
     "name": "stdout",
     "output_type": "stream",
     "text": [
      "\b\b| "
     ]
    },
    {
     "name": "stdout",
     "output_type": "stream",
     "text": [
      "\b\b/ "
     ]
    },
    {
     "name": "stdout",
     "output_type": "stream",
     "text": [
      "\b\b- "
     ]
    },
    {
     "name": "stdout",
     "output_type": "stream",
     "text": [
      "\b\b\\ "
     ]
    },
    {
     "name": "stdout",
     "output_type": "stream",
     "text": [
      "\b\b| "
     ]
    },
    {
     "name": "stdout",
     "output_type": "stream",
     "text": [
      "\b\b/ "
     ]
    },
    {
     "name": "stdout",
     "output_type": "stream",
     "text": [
      "\b\b- "
     ]
    },
    {
     "name": "stdout",
     "output_type": "stream",
     "text": [
      "\b\b\\ "
     ]
    },
    {
     "name": "stdout",
     "output_type": "stream",
     "text": [
      "\b\b| "
     ]
    },
    {
     "name": "stdout",
     "output_type": "stream",
     "text": [
      "\b\b/ "
     ]
    },
    {
     "name": "stdout",
     "output_type": "stream",
     "text": [
      "\b\b- "
     ]
    },
    {
     "name": "stdout",
     "output_type": "stream",
     "text": [
      "\b\b\\ "
     ]
    },
    {
     "name": "stdout",
     "output_type": "stream",
     "text": [
      "\b\b| "
     ]
    },
    {
     "name": "stdout",
     "output_type": "stream",
     "text": [
      "\b\b/ "
     ]
    },
    {
     "name": "stdout",
     "output_type": "stream",
     "text": [
      "\b\b- "
     ]
    },
    {
     "name": "stdout",
     "output_type": "stream",
     "text": [
      "\b\b\\ "
     ]
    },
    {
     "name": "stdout",
     "output_type": "stream",
     "text": [
      "\b\b| "
     ]
    },
    {
     "name": "stdout",
     "output_type": "stream",
     "text": [
      "\b\b/ "
     ]
    },
    {
     "name": "stdout",
     "output_type": "stream",
     "text": [
      "\b\b- "
     ]
    },
    {
     "name": "stdout",
     "output_type": "stream",
     "text": [
      "\b\b\\ "
     ]
    },
    {
     "name": "stdout",
     "output_type": "stream",
     "text": [
      "\b\b| "
     ]
    },
    {
     "name": "stdout",
     "output_type": "stream",
     "text": [
      "\b\b/ "
     ]
    },
    {
     "name": "stdout",
     "output_type": "stream",
     "text": [
      "\b\b- "
     ]
    },
    {
     "name": "stdout",
     "output_type": "stream",
     "text": [
      "\b\b\\ "
     ]
    },
    {
     "name": "stdout",
     "output_type": "stream",
     "text": [
      "\b\b| "
     ]
    },
    {
     "name": "stdout",
     "output_type": "stream",
     "text": [
      "\b\b/ "
     ]
    },
    {
     "name": "stdout",
     "output_type": "stream",
     "text": [
      "\b\b- "
     ]
    },
    {
     "name": "stdout",
     "output_type": "stream",
     "text": [
      "\b\b\\ "
     ]
    },
    {
     "name": "stdout",
     "output_type": "stream",
     "text": [
      "\b\b| "
     ]
    },
    {
     "name": "stdout",
     "output_type": "stream",
     "text": [
      "\b\b/ "
     ]
    },
    {
     "name": "stdout",
     "output_type": "stream",
     "text": [
      "\b\b- "
     ]
    },
    {
     "name": "stdout",
     "output_type": "stream",
     "text": [
      "\b\b\\ "
     ]
    },
    {
     "name": "stdout",
     "output_type": "stream",
     "text": [
      "\b\b| "
     ]
    },
    {
     "name": "stdout",
     "output_type": "stream",
     "text": [
      "\b\b/ "
     ]
    },
    {
     "name": "stdout",
     "output_type": "stream",
     "text": [
      "\b\b- "
     ]
    },
    {
     "name": "stdout",
     "output_type": "stream",
     "text": [
      "\b\b\\ "
     ]
    },
    {
     "name": "stdout",
     "output_type": "stream",
     "text": [
      "\b\b| "
     ]
    },
    {
     "name": "stdout",
     "output_type": "stream",
     "text": [
      "\b\b/ "
     ]
    },
    {
     "name": "stdout",
     "output_type": "stream",
     "text": [
      "\b\b- "
     ]
    },
    {
     "name": "stdout",
     "output_type": "stream",
     "text": [
      "\b\b\\ "
     ]
    },
    {
     "name": "stdout",
     "output_type": "stream",
     "text": [
      "\b\b| "
     ]
    },
    {
     "name": "stdout",
     "output_type": "stream",
     "text": [
      "\b\b/ "
     ]
    },
    {
     "name": "stdout",
     "output_type": "stream",
     "text": [
      "\b\b- "
     ]
    },
    {
     "name": "stdout",
     "output_type": "stream",
     "text": [
      "\b\b\\ "
     ]
    },
    {
     "name": "stdout",
     "output_type": "stream",
     "text": [
      "\b\b| "
     ]
    },
    {
     "name": "stdout",
     "output_type": "stream",
     "text": [
      "\b\b/ "
     ]
    },
    {
     "name": "stdout",
     "output_type": "stream",
     "text": [
      "\b\b- "
     ]
    },
    {
     "name": "stdout",
     "output_type": "stream",
     "text": [
      "\b\b\\ "
     ]
    },
    {
     "name": "stdout",
     "output_type": "stream",
     "text": [
      "\b\b| "
     ]
    },
    {
     "name": "stdout",
     "output_type": "stream",
     "text": [
      "\b\b/ "
     ]
    },
    {
     "name": "stdout",
     "output_type": "stream",
     "text": [
      "\b\b- "
     ]
    },
    {
     "name": "stdout",
     "output_type": "stream",
     "text": [
      "\b\b\\ "
     ]
    },
    {
     "name": "stdout",
     "output_type": "stream",
     "text": [
      "\b\bdone\r\n"
     ]
    },
    {
     "name": "stdout",
     "output_type": "stream",
     "text": [
      "\r\n",
      "# All requested packages already installed.\r\n",
      "\r\n"
     ]
    }
   ],
   "source": [
    "!conda install -c conda-forge py-xgboost"
   ]
  },
  {
   "cell_type": "code",
   "execution_count": null,
   "id": "eab69b59-e945-4234-b2a8-d6141d785b86",
   "metadata": {
    "collapsed": false,
    "gradient": {
     "editing": false,
     "execution_count": 6,
     "id": "eab69b59-e945-4234-b2a8-d6141d785b86",
     "kernelId": "262f8bfc-2873-4228-8df1-27595fffcf1f",
     "source_hidden": false
    }
   },
   "outputs": [],
   "source": [
    "#!pip uninstall scikit-learn -y\n",
    "#!pip install scikit-learn"
   ]
  },
  {
   "cell_type": "code",
   "execution_count": null,
   "id": "a5ebe8af-8fc9-418e-9980-408ef8fd2cfb",
   "metadata": {
    "gradient": {
     "editing": false,
     "execution_count": 7,
     "id": "a5ebe8af-8fc9-418e-9980-408ef8fd2cfb",
     "kernelId": "262f8bfc-2873-4228-8df1-27595fffcf1f",
     "source_hidden": false
    }
   },
   "outputs": [
    {
     "name": "stdout",
     "output_type": "stream",
     "text": [
      "Collecting imbalanced-learn\r\n"
     ]
    },
    {
     "name": "stdout",
     "output_type": "stream",
     "text": [
      "  Downloading imbalanced_learn-0.9.0-py3-none-any.whl (199 kB)\r\n",
      "\u001b[?25l     \u001b[90m━━━━━━━━━━━━━━━━━━━━━━━━━━━━━━━━━━━━━━━━\u001b[0m \u001b[32m0.0/199.1 KB\u001b[0m \u001b[31m?\u001b[0m eta \u001b[36m-:--:--\u001b[0m\r",
      "\u001b[2K     \u001b[90m━━━━━━━━━━━━━━━━━━━━━━━━━━━━━━━━━━━━━━\u001b[0m \u001b[32m199.1/199.1 KB\u001b[0m \u001b[31m15.9 MB/s\u001b[0m eta \u001b[36m0:00:00\u001b[0m\r\n",
      "\u001b[?25h"
     ]
    },
    {
     "name": "stdout",
     "output_type": "stream",
     "text": [
      "Requirement already satisfied: scikit-learn>=1.0.1 in /opt/conda/envs/rapids/lib/python3.9/site-packages (from imbalanced-learn) (1.0.2)\r\n",
      "Requirement already satisfied: threadpoolctl>=2.0.0 in /opt/conda/envs/rapids/lib/python3.9/site-packages (from imbalanced-learn) (3.1.0)\r\n",
      "Requirement already satisfied: joblib>=0.11 in /opt/conda/envs/rapids/lib/python3.9/site-packages (from imbalanced-learn) (1.1.0)\r\n",
      "Requirement already satisfied: numpy>=1.14.6 in /opt/conda/envs/rapids/lib/python3.9/site-packages (from imbalanced-learn) (1.21.5)\r\n",
      "Requirement already satisfied: scipy>=1.1.0 in /opt/conda/envs/rapids/lib/python3.9/site-packages (from imbalanced-learn) (1.6.0)\r\n"
     ]
    },
    {
     "name": "stdout",
     "output_type": "stream",
     "text": [
      "Installing collected packages: imbalanced-learn\r\n"
     ]
    },
    {
     "name": "stdout",
     "output_type": "stream",
     "text": [
      "Successfully installed imbalanced-learn-0.9.0\r\n",
      "\u001b[33mWARNING: Running pip as the 'root' user can result in broken permissions and conflicting behaviour with the system package manager. It is recommended to use a virtual environment instead: https://pip.pypa.io/warnings/venv\u001b[0m\u001b[33m\r\n",
      "\u001b[0m"
     ]
    }
   ],
   "source": [
    "!pip install imbalanced-learn"
   ]
  },
  {
   "cell_type": "code",
   "execution_count": null,
   "id": "1cc47efb",
   "metadata": {
    "gradient": {
     "editing": false,
     "execution_count": 8,
     "id": "1cc47efb",
     "kernelId": "262f8bfc-2873-4228-8df1-27595fffcf1f"
    }
   },
   "outputs": [],
   "source": [
    "from imblearn.over_sampling import SMOTE\n",
    "from imblearn.under_sampling import RandomUnderSampler\n",
    "from imblearn.pipeline import Pipeline\n",
    "import xgboost as xgb"
   ]
  },
  {
   "cell_type": "markdown",
   "id": "6fab6467",
   "metadata": {
    "gradient": {
     "editing": false,
     "id": "6fab6467",
     "kernelId": "262f8bfc-2873-4228-8df1-27595fffcf1f"
    }
   },
   "source": [
    "## Load & Split data"
   ]
  },
  {
   "cell_type": "code",
   "execution_count": null,
   "id": "a55c6e60",
   "metadata": {
    "gradient": {
     "editing": false,
     "execution_count": 9,
     "id": "a55c6e60",
     "kernelId": "262f8bfc-2873-4228-8df1-27595fffcf1f"
    }
   },
   "outputs": [
    {
     "data": {
      "text/html": [
       "<div>\n",
       "<style scoped>\n",
       "    .dataframe tbody tr th:only-of-type {\n",
       "        vertical-align: middle;\n",
       "    }\n",
       "\n",
       "    .dataframe tbody tr th {\n",
       "        vertical-align: top;\n",
       "    }\n",
       "\n",
       "    .dataframe thead th {\n",
       "        text-align: right;\n",
       "    }\n",
       "</style>\n",
       "<table border=\"1\" class=\"dataframe\">\n",
       "  <thead>\n",
       "    <tr style=\"text-align: right;\">\n",
       "      <th></th>\n",
       "      <th>ID_code</th>\n",
       "      <th>target</th>\n",
       "      <th>var_0</th>\n",
       "      <th>var_1</th>\n",
       "      <th>var_2</th>\n",
       "      <th>var_3</th>\n",
       "      <th>var_4</th>\n",
       "      <th>var_5</th>\n",
       "      <th>var_6</th>\n",
       "      <th>var_7</th>\n",
       "      <th>...</th>\n",
       "      <th>var_190</th>\n",
       "      <th>var_191</th>\n",
       "      <th>var_192</th>\n",
       "      <th>var_193</th>\n",
       "      <th>var_194</th>\n",
       "      <th>var_195</th>\n",
       "      <th>var_196</th>\n",
       "      <th>var_197</th>\n",
       "      <th>var_198</th>\n",
       "      <th>var_199</th>\n",
       "    </tr>\n",
       "  </thead>\n",
       "  <tbody>\n",
       "    <tr>\n",
       "      <th>0</th>\n",
       "      <td>train_0</td>\n",
       "      <td>0</td>\n",
       "      <td>8.9255</td>\n",
       "      <td>-6.7863</td>\n",
       "      <td>11.9081</td>\n",
       "      <td>5.0930</td>\n",
       "      <td>11.4607</td>\n",
       "      <td>-9.2834</td>\n",
       "      <td>5.1187</td>\n",
       "      <td>18.6266</td>\n",
       "      <td>...</td>\n",
       "      <td>4.4354</td>\n",
       "      <td>3.9642</td>\n",
       "      <td>3.1364</td>\n",
       "      <td>1.6910</td>\n",
       "      <td>18.5227</td>\n",
       "      <td>-2.3978</td>\n",
       "      <td>7.8784</td>\n",
       "      <td>8.5635</td>\n",
       "      <td>12.7803</td>\n",
       "      <td>-1.0914</td>\n",
       "    </tr>\n",
       "    <tr>\n",
       "      <th>1</th>\n",
       "      <td>train_1</td>\n",
       "      <td>0</td>\n",
       "      <td>11.5006</td>\n",
       "      <td>-4.1473</td>\n",
       "      <td>13.8588</td>\n",
       "      <td>5.3890</td>\n",
       "      <td>12.3622</td>\n",
       "      <td>7.0433</td>\n",
       "      <td>5.6208</td>\n",
       "      <td>16.5338</td>\n",
       "      <td>...</td>\n",
       "      <td>7.6421</td>\n",
       "      <td>7.7214</td>\n",
       "      <td>2.5837</td>\n",
       "      <td>10.9516</td>\n",
       "      <td>15.4305</td>\n",
       "      <td>2.0339</td>\n",
       "      <td>8.1267</td>\n",
       "      <td>8.7889</td>\n",
       "      <td>18.3560</td>\n",
       "      <td>1.9518</td>\n",
       "    </tr>\n",
       "    <tr>\n",
       "      <th>2</th>\n",
       "      <td>train_2</td>\n",
       "      <td>0</td>\n",
       "      <td>8.6093</td>\n",
       "      <td>-2.7457</td>\n",
       "      <td>12.0805</td>\n",
       "      <td>7.8928</td>\n",
       "      <td>10.5825</td>\n",
       "      <td>-9.0837</td>\n",
       "      <td>6.9427</td>\n",
       "      <td>14.6155</td>\n",
       "      <td>...</td>\n",
       "      <td>2.9057</td>\n",
       "      <td>9.7905</td>\n",
       "      <td>1.6704</td>\n",
       "      <td>1.6858</td>\n",
       "      <td>21.6042</td>\n",
       "      <td>3.1417</td>\n",
       "      <td>-6.5213</td>\n",
       "      <td>8.2675</td>\n",
       "      <td>14.7222</td>\n",
       "      <td>0.3965</td>\n",
       "    </tr>\n",
       "    <tr>\n",
       "      <th>3</th>\n",
       "      <td>train_3</td>\n",
       "      <td>0</td>\n",
       "      <td>11.0604</td>\n",
       "      <td>-2.1518</td>\n",
       "      <td>8.9522</td>\n",
       "      <td>7.1957</td>\n",
       "      <td>12.5846</td>\n",
       "      <td>-1.8361</td>\n",
       "      <td>5.8428</td>\n",
       "      <td>14.9250</td>\n",
       "      <td>...</td>\n",
       "      <td>4.4666</td>\n",
       "      <td>4.7433</td>\n",
       "      <td>0.7178</td>\n",
       "      <td>1.4214</td>\n",
       "      <td>23.0347</td>\n",
       "      <td>-1.2706</td>\n",
       "      <td>-2.9275</td>\n",
       "      <td>10.2922</td>\n",
       "      <td>17.9697</td>\n",
       "      <td>-8.9996</td>\n",
       "    </tr>\n",
       "    <tr>\n",
       "      <th>4</th>\n",
       "      <td>train_4</td>\n",
       "      <td>0</td>\n",
       "      <td>9.8369</td>\n",
       "      <td>-1.4834</td>\n",
       "      <td>12.8746</td>\n",
       "      <td>6.6375</td>\n",
       "      <td>12.2772</td>\n",
       "      <td>2.4486</td>\n",
       "      <td>5.9405</td>\n",
       "      <td>19.2514</td>\n",
       "      <td>...</td>\n",
       "      <td>-1.4905</td>\n",
       "      <td>9.5214</td>\n",
       "      <td>-0.1508</td>\n",
       "      <td>9.1942</td>\n",
       "      <td>13.2876</td>\n",
       "      <td>-1.5121</td>\n",
       "      <td>3.9267</td>\n",
       "      <td>9.5031</td>\n",
       "      <td>17.9974</td>\n",
       "      <td>-8.8104</td>\n",
       "    </tr>\n",
       "  </tbody>\n",
       "</table>\n",
       "<p>5 rows × 202 columns</p>\n",
       "</div>"
      ],
      "text/plain": [
       "   ID_code  target    var_0   var_1    var_2   var_3    var_4   var_5   var_6  \\\n",
       "0  train_0       0   8.9255 -6.7863  11.9081  5.0930  11.4607 -9.2834  5.1187   \n",
       "1  train_1       0  11.5006 -4.1473  13.8588  5.3890  12.3622  7.0433  5.6208   \n",
       "2  train_2       0   8.6093 -2.7457  12.0805  7.8928  10.5825 -9.0837  6.9427   \n",
       "3  train_3       0  11.0604 -2.1518   8.9522  7.1957  12.5846 -1.8361  5.8428   \n",
       "4  train_4       0   9.8369 -1.4834  12.8746  6.6375  12.2772  2.4486  5.9405   \n",
       "\n",
       "     var_7  ...  var_190  var_191  var_192  var_193  var_194  var_195  \\\n",
       "0  18.6266  ...   4.4354   3.9642   3.1364   1.6910  18.5227  -2.3978   \n",
       "1  16.5338  ...   7.6421   7.7214   2.5837  10.9516  15.4305   2.0339   \n",
       "2  14.6155  ...   2.9057   9.7905   1.6704   1.6858  21.6042   3.1417   \n",
       "3  14.9250  ...   4.4666   4.7433   0.7178   1.4214  23.0347  -1.2706   \n",
       "4  19.2514  ...  -1.4905   9.5214  -0.1508   9.1942  13.2876  -1.5121   \n",
       "\n",
       "   var_196  var_197  var_198  var_199  \n",
       "0   7.8784   8.5635  12.7803  -1.0914  \n",
       "1   8.1267   8.7889  18.3560   1.9518  \n",
       "2  -6.5213   8.2675  14.7222   0.3965  \n",
       "3  -2.9275  10.2922  17.9697  -8.9996  \n",
       "4   3.9267   9.5031  17.9974  -8.8104  \n",
       "\n",
       "[5 rows x 202 columns]"
      ]
     },
     "execution_count": 9,
     "metadata": {},
     "output_type": "execute_result"
    }
   ],
   "source": [
    "txns = pd.read_csv('./train.csv')\n",
    "txns.head()"
   ]
  },
  {
   "cell_type": "code",
   "execution_count": null,
   "id": "5548692a",
   "metadata": {
    "gradient": {
     "editing": false,
     "execution_count": 10,
     "id": "5548692a",
     "kernelId": "262f8bfc-2873-4228-8df1-27595fffcf1f"
    }
   },
   "outputs": [],
   "source": [
    "# Split the data into training and test set with a ration of 0.7:0.3 and constant random\n",
    "X_train, X_test, y_train, y_test = train_test_split(txns.drop(columns=['ID_code','target']), txns['target'], test_size=0.3, random_state=11, stratify=txns['target'])"
   ]
  },
  {
   "cell_type": "markdown",
   "id": "c3ca4051",
   "metadata": {
    "gradient": {
     "editing": false,
     "id": "c3ca4051",
     "kernelId": "262f8bfc-2873-4228-8df1-27595fffcf1f"
    }
   },
   "source": [
    "# Fit Model"
   ]
  },
  {
   "cell_type": "code",
   "execution_count": null,
   "id": "d78256df",
   "metadata": {
    "gradient": {
     "editing": false,
     "execution_count": 11,
     "id": "d78256df",
     "kernelId": "262f8bfc-2873-4228-8df1-27595fffcf1f"
    },
    "scrolled": false
   },
   "outputs": [
    {
     "name": "stdout",
     "output_type": "stream",
     "text": [
      "CPU times: user 9.23 s, sys: 3.41 s, total: 12.6 s\n",
      "Wall time: 16min 40s\n"
     ]
    },
    {
     "data": {
      "text/plain": [
       "RandomizedSearchCV(cv=10,\n",
       "                   estimator=XGBClassifier(base_score=None, booster=None,\n",
       "                                           colsample_bylevel=None,\n",
       "                                           colsample_bynode=None,\n",
       "                                           colsample_bytree=None,\n",
       "                                           enable_categorical=False,\n",
       "                                           eval_metric='auc', gamma=None,\n",
       "                                           gpu_id=None, importance_type=None,\n",
       "                                           interaction_constraints=None,\n",
       "                                           learning_rate=None,\n",
       "                                           max_delta_step=None, max_depth=None,\n",
       "                                           min_child_weight=None, missing=nan,\n",
       "                                           m...\n",
       "                                           scale_pos_weight=None, seed=11,\n",
       "                                           subsample=None,\n",
       "                                           tree_method='gpu_hist',\n",
       "                                           use_label_encoder=False,\n",
       "                                           validate_parameters=None, ...),\n",
       "                   n_iter=50, n_jobs=-1,\n",
       "                   param_distributions={'colsample_bytree': [0.6, 0.8, 1.0],\n",
       "                                        'gamma': [0, 0.1, 0.3],\n",
       "                                        'learning_rate': [0.1, 0.01],\n",
       "                                        'max_depth': [2, 3, 4],\n",
       "                                        'n_estimators': [100, 200, 300, 400],\n",
       "                                        'reg_lambda': [1, 1.5, 2],\n",
       "                                        'subsample': [0.6, 0.8, 1.0]},\n",
       "                   scoring='roc_auc')"
      ]
     },
     "execution_count": 11,
     "metadata": {},
     "output_type": "execute_result"
    }
   ],
   "source": [
    "import xgboost as xgb\n",
    "\n",
    "# XGBoost\n",
    "params = {\n",
    "          'learning_rate': [0.1, 0.01],\n",
    "          'colsample_bytree': [0.6, 0.8, 1.0],\n",
    "          'subsample': [0.6, 0.8, 1.0],\n",
    "          'max_depth':[2, 3, 4],\n",
    "          'n_estimators': [100, 200, 300, 400],\n",
    "          'reg_lambda': [1, 1.5, 2],\n",
    "          'gamma': [0, 0.1, 0.3]            \n",
    "         }\n",
    "\n",
    "gbm = xgb.XGBClassifier(objective='binary:logistic', \n",
    "                        tree_method='gpu_hist', \n",
    "                        eval_metric='auc', \n",
    "                        seed=11, \n",
    "                        use_label_encoder=False)\n",
    "\n",
    "# GridSearchCV\n",
    "rs_cv = RandomizedSearchCV(estimator=gbm, \n",
    "                            param_distributions=params, \n",
    "                            cv=10,\n",
    "                            scoring='roc_auc',\n",
    "                            n_jobs=-1,\n",
    "                            n_iter=50)\n",
    "\n",
    "# Fit the pipeline\n",
    "%time rs_cv.fit(X_train, y_train)"
   ]
  },
  {
   "cell_type": "code",
   "execution_count": null,
   "id": "14402745",
   "metadata": {
    "gradient": {
     "editing": false,
     "execution_count": 12,
     "id": "14402745",
     "kernelId": "262f8bfc-2873-4228-8df1-27595fffcf1f"
    }
   },
   "outputs": [
    {
     "data": {
      "text/plain": [
       "{'subsample': 0.6,\n",
       " 'reg_lambda': 1.5,\n",
       " 'n_estimators': 400,\n",
       " 'max_depth': 4,\n",
       " 'learning_rate': 0.1,\n",
       " 'gamma': 0,\n",
       " 'colsample_bytree': 0.6}"
      ]
     },
     "execution_count": 12,
     "metadata": {},
     "output_type": "execute_result"
    }
   ],
   "source": [
    "rs_cv.best_params_"
   ]
  },
  {
   "cell_type": "code",
   "execution_count": null,
   "id": "9b85f65e-9fb1-4085-ae8b-dcf7ac9dccbf",
   "metadata": {
    "gradient": {
     "editing": false,
     "execution_count": 13,
     "id": "9b85f65e-9fb1-4085-ae8b-dcf7ac9dccbf",
     "kernelId": "262f8bfc-2873-4228-8df1-27595fffcf1f",
     "source_hidden": false
    }
   },
   "outputs": [],
   "source": [
    "# Gradient Boosted DecisionTree\n",
    "model = rs_cv.best_estimator_"
   ]
  },
  {
   "cell_type": "markdown",
   "id": "422b1117",
   "metadata": {
    "gradient": {
     "editing": false,
     "id": "422b1117",
     "kernelId": "262f8bfc-2873-4228-8df1-27595fffcf1f"
    }
   },
   "source": [
    "# Evaluate the Model"
   ]
  },
  {
   "cell_type": "code",
   "execution_count": null,
   "id": "e588246d",
   "metadata": {
    "gradient": {
     "editing": false,
     "execution_count": 14,
     "id": "e588246d",
     "kernelId": "262f8bfc-2873-4228-8df1-27595fffcf1f"
    }
   },
   "outputs": [
    {
     "data": {
      "image/png": "[encoded data removed]",
      "text/plain": [
       "<Figure size 864x576 with 4 Axes>"
      ]
     },
     "metadata": {
      "needs_background": "light"
     },
     "output_type": "display_data",
     "transient": {}
    }
   ],
   "source": [
    "y_pred = model.predict(X_test)\n",
    "\n",
    "# Confusion Matrix\n",
    "cm = confusion_matrix(y_test, y_pred)\n",
    "cm_display = ConfusionMatrixDisplay(cm)\n",
    "\n",
    "# ROC Curve\n",
    "y_score = model.predict_proba(X_test)[:,1]\n",
    "\n",
    "fpr, tpr, _ = roc_curve(y_test, y_score, pos_label=model.classes_[1])\n",
    "roc_display = RocCurveDisplay(fpr=fpr, tpr=tpr)\n",
    "\n",
    "# Precision-Recall Curve\n",
    "prec, recall, _ = precision_recall_curve(y_test, y_score, pos_label=model.classes_[1])\n",
    "pr_display = PrecisionRecallDisplay(precision=prec, recall=recall)\n",
    "\n",
    "fig, (ax1, ax2, ax3) = plt.subplots(1, 3, figsize=(12, 8))\n",
    "\n",
    "cm_display.plot(ax=ax1)\n",
    "roc_display.plot(ax=ax2)\n",
    "pr_display.plot(ax=ax3)\n",
    "plt.show()"
   ]
  },
  {
   "cell_type": "code",
   "execution_count": null,
   "id": "9ce0fba5",
   "metadata": {
    "gradient": {
     "editing": false,
     "execution_count": 15,
     "id": "9ce0fba5",
     "kernelId": "262f8bfc-2873-4228-8df1-27595fffcf1f"
    }
   },
   "outputs": [
    {
     "name": "stdout",
     "output_type": "stream",
     "text": [
      "Accuracy:  0.91805\n",
      "Precision:  0.7757936507936508\n",
      "Recall:  0.25941283794990877\n",
      "F1-Score:  0.3888129272840274\n"
     ]
    }
   ],
   "source": [
    "print(\"Accuracy: \", accuracy_score(y_test, y_pred))\n",
    "print(\"Precision: \", precision_score(y_test, y_pred, pos_label=model.classes_[1]))\n",
    "print(\"Recall: \", recall_score(y_test, y_pred, pos_label=model.classes_[1]))\n",
    "print(\"F1-Score: \", f1_score(y_test, y_pred, pos_label=model.classes_[1]))"
   ]
  },
  {
   "cell_type": "markdown",
   "id": "47488fe5",
   "metadata": {
    "gradient": {
     "editing": false,
     "id": "47488fe5",
     "kernelId": "262f8bfc-2873-4228-8df1-27595fffcf1f"
    }
   },
   "source": [
    "- Accuracy:  0.91805\n",
    "- Precision:  0.7757936507936508\n",
    "- Recall:  0.25941283794990877\n",
    "- F1-Score:  0.3888129272840274"
   ]
  },
  {
   "cell_type": "markdown",
   "id": "05eac19f-5566-47d1-b884-d4529931ba96",
   "metadata": {
    "gradient": {
     "editing": false,
     "id": "05eac19f-5566-47d1-b884-d4529931ba96",
     "kernelId": "262f8bfc-2873-4228-8df1-27595fffcf1f"
    }
   },
   "source": [
    "### The Recall is low as the dataset is highly imbalanced and does not have enough positive use cases to learn from. In addition, we also observe that the accuracy and precision are high for the same reason given the data is skewed 9:1 in favor of target 0. \n",
    "\n",
    "### We will not apply the SMOTE technique here to oversample the minority data similar to the LogisticRegression model from earlier."
   ]
  },
  {
   "cell_type": "markdown",
   "id": "3d5eac30-d640-4ea1-b116-52bda2662bcb",
   "metadata": {
    "gradient": {
     "editing": false,
     "id": "3d5eac30-d640-4ea1-b116-52bda2662bcb",
     "kernelId": "262f8bfc-2873-4228-8df1-27595fffcf1f"
    }
   },
   "source": [
    "# SMOTE - Minority Oversampling"
   ]
  },
  {
   "cell_type": "code",
   "execution_count": null,
   "id": "af537f1c-dda6-4603-bf38-5565ec0c5856",
   "metadata": {
    "gradient": {
     "editing": false,
     "execution_count": 16,
     "id": "af537f1c-dda6-4603-bf38-5565ec0c5856",
     "kernelId": "262f8bfc-2873-4228-8df1-27595fffcf1f",
     "source_hidden": false
    }
   },
   "outputs": [
    {
     "data": {
      "text/plain": [
       "[]"
      ]
     },
     "execution_count": 16,
     "metadata": {},
     "output_type": "execute_result"
    },
    {
     "data": {
      "image/png": "[encoded data removed]",
      "text/plain": [
       "<Figure size 432x288 with 1 Axes>"
      ]
     },
     "metadata": {
      "needs_background": "light"
     },
     "output_type": "display_data",
     "transient": {}
    }
   ],
   "source": [
    "over = SMOTE(sampling_strategy=0.7, random_state=11, k_neighbors=7)\n",
    "under = RandomUnderSampler(sampling_strategy=1, random_state=11)\n",
    "\n",
    "steps = [('o', over), ('u', under)]\n",
    "#steps = [('o', over)]\n",
    "pipeline = Pipeline(steps=steps)\n",
    "\n",
    "# transform the dataset\n",
    "X_smote, y_smote = pipeline.fit_resample(txns.drop(columns=['ID_code','target']), txns['target'])\n",
    "\n",
    "# Check the class distribution\n",
    "pd.concat([X_smote, y_smote], axis=1).pivot_table(index='target', aggfunc='size').plot(kind='bar', title = 'Class distribution').plot()"
   ]
  },
  {
   "cell_type": "code",
   "execution_count": null,
   "id": "7a25949c-3a2f-48b8-a8a0-5cbc66cf0fb1",
   "metadata": {
    "gradient": {
     "editing": false,
     "execution_count": 17,
     "id": "7a25949c-3a2f-48b8-a8a0-5cbc66cf0fb1",
     "kernelId": "262f8bfc-2873-4228-8df1-27595fffcf1f",
     "source_hidden": false
    }
   },
   "outputs": [],
   "source": [
    "# Split the data into training and test set with a ration of 0.7:0.3 and constant random\n",
    "X_smote_train, X_smote_test, y_smote_train, y_smote_test = train_test_split(X_smote, y_smote, test_size=0.3, random_state=11)"
   ]
  },
  {
   "cell_type": "code",
   "execution_count": null,
   "id": "f80f65c2-4f2b-451e-8126-71853eb0ad3e",
   "metadata": {
    "gradient": {
     "editing": false,
     "execution_count": 18,
     "id": "f80f65c2-4f2b-451e-8126-71853eb0ad3e",
     "kernelId": "262f8bfc-2873-4228-8df1-27595fffcf1f",
     "source_hidden": false
    }
   },
   "outputs": [
    {
     "name": "stdout",
     "output_type": "stream",
     "text": [
      "CPU times: user 8.98 s, sys: 3.03 s, total: 12 s\n",
      "Wall time: 20min 3s\n"
     ]
    },
    {
     "data": {
      "text/plain": [
       "RandomizedSearchCV(cv=10,\n",
       "                   estimator=XGBClassifier(base_score=None, booster=None,\n",
       "                                           colsample_bylevel=None,\n",
       "                                           colsample_bynode=None,\n",
       "                                           colsample_bytree=None,\n",
       "                                           enable_categorical=False,\n",
       "                                           eval_metric='auc', gamma=None,\n",
       "                                           gpu_id=None, importance_type=None,\n",
       "                                           interaction_constraints=None,\n",
       "                                           learning_rate=None,\n",
       "                                           max_delta_step=None, max_depth=None,\n",
       "                                           min_child_weight=None, missing=nan,\n",
       "                                           m...\n",
       "                                           scale_pos_weight=None, seed=11,\n",
       "                                           subsample=None,\n",
       "                                           tree_method='gpu_hist',\n",
       "                                           use_label_encoder=False,\n",
       "                                           validate_parameters=None, ...),\n",
       "                   n_iter=50, n_jobs=-1,\n",
       "                   param_distributions={'colsample_bytree': [0.6, 0.8, 1.0],\n",
       "                                        'gamma': [0, 0.1, 0.3],\n",
       "                                        'learning_rate': [0.1, 0.01],\n",
       "                                        'max_depth': [2, 3, 4],\n",
       "                                        'n_estimators': [100, 200, 300, 400],\n",
       "                                        'reg_lambda': [1, 1.5, 2],\n",
       "                                        'subsample': [0.6, 0.8, 1.0]},\n",
       "                   scoring='roc_auc')"
      ]
     },
     "execution_count": 18,
     "metadata": {},
     "output_type": "execute_result"
    }
   ],
   "source": [
    "# XGBoost\n",
    "params_smote = {\n",
    "          'learning_rate': [0.1, 0.01],\n",
    "          'colsample_bytree': [0.6, 0.8, 1.0],\n",
    "          'subsample': [0.6, 0.8, 1.0],\n",
    "          'max_depth':[2, 3, 4],\n",
    "          'n_estimators': [100, 200, 300, 400],\n",
    "          'reg_lambda': [1, 1.5, 2],\n",
    "          'gamma': [0, 0.1, 0.3]            \n",
    "         }\n",
    "\n",
    "gbm_smote = xgb.XGBClassifier(objective='binary:logistic', \n",
    "                        tree_method='gpu_hist', \n",
    "                        eval_metric='auc', \n",
    "                        seed=11, \n",
    "                        use_label_encoder=False)\n",
    "\n",
    "# GridSearchCV\n",
    "rs_cv_smote = RandomizedSearchCV(estimator=gbm_smote, \n",
    "                            param_distributions=params_smote, \n",
    "                            cv=10,\n",
    "                            scoring='roc_auc',\n",
    "                            n_jobs=-1,\n",
    "                            n_iter=50)\n",
    "\n",
    "# Fit the pipeline\n",
    "%time rs_cv_smote.fit(X_smote_train, y_smote_train)"
   ]
  },
  {
   "cell_type": "code",
   "execution_count": null,
   "id": "43dc4191-39e7-41a0-990a-3b681cb6cfd8",
   "metadata": {
    "gradient": {
     "editing": false,
     "execution_count": 19,
     "id": "43dc4191-39e7-41a0-990a-3b681cb6cfd8",
     "kernelId": "262f8bfc-2873-4228-8df1-27595fffcf1f",
     "source_hidden": false
    }
   },
   "outputs": [
    {
     "data": {
      "text/plain": [
       "{'subsample': 1.0,\n",
       " 'reg_lambda': 1,\n",
       " 'n_estimators': 400,\n",
       " 'max_depth': 4,\n",
       " 'learning_rate': 0.1,\n",
       " 'gamma': 0,\n",
       " 'colsample_bytree': 0.8}"
      ]
     },
     "execution_count": 19,
     "metadata": {},
     "output_type": "execute_result"
    }
   ],
   "source": [
    "rs_cv_smote.best_params_"
   ]
  },
  {
   "cell_type": "code",
   "execution_count": null,
   "id": "552398d8-a94a-47df-aa37-a4fb17f45c63",
   "metadata": {
    "gradient": {
     "editing": false,
     "execution_count": 20,
     "id": "552398d8-a94a-47df-aa37-a4fb17f45c63",
     "kernelId": "262f8bfc-2873-4228-8df1-27595fffcf1f",
     "source_hidden": false
    }
   },
   "outputs": [],
   "source": [
    "# Gradient Boosted DecisionTree\n",
    "model_smote = rs_cv_smote.best_estimator_"
   ]
  },
  {
   "cell_type": "code",
   "execution_count": null,
   "id": "a0b47805-6a2c-43e1-a8e9-1bc6b1667553",
   "metadata": {
    "gradient": {
     "editing": false,
     "execution_count": 21,
     "id": "a0b47805-6a2c-43e1-a8e9-1bc6b1667553",
     "kernelId": "262f8bfc-2873-4228-8df1-27595fffcf1f",
     "source_hidden": false
    }
   },
   "outputs": [
    {
     "data": {
      "image/png": "[encoded data removed]",
      "text/plain": [
       "<Figure size 864x576 with 4 Axes>"
      ]
     },
     "metadata": {
      "needs_background": "light"
     },
     "output_type": "display_data",
     "transient": {}
    }
   ],
   "source": [
    "y_smote_pred = model_smote.predict(X_smote_test)\n",
    "\n",
    "# Confusion Matrix\n",
    "cm_smote = confusion_matrix(y_smote_test, y_smote_pred)\n",
    "cm_smote_display = ConfusionMatrixDisplay(cm_smote)\n",
    "\n",
    "# ROC Curve\n",
    "y_smote_score = model_smote.predict_proba(X_smote_test)[:,1]\n",
    "\n",
    "fpr_smote, tpr_smote, _ = roc_curve(y_smote_test, y_smote_score, pos_label=model_smote.classes_[1])\n",
    "roc_smote_display = RocCurveDisplay(fpr=fpr_smote, tpr=tpr_smote)\n",
    "\n",
    "# Precision-Recall Curve\n",
    "prec_smote, recall_smote, _ = precision_recall_curve(y_smote_test, y_smote_score, pos_label=model_smote.classes_[1])\n",
    "pr_smote_display = PrecisionRecallDisplay(precision=prec_smote, recall=recall_smote)\n",
    "\n",
    "fig, (ax1, ax2, ax3) = plt.subplots(1, 3, figsize=(12, 8))\n",
    "\n",
    "cm_smote_display.plot(ax=ax1)\n",
    "roc_smote_display.plot(ax=ax2)\n",
    "pr_smote_display.plot(ax=ax3)\n",
    "plt.show()"
   ]
  },
  {
   "cell_type": "code",
   "execution_count": null,
   "id": "d7b0406f-8d74-4c85-87d3-0fb06998feba",
   "metadata": {
    "gradient": {
     "editing": false,
     "execution_count": 22,
     "id": "d7b0406f-8d74-4c85-87d3-0fb06998feba",
     "kernelId": "262f8bfc-2873-4228-8df1-27595fffcf1f",
     "source_hidden": false
    }
   },
   "outputs": [
    {
     "name": "stdout",
     "output_type": "stream",
     "text": [
      "Accuracy:  0.8767056207731706\n",
      "Precision:  0.8936129543158298\n",
      "Recall:  0.8579106042731681\n",
      "F1-Score:  0.8753979081400637\n"
     ]
    }
   ],
   "source": [
    "print(\"Accuracy: \", accuracy_score(y_smote_test, y_smote_pred))\n",
    "print(\"Precision: \", precision_score(y_smote_test, y_smote_pred, pos_label=model_smote.classes_[1]))\n",
    "print(\"Recall: \", recall_score(y_smote_test, y_smote_pred, pos_label=model_smote.classes_[1]))\n",
    "print(\"F1-Score: \", f1_score(y_smote_test, y_smote_pred, pos_label=model_smote.classes_[1]))"
   ]
  },
  {
   "cell_type": "markdown",
   "id": "9e3f652f",
   "metadata": {
    "gradient": {
     "editing": false,
     "id": "9e3f652f",
     "kernelId": "262f8bfc-2873-4228-8df1-27595fffcf1f"
    }
   },
   "source": [
    "- Accuracy:  0.8767056207731706\n",
    "- Precision:  0.8936129543158298\n",
    "- Recall:  0.8579106042731681\n",
    "- F1-Score:  0.8753979081400637"
   ]
  },
  {
   "cell_type": "markdown",
   "id": "04952153-67ac-4d18-8824-e177b119aa5d",
   "metadata": {
    "gradient": {
     "editing": false,
     "id": "04952153-67ac-4d18-8824-e177b119aa5d",
     "kernelId": "262f8bfc-2873-4228-8df1-27595fffcf1f"
    }
   },
   "source": [
    "## Feature Importance Plot"
   ]
  },
  {
   "cell_type": "code",
   "execution_count": null,
   "id": "3c12bf2c-417f-4ca3-8066-6446ad8d91d3",
   "metadata": {
    "gradient": {
     "editing": false,
     "execution_count": 23,
     "id": "3c12bf2c-417f-4ca3-8066-6446ad8d91d3",
     "kernelId": "262f8bfc-2873-4228-8df1-27595fffcf1f",
     "source_hidden": false
    }
   },
   "outputs": [
    {
     "data": {
      "image/png": "[encoded data removed]",
      "text/plain": [
       "<Figure size 432x288 with 1 Axes>"
      ]
     },
     "metadata": {
      "needs_background": "light"
     },
     "output_type": "display_data",
     "transient": {}
    }
   ],
   "source": [
    "from xgboost import plot_importance\n",
    "\n",
    "# plot feature importance\n",
    "plot_importance(model_smote, max_num_features=25)\n",
    "plt.show()"
   ]
  },
  {
   "cell_type": "markdown",
   "id": "9d9027c3",
   "metadata": {
    "gradient": {
     "editing": false,
     "id": "9d9027c3",
     "kernelId": "262f8bfc-2873-4228-8df1-27595fffcf1f"
    }
   },
   "source": [
    "# SMOTE with PCA (Principal Component Analysis)"
   ]
  },
  {
   "cell_type": "markdown",
   "id": "e087caeb",
   "metadata": {
    "gradient": {
     "editing": false,
     "id": "e087caeb",
     "kernelId": "262f8bfc-2873-4228-8df1-27595fffcf1f"
    }
   },
   "source": [
    "### We have 200 features to train the model. Given that all the 200 features are numeric, it makes sense to scale the features and apply PCA to reduce the feature dimensionality. We will still be able to capture variance in the data while building a better model that trains faster as well."
   ]
  },
  {
   "cell_type": "markdown",
   "id": "03414fd4",
   "metadata": {
    "gradient": {
     "editing": false,
     "id": "03414fd4",
     "kernelId": "262f8bfc-2873-4228-8df1-27595fffcf1f"
    }
   },
   "source": [
    "## Scale Data"
   ]
  },
  {
   "cell_type": "code",
   "execution_count": null,
   "id": "0555fd4e",
   "metadata": {
    "gradient": {
     "editing": false,
     "execution_count": 31,
     "id": "0555fd4e",
     "kernelId": "262f8bfc-2873-4228-8df1-27595fffcf1f"
    }
   },
   "outputs": [],
   "source": [
    "from sklearn.preprocessing import StandardScaler\n",
    "\n",
    "# Split the data into training and test set with a ration of 0.7:0.3 and constant random\n",
    "X_smote_train, X_smote_test, y_smote_train, y_smote_test = train_test_split(X_smote, y_smote, test_size=0.3, random_state=11)\n",
    "\n",
    "scaler_train = StandardScaler().fit(X_smote_train)\n",
    "\n",
    "X_smote_train = scaler_train.transform(X_smote_train)\n",
    "X_smote_test = scaler_train.transform(X_smote_test)"
   ]
  },
  {
   "cell_type": "markdown",
   "id": "544a4db8",
   "metadata": {
    "gradient": {
     "editing": false,
     "id": "544a4db8",
     "kernelId": "262f8bfc-2873-4228-8df1-27595fffcf1f"
    }
   },
   "source": [
    "## Reduce Dimensionality"
   ]
  },
  {
   "cell_type": "code",
   "execution_count": null,
   "id": "3f82582b",
   "metadata": {
    "gradient": {
     "editing": false,
     "execution_count": 32,
     "id": "3f82582b",
     "kernelId": "262f8bfc-2873-4228-8df1-27595fffcf1f"
    }
   },
   "outputs": [],
   "source": [
    "from sklearn.decomposition import PCA\n",
    "\n",
    "pca = PCA(0.95)\n",
    "\n",
    "pca.fit(X_smote)\n",
    "\n",
    "X_smote_train = pca.transform(X_smote_train)\n",
    "X_smote_test = pca.transform(X_smote_test)"
   ]
  },
  {
   "cell_type": "markdown",
   "id": "ab72040f",
   "metadata": {
    "gradient": {
     "editing": false,
     "id": "ab72040f",
     "kernelId": "262f8bfc-2873-4228-8df1-27595fffcf1f"
    }
   },
   "source": [
    "## Re-run Model"
   ]
  },
  {
   "cell_type": "code",
   "execution_count": null,
   "id": "6cf37c2e",
   "metadata": {
    "gradient": {
     "editing": false,
     "execution_count": 33,
     "id": "6cf37c2e",
     "kernelId": "262f8bfc-2873-4228-8df1-27595fffcf1f"
    }
   },
   "outputs": [
    {
     "name": "stdout",
     "output_type": "stream",
     "text": [
      "CPU times: user 6.24 s, sys: 2.39 s, total: 8.62 s\n",
      "Wall time: 12min 2s\n"
     ]
    },
    {
     "data": {
      "text/plain": [
       "RandomizedSearchCV(cv=10,\n",
       "                   estimator=XGBClassifier(base_score=None, booster=None,\n",
       "                                           colsample_bylevel=None,\n",
       "                                           colsample_bynode=None,\n",
       "                                           colsample_bytree=None,\n",
       "                                           enable_categorical=False,\n",
       "                                           eval_metric='auc', gamma=None,\n",
       "                                           gpu_id=None, importance_type=None,\n",
       "                                           interaction_constraints=None,\n",
       "                                           learning_rate=None,\n",
       "                                           max_delta_step=None, max_depth=None,\n",
       "                                           min_child_weight=None, missing=nan,\n",
       "                                           m...\n",
       "                                           scale_pos_weight=None, seed=11,\n",
       "                                           subsample=None,\n",
       "                                           tree_method='gpu_hist',\n",
       "                                           use_label_encoder=False,\n",
       "                                           validate_parameters=None, ...),\n",
       "                   n_iter=50, n_jobs=-1,\n",
       "                   param_distributions={'colsample_bytree': [0.6, 0.8, 1.0],\n",
       "                                        'gamma': [0, 0.1, 0.3],\n",
       "                                        'learning_rate': [0.1, 0.01],\n",
       "                                        'max_depth': [2, 3, 4],\n",
       "                                        'n_estimators': [100, 200, 300, 400],\n",
       "                                        'reg_lambda': [1, 1.5, 2],\n",
       "                                        'subsample': [0.6, 0.8, 1.0]},\n",
       "                   scoring='roc_auc')"
      ]
     },
     "execution_count": 33,
     "metadata": {},
     "output_type": "execute_result"
    }
   ],
   "source": [
    "# XGBoost\n",
    "params_smote = {\n",
    "          'learning_rate': [0.1, 0.01],\n",
    "          'colsample_bytree': [0.6, 0.8, 1.0],\n",
    "          'subsample': [0.6, 0.8, 1.0],\n",
    "          'max_depth':[2, 3, 4],\n",
    "          'n_estimators': [100, 200, 300, 400],\n",
    "          'reg_lambda': [1, 1.5, 2],\n",
    "          'gamma': [0, 0.1, 0.3]            \n",
    "         }\n",
    "\n",
    "gbm_smote = xgb.XGBClassifier(objective='binary:logistic', \n",
    "                        tree_method='gpu_hist', \n",
    "                        eval_metric='auc', \n",
    "                        seed=11, \n",
    "                        use_label_encoder=False)\n",
    "\n",
    "# GridSearchCV\n",
    "rs_cv_smote = RandomizedSearchCV(estimator=gbm_smote, \n",
    "                            param_distributions=params_smote, \n",
    "                            cv=10,\n",
    "                            scoring='roc_auc',\n",
    "                            n_jobs=-1,\n",
    "                            n_iter=50)\n",
    "\n",
    "# Fit the pipeline\n",
    "%time rs_cv_smote.fit(X_smote_train, y_smote_train)"
   ]
  },
  {
   "cell_type": "code",
   "execution_count": null,
   "id": "e3b52952",
   "metadata": {
    "gradient": {
     "editing": false,
     "execution_count": 34,
     "id": "e3b52952",
     "kernelId": "262f8bfc-2873-4228-8df1-27595fffcf1f"
    }
   },
   "outputs": [
    {
     "data": {
      "text/plain": [
       "{'subsample': 0.8,\n",
       " 'reg_lambda': 1.5,\n",
       " 'n_estimators': 400,\n",
       " 'max_depth': 4,\n",
       " 'learning_rate': 0.1,\n",
       " 'gamma': 0.3,\n",
       " 'colsample_bytree': 1.0}"
      ]
     },
     "execution_count": 34,
     "metadata": {},
     "output_type": "execute_result"
    }
   ],
   "source": [
    "rs_cv_smote.best_params_"
   ]
  },
  {
   "cell_type": "code",
   "execution_count": null,
   "id": "579796d1",
   "metadata": {
    "gradient": {
     "editing": false,
     "execution_count": 35,
     "id": "579796d1",
     "kernelId": "262f8bfc-2873-4228-8df1-27595fffcf1f"
    }
   },
   "outputs": [],
   "source": [
    "# Gradient Boosted DecisionTree\n",
    "model_smote = rs_cv_smote.best_estimator_"
   ]
  },
  {
   "cell_type": "code",
   "execution_count": null,
   "id": "6215756c",
   "metadata": {
    "gradient": {
     "editing": false,
     "execution_count": 36,
     "id": "6215756c",
     "kernelId": "262f8bfc-2873-4228-8df1-27595fffcf1f"
    }
   },
   "outputs": [
    {
     "data": {
      "image/png": "[encoded data removed]",
      "text/plain": [
       "<Figure size 864x576 with 4 Axes>"
      ]
     },
     "metadata": {
      "needs_background": "light"
     },
     "output_type": "display_data",
     "transient": {}
    }
   ],
   "source": [
    "y_smote_pred = model_smote.predict(X_smote_test)\n",
    "\n",
    "# Confusion Matrix\n",
    "cm_smote = confusion_matrix(y_smote_test, y_smote_pred)\n",
    "cm_smote_display = ConfusionMatrixDisplay(cm_smote)\n",
    "\n",
    "# ROC Curve\n",
    "y_smote_score = model_smote.predict_proba(X_smote_test)[:,1]\n",
    "\n",
    "fpr_smote, tpr_smote, _ = roc_curve(y_smote_test, y_smote_score, pos_label=model_smote.classes_[1])\n",
    "roc_smote_display = RocCurveDisplay(fpr=fpr_smote, tpr=tpr_smote)\n",
    "\n",
    "# Precision-Recall Curve\n",
    "prec_smote, recall_smote, _ = precision_recall_curve(y_smote_test, y_smote_score, pos_label=model_smote.classes_[1])\n",
    "pr_smote_display = PrecisionRecallDisplay(precision=prec_smote, recall=recall_smote)\n",
    "\n",
    "fig, (ax1, ax2, ax3) = plt.subplots(1, 3, figsize=(12, 8))\n",
    "\n",
    "cm_smote_display.plot(ax=ax1)\n",
    "roc_smote_display.plot(ax=ax2)\n",
    "pr_smote_display.plot(ax=ax3)\n",
    "plt.show()"
   ]
  },
  {
   "cell_type": "code",
   "execution_count": null,
   "id": "a2a3ade6",
   "metadata": {
    "gradient": {
     "editing": false,
     "execution_count": 37,
     "id": "a2a3ade6",
     "kernelId": "262f8bfc-2873-4228-8df1-27595fffcf1f"
    }
   },
   "outputs": [
    {
     "name": "stdout",
     "output_type": "stream",
     "text": [
      "Accuracy:  0.8343678449953017\n",
      "Precision:  0.8412782956058589\n",
      "Recall:  0.8281557215886748\n",
      "F1-Score:  0.8346654336481933\n"
     ]
    }
   ],
   "source": [
    "print(\"Accuracy: \", accuracy_score(y_smote_test, y_smote_pred))\n",
    "print(\"Precision: \", precision_score(y_smote_test, y_smote_pred, pos_label=model_smote.classes_[1]))\n",
    "print(\"Recall: \", recall_score(y_smote_test, y_smote_pred, pos_label=model_smote.classes_[1]))\n",
    "print(\"F1-Score: \", f1_score(y_smote_test, y_smote_pred, pos_label=model_smote.classes_[1]))"
   ]
  },
  {
   "cell_type": "markdown",
   "id": "195f196b-fcb0-47bd-890a-16cfe0baeada",
   "metadata": {
    "gradient": {
     "editing": false,
     "id": "195f196b-fcb0-47bd-890a-16cfe0baeada",
     "kernelId": "262f8bfc-2873-4228-8df1-27595fffcf1f"
    }
   },
   "source": [
    "- Accuracy:  0.8343678449953017\n",
    "- Precision:  0.8412782956058589\n",
    "- Recall:  0.8281557215886748\n",
    "- F1-Score:  0.8346654336481933"
   ]
  },
  {
   "cell_type": "markdown",
   "id": "f92b8053-111d-4788-bbb6-d1b9080b68af",
   "metadata": {
    "gradient": {
     "editing": false,
     "id": "f92b8053-111d-4788-bbb6-d1b9080b68af",
     "kernelId": "262f8bfc-2873-4228-8df1-27595fffcf1f"
    }
   },
   "source": [
    "# Final Observation"
   ]
  },
  {
   "cell_type": "markdown",
   "id": "945f7345-ab6f-40ea-b485-a2725303f6ca",
   "metadata": {
    "gradient": {
     "editing": false,
     "id": "945f7345-ab6f-40ea-b485-a2725303f6ca",
     "kernelId": "262f8bfc-2873-4228-8df1-27595fffcf1f"
    }
   },
   "source": [
    "### We obtained the best performing model when leveraging SMOTE to oversample minority dataset.\n",
    "\n",
    "- Accuracy: 0.8767056207731706\n",
    "- Precision: 0.8936129543158298\n",
    "- Recall: 0.8579106042731681\n",
    "- F1-Score: 0.8753979081400637\n",
    "\n",
    "#### Hyperparameters for this model:\n",
    "\n",
    "```\n",
    "{'subsample': 1.0,\n",
    " 'reg_lambda': 1,\n",
    " 'n_estimators': 400,\n",
    " 'max_depth': 4,\n",
    " 'learning_rate': 0.1,\n",
    " 'gamma': 0,\n",
    " 'colsample_bytree': 0.8}\n",
    "```\n"
   ]
  }
 ],
 "metadata": {
  "kernelspec": {
   "display_name": "Python 3",
   "language": "python",
   "name": "python3"
  },
  "language_info": {
   "codemirror_mode": {
    "name": "ipython",
    "version": 3
   },
   "file_extension": ".py",
   "mimetype": "text/x-python",
   "name": "python",
   "nbconvert_exporter": "python",
   "pygments_lexer": "ipython3",
   "version": "3.8.8"
  }
 },
 "nbformat": 4,
 "nbformat_minor": 5
}
