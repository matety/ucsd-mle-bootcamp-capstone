{
 "cells": [
  {
   "cell_type": "markdown",
   "id": "6ee44812-6374-40f6-8285-ec85263d5d0f",
   "metadata": {
    "gradient": {
     "editing": false,
     "id": "6ee44812-6374-40f6-8285-ec85263d5d0f",
     "kernelId": "171b5571-579b-478b-8c16-9c607c9fe426"
    }
   },
   "source": [
    "# Build Model"
   ]
  },
  {
   "cell_type": "markdown",
   "id": "d07025eb",
   "metadata": {
    "gradient": {
     "editing": false,
     "id": "d07025eb",
     "kernelId": "171b5571-579b-478b-8c16-9c607c9fe426"
    }
   },
   "source": [
    "## Import the base libraries required for this modeling"
   ]
  },
  {
   "cell_type": "code",
   "execution_count": null,
   "id": "ae7c3ddc",
   "metadata": {
    "gradient": {
     "editing": false,
     "id": "ae7c3ddc",
     "kernelId": "171b5571-579b-478b-8c16-9c607c9fe426"
    }
   },
   "outputs": [],
   "source": [
    "%matplotlib inline\n",
    "import numpy as np\n",
    "import matplotlib.pyplot as plt\n",
    "import pandas as pd\n",
    "import seaborn as sns"
   ]
  },
  {
   "cell_type": "code",
   "execution_count": null,
   "id": "cf50dbb5",
   "metadata": {
    "gradient": {
     "editing": false,
     "id": "cf50dbb5",
     "kernelId": "171b5571-579b-478b-8c16-9c607c9fe426"
    }
   },
   "outputs": [],
   "source": [
    "from sklearn.model_selection import train_test_split\n",
    "from sklearn.model_selection import GridSearchCV\n",
    "from sklearn.metrics import accuracy_score\n",
    "from sklearn.pipeline import make_pipeline\n",
    "from sklearn.preprocessing import MinMaxScaler\n",
    "from sklearn.metrics import roc_curve, confusion_matrix, auc\n",
    "from sklearn.metrics import ConfusionMatrixDisplay\n",
    "from sklearn.metrics import roc_curve\n",
    "from sklearn.metrics import RocCurveDisplay\n",
    "from sklearn.metrics import precision_recall_curve\n",
    "from sklearn.metrics import PrecisionRecallDisplay\n",
    "from sklearn.metrics import precision_score, recall_score, f1_score"
   ]
  },
  {
   "cell_type": "code",
   "execution_count": null,
   "id": "4a900718-7da8-405d-95b4-b459a14be8eb",
   "metadata": {
    "gradient": {
     "editing": false,
     "id": "4a900718-7da8-405d-95b4-b459a14be8eb",
     "kernelId": "171b5571-579b-478b-8c16-9c607c9fe426",
     "source_hidden": false
    }
   },
   "outputs": [
    {
     "name": "stdout",
     "output_type": "stream",
     "text": [
      "Collecting package metadata (current_repodata.json): done\n",
      "Solving environment: done\n",
      "\n",
      "\n",
      "==> WARNING: A newer version of conda exists. <==\n",
      "  current version: 4.11.0\n",
      "  latest version: 4.12.0\n",
      "\n",
      "Please update conda by running\n",
      "\n",
      "    $ conda update -n base conda\n",
      "\n",
      "\n",
      "\n",
      "# All requested packages already installed.\n",
      "\n"
     ]
    }
   ],
   "source": [
    "!conda install py-xgboost-cpu -y"
   ]
  },
  {
   "cell_type": "code",
   "execution_count": null,
   "id": "a5ebe8af-8fc9-418e-9980-408ef8fd2cfb",
   "metadata": {
    "gradient": {
     "editing": false,
     "id": "a5ebe8af-8fc9-418e-9980-408ef8fd2cfb",
     "kernelId": "171b5571-579b-478b-8c16-9c607c9fe426",
     "source_hidden": false
    }
   },
   "outputs": [
    {
     "name": "stdout",
     "output_type": "stream",
     "text": [
      "\u001b[33mWARNING: The directory '/home/jovyan/.cache/pip' or its parent directory is not owned or is not writable by the current user. The cache has been disabled. Check the permissions and owner of that directory. If executing pip with sudo, you should use sudo's -H flag.\u001b[0m\u001b[33m\n",
      "\u001b[0mRequirement already satisfied: imbalanced-learn in /opt/conda/lib/python3.9/site-packages (0.9.0)\n",
      "Requirement already satisfied: threadpoolctl>=2.0.0 in /opt/conda/lib/python3.9/site-packages (from imbalanced-learn) (3.1.0)\n",
      "Requirement already satisfied: scipy>=1.1.0 in /opt/conda/lib/python3.9/site-packages (from imbalanced-learn) (1.8.0)\n",
      "Requirement already satisfied: scikit-learn>=1.0.1 in /opt/conda/lib/python3.9/site-packages (from imbalanced-learn) (1.0.2)\n",
      "Requirement already satisfied: joblib>=0.11 in /opt/conda/lib/python3.9/site-packages (from imbalanced-learn) (1.1.0)\n",
      "Requirement already satisfied: numpy>=1.14.6 in /opt/conda/lib/python3.9/site-packages (from imbalanced-learn) (1.21.5)\n",
      "\u001b[33mWARNING: Running pip as the 'root' user can result in broken permissions and conflicting behaviour with the system package manager. It is recommended to use a virtual environment instead: https://pip.pypa.io/warnings/venv\u001b[0m\u001b[33m\n",
      "\u001b[0m"
     ]
    }
   ],
   "source": [
    "!pip install imbalanced-learn"
   ]
  },
  {
   "cell_type": "code",
   "execution_count": null,
   "id": "1cc47efb",
   "metadata": {
    "gradient": {
     "editing": false,
     "id": "1cc47efb",
     "kernelId": "171b5571-579b-478b-8c16-9c607c9fe426"
    }
   },
   "outputs": [
    {
     "name": "stderr",
     "output_type": "stream",
     "text": [
      "/opt/conda/lib/python3.9/site-packages/xgboost/compat.py:36: FutureWarning: pandas.Int64Index is deprecated and will be removed from pandas in a future version. Use pandas.Index with the appropriate dtype instead.\n",
      "  from pandas import MultiIndex, Int64Index\n"
     ]
    }
   ],
   "source": [
    "from imblearn.over_sampling import SMOTE\n",
    "from imblearn.under_sampling import RandomUnderSampler\n",
    "from imblearn.pipeline import Pipeline\n",
    "import xgboost as xgb"
   ]
  },
  {
   "cell_type": "markdown",
   "id": "6fab6467",
   "metadata": {
    "gradient": {
     "editing": false,
     "id": "6fab6467",
     "kernelId": "171b5571-579b-478b-8c16-9c607c9fe426"
    }
   },
   "source": [
    "## Load & Split data"
   ]
  },
  {
   "cell_type": "code",
   "execution_count": null,
   "id": "a55c6e60",
   "metadata": {
    "gradient": {
     "editing": false,
     "id": "a55c6e60",
     "kernelId": "171b5571-579b-478b-8c16-9c607c9fe426"
    }
   },
   "outputs": [
    {
     "data": {
      "text/html": [
       "<div>\n",
       "<style scoped>\n",
       "    .dataframe tbody tr th:only-of-type {\n",
       "        vertical-align: middle;\n",
       "    }\n",
       "\n",
       "    .dataframe tbody tr th {\n",
       "        vertical-align: top;\n",
       "    }\n",
       "\n",
       "    .dataframe thead th {\n",
       "        text-align: right;\n",
       "    }\n",
       "</style>\n",
       "<table border=\"1\" class=\"dataframe\">\n",
       "  <thead>\n",
       "    <tr style=\"text-align: right;\">\n",
       "      <th></th>\n",
       "      <th>ID_code</th>\n",
       "      <th>target</th>\n",
       "      <th>var_0</th>\n",
       "      <th>var_1</th>\n",
       "      <th>var_2</th>\n",
       "      <th>var_3</th>\n",
       "      <th>var_4</th>\n",
       "      <th>var_5</th>\n",
       "      <th>var_6</th>\n",
       "      <th>var_7</th>\n",
       "      <th>...</th>\n",
       "      <th>var_190</th>\n",
       "      <th>var_191</th>\n",
       "      <th>var_192</th>\n",
       "      <th>var_193</th>\n",
       "      <th>var_194</th>\n",
       "      <th>var_195</th>\n",
       "      <th>var_196</th>\n",
       "      <th>var_197</th>\n",
       "      <th>var_198</th>\n",
       "      <th>var_199</th>\n",
       "    </tr>\n",
       "  </thead>\n",
       "  <tbody>\n",
       "    <tr>\n",
       "      <th>0</th>\n",
       "      <td>train_0</td>\n",
       "      <td>0</td>\n",
       "      <td>8.9255</td>\n",
       "      <td>-6.7863</td>\n",
       "      <td>11.9081</td>\n",
       "      <td>5.0930</td>\n",
       "      <td>11.4607</td>\n",
       "      <td>-9.2834</td>\n",
       "      <td>5.1187</td>\n",
       "      <td>18.6266</td>\n",
       "      <td>...</td>\n",
       "      <td>4.4354</td>\n",
       "      <td>3.9642</td>\n",
       "      <td>3.1364</td>\n",
       "      <td>1.6910</td>\n",
       "      <td>18.5227</td>\n",
       "      <td>-2.3978</td>\n",
       "      <td>7.8784</td>\n",
       "      <td>8.5635</td>\n",
       "      <td>12.7803</td>\n",
       "      <td>-1.0914</td>\n",
       "    </tr>\n",
       "    <tr>\n",
       "      <th>1</th>\n",
       "      <td>train_1</td>\n",
       "      <td>0</td>\n",
       "      <td>11.5006</td>\n",
       "      <td>-4.1473</td>\n",
       "      <td>13.8588</td>\n",
       "      <td>5.3890</td>\n",
       "      <td>12.3622</td>\n",
       "      <td>7.0433</td>\n",
       "      <td>5.6208</td>\n",
       "      <td>16.5338</td>\n",
       "      <td>...</td>\n",
       "      <td>7.6421</td>\n",
       "      <td>7.7214</td>\n",
       "      <td>2.5837</td>\n",
       "      <td>10.9516</td>\n",
       "      <td>15.4305</td>\n",
       "      <td>2.0339</td>\n",
       "      <td>8.1267</td>\n",
       "      <td>8.7889</td>\n",
       "      <td>18.3560</td>\n",
       "      <td>1.9518</td>\n",
       "    </tr>\n",
       "    <tr>\n",
       "      <th>2</th>\n",
       "      <td>train_2</td>\n",
       "      <td>0</td>\n",
       "      <td>8.6093</td>\n",
       "      <td>-2.7457</td>\n",
       "      <td>12.0805</td>\n",
       "      <td>7.8928</td>\n",
       "      <td>10.5825</td>\n",
       "      <td>-9.0837</td>\n",
       "      <td>6.9427</td>\n",
       "      <td>14.6155</td>\n",
       "      <td>...</td>\n",
       "      <td>2.9057</td>\n",
       "      <td>9.7905</td>\n",
       "      <td>1.6704</td>\n",
       "      <td>1.6858</td>\n",
       "      <td>21.6042</td>\n",
       "      <td>3.1417</td>\n",
       "      <td>-6.5213</td>\n",
       "      <td>8.2675</td>\n",
       "      <td>14.7222</td>\n",
       "      <td>0.3965</td>\n",
       "    </tr>\n",
       "    <tr>\n",
       "      <th>3</th>\n",
       "      <td>train_3</td>\n",
       "      <td>0</td>\n",
       "      <td>11.0604</td>\n",
       "      <td>-2.1518</td>\n",
       "      <td>8.9522</td>\n",
       "      <td>7.1957</td>\n",
       "      <td>12.5846</td>\n",
       "      <td>-1.8361</td>\n",
       "      <td>5.8428</td>\n",
       "      <td>14.9250</td>\n",
       "      <td>...</td>\n",
       "      <td>4.4666</td>\n",
       "      <td>4.7433</td>\n",
       "      <td>0.7178</td>\n",
       "      <td>1.4214</td>\n",
       "      <td>23.0347</td>\n",
       "      <td>-1.2706</td>\n",
       "      <td>-2.9275</td>\n",
       "      <td>10.2922</td>\n",
       "      <td>17.9697</td>\n",
       "      <td>-8.9996</td>\n",
       "    </tr>\n",
       "    <tr>\n",
       "      <th>4</th>\n",
       "      <td>train_4</td>\n",
       "      <td>0</td>\n",
       "      <td>9.8369</td>\n",
       "      <td>-1.4834</td>\n",
       "      <td>12.8746</td>\n",
       "      <td>6.6375</td>\n",
       "      <td>12.2772</td>\n",
       "      <td>2.4486</td>\n",
       "      <td>5.9405</td>\n",
       "      <td>19.2514</td>\n",
       "      <td>...</td>\n",
       "      <td>-1.4905</td>\n",
       "      <td>9.5214</td>\n",
       "      <td>-0.1508</td>\n",
       "      <td>9.1942</td>\n",
       "      <td>13.2876</td>\n",
       "      <td>-1.5121</td>\n",
       "      <td>3.9267</td>\n",
       "      <td>9.5031</td>\n",
       "      <td>17.9974</td>\n",
       "      <td>-8.8104</td>\n",
       "    </tr>\n",
       "  </tbody>\n",
       "</table>\n",
       "<p>5 rows × 202 columns</p>\n",
       "</div>"
      ],
      "text/plain": [
       "   ID_code  target    var_0   var_1    var_2   var_3    var_4   var_5   var_6  \\\n",
       "0  train_0       0   8.9255 -6.7863  11.9081  5.0930  11.4607 -9.2834  5.1187   \n",
       "1  train_1       0  11.5006 -4.1473  13.8588  5.3890  12.3622  7.0433  5.6208   \n",
       "2  train_2       0   8.6093 -2.7457  12.0805  7.8928  10.5825 -9.0837  6.9427   \n",
       "3  train_3       0  11.0604 -2.1518   8.9522  7.1957  12.5846 -1.8361  5.8428   \n",
       "4  train_4       0   9.8369 -1.4834  12.8746  6.6375  12.2772  2.4486  5.9405   \n",
       "\n",
       "     var_7  ...  var_190  var_191  var_192  var_193  var_194  var_195  \\\n",
       "0  18.6266  ...   4.4354   3.9642   3.1364   1.6910  18.5227  -2.3978   \n",
       "1  16.5338  ...   7.6421   7.7214   2.5837  10.9516  15.4305   2.0339   \n",
       "2  14.6155  ...   2.9057   9.7905   1.6704   1.6858  21.6042   3.1417   \n",
       "3  14.9250  ...   4.4666   4.7433   0.7178   1.4214  23.0347  -1.2706   \n",
       "4  19.2514  ...  -1.4905   9.5214  -0.1508   9.1942  13.2876  -1.5121   \n",
       "\n",
       "   var_196  var_197  var_198  var_199  \n",
       "0   7.8784   8.5635  12.7803  -1.0914  \n",
       "1   8.1267   8.7889  18.3560   1.9518  \n",
       "2  -6.5213   8.2675  14.7222   0.3965  \n",
       "3  -2.9275  10.2922  17.9697  -8.9996  \n",
       "4   3.9267   9.5031  17.9974  -8.8104  \n",
       "\n",
       "[5 rows x 202 columns]"
      ]
     },
     "execution_count": 6,
     "metadata": {},
     "output_type": "execute_result"
    }
   ],
   "source": [
    "txns = pd.read_csv('./train.csv')\n",
    "txns.head()"
   ]
  },
  {
   "cell_type": "code",
   "execution_count": null,
   "id": "5548692a",
   "metadata": {
    "gradient": {
     "editing": false,
     "id": "5548692a",
     "kernelId": "171b5571-579b-478b-8c16-9c607c9fe426"
    }
   },
   "outputs": [],
   "source": [
    "# Split the data into training and test set with a ration of 0.7:0.3 and constant random\n",
    "X_train, X_test, y_train, y_test = train_test_split(txns.drop(columns=['ID_code','target']), txns['target'], test_size=0.3, random_state=11, stratify=txns['target'])"
   ]
  },
  {
   "cell_type": "markdown",
   "id": "c3ca4051",
   "metadata": {
    "gradient": {
     "editing": false,
     "id": "c3ca4051",
     "kernelId": "171b5571-579b-478b-8c16-9c607c9fe426"
    }
   },
   "source": [
    "# Fit Model"
   ]
  },
  {
   "cell_type": "code",
   "execution_count": null,
   "id": "d78256df",
   "metadata": {
    "gradient": {
     "editing": false,
     "id": "d78256df",
     "kernelId": "171b5571-579b-478b-8c16-9c607c9fe426"
    },
    "scrolled": false
   },
   "outputs": [
    {
     "name": "stderr",
     "output_type": "stream",
     "text": [
      "/opt/conda/lib/python3.9/site-packages/xgboost/data.py:262: FutureWarning: pandas.Int64Index is deprecated and will be removed from pandas in a future version. Use pandas.Index with the appropriate dtype instead.\n",
      "  elif isinstance(data.columns, (pd.Int64Index, pd.RangeIndex)):\n",
      "/opt/conda/lib/python3.9/site-packages/xgboost/data.py:262: FutureWarning: pandas.Int64Index is deprecated and will be removed from pandas in a future version. Use pandas.Index with the appropriate dtype instead.\n",
      "  elif isinstance(data.columns, (pd.Int64Index, pd.RangeIndex)):\n",
      "/opt/conda/lib/python3.9/site-packages/xgboost/data.py:262: FutureWarning: pandas.Int64Index is deprecated and will be removed from pandas in a future version. Use pandas.Index with the appropriate dtype instead.\n",
      "  elif isinstance(data.columns, (pd.Int64Index, pd.RangeIndex)):\n",
      "/opt/conda/lib/python3.9/site-packages/xgboost/data.py:262: FutureWarning: pandas.Int64Index is deprecated and will be removed from pandas in a future version. Use pandas.Index with the appropriate dtype instead.\n",
      "  elif isinstance(data.columns, (pd.Int64Index, pd.RangeIndex)):\n",
      "/opt/conda/lib/python3.9/site-packages/xgboost/data.py:262: FutureWarning: pandas.Int64Index is deprecated and will be removed from pandas in a future version. Use pandas.Index with the appropriate dtype instead.\n",
      "  elif isinstance(data.columns, (pd.Int64Index, pd.RangeIndex)):\n",
      "/opt/conda/lib/python3.9/site-packages/xgboost/data.py:262: FutureWarning: pandas.Int64Index is deprecated and will be removed from pandas in a future version. Use pandas.Index with the appropriate dtype instead.\n",
      "  elif isinstance(data.columns, (pd.Int64Index, pd.RangeIndex)):\n"
     ]
    },
    {
     "data": {
      "text/plain": [
       "GridSearchCV(cv=5,\n",
       "             estimator=XGBClassifier(base_score=None, booster=None,\n",
       "                                     colsample_bylevel=None,\n",
       "                                     colsample_bynode=None,\n",
       "                                     colsample_bytree=None,\n",
       "                                     enable_categorical=False,\n",
       "                                     eval_metric='auc', gamma=None, gpu_id=None,\n",
       "                                     importance_type=None,\n",
       "                                     interaction_constraints=None,\n",
       "                                     learning_rate=None, max_delta_step=None,\n",
       "                                     max_depth=None, min_child_weight=None,\n",
       "                                     missing=nan, monotone_constraints=None,\n",
       "                                     n_estimators=100, n_jobs=None,\n",
       "                                     num_parallel_tree=None, predictor=None,\n",
       "                                     random_state=None, reg_alpha=None,\n",
       "                                     reg_lambda=None, scale_pos_weight=None,\n",
       "                                     seed=11, subsample=None, tree_method=None,\n",
       "                                     use_label_encoder=False,\n",
       "                                     validate_parameters=None, ...),\n",
       "             param_grid={'max_depth': [100], 'n_estimators': [100],\n",
       "                         'tree_method': ['hist']})"
      ]
     },
     "execution_count": 8,
     "metadata": {},
     "output_type": "execute_result"
    }
   ],
   "source": [
    "# XGBoost\n",
    "params = {'n_estimators': [100, 250, 500],\n",
    "            'max_depth':[50, 100, 200], \n",
    "            'tree_method': ['hist']            \n",
    "         }\n",
    "\n",
    "gbm = xgb.XGBClassifier(objective='binary:logistic', eval_metric='auc', seed=11, use_label_encoder=False, n_jobs=5, num_parallel_tree=128))\n",
    "#model.fit(X_train, y_train)\n",
    "\n",
    "# GridSearchCV\n",
    "gs_cv = GridSearchCV(estimator=gbm, param_grid=params, cv=5)\n",
    "\n",
    "# Fit the pipeline\n",
    "gs_cv.fit(X_train, y_train)"
   ]
  },
  {
   "cell_type": "code",
   "execution_count": null,
   "id": "14402745",
   "metadata": {
    "gradient": {
     "editing": false,
     "id": "14402745",
     "kernelId": "171b5571-579b-478b-8c16-9c607c9fe426"
    }
   },
   "outputs": [
    {
     "data": {
      "text/plain": [
       "{'max_depth': 100, 'n_estimators': 100, 'tree_method': 'hist'}"
      ]
     },
     "execution_count": 9,
     "metadata": {},
     "output_type": "execute_result"
    }
   ],
   "source": [
    "gs_cv.best_params_\n",
    "\n"
   ]
  },
  {
   "cell_type": "code",
   "execution_count": null,
   "id": "9b85f65e-9fb1-4085-ae8b-dcf7ac9dccbf",
   "metadata": {
    "gradient": {
     "editing": false,
     "id": "9b85f65e-9fb1-4085-ae8b-dcf7ac9dccbf",
     "kernelId": "171b5571-579b-478b-8c16-9c607c9fe426",
     "source_hidden": false
    }
   },
   "outputs": [
    {
     "name": "stdout",
     "output_type": "stream",
     "text": [
      "[0 1]\n"
     ]
    }
   ],
   "source": [
    "# Gradient Boosted DecisionTree\n",
    "model = gs_cv.best_estimator_"
   ]
  },
  {
   "cell_type": "markdown",
   "id": "422b1117",
   "metadata": {
    "gradient": {
     "editing": false,
     "id": "422b1117",
     "kernelId": "171b5571-579b-478b-8c16-9c607c9fe426"
    }
   },
   "source": [
    "# Evaluate the Model"
   ]
  },
  {
   "cell_type": "code",
   "execution_count": null,
   "id": "e588246d",
   "metadata": {
    "gradient": {
     "editing": false,
     "id": "e588246d",
     "kernelId": "171b5571-579b-478b-8c16-9c607c9fe426"
    }
   },
   "outputs": [
    {
     "name": "stderr",
     "output_type": "stream",
     "text": [
      "/opt/conda/lib/python3.9/site-packages/xgboost/data.py:262: FutureWarning: pandas.Int64Index is deprecated and will be removed from pandas in a future version. Use pandas.Index with the appropriate dtype instead.\n",
      "  elif isinstance(data.columns, (pd.Int64Index, pd.RangeIndex)):\n"
     ]
    },
    {
     "data": {
      "image/png": "[encoded data removed]",
      "text/plain": [
       "<Figure size 864x576 with 4 Axes>"
      ]
     },
     "metadata": {
      "needs_background": "light"
     },
     "output_type": "display_data"
    }
   ],
   "source": [
    "y_pred = model.predict(X_test)\n",
    "\n",
    "# Confusion Matrix\n",
    "cm = confusion_matrix(y_test, y_pred)\n",
    "cm_display = ConfusionMatrixDisplay(cm)\n",
    "\n",
    "# ROC Curve\n",
    "y_score = model.predict_proba(X_test)[:,1]\n",
    "\n",
    "fpr, tpr, _ = roc_curve(y_test, y_score, pos_label=model.classes_[1])\n",
    "roc_display = RocCurveDisplay(fpr=fpr, tpr=tpr)\n",
    "\n",
    "# Precision-Recall Curve\n",
    "prec, recall, _ = precision_recall_curve(y_test, y_score, pos_label=model.classes_[1])\n",
    "pr_display = PrecisionRecallDisplay(precision=prec, recall=recall)\n",
    "\n",
    "fig, (ax1, ax2, ax3) = plt.subplots(1, 3, figsize=(12, 8))\n",
    "\n",
    "cm_display.plot(ax=ax1)\n",
    "roc_display.plot(ax=ax2)\n",
    "pr_display.plot(ax=ax3)\n",
    "plt.show()"
   ]
  },
  {
   "cell_type": "code",
   "execution_count": null,
   "id": "9ce0fba5",
   "metadata": {
    "gradient": {
     "editing": false,
     "id": "9ce0fba5",
     "kernelId": "171b5571-579b-478b-8c16-9c607c9fe426"
    }
   },
   "outputs": [],
   "source": [
    "print(\"Accuracy: \", accuracy_score(y_test, y_pred))\n",
    "print(\"Precision: \", precision_score(y_test, y_pred, pos_label=model.classes_[1]))\n",
    "print(\"Recall: \", recall_score(y_test, y_pred, pos_label=model.classes_[1]))\n",
    "print(\"F1-Score: \", f1_score(y_test, y_pred, pos_label=model.classes_[1]))"
   ]
  },
  {
   "cell_type": "markdown",
   "id": "05eac19f-5566-47d1-b884-d4529931ba96",
   "metadata": {
    "gradient": {
     "editing": false,
     "id": "05eac19f-5566-47d1-b884-d4529931ba96",
     "kernelId": "171b5571-579b-478b-8c16-9c607c9fe426"
    }
   },
   "source": [
    "## The Recall is low as the dataset is highly imbalanced and does not have enough positive use cases to learn from. In addition, we also observe that the accuracy and precision are high for the same reason given the data is skewed 9:1 in favor of target 0. \n",
    "\n",
    "## We will not apply the SMOTE technique here to oversample the minority data similar to the LogisticRegression model from earlier."
   ]
  },
  {
   "cell_type": "markdown",
   "id": "3d5eac30-d640-4ea1-b116-52bda2662bcb",
   "metadata": {
    "gradient": {
     "editing": false,
     "id": "3d5eac30-d640-4ea1-b116-52bda2662bcb",
     "kernelId": "171b5571-579b-478b-8c16-9c607c9fe426"
    }
   },
   "source": [
    "# SMOTE - Minority Oversampling"
   ]
  },
  {
   "cell_type": "code",
   "execution_count": null,
   "id": "af537f1c-dda6-4603-bf38-5565ec0c5856",
   "metadata": {
    "gradient": {
     "editing": false,
     "id": "af537f1c-dda6-4603-bf38-5565ec0c5856",
     "kernelId": "171b5571-579b-478b-8c16-9c607c9fe426",
     "source_hidden": false
    }
   },
   "outputs": [
    {
     "data": {
      "text/plain": [
       "[]"
      ]
     },
     "execution_count": 8,
     "metadata": {},
     "output_type": "execute_result"
    },
    {
     "data": {
      "image/png": "[encoded data removed]",
      "text/plain": [
       "<Figure size 432x288 with 1 Axes>"
      ]
     },
     "metadata": {
      "needs_background": "light"
     },
     "output_type": "display_data"
    }
   ],
   "source": [
    "over = SMOTE(sampling_strategy='minority', random_state=11, k_neighbors=7)\n",
    "under = RandomUnderSampler(sampling_strategy='majority', random_state=11)\n",
    "\n",
    "steps = [('o', over), ('u', under)]\n",
    "pipeline = Pipeline(steps=steps)\n",
    "\n",
    "# transform the dataset\n",
    "X_smote, y_smote = pipeline.fit_resample(txns.drop(columns=['ID_code','target']), txns['target'])\n",
    "\n",
    "# Check the class distribution\n",
    "pd.concat([X_smote, y_smote], axis=1).pivot_table(index='target', aggfunc='size').plot(kind='bar', title = 'Class distribution').plot()"
   ]
  },
  {
   "cell_type": "code",
   "execution_count": null,
   "id": "7a25949c-3a2f-48b8-a8a0-5cbc66cf0fb1",
   "metadata": {
    "gradient": {
     "editing": false,
     "id": "7a25949c-3a2f-48b8-a8a0-5cbc66cf0fb1",
     "kernelId": "171b5571-579b-478b-8c16-9c607c9fe426",
     "source_hidden": false
    }
   },
   "outputs": [],
   "source": [
    "# Split the data into training and test set with a ration of 0.7:0.3 and constant random\n",
    "X_smote_train, X_smote_test, y_smote_train, y_smote_test = train_test_split(X_smote, y_smote, test_size=0.3, random_state=11)"
   ]
  },
  {
   "cell_type": "code",
   "execution_count": null,
   "id": "f80f65c2-4f2b-451e-8126-71853eb0ad3e",
   "metadata": {
    "gradient": {
     "editing": false,
     "id": "f80f65c2-4f2b-451e-8126-71853eb0ad3e",
     "kernelId": "171b5571-579b-478b-8c16-9c607c9fe426",
     "source_hidden": false
    }
   },
   "outputs": [],
   "source": [
    "# XGBoost\n",
    "params_smote = {'n_estimators': [100, 250, 500],\n",
    "            'max_depth':[50, 100, 200], \n",
    "            'tree_method': ['hist']            \n",
    "         }\n",
    "\n",
    "\n",
    "gbm_smote = xgb.XGBClassifier(objective='binary:logistic', eval_metric='auc', seed=11, use_label_encoder=False, n_jobs=5, num_parallel_tree=128)\n",
    "#model.fit(X_train, y_train)\n",
    "\n",
    "# GridSearchCV\n",
    "gs_cv_smote = GridSearchCV(estimator=gbm_smote, param_grid=params_smote, cv=5)\n",
    "\n",
    "# Fit the pipeline\n",
    "gs_cv_smote.fit(X_smote_train, y_smote_train)"
   ]
  },
  {
   "cell_type": "code",
   "execution_count": null,
   "id": "43dc4191-39e7-41a0-990a-3b681cb6cfd8",
   "metadata": {
    "gradient": {
     "editing": false,
     "execution_count": 1,
     "id": "43dc4191-39e7-41a0-990a-3b681cb6cfd8",
     "kernelId": "171b5571-579b-478b-8c16-9c607c9fe426",
     "source_hidden": false
    }
   },
   "outputs": [
    {
     "ename": "NameError",
     "evalue": "name 'gs_cv_smote' is not defined",
     "output_type": "error",
     "traceback": [
      "\u001b[0;31m---------------------------------------------------------------------------\u001b[0m",
      "\u001b[0;31mNameError\u001b[0m                                 Traceback (most recent call last)",
      "Input \u001b[0;32mIn [1]\u001b[0m, in \u001b[0;36m<cell line: 1>\u001b[0;34m()\u001b[0m\n\u001b[0;32m----> 1\u001b[0m \u001b[43mgs_cv_smote\u001b[49m\u001b[38;5;241m.\u001b[39mbest_params_\n",
      "\u001b[0;31mNameError\u001b[0m: name 'gs_cv_smote' is not defined"
     ]
    }
   ],
   "source": [
    "gs_cv_smote.best_params_"
   ]
  },
  {
   "cell_type": "code",
   "execution_count": null,
   "id": "552398d8-a94a-47df-aa37-a4fb17f45c63",
   "metadata": {
    "gradient": {
     "editing": false,
     "id": "552398d8-a94a-47df-aa37-a4fb17f45c63",
     "kernelId": "171b5571-579b-478b-8c16-9c607c9fe426",
     "source_hidden": false
    }
   },
   "outputs": [
    {
     "ename": "NameError",
     "evalue": "name 'gs_cv_smote' is not defined",
     "output_type": "error",
     "traceback": [
      "\u001b[0;31m---------------------------------------------------------------------------\u001b[0m",
      "\u001b[0;31mNameError\u001b[0m                                 Traceback (most recent call last)",
      "Input \u001b[0;32mIn [3]\u001b[0m, in \u001b[0;36m<cell line: 2>\u001b[0;34m()\u001b[0m\n\u001b[1;32m      1\u001b[0m \u001b[38;5;66;03m# Gradient Boosted DecisionTree\u001b[39;00m\n\u001b[0;32m----> 2\u001b[0m model_smote \u001b[38;5;241m=\u001b[39m \u001b[43mgs_cv_smote\u001b[49m\u001b[38;5;241m.\u001b[39mbest_estimator_\n",
      "\u001b[0;31mNameError\u001b[0m: name 'gs_cv_smote' is not defined"
     ]
    }
   ],
   "source": [
    "# Gradient Boosted DecisionTree\n",
    "model_smote = gs_cv_smote.best_estimator_"
   ]
  },
  {
   "cell_type": "code",
   "execution_count": null,
   "id": "a0b47805-6a2c-43e1-a8e9-1bc6b1667553",
   "metadata": {
    "gradient": {
     "editing": false,
     "id": "a0b47805-6a2c-43e1-a8e9-1bc6b1667553",
     "kernelId": "171b5571-579b-478b-8c16-9c607c9fe426",
     "source_hidden": false
    }
   },
   "outputs": [
    {
     "name": "stderr",
     "output_type": "stream",
     "text": [
      "/opt/conda/lib/python3.9/site-packages/xgboost/data.py:262: FutureWarning: pandas.Int64Index is deprecated and will be removed from pandas in a future version. Use pandas.Index with the appropriate dtype instead.\n",
      "  elif isinstance(data.columns, (pd.Int64Index, pd.RangeIndex)):\n",
      "/opt/conda/lib/python3.9/site-packages/xgboost/data.py:262: FutureWarning: pandas.Int64Index is deprecated and will be removed from pandas in a future version. Use pandas.Index with the appropriate dtype instead.\n",
      "  elif isinstance(data.columns, (pd.Int64Index, pd.RangeIndex)):\n"
     ]
    },
    {
     "data": {
      "image/png": "[encoded data removed]",
      "text/plain": [
       "<Figure size 864x576 with 4 Axes>"
      ]
     },
     "metadata": {
      "needs_background": "light"
     },
     "output_type": "display_data"
    }
   ],
   "source": [
    "y_smote_pred = model_smote.predict(X_smote_test)\n",
    "\n",
    "# Confusion Matrix\n",
    "cm_smote = confusion_matrix(y_smote_test, y_smote_pred)\n",
    "cm_smote_display = ConfusionMatrixDisplay(cm)\n",
    "\n",
    "# ROC Curve\n",
    "y_smote_score = model_smote.predict_proba(X_smote_test)[:,1]\n",
    "\n",
    "fpr_smote, tpr_smote, _ = roc_curve(y_smote_test, y_smote_score, pos_label=model_smote.classes_[1])\n",
    "roc_smote_display = RocCurveDisplay(fpr=fpr_smote, tpr=tpr_smote)\n",
    "\n",
    "# Precision-Recall Curve\n",
    "prec_smote, recall_smote, _ = precision_recall_curve(y_smote_test, y_smote_score, pos_label=model_smote.classes_[1])\n",
    "pr_smote_display = PrecisionRecallDisplay(precision=prec_smote, recall=recall_smote)\n",
    "\n",
    "fig, (ax1, ax2, ax3) = plt.subplots(1, 3, figsize=(12, 8))\n",
    "\n",
    "cm_smote_display.plot(ax=ax1)\n",
    "roc_smote_display.plot(ax=ax2)\n",
    "pr_smote_display.plot(ax=ax3)\n",
    "plt.show()"
   ]
  },
  {
   "cell_type": "code",
   "execution_count": null,
   "id": "d7b0406f-8d74-4c85-87d3-0fb06998feba",
   "metadata": {
    "gradient": {
     "editing": false,
     "id": "d7b0406f-8d74-4c85-87d3-0fb06998feba",
     "kernelId": "171b5571-579b-478b-8c16-9c607c9fe426",
     "source_hidden": false
    }
   },
   "outputs": [
    {
     "name": "stdout",
     "output_type": "stream",
     "text": [
      "Accuracy:  0.90505\n",
      "Precision:  0.8293650793650794\n",
      "Recall:  0.06933156410681705\n",
      "F1-Score:  0.12796571253635391\n"
     ]
    }
   ],
   "source": [
    "print(\"Accuracy: \", accuracy_score(y_smote_test, y_smote_pred))\n",
    "print(\"Precision: \", precision_score(y_smote_test, y_smote_pred, pos_label=model_smote.classes_[1]))\n",
    "print(\"Recall: \", recall_score(y_smote_test, y_smote_pred, pos_label=model_smote.classes_[1]))\n",
    "print(\"F1-Score: \", f1_score(y_smote_test, y_smote_pred, pos_label=model_smote.classes_[1]))"
   ]
  },
  {
   "cell_type": "code",
   "execution_count": null,
   "id": "65082228",
   "metadata": {
    "gradient": {
     "editing": false,
     "id": "65082228",
     "kernelId": "171b5571-579b-478b-8c16-9c607c9fe426"
    }
   },
   "outputs": [],
   "source": [
    "# Preprocessing - Scaled\n",
    "#scaler_train = MinMaxScaler().fit(X_train)\n",
    "#X_train_scaled = scaler_train.transform(X_train)\n",
    "#scaler_test = MinMaxScaler().fit(X_test)\n",
    "#X_test_scaled = scaler_test.transform(X_test)"
   ]
  }
 ],
 "metadata": {
  "kernelspec": {
   "display_name": "Python 3",
   "language": "python",
   "name": "python3"
  },
  "language_info": {
   "codemirror_mode": {
    "name": "ipython",
    "version": 3
   },
   "file_extension": ".py",
   "mimetype": "text/x-python",
   "name": "python",
   "nbconvert_exporter": "python",
   "pygments_lexer": "ipython3",
   "version": "3.8.8"
  }
 },
 "nbformat": 4,
 "nbformat_minor": 5
}
