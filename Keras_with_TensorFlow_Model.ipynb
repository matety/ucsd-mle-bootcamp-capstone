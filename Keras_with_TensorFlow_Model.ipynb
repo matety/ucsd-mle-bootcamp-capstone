{
 "cells": [
  {
   "cell_type": "markdown",
   "id": "3f5befc1-43f2-47e1-8ca5-640e8366bf65",
   "metadata": {},
   "source": [
    "# TensorFlow Model"
   ]
  },
  {
   "cell_type": "code",
   "execution_count": 1,
   "id": "af7bdabe-8e63-43df-9515-32f6fca4219d",
   "metadata": {
    "execution": {
     "iopub.execute_input": "2022-04-02T02:38:08.273590Z",
     "iopub.status.busy": "2022-04-02T02:38:08.273300Z",
     "iopub.status.idle": "2022-04-02T02:38:08.277735Z",
     "shell.execute_reply": "2022-04-02T02:38:08.277149Z",
     "shell.execute_reply.started": "2022-04-02T02:38:08.273514Z"
    }
   },
   "outputs": [],
   "source": [
    "#!pip uninstall scikit-learn -y\n",
    "#!pip install scikit-learn"
   ]
  },
  {
   "cell_type": "code",
   "execution_count": 2,
   "id": "34d1dec9-d260-4b65-9bb1-5383e3c9b99f",
   "metadata": {
    "execution": {
     "iopub.execute_input": "2022-04-02T02:38:08.283708Z",
     "iopub.status.busy": "2022-04-02T02:38:08.283545Z",
     "iopub.status.idle": "2022-04-02T02:38:09.425682Z",
     "shell.execute_reply": "2022-04-02T02:38:09.425120Z",
     "shell.execute_reply.started": "2022-04-02T02:38:08.283690Z"
    }
   },
   "outputs": [],
   "source": [
    "import warnings\n",
    "warnings.filterwarnings('ignore')\n",
    "\n",
    "%matplotlib inline\n",
    "import numpy as np\n",
    "import matplotlib.pyplot as plt\n",
    "import pandas as pd"
   ]
  },
  {
   "cell_type": "code",
   "execution_count": 3,
   "id": "6a07b770-0d94-4f09-90eb-67e9fd3b91c2",
   "metadata": {
    "execution": {
     "iopub.execute_input": "2022-04-02T02:38:09.427636Z",
     "iopub.status.busy": "2022-04-02T02:38:09.426794Z",
     "iopub.status.idle": "2022-04-02T02:38:09.949320Z",
     "shell.execute_reply": "2022-04-02T02:38:09.948286Z",
     "shell.execute_reply.started": "2022-04-02T02:38:09.427602Z"
    }
   },
   "outputs": [],
   "source": [
    "from sklearn.preprocessing import MinMaxScaler\n",
    "from sklearn.model_selection import train_test_split\n",
    "from sklearn.model_selection import RandomizedSearchCV\n",
    "from sklearn.pipeline import make_pipeline\n",
    "from sklearn.metrics import roc_curve, precision_recall_curve\n",
    "from sklearn.metrics import confusion_matrix, auc\n",
    "from sklearn.metrics import ConfusionMatrixDisplay, RocCurveDisplay, PrecisionRecallDisplay\n",
    "from sklearn.metrics import accuracy_score, precision_score, recall_score, f1_score"
   ]
  },
  {
   "cell_type": "code",
   "execution_count": 4,
   "id": "59d961c1-6447-4d93-9702-bd56b089e377",
   "metadata": {
    "execution": {
     "iopub.execute_input": "2022-04-02T02:38:09.950401Z",
     "iopub.status.busy": "2022-04-02T02:38:09.950225Z",
     "iopub.status.idle": "2022-04-02T02:38:12.472541Z",
     "shell.execute_reply": "2022-04-02T02:38:12.471765Z",
     "shell.execute_reply.started": "2022-04-02T02:38:09.950380Z"
    }
   },
   "outputs": [
    {
     "name": "stdout",
     "output_type": "stream",
     "text": [
      "Collecting imbalanced-learn\n",
      "  Downloading imbalanced_learn-0.9.0-py3-none-any.whl (199 kB)\n",
      "\u001b[2K     \u001b[90m━━━━━━━━━━━━━━━━━━━━━━━━━━━━━━━━━━━━━━\u001b[0m \u001b[32m199.1/199.1 KB\u001b[0m \u001b[31m16.2 MB/s\u001b[0m eta \u001b[36m0:00:00\u001b[0m\n",
      "\u001b[?25hRequirement already satisfied: numpy>=1.14.6 in /usr/local/lib/python3.8/dist-packages (from imbalanced-learn) (1.19.4)\n",
      "Requirement already satisfied: scikit-learn>=1.0.1 in /usr/local/lib/python3.8/dist-packages (from imbalanced-learn) (1.0.2)\n",
      "Requirement already satisfied: scipy>=1.1.0 in /usr/local/lib/python3.8/dist-packages (from imbalanced-learn) (1.4.1)\n",
      "Requirement already satisfied: joblib>=0.11 in /usr/local/lib/python3.8/dist-packages (from imbalanced-learn) (1.1.0)\n",
      "Requirement already satisfied: threadpoolctl>=2.0.0 in /usr/local/lib/python3.8/dist-packages (from imbalanced-learn) (3.1.0)\n",
      "Installing collected packages: imbalanced-learn\n",
      "Successfully installed imbalanced-learn-0.9.0\n",
      "\u001b[33mWARNING: Running pip as the 'root' user can result in broken permissions and conflicting behaviour with the system package manager. It is recommended to use a virtual environment instead: https://pip.pypa.io/warnings/venv\u001b[0m\u001b[33m\n",
      "\u001b[0m\u001b[33mWARNING: You are using pip version 22.0.3; however, version 22.0.4 is available.\n",
      "You should consider upgrading via the '/usr/bin/python -m pip install --upgrade pip' command.\u001b[0m\u001b[33m\n",
      "\u001b[0m"
     ]
    }
   ],
   "source": [
    "!pip install imbalanced-learn"
   ]
  },
  {
   "cell_type": "code",
   "execution_count": 5,
   "id": "95351a5d-5e8e-4d76-85fc-b0e30330eaad",
   "metadata": {
    "execution": {
     "iopub.execute_input": "2022-04-02T02:38:12.474779Z",
     "iopub.status.busy": "2022-04-02T02:38:12.474559Z",
     "iopub.status.idle": "2022-04-02T02:38:16.718716Z",
     "shell.execute_reply": "2022-04-02T02:38:16.718009Z",
     "shell.execute_reply.started": "2022-04-02T02:38:12.474756Z"
    }
   },
   "outputs": [],
   "source": [
    "from imblearn.over_sampling import SMOTE\n",
    "from imblearn.under_sampling import RandomUnderSampler\n",
    "from imblearn.pipeline import Pipeline\n",
    "\n",
    "import tensorflow as tf\n",
    "from tensorflow import keras\n",
    "from keras import regularizers\n",
    "\n",
    "from numpy.random import seed\n",
    "seed(1)\n",
    "tf.random.set_seed(2)"
   ]
  },
  {
   "cell_type": "markdown",
   "id": "09c202c0-0fca-4d9b-82da-bd9c5f6bba19",
   "metadata": {},
   "source": [
    "## Load & Split data"
   ]
  },
  {
   "cell_type": "code",
   "execution_count": 6,
   "id": "ae15b86d-0ab0-4c91-9e29-df5ac76a23e3",
   "metadata": {
    "execution": {
     "iopub.execute_input": "2022-04-02T02:38:16.719876Z",
     "iopub.status.busy": "2022-04-02T02:38:16.719694Z",
     "iopub.status.idle": "2022-04-02T02:38:23.144561Z",
     "shell.execute_reply": "2022-04-02T02:38:23.144029Z",
     "shell.execute_reply.started": "2022-04-02T02:38:16.719856Z"
    }
   },
   "outputs": [
    {
     "data": {
      "text/html": [
       "<div>\n",
       "<style scoped>\n",
       "    .dataframe tbody tr th:only-of-type {\n",
       "        vertical-align: middle;\n",
       "    }\n",
       "\n",
       "    .dataframe tbody tr th {\n",
       "        vertical-align: top;\n",
       "    }\n",
       "\n",
       "    .dataframe thead th {\n",
       "        text-align: right;\n",
       "    }\n",
       "</style>\n",
       "<table border=\"1\" class=\"dataframe\">\n",
       "  <thead>\n",
       "    <tr style=\"text-align: right;\">\n",
       "      <th></th>\n",
       "      <th>ID_code</th>\n",
       "      <th>target</th>\n",
       "      <th>var_0</th>\n",
       "      <th>var_1</th>\n",
       "      <th>var_2</th>\n",
       "      <th>var_3</th>\n",
       "      <th>var_4</th>\n",
       "      <th>var_5</th>\n",
       "      <th>var_6</th>\n",
       "      <th>var_7</th>\n",
       "      <th>...</th>\n",
       "      <th>var_190</th>\n",
       "      <th>var_191</th>\n",
       "      <th>var_192</th>\n",
       "      <th>var_193</th>\n",
       "      <th>var_194</th>\n",
       "      <th>var_195</th>\n",
       "      <th>var_196</th>\n",
       "      <th>var_197</th>\n",
       "      <th>var_198</th>\n",
       "      <th>var_199</th>\n",
       "    </tr>\n",
       "  </thead>\n",
       "  <tbody>\n",
       "    <tr>\n",
       "      <th>0</th>\n",
       "      <td>train_0</td>\n",
       "      <td>0</td>\n",
       "      <td>8.9255</td>\n",
       "      <td>-6.7863</td>\n",
       "      <td>11.9081</td>\n",
       "      <td>5.0930</td>\n",
       "      <td>11.4607</td>\n",
       "      <td>-9.2834</td>\n",
       "      <td>5.1187</td>\n",
       "      <td>18.6266</td>\n",
       "      <td>...</td>\n",
       "      <td>4.4354</td>\n",
       "      <td>3.9642</td>\n",
       "      <td>3.1364</td>\n",
       "      <td>1.6910</td>\n",
       "      <td>18.5227</td>\n",
       "      <td>-2.3978</td>\n",
       "      <td>7.8784</td>\n",
       "      <td>8.5635</td>\n",
       "      <td>12.7803</td>\n",
       "      <td>-1.0914</td>\n",
       "    </tr>\n",
       "    <tr>\n",
       "      <th>1</th>\n",
       "      <td>train_1</td>\n",
       "      <td>0</td>\n",
       "      <td>11.5006</td>\n",
       "      <td>-4.1473</td>\n",
       "      <td>13.8588</td>\n",
       "      <td>5.3890</td>\n",
       "      <td>12.3622</td>\n",
       "      <td>7.0433</td>\n",
       "      <td>5.6208</td>\n",
       "      <td>16.5338</td>\n",
       "      <td>...</td>\n",
       "      <td>7.6421</td>\n",
       "      <td>7.7214</td>\n",
       "      <td>2.5837</td>\n",
       "      <td>10.9516</td>\n",
       "      <td>15.4305</td>\n",
       "      <td>2.0339</td>\n",
       "      <td>8.1267</td>\n",
       "      <td>8.7889</td>\n",
       "      <td>18.3560</td>\n",
       "      <td>1.9518</td>\n",
       "    </tr>\n",
       "    <tr>\n",
       "      <th>2</th>\n",
       "      <td>train_2</td>\n",
       "      <td>0</td>\n",
       "      <td>8.6093</td>\n",
       "      <td>-2.7457</td>\n",
       "      <td>12.0805</td>\n",
       "      <td>7.8928</td>\n",
       "      <td>10.5825</td>\n",
       "      <td>-9.0837</td>\n",
       "      <td>6.9427</td>\n",
       "      <td>14.6155</td>\n",
       "      <td>...</td>\n",
       "      <td>2.9057</td>\n",
       "      <td>9.7905</td>\n",
       "      <td>1.6704</td>\n",
       "      <td>1.6858</td>\n",
       "      <td>21.6042</td>\n",
       "      <td>3.1417</td>\n",
       "      <td>-6.5213</td>\n",
       "      <td>8.2675</td>\n",
       "      <td>14.7222</td>\n",
       "      <td>0.3965</td>\n",
       "    </tr>\n",
       "    <tr>\n",
       "      <th>3</th>\n",
       "      <td>train_3</td>\n",
       "      <td>0</td>\n",
       "      <td>11.0604</td>\n",
       "      <td>-2.1518</td>\n",
       "      <td>8.9522</td>\n",
       "      <td>7.1957</td>\n",
       "      <td>12.5846</td>\n",
       "      <td>-1.8361</td>\n",
       "      <td>5.8428</td>\n",
       "      <td>14.9250</td>\n",
       "      <td>...</td>\n",
       "      <td>4.4666</td>\n",
       "      <td>4.7433</td>\n",
       "      <td>0.7178</td>\n",
       "      <td>1.4214</td>\n",
       "      <td>23.0347</td>\n",
       "      <td>-1.2706</td>\n",
       "      <td>-2.9275</td>\n",
       "      <td>10.2922</td>\n",
       "      <td>17.9697</td>\n",
       "      <td>-8.9996</td>\n",
       "    </tr>\n",
       "    <tr>\n",
       "      <th>4</th>\n",
       "      <td>train_4</td>\n",
       "      <td>0</td>\n",
       "      <td>9.8369</td>\n",
       "      <td>-1.4834</td>\n",
       "      <td>12.8746</td>\n",
       "      <td>6.6375</td>\n",
       "      <td>12.2772</td>\n",
       "      <td>2.4486</td>\n",
       "      <td>5.9405</td>\n",
       "      <td>19.2514</td>\n",
       "      <td>...</td>\n",
       "      <td>-1.4905</td>\n",
       "      <td>9.5214</td>\n",
       "      <td>-0.1508</td>\n",
       "      <td>9.1942</td>\n",
       "      <td>13.2876</td>\n",
       "      <td>-1.5121</td>\n",
       "      <td>3.9267</td>\n",
       "      <td>9.5031</td>\n",
       "      <td>17.9974</td>\n",
       "      <td>-8.8104</td>\n",
       "    </tr>\n",
       "  </tbody>\n",
       "</table>\n",
       "<p>5 rows × 202 columns</p>\n",
       "</div>"
      ],
      "text/plain": [
       "   ID_code  target    var_0   var_1    var_2   var_3    var_4   var_5   var_6  \\\n",
       "0  train_0       0   8.9255 -6.7863  11.9081  5.0930  11.4607 -9.2834  5.1187   \n",
       "1  train_1       0  11.5006 -4.1473  13.8588  5.3890  12.3622  7.0433  5.6208   \n",
       "2  train_2       0   8.6093 -2.7457  12.0805  7.8928  10.5825 -9.0837  6.9427   \n",
       "3  train_3       0  11.0604 -2.1518   8.9522  7.1957  12.5846 -1.8361  5.8428   \n",
       "4  train_4       0   9.8369 -1.4834  12.8746  6.6375  12.2772  2.4486  5.9405   \n",
       "\n",
       "     var_7  ...  var_190  var_191  var_192  var_193  var_194  var_195  \\\n",
       "0  18.6266  ...   4.4354   3.9642   3.1364   1.6910  18.5227  -2.3978   \n",
       "1  16.5338  ...   7.6421   7.7214   2.5837  10.9516  15.4305   2.0339   \n",
       "2  14.6155  ...   2.9057   9.7905   1.6704   1.6858  21.6042   3.1417   \n",
       "3  14.9250  ...   4.4666   4.7433   0.7178   1.4214  23.0347  -1.2706   \n",
       "4  19.2514  ...  -1.4905   9.5214  -0.1508   9.1942  13.2876  -1.5121   \n",
       "\n",
       "   var_196  var_197  var_198  var_199  \n",
       "0   7.8784   8.5635  12.7803  -1.0914  \n",
       "1   8.1267   8.7889  18.3560   1.9518  \n",
       "2  -6.5213   8.2675  14.7222   0.3965  \n",
       "3  -2.9275  10.2922  17.9697  -8.9996  \n",
       "4   3.9267   9.5031  17.9974  -8.8104  \n",
       "\n",
       "[5 rows x 202 columns]"
      ]
     },
     "execution_count": 6,
     "metadata": {},
     "output_type": "execute_result"
    }
   ],
   "source": [
    "txns = pd.read_csv('./train.csv')\n",
    "txns.head()"
   ]
  },
  {
   "cell_type": "code",
   "execution_count": 7,
   "id": "535610e8-fed7-4bdd-be2d-2ec290f1fc99",
   "metadata": {
    "execution": {
     "iopub.execute_input": "2022-04-02T02:38:23.145995Z",
     "iopub.status.busy": "2022-04-02T02:38:23.145820Z",
     "iopub.status.idle": "2022-04-02T02:38:23.370628Z",
     "shell.execute_reply": "2022-04-02T02:38:23.369850Z",
     "shell.execute_reply.started": "2022-04-02T02:38:23.145975Z"
    }
   },
   "outputs": [
    {
     "name": "stdout",
     "output_type": "stream",
     "text": [
      "['var_0', 'var_1', 'var_2', 'var_3', 'var_4', 'var_5', 'var_6', 'var_7', 'var_8', 'var_9', 'var_10', 'var_11', 'var_12', 'var_13', 'var_14', 'var_15', 'var_16', 'var_17', 'var_18', 'var_19', 'var_20', 'var_21', 'var_22', 'var_23', 'var_24', 'var_25', 'var_26', 'var_27', 'var_28', 'var_29', 'var_30', 'var_31', 'var_32', 'var_33', 'var_34', 'var_35', 'var_36', 'var_37', 'var_38', 'var_39', 'var_40', 'var_41', 'var_42', 'var_43', 'var_44', 'var_45', 'var_46', 'var_47', 'var_48', 'var_49', 'var_50', 'var_51', 'var_52', 'var_53', 'var_54', 'var_55', 'var_56', 'var_57', 'var_58', 'var_59', 'var_60', 'var_61', 'var_62', 'var_63', 'var_64', 'var_65', 'var_66', 'var_67', 'var_68', 'var_69', 'var_70', 'var_71', 'var_72', 'var_73', 'var_74', 'var_75', 'var_76', 'var_77', 'var_78', 'var_79', 'var_80', 'var_81', 'var_82', 'var_83', 'var_84', 'var_85', 'var_86', 'var_87', 'var_88', 'var_89', 'var_90', 'var_91', 'var_92', 'var_93', 'var_94', 'var_95', 'var_96', 'var_97', 'var_98', 'var_99', 'var_100', 'var_101', 'var_102', 'var_103', 'var_104', 'var_105', 'var_106', 'var_107', 'var_108', 'var_109', 'var_110', 'var_111', 'var_112', 'var_113', 'var_114', 'var_115', 'var_116', 'var_117', 'var_118', 'var_119', 'var_120', 'var_121', 'var_122', 'var_123', 'var_124', 'var_125', 'var_126', 'var_127', 'var_128', 'var_129', 'var_130', 'var_131', 'var_132', 'var_133', 'var_134', 'var_135', 'var_136', 'var_137', 'var_138', 'var_139', 'var_140', 'var_141', 'var_142', 'var_143', 'var_144', 'var_145', 'var_146', 'var_147', 'var_148', 'var_149', 'var_150', 'var_151', 'var_152', 'var_153', 'var_154', 'var_155', 'var_156', 'var_157', 'var_158', 'var_159', 'var_160', 'var_161', 'var_162', 'var_163', 'var_164', 'var_165', 'var_166', 'var_167', 'var_168', 'var_169', 'var_170', 'var_171', 'var_172', 'var_173', 'var_174', 'var_175', 'var_176', 'var_177', 'var_178', 'var_179', 'var_180', 'var_181', 'var_182', 'var_183', 'var_184', 'var_185', 'var_186', 'var_187', 'var_188', 'var_189', 'var_190', 'var_191', 'var_192', 'var_193', 'var_194', 'var_195', 'var_196', 'var_197', 'var_198', 'var_199']\n"
     ]
    }
   ],
   "source": [
    "properties = list(txns.columns.values)\n",
    "properties.remove('ID_code')\n",
    "properties.remove('target')\n",
    "print(properties)\n",
    "X = txns[properties]\n",
    "y = txns['target']"
   ]
  },
  {
   "cell_type": "code",
   "execution_count": 8,
   "id": "718e49d6-d1b2-463d-8121-110c2fb07558",
   "metadata": {
    "execution": {
     "iopub.execute_input": "2022-04-02T02:38:23.372291Z",
     "iopub.status.busy": "2022-04-02T02:38:23.371958Z",
     "iopub.status.idle": "2022-04-02T02:38:23.391716Z",
     "shell.execute_reply": "2022-04-02T02:38:23.391097Z",
     "shell.execute_reply.started": "2022-04-02T02:38:23.372267Z"
    }
   },
   "outputs": [
    {
     "data": {
      "text/html": [
       "<div>\n",
       "<style scoped>\n",
       "    .dataframe tbody tr th:only-of-type {\n",
       "        vertical-align: middle;\n",
       "    }\n",
       "\n",
       "    .dataframe tbody tr th {\n",
       "        vertical-align: top;\n",
       "    }\n",
       "\n",
       "    .dataframe thead th {\n",
       "        text-align: right;\n",
       "    }\n",
       "</style>\n",
       "<table border=\"1\" class=\"dataframe\">\n",
       "  <thead>\n",
       "    <tr style=\"text-align: right;\">\n",
       "      <th></th>\n",
       "      <th>var_0</th>\n",
       "      <th>var_1</th>\n",
       "      <th>var_2</th>\n",
       "      <th>var_3</th>\n",
       "      <th>var_4</th>\n",
       "      <th>var_5</th>\n",
       "      <th>var_6</th>\n",
       "      <th>var_7</th>\n",
       "      <th>var_8</th>\n",
       "      <th>var_9</th>\n",
       "      <th>...</th>\n",
       "      <th>var_190</th>\n",
       "      <th>var_191</th>\n",
       "      <th>var_192</th>\n",
       "      <th>var_193</th>\n",
       "      <th>var_194</th>\n",
       "      <th>var_195</th>\n",
       "      <th>var_196</th>\n",
       "      <th>var_197</th>\n",
       "      <th>var_198</th>\n",
       "      <th>var_199</th>\n",
       "    </tr>\n",
       "  </thead>\n",
       "  <tbody>\n",
       "    <tr>\n",
       "      <th>0</th>\n",
       "      <td>8.9255</td>\n",
       "      <td>-6.7863</td>\n",
       "      <td>11.9081</td>\n",
       "      <td>5.0930</td>\n",
       "      <td>11.4607</td>\n",
       "      <td>-9.2834</td>\n",
       "      <td>5.1187</td>\n",
       "      <td>18.6266</td>\n",
       "      <td>-4.9200</td>\n",
       "      <td>5.7470</td>\n",
       "      <td>...</td>\n",
       "      <td>4.4354</td>\n",
       "      <td>3.9642</td>\n",
       "      <td>3.1364</td>\n",
       "      <td>1.6910</td>\n",
       "      <td>18.5227</td>\n",
       "      <td>-2.3978</td>\n",
       "      <td>7.8784</td>\n",
       "      <td>8.5635</td>\n",
       "      <td>12.7803</td>\n",
       "      <td>-1.0914</td>\n",
       "    </tr>\n",
       "    <tr>\n",
       "      <th>1</th>\n",
       "      <td>11.5006</td>\n",
       "      <td>-4.1473</td>\n",
       "      <td>13.8588</td>\n",
       "      <td>5.3890</td>\n",
       "      <td>12.3622</td>\n",
       "      <td>7.0433</td>\n",
       "      <td>5.6208</td>\n",
       "      <td>16.5338</td>\n",
       "      <td>3.1468</td>\n",
       "      <td>8.0851</td>\n",
       "      <td>...</td>\n",
       "      <td>7.6421</td>\n",
       "      <td>7.7214</td>\n",
       "      <td>2.5837</td>\n",
       "      <td>10.9516</td>\n",
       "      <td>15.4305</td>\n",
       "      <td>2.0339</td>\n",
       "      <td>8.1267</td>\n",
       "      <td>8.7889</td>\n",
       "      <td>18.3560</td>\n",
       "      <td>1.9518</td>\n",
       "    </tr>\n",
       "    <tr>\n",
       "      <th>2</th>\n",
       "      <td>8.6093</td>\n",
       "      <td>-2.7457</td>\n",
       "      <td>12.0805</td>\n",
       "      <td>7.8928</td>\n",
       "      <td>10.5825</td>\n",
       "      <td>-9.0837</td>\n",
       "      <td>6.9427</td>\n",
       "      <td>14.6155</td>\n",
       "      <td>-4.9193</td>\n",
       "      <td>5.9525</td>\n",
       "      <td>...</td>\n",
       "      <td>2.9057</td>\n",
       "      <td>9.7905</td>\n",
       "      <td>1.6704</td>\n",
       "      <td>1.6858</td>\n",
       "      <td>21.6042</td>\n",
       "      <td>3.1417</td>\n",
       "      <td>-6.5213</td>\n",
       "      <td>8.2675</td>\n",
       "      <td>14.7222</td>\n",
       "      <td>0.3965</td>\n",
       "    </tr>\n",
       "    <tr>\n",
       "      <th>3</th>\n",
       "      <td>11.0604</td>\n",
       "      <td>-2.1518</td>\n",
       "      <td>8.9522</td>\n",
       "      <td>7.1957</td>\n",
       "      <td>12.5846</td>\n",
       "      <td>-1.8361</td>\n",
       "      <td>5.8428</td>\n",
       "      <td>14.9250</td>\n",
       "      <td>-5.8609</td>\n",
       "      <td>8.2450</td>\n",
       "      <td>...</td>\n",
       "      <td>4.4666</td>\n",
       "      <td>4.7433</td>\n",
       "      <td>0.7178</td>\n",
       "      <td>1.4214</td>\n",
       "      <td>23.0347</td>\n",
       "      <td>-1.2706</td>\n",
       "      <td>-2.9275</td>\n",
       "      <td>10.2922</td>\n",
       "      <td>17.9697</td>\n",
       "      <td>-8.9996</td>\n",
       "    </tr>\n",
       "    <tr>\n",
       "      <th>4</th>\n",
       "      <td>9.8369</td>\n",
       "      <td>-1.4834</td>\n",
       "      <td>12.8746</td>\n",
       "      <td>6.6375</td>\n",
       "      <td>12.2772</td>\n",
       "      <td>2.4486</td>\n",
       "      <td>5.9405</td>\n",
       "      <td>19.2514</td>\n",
       "      <td>6.2654</td>\n",
       "      <td>7.6784</td>\n",
       "      <td>...</td>\n",
       "      <td>-1.4905</td>\n",
       "      <td>9.5214</td>\n",
       "      <td>-0.1508</td>\n",
       "      <td>9.1942</td>\n",
       "      <td>13.2876</td>\n",
       "      <td>-1.5121</td>\n",
       "      <td>3.9267</td>\n",
       "      <td>9.5031</td>\n",
       "      <td>17.9974</td>\n",
       "      <td>-8.8104</td>\n",
       "    </tr>\n",
       "  </tbody>\n",
       "</table>\n",
       "<p>5 rows × 200 columns</p>\n",
       "</div>"
      ],
      "text/plain": [
       "     var_0   var_1    var_2   var_3    var_4   var_5   var_6    var_7   var_8  \\\n",
       "0   8.9255 -6.7863  11.9081  5.0930  11.4607 -9.2834  5.1187  18.6266 -4.9200   \n",
       "1  11.5006 -4.1473  13.8588  5.3890  12.3622  7.0433  5.6208  16.5338  3.1468   \n",
       "2   8.6093 -2.7457  12.0805  7.8928  10.5825 -9.0837  6.9427  14.6155 -4.9193   \n",
       "3  11.0604 -2.1518   8.9522  7.1957  12.5846 -1.8361  5.8428  14.9250 -5.8609   \n",
       "4   9.8369 -1.4834  12.8746  6.6375  12.2772  2.4486  5.9405  19.2514  6.2654   \n",
       "\n",
       "    var_9  ...  var_190  var_191  var_192  var_193  var_194  var_195  var_196  \\\n",
       "0  5.7470  ...   4.4354   3.9642   3.1364   1.6910  18.5227  -2.3978   7.8784   \n",
       "1  8.0851  ...   7.6421   7.7214   2.5837  10.9516  15.4305   2.0339   8.1267   \n",
       "2  5.9525  ...   2.9057   9.7905   1.6704   1.6858  21.6042   3.1417  -6.5213   \n",
       "3  8.2450  ...   4.4666   4.7433   0.7178   1.4214  23.0347  -1.2706  -2.9275   \n",
       "4  7.6784  ...  -1.4905   9.5214  -0.1508   9.1942  13.2876  -1.5121   3.9267   \n",
       "\n",
       "   var_197  var_198  var_199  \n",
       "0   8.5635  12.7803  -1.0914  \n",
       "1   8.7889  18.3560   1.9518  \n",
       "2   8.2675  14.7222   0.3965  \n",
       "3  10.2922  17.9697  -8.9996  \n",
       "4   9.5031  17.9974  -8.8104  \n",
       "\n",
       "[5 rows x 200 columns]"
      ]
     },
     "execution_count": 8,
     "metadata": {},
     "output_type": "execute_result"
    }
   ],
   "source": [
    "X.head()"
   ]
  },
  {
   "cell_type": "code",
   "execution_count": 9,
   "id": "9760bbec-4c93-4214-ab33-b0d060e1c28c",
   "metadata": {
    "execution": {
     "iopub.execute_input": "2022-04-02T02:38:23.392902Z",
     "iopub.status.busy": "2022-04-02T02:38:23.392747Z",
     "iopub.status.idle": "2022-04-02T02:38:23.397485Z",
     "shell.execute_reply": "2022-04-02T02:38:23.396763Z",
     "shell.execute_reply.started": "2022-04-02T02:38:23.392884Z"
    }
   },
   "outputs": [
    {
     "data": {
      "text/plain": [
       "0    0\n",
       "1    0\n",
       "2    0\n",
       "3    0\n",
       "4    0\n",
       "Name: target, dtype: int64"
      ]
     },
     "execution_count": 9,
     "metadata": {},
     "output_type": "execute_result"
    }
   ],
   "source": [
    "y.head()"
   ]
  },
  {
   "cell_type": "markdown",
   "id": "34ce9879-3069-4bc5-a295-dcf3ae5ecb52",
   "metadata": {},
   "source": [
    "## SMOTE - Minority Oversampling"
   ]
  },
  {
   "cell_type": "code",
   "execution_count": 10,
   "id": "4b845ea5-5f3f-45bd-a3fe-b303705a75c7",
   "metadata": {
    "execution": {
     "iopub.execute_input": "2022-04-02T02:38:23.398641Z",
     "iopub.status.busy": "2022-04-02T02:38:23.398492Z",
     "iopub.status.idle": "2022-04-02T02:38:37.853483Z",
     "shell.execute_reply": "2022-04-02T02:38:37.852708Z",
     "shell.execute_reply.started": "2022-04-02T02:38:23.398624Z"
    }
   },
   "outputs": [
    {
     "data": {
      "text/plain": [
       "[]"
      ]
     },
     "execution_count": 10,
     "metadata": {},
     "output_type": "execute_result"
    },
    {
     "data": {
      "image/png": "[encoded data removed]",
      "text/plain": [
       "<Figure size 432x288 with 1 Axes>"
      ]
     },
     "metadata": {
      "needs_background": "light"
     },
     "output_type": "display_data"
    }
   ],
   "source": [
    "over = SMOTE(sampling_strategy=0.7, random_state=11, k_neighbors=7)\n",
    "under = RandomUnderSampler(sampling_strategy=1, random_state=11)\n",
    "\n",
    "steps = [('o', over), ('u', under)]\n",
    "pipeline = Pipeline(steps=steps)\n",
    "\n",
    "# transform the dataset\n",
    "X, y = pipeline.fit_resample(X, y)\n",
    "\n",
    "# Check the class distribution\n",
    "pd.concat([X, y], axis=1).pivot_table(index='target', aggfunc='size').plot(kind='bar', title = 'Class distribution').plot()"
   ]
  },
  {
   "cell_type": "code",
   "execution_count": 11,
   "id": "bae509f3-ab4a-4e77-b7d4-ae1a3bb45748",
   "metadata": {
    "execution": {
     "iopub.execute_input": "2022-04-02T02:38:37.855232Z",
     "iopub.status.busy": "2022-04-02T02:38:37.855065Z",
     "iopub.status.idle": "2022-04-02T02:38:38.407318Z",
     "shell.execute_reply": "2022-04-02T02:38:38.406440Z",
     "shell.execute_reply.started": "2022-04-02T02:38:37.855212Z"
    }
   },
   "outputs": [],
   "source": [
    "# Split the data into training and test set with a ration of 0.7:0.3 and constant random\n",
    "X_train, X_test, y_train, y_test = train_test_split(X, y, test_size=0.3, random_state=11, stratify=y)"
   ]
  },
  {
   "cell_type": "markdown",
   "id": "29a0f1c5-72c1-4660-a2da-48e553951f99",
   "metadata": {},
   "source": [
    "## Model Creation, Compiling & Fitting"
   ]
  },
  {
   "cell_type": "code",
   "execution_count": 12,
   "id": "5e5e6ef0-99ce-42a8-90d1-6726d659ccc9",
   "metadata": {
    "execution": {
     "iopub.execute_input": "2022-04-02T02:38:38.408512Z",
     "iopub.status.busy": "2022-04-02T02:38:38.408328Z",
     "iopub.status.idle": "2022-04-02T03:06:10.368442Z",
     "shell.execute_reply": "2022-04-02T03:06:10.367749Z",
     "shell.execute_reply.started": "2022-04-02T02:38:38.408489Z"
    }
   },
   "outputs": [
    {
     "name": "stderr",
     "output_type": "stream",
     "text": [
      "2022-04-02 02:38:38.463273: I tensorflow/stream_executor/cuda/cuda_gpu_executor.cc:1052] successful NUMA node read from SysFS had negative value (-1), but there must be at least one NUMA node, so returning NUMA node zero\n",
      "2022-04-02 02:38:38.505720: I tensorflow/stream_executor/cuda/cuda_gpu_executor.cc:1052] successful NUMA node read from SysFS had negative value (-1), but there must be at least one NUMA node, so returning NUMA node zero\n",
      "2022-04-02 02:38:38.506049: I tensorflow/stream_executor/cuda/cuda_gpu_executor.cc:1052] successful NUMA node read from SysFS had negative value (-1), but there must be at least one NUMA node, so returning NUMA node zero\n",
      "2022-04-02 02:38:38.508903: I tensorflow/stream_executor/cuda/cuda_gpu_executor.cc:1052] successful NUMA node read from SysFS had negative value (-1), but there must be at least one NUMA node, so returning NUMA node zero\n",
      "2022-04-02 02:38:38.509193: I tensorflow/stream_executor/cuda/cuda_gpu_executor.cc:1052] successful NUMA node read from SysFS had negative value (-1), but there must be at least one NUMA node, so returning NUMA node zero\n",
      "2022-04-02 02:38:38.509424: I tensorflow/stream_executor/cuda/cuda_gpu_executor.cc:1052] successful NUMA node read from SysFS had negative value (-1), but there must be at least one NUMA node, so returning NUMA node zero\n",
      "2022-04-02 02:38:41.234713: I tensorflow/stream_executor/cuda/cuda_gpu_executor.cc:1052] successful NUMA node read from SysFS had negative value (-1), but there must be at least one NUMA node, so returning NUMA node zero\n",
      "2022-04-02 02:38:41.235076: I tensorflow/stream_executor/cuda/cuda_gpu_executor.cc:1052] successful NUMA node read from SysFS had negative value (-1), but there must be at least one NUMA node, so returning NUMA node zero\n",
      "2022-04-02 02:38:41.235320: I tensorflow/stream_executor/cuda/cuda_gpu_executor.cc:1052] successful NUMA node read from SysFS had negative value (-1), but there must be at least one NUMA node, so returning NUMA node zero\n",
      "2022-04-02 02:38:41.235528: I tensorflow/core/common_runtime/gpu/gpu_device.cc:1525] Created device /job:localhost/replica:0/task:0/device:GPU:0 with 14803 MB memory:  -> device: 0, name: Quadro RTX 5000, pci bus id: 0000:00:05.0, compute capability: 7.5\n"
     ]
    },
    {
     "name": "stdout",
     "output_type": "stream",
     "text": [
      "Epoch 1/50\n",
      "5510/5510 [==============================] - 36s 6ms/step - loss: 0.6758 - auc: 0.5869 - Accuracy: 0.5527 - precision: 0.5334 - recall: 0.8410 - val_loss: 0.5750 - val_auc: 0.8315 - val_Accuracy: 0.7053 - val_precision: 0.6416 - val_recall: 0.9302\n",
      "Epoch 2/50\n",
      "5510/5510 [==============================] - 32s 6ms/step - loss: 0.5646 - auc: 0.7796 - Accuracy: 0.7118 - precision: 0.6735 - recall: 0.8223 - val_loss: 0.4844 - val_auc: 0.8535 - val_Accuracy: 0.7632 - val_precision: 0.7168 - val_recall: 0.8705\n",
      "Epoch 3/50\n",
      "5510/5510 [==============================] - 33s 6ms/step - loss: 0.5252 - auc: 0.8231 - Accuracy: 0.7486 - precision: 0.7120 - recall: 0.8348 - val_loss: 0.4824 - val_auc: 0.8606 - val_Accuracy: 0.7776 - val_precision: 0.7942 - val_recall: 0.7495\n",
      "Epoch 4/50\n",
      "5510/5510 [==============================] - 32s 6ms/step - loss: 0.5115 - auc: 0.8342 - Accuracy: 0.7576 - precision: 0.7222 - recall: 0.8373 - val_loss: 0.4626 - val_auc: 0.8712 - val_Accuracy: 0.7879 - val_precision: 0.7500 - val_recall: 0.8637\n",
      "Epoch 5/50\n",
      "5510/5510 [==============================] - 32s 6ms/step - loss: 0.5043 - auc: 0.8399 - Accuracy: 0.7629 - precision: 0.7275 - recall: 0.8405 - val_loss: 0.4664 - val_auc: 0.8723 - val_Accuracy: 0.7893 - val_precision: 0.8106 - val_recall: 0.7550\n",
      "Epoch 6/50\n",
      "5510/5510 [==============================] - 32s 6ms/step - loss: 0.4972 - auc: 0.8442 - Accuracy: 0.7668 - precision: 0.7320 - recall: 0.8419 - val_loss: 0.4507 - val_auc: 0.8743 - val_Accuracy: 0.7931 - val_precision: 0.7653 - val_recall: 0.8454\n",
      "Epoch 7/50\n",
      "5510/5510 [==============================] - 32s 6ms/step - loss: 0.4952 - auc: 0.8455 - Accuracy: 0.7692 - precision: 0.7345 - recall: 0.8432 - val_loss: 0.4420 - val_auc: 0.8814 - val_Accuracy: 0.8021 - val_precision: 0.7736 - val_recall: 0.8543\n",
      "Epoch 8/50\n",
      "5510/5510 [==============================] - 33s 6ms/step - loss: 0.4912 - auc: 0.8485 - Accuracy: 0.7717 - precision: 0.7374 - recall: 0.8438 - val_loss: 0.4416 - val_auc: 0.8843 - val_Accuracy: 0.8054 - val_precision: 0.8099 - val_recall: 0.7982\n",
      "Epoch 9/50\n",
      "5510/5510 [==============================] - 32s 6ms/step - loss: 0.4881 - auc: 0.8505 - Accuracy: 0.7728 - precision: 0.7388 - recall: 0.8440 - val_loss: 0.4440 - val_auc: 0.8827 - val_Accuracy: 0.8024 - val_precision: 0.7718 - val_recall: 0.8587\n",
      "Epoch 10/50\n",
      "5510/5510 [==============================] - 33s 6ms/step - loss: 0.4860 - auc: 0.8515 - Accuracy: 0.7744 - precision: 0.7403 - recall: 0.8453 - val_loss: 0.4349 - val_auc: 0.8848 - val_Accuracy: 0.8056 - val_precision: 0.7888 - val_recall: 0.8348\n",
      "Epoch 11/50\n",
      "5510/5510 [==============================] - 32s 6ms/step - loss: 0.4854 - auc: 0.8522 - Accuracy: 0.7759 - precision: 0.7411 - recall: 0.8479 - val_loss: 0.4369 - val_auc: 0.8839 - val_Accuracy: 0.8023 - val_precision: 0.7648 - val_recall: 0.8731\n",
      "Epoch 12/50\n",
      "5510/5510 [==============================] - 33s 6ms/step - loss: 0.4827 - auc: 0.8544 - Accuracy: 0.7773 - precision: 0.7429 - recall: 0.8479 - val_loss: 0.4346 - val_auc: 0.8842 - val_Accuracy: 0.8013 - val_precision: 0.7631 - val_recall: 0.8740\n",
      "Epoch 13/50\n",
      "5510/5510 [==============================] - 35s 6ms/step - loss: 0.4804 - auc: 0.8552 - Accuracy: 0.7785 - precision: 0.7430 - recall: 0.8515 - val_loss: 0.4411 - val_auc: 0.8844 - val_Accuracy: 0.8031 - val_precision: 0.8118 - val_recall: 0.7892\n",
      "Epoch 14/50\n",
      "5510/5510 [==============================] - 32s 6ms/step - loss: 0.4802 - auc: 0.8560 - Accuracy: 0.7782 - precision: 0.7430 - recall: 0.8506 - val_loss: 0.4307 - val_auc: 0.8873 - val_Accuracy: 0.8113 - val_precision: 0.7966 - val_recall: 0.8362\n",
      "Epoch 15/50\n",
      "5510/5510 [==============================] - 32s 6ms/step - loss: 0.4789 - auc: 0.8559 - Accuracy: 0.7790 - precision: 0.7440 - recall: 0.8507 - val_loss: 0.4307 - val_auc: 0.8882 - val_Accuracy: 0.8118 - val_precision: 0.7903 - val_recall: 0.8487\n",
      "Epoch 16/50\n",
      "5510/5510 [==============================] - 33s 6ms/step - loss: 0.4771 - auc: 0.8578 - Accuracy: 0.7807 - precision: 0.7455 - recall: 0.8523 - val_loss: 0.4355 - val_auc: 0.8865 - val_Accuracy: 0.8000 - val_precision: 0.7565 - val_recall: 0.8846\n",
      "Epoch 17/50\n",
      "5510/5510 [==============================] - 32s 6ms/step - loss: 0.4770 - auc: 0.8577 - Accuracy: 0.7823 - precision: 0.7467 - recall: 0.8544 - val_loss: 0.4320 - val_auc: 0.8882 - val_Accuracy: 0.8070 - val_precision: 0.7695 - val_recall: 0.8765\n",
      "Epoch 18/50\n",
      "5510/5510 [==============================] - 32s 6ms/step - loss: 0.4745 - auc: 0.8595 - Accuracy: 0.7830 - precision: 0.7467 - recall: 0.8564 - val_loss: 0.4262 - val_auc: 0.8899 - val_Accuracy: 0.8120 - val_precision: 0.7810 - val_recall: 0.8672\n",
      "Epoch 19/50\n",
      "5510/5510 [==============================] - 35s 6ms/step - loss: 0.4744 - auc: 0.8590 - Accuracy: 0.7821 - precision: 0.7459 - recall: 0.8555 - val_loss: 0.4259 - val_auc: 0.8894 - val_Accuracy: 0.8101 - val_precision: 0.7950 - val_recall: 0.8357\n",
      "Epoch 20/50\n",
      "5510/5510 [==============================] - 32s 6ms/step - loss: 0.4727 - auc: 0.8608 - Accuracy: 0.7835 - precision: 0.7476 - recall: 0.8561 - val_loss: 0.4298 - val_auc: 0.8911 - val_Accuracy: 0.8085 - val_precision: 0.7660 - val_recall: 0.8882\n",
      "Epoch 21/50\n",
      "5510/5510 [==============================] - 35s 6ms/step - loss: 0.4734 - auc: 0.8605 - Accuracy: 0.7828 - precision: 0.7464 - recall: 0.8567 - val_loss: 0.4266 - val_auc: 0.8907 - val_Accuracy: 0.8085 - val_precision: 0.7693 - val_recall: 0.8814\n",
      "Epoch 22/50\n",
      "5510/5510 [==============================] - 34s 6ms/step - loss: 0.4719 - auc: 0.8613 - Accuracy: 0.7853 - precision: 0.7486 - recall: 0.8592 - val_loss: 0.4212 - val_auc: 0.8920 - val_Accuracy: 0.8145 - val_precision: 0.8020 - val_recall: 0.8352\n",
      "Epoch 23/50\n",
      "5510/5510 [==============================] - 34s 6ms/step - loss: 0.4706 - auc: 0.8618 - Accuracy: 0.7842 - precision: 0.7475 - recall: 0.8584 - val_loss: 0.4239 - val_auc: 0.8929 - val_Accuracy: 0.8170 - val_precision: 0.7937 - val_recall: 0.8567\n",
      "Epoch 24/50\n",
      "5510/5510 [==============================] - 32s 6ms/step - loss: 0.4701 - auc: 0.8621 - Accuracy: 0.7842 - precision: 0.7471 - recall: 0.8591 - val_loss: 0.4214 - val_auc: 0.8917 - val_Accuracy: 0.8134 - val_precision: 0.8083 - val_recall: 0.8216\n",
      "Epoch 25/50\n",
      "5510/5510 [==============================] - 32s 6ms/step - loss: 0.4681 - auc: 0.8632 - Accuracy: 0.7870 - precision: 0.7497 - recall: 0.8619 - val_loss: 0.4206 - val_auc: 0.8931 - val_Accuracy: 0.8166 - val_precision: 0.8089 - val_recall: 0.8292\n",
      "Epoch 26/50\n",
      "5510/5510 [==============================] - 32s 6ms/step - loss: 0.4679 - auc: 0.8633 - Accuracy: 0.7864 - precision: 0.7493 - recall: 0.8607 - val_loss: 0.4169 - val_auc: 0.8932 - val_Accuracy: 0.8143 - val_precision: 0.7899 - val_recall: 0.8564\n",
      "Epoch 27/50\n",
      "5510/5510 [==============================] - 32s 6ms/step - loss: 0.4676 - auc: 0.8638 - Accuracy: 0.7877 - precision: 0.7502 - recall: 0.8628 - val_loss: 0.4265 - val_auc: 0.8934 - val_Accuracy: 0.8127 - val_precision: 0.8261 - val_recall: 0.7922\n",
      "Epoch 28/50\n",
      "5510/5510 [==============================] - 32s 6ms/step - loss: 0.4656 - auc: 0.8648 - Accuracy: 0.7875 - precision: 0.7501 - recall: 0.8622 - val_loss: 0.4195 - val_auc: 0.8951 - val_Accuracy: 0.8163 - val_precision: 0.8191 - val_recall: 0.8120\n",
      "Epoch 29/50\n",
      "5510/5510 [==============================] - 33s 6ms/step - loss: 0.4661 - auc: 0.8650 - Accuracy: 0.7876 - precision: 0.7500 - recall: 0.8628 - val_loss: 0.4202 - val_auc: 0.8956 - val_Accuracy: 0.8180 - val_precision: 0.8144 - val_recall: 0.8238\n",
      "Epoch 30/50\n",
      "5510/5510 [==============================] - 33s 6ms/step - loss: 0.4652 - auc: 0.8652 - Accuracy: 0.7885 - precision: 0.7503 - recall: 0.8650 - val_loss: 0.4345 - val_auc: 0.8955 - val_Accuracy: 0.7975 - val_precision: 0.7372 - val_recall: 0.9246\n",
      "Epoch 31/50\n",
      "5510/5510 [==============================] - 36s 6ms/step - loss: 0.4658 - auc: 0.8651 - Accuracy: 0.7880 - precision: 0.7499 - recall: 0.8643 - val_loss: 0.4155 - val_auc: 0.8958 - val_Accuracy: 0.8182 - val_precision: 0.7936 - val_recall: 0.8601\n",
      "Epoch 32/50\n",
      "5510/5510 [==============================] - 32s 6ms/step - loss: 0.4639 - auc: 0.8662 - Accuracy: 0.7885 - precision: 0.7509 - recall: 0.8636 - val_loss: 0.4290 - val_auc: 0.8902 - val_Accuracy: 0.8129 - val_precision: 0.7981 - val_recall: 0.8377\n",
      "Epoch 33/50\n",
      "5510/5510 [==============================] - 33s 6ms/step - loss: 0.4630 - auc: 0.8668 - Accuracy: 0.7899 - precision: 0.7521 - recall: 0.8650 - val_loss: 0.4179 - val_auc: 0.8960 - val_Accuracy: 0.8146 - val_precision: 0.7719 - val_recall: 0.8931\n",
      "Epoch 34/50\n",
      "5510/5510 [==============================] - 33s 6ms/step - loss: 0.4630 - auc: 0.8667 - Accuracy: 0.7903 - precision: 0.7528 - recall: 0.8647 - val_loss: 0.4189 - val_auc: 0.8943 - val_Accuracy: 0.8148 - val_precision: 0.8101 - val_recall: 0.8225\n",
      "Epoch 35/50\n",
      "5510/5510 [==============================] - 32s 6ms/step - loss: 0.4638 - auc: 0.8661 - Accuracy: 0.7890 - precision: 0.7511 - recall: 0.8642 - val_loss: 0.4189 - val_auc: 0.8960 - val_Accuracy: 0.8134 - val_precision: 0.7680 - val_recall: 0.8980\n",
      "Epoch 36/50\n",
      "5510/5510 [==============================] - 32s 6ms/step - loss: 0.4615 - auc: 0.8675 - Accuracy: 0.7908 - precision: 0.7531 - recall: 0.8651 - val_loss: 0.4144 - val_auc: 0.8975 - val_Accuracy: 0.8164 - val_precision: 0.7766 - val_recall: 0.8882\n",
      "Epoch 37/50\n",
      "5510/5510 [==============================] - 35s 6ms/step - loss: 0.4616 - auc: 0.8676 - Accuracy: 0.7916 - precision: 0.7542 - recall: 0.8652 - val_loss: 0.4183 - val_auc: 0.8961 - val_Accuracy: 0.8163 - val_precision: 0.7773 - val_recall: 0.8865\n",
      "Epoch 38/50\n",
      "5510/5510 [==============================] - 32s 6ms/step - loss: 0.4611 - auc: 0.8678 - Accuracy: 0.7906 - precision: 0.7528 - recall: 0.8655 - val_loss: 0.4124 - val_auc: 0.8962 - val_Accuracy: 0.8168 - val_precision: 0.7933 - val_recall: 0.8567\n",
      "Epoch 39/50\n",
      "5510/5510 [==============================] - 32s 6ms/step - loss: 0.4602 - auc: 0.8684 - Accuracy: 0.7918 - precision: 0.7539 - recall: 0.8664 - val_loss: 0.4343 - val_auc: 0.8973 - val_Accuracy: 0.8125 - val_precision: 0.8303 - val_recall: 0.7857\n",
      "Epoch 40/50\n",
      "5510/5510 [==============================] - 33s 6ms/step - loss: 0.4616 - auc: 0.8675 - Accuracy: 0.7917 - precision: 0.7534 - recall: 0.8673 - val_loss: 0.4264 - val_auc: 0.8959 - val_Accuracy: 0.8139 - val_precision: 0.8323 - val_recall: 0.7861\n",
      "Epoch 41/50\n",
      "5510/5510 [==============================] - 33s 6ms/step - loss: 0.4597 - auc: 0.8683 - Accuracy: 0.7918 - precision: 0.7529 - recall: 0.8686 - val_loss: 0.4184 - val_auc: 0.8957 - val_Accuracy: 0.8183 - val_precision: 0.7894 - val_recall: 0.8682\n",
      "Epoch 42/50\n",
      "5510/5510 [==============================] - 36s 6ms/step - loss: 0.4607 - auc: 0.8677 - Accuracy: 0.7915 - precision: 0.7524 - recall: 0.8691 - val_loss: 0.4162 - val_auc: 0.8963 - val_Accuracy: 0.8185 - val_precision: 0.8031 - val_recall: 0.8440\n",
      "Epoch 43/50\n",
      "5510/5510 [==============================] - 33s 6ms/step - loss: 0.4597 - auc: 0.8682 - Accuracy: 0.7912 - precision: 0.7530 - recall: 0.8667 - val_loss: 0.4104 - val_auc: 0.8973 - val_Accuracy: 0.8215 - val_precision: 0.7999 - val_recall: 0.8576\n",
      "Epoch 44/50\n",
      "5510/5510 [==============================] - 32s 6ms/step - loss: 0.4611 - auc: 0.8679 - Accuracy: 0.7906 - precision: 0.7521 - recall: 0.8670 - val_loss: 0.4174 - val_auc: 0.8954 - val_Accuracy: 0.8130 - val_precision: 0.7732 - val_recall: 0.8859\n",
      "Epoch 45/50\n",
      "5510/5510 [==============================] - 36s 6ms/step - loss: 0.4599 - auc: 0.8684 - Accuracy: 0.7913 - precision: 0.7526 - recall: 0.8678 - val_loss: 0.4119 - val_auc: 0.8976 - val_Accuracy: 0.8192 - val_precision: 0.7818 - val_recall: 0.8855\n",
      "Epoch 46/50\n",
      "5510/5510 [==============================] - 33s 6ms/step - loss: 0.4586 - auc: 0.8693 - Accuracy: 0.7928 - precision: 0.7542 - recall: 0.8689 - val_loss: 0.4099 - val_auc: 0.8993 - val_Accuracy: 0.8255 - val_precision: 0.8000 - val_recall: 0.8679\n",
      "Epoch 47/50\n",
      "5510/5510 [==============================] - 33s 6ms/step - loss: 0.4575 - auc: 0.8697 - Accuracy: 0.7917 - precision: 0.7531 - recall: 0.8678 - val_loss: 0.4142 - val_auc: 0.8987 - val_Accuracy: 0.8144 - val_precision: 0.7674 - val_recall: 0.9022\n",
      "Epoch 48/50\n",
      "5510/5510 [==============================] - 32s 6ms/step - loss: 0.4575 - auc: 0.8701 - Accuracy: 0.7927 - precision: 0.7543 - recall: 0.8682 - val_loss: 0.4065 - val_auc: 0.8979 - val_Accuracy: 0.8212 - val_precision: 0.7964 - val_recall: 0.8630\n",
      "Epoch 49/50\n",
      "5510/5510 [==============================] - 32s 6ms/step - loss: 0.4587 - auc: 0.8689 - Accuracy: 0.7914 - precision: 0.7528 - recall: 0.8676 - val_loss: 0.4163 - val_auc: 0.8988 - val_Accuracy: 0.8200 - val_precision: 0.8208 - val_recall: 0.8189\n",
      "Epoch 50/50\n",
      "5510/5510 [==============================] - 32s 6ms/step - loss: 0.4563 - auc: 0.8705 - Accuracy: 0.7945 - precision: 0.7556 - recall: 0.8704 - val_loss: 0.4122 - val_auc: 0.8988 - val_Accuracy: 0.8217 - val_precision: 0.7888 - val_recall: 0.8786\n"
     ]
    }
   ],
   "source": [
    "earlyStopping = tf.keras.callbacks.EarlyStopping(monitor='loss', patience=3)\n",
    "\n",
    "model = keras.Sequential([\n",
    "        keras.layers.Flatten(input_shape=(200,1)),\n",
    "        keras.layers.Dense(128, activation='relu'),\n",
    "        keras.layers.Dropout(0.4),\n",
    "        keras.layers.Dense(8, activation='relu'),\n",
    "        keras.layers.Dropout(0.4),        \n",
    "        keras.layers.Dense(1, activation='sigmoid'),\n",
    "])\n",
    "\n",
    "model.compile(optimizer='adam',\n",
    "                  loss='binary_crossentropy',\n",
    "                  metrics=['AUC', \n",
    "                           'Accuracy',\n",
    "                           'Precision',\n",
    "                           'Recall'])\n",
    "\n",
    "history = model.fit(X_train, y_train, epochs=50, validation_data=(X_test, y_test),\n",
    "                  callbacks=[earlyStopping])"
   ]
  },
  {
   "cell_type": "markdown",
   "id": "fd1985c7-7607-4c44-b886-5c86956e6ad9",
   "metadata": {},
   "source": [
    "## Evaluate the Model"
   ]
  },
  {
   "cell_type": "markdown",
   "id": "d02e6464-5977-4958-99d9-07623fcb90ab",
   "metadata": {},
   "source": [
    "### Training vs Validation Plot - Loss, AUC, Accuracy, Precision, Recall "
   ]
  },
  {
   "cell_type": "code",
   "execution_count": 13,
   "id": "89b8aa93-d768-42e2-8eb7-22863f954075",
   "metadata": {
    "execution": {
     "iopub.execute_input": "2022-04-02T03:06:10.370401Z",
     "iopub.status.busy": "2022-04-02T03:06:10.369800Z",
     "iopub.status.idle": "2022-04-02T03:06:10.932136Z",
     "shell.execute_reply": "2022-04-02T03:06:10.931570Z",
     "shell.execute_reply.started": "2022-04-02T03:06:10.370374Z"
    }
   },
   "outputs": [
    {
     "data": {
      "image/png": "[encoded data removed]",
      "text/plain": [
       "<Figure size 432x288 with 1 Axes>"
      ]
     },
     "metadata": {
      "needs_background": "light"
     },
     "output_type": "display_data"
    },
    {
     "data": {
      "image/png": "[encoded data removed]",
      "text/plain": [
       "<Figure size 432x288 with 1 Axes>"
      ]
     },
     "metadata": {
      "needs_background": "light"
     },
     "output_type": "display_data"
    },
    {
     "data": {
      "image/png": "[encoded data removed]",
      "text/plain": [
       "<Figure size 432x288 with 1 Axes>"
      ]
     },
     "metadata": {
      "needs_background": "light"
     },
     "output_type": "display_data"
    },
    {
     "data": {
      "image/png": "[encoded data removed]",
      "text/plain": [
       "<Figure size 432x288 with 1 Axes>"
      ]
     },
     "metadata": {
      "needs_background": "light"
     },
     "output_type": "display_data"
    },
    {
     "data": {
      "image/png": "[encoded data removed]",
      "text/plain": [
       "<Figure size 432x288 with 1 Axes>"
      ]
     },
     "metadata": {
      "needs_background": "light"
     },
     "output_type": "display_data"
    }
   ],
   "source": [
    "# Loss\n",
    "plt.plot(history.history['loss'])\n",
    "plt.plot(history.history['val_loss'])\n",
    "plt.title('Model Loss')\n",
    "plt.ylabel('loss')\n",
    "plt.xlabel('epoch')\n",
    "plt.legend(['Train', 'Test'], loc='best')\n",
    "plt.show()\n",
    "\n",
    "# AUC\n",
    "plt.plot(history.history['auc'])\n",
    "plt.plot(history.history['val_auc'])\n",
    "plt.title('Model AUC')\n",
    "plt.ylabel('auc')\n",
    "plt.xlabel('epoch')\n",
    "plt.legend(['Train', 'Test'], loc='best')\n",
    "plt.show()\n",
    "\n",
    "# Accuracy\n",
    "plt.plot(history.history['Accuracy'])\n",
    "plt.plot(history.history['val_Accuracy'])\n",
    "plt.title('Model Accuracy')\n",
    "plt.ylabel('accuracy')\n",
    "plt.xlabel('epoch')\n",
    "plt.legend(['Train', 'Test'], loc='best')\n",
    "plt.show()\n",
    "\n",
    "# Precision\n",
    "plt.plot(history.history['precision'])\n",
    "plt.plot(history.history['val_precision'])\n",
    "plt.title('Model Precision')\n",
    "plt.ylabel('precision')\n",
    "plt.xlabel('epoch')\n",
    "plt.legend(['Train', 'Test'], loc='best')\n",
    "plt.show()\n",
    "\n",
    "# Recall\n",
    "plt.plot(history.history['recall'])\n",
    "plt.plot(history.history['val_recall'])\n",
    "plt.title('Model Recall')\n",
    "plt.ylabel('recall')\n",
    "plt.xlabel('epoch')\n",
    "plt.legend(['Train', 'Test'], loc='best')\n",
    "plt.show()\n",
    "\n"
   ]
  },
  {
   "cell_type": "code",
   "execution_count": 14,
   "id": "c54548d5-2254-42e8-8e85-477d2464630b",
   "metadata": {
    "execution": {
     "iopub.execute_input": "2022-04-02T03:06:10.933028Z",
     "iopub.status.busy": "2022-04-02T03:06:10.932870Z",
     "iopub.status.idle": "2022-04-02T03:06:14.027607Z",
     "shell.execute_reply": "2022-04-02T03:06:14.023866Z",
     "shell.execute_reply.started": "2022-04-02T03:06:10.933008Z"
    }
   },
   "outputs": [
    {
     "data": {
      "image/png": "[encoded data removed]",
      "text/plain": [
       "<Figure size 864x576 with 4 Axes>"
      ]
     },
     "metadata": {
      "needs_background": "light"
     },
     "output_type": "display_data"
    }
   ],
   "source": [
    "y_score = model.predict(X_test)[:,0]\n",
    "y_pred = list(map(lambda pred: 1 if pred > 0.5 else 0, y_score))\n",
    "\n",
    "\n",
    "# Confusion Matrix\n",
    "cm = confusion_matrix(y_test, y_pred)\n",
    "cm_display = ConfusionMatrixDisplay(cm)\n",
    "\n",
    "# ROC Curve\n",
    "fpr, tpr, _ = roc_curve(y_test, y_score)\n",
    "roc_display = RocCurveDisplay(fpr=fpr, tpr=tpr)\n",
    "\n",
    "# Precision-Recall Curve\n",
    "prec, recall, _ = precision_recall_curve(y_test, y_score)\n",
    "pr_display = PrecisionRecallDisplay(precision=prec, recall=recall)\n",
    "\n",
    "fig, (ax1, ax2, ax3) = plt.subplots(1, 3, figsize=(12, 8))\n",
    "cm_display.plot(ax=ax1)\n",
    "roc_display.plot(ax=ax2)\n",
    "pr_display.plot(ax=ax3)\n",
    "plt.show()"
   ]
  },
  {
   "cell_type": "code",
   "execution_count": null,
   "id": "10801f76-8f7c-480a-9cc9-5ac9208faa23",
   "metadata": {},
   "outputs": [],
   "source": [
    "print(\"Accuracy: \", accuracy_score(y_test, y_pred))\n",
    "print(\"Precision: \", precision_score(y_test, y_pred))\n",
    "print(\"Recall: \", recall_score(y_test, y_pred))\n",
    "print(\"F1-Score: \", f1_score(y_test, y_pred))"
   ]
  }
 ],
 "metadata": {
  "kernelspec": {
   "display_name": "Python 3 (ipykernel)",
   "language": "python",
   "name": "python3"
  },
  "language_info": {
   "codemirror_mode": {
    "name": "ipython",
    "version": 3
   },
   "file_extension": ".py",
   "mimetype": "text/x-python",
   "name": "python",
   "nbconvert_exporter": "python",
   "pygments_lexer": "ipython3",
   "version": "3.8.10"
  }
 },
 "nbformat": 4,
 "nbformat_minor": 5
}
