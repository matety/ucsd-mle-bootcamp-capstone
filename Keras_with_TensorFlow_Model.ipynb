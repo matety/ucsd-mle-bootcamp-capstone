{
 "cells": [
  {
   "cell_type": "markdown",
   "id": "3f5befc1-43f2-47e1-8ca5-640e8366bf65",
   "metadata": {},
   "source": [
    "# TensorFlow Model"
   ]
  },
  {
   "cell_type": "code",
   "execution_count": 25,
   "id": "af7bdabe-8e63-43df-9515-32f6fca4219d",
   "metadata": {
    "execution": {
     "iopub.execute_input": "2022-04-01T22:32:31.745621Z",
     "iopub.status.busy": "2022-04-01T22:32:31.745325Z",
     "iopub.status.idle": "2022-04-01T22:32:31.749167Z",
     "shell.execute_reply": "2022-04-01T22:32:31.748373Z",
     "shell.execute_reply.started": "2022-04-01T22:32:31.745593Z"
    }
   },
   "outputs": [],
   "source": [
    "#!pip uninstall scikit-learn -y\n",
    "#!pip install scikit-learn"
   ]
  },
  {
   "cell_type": "code",
   "execution_count": 26,
   "id": "34d1dec9-d260-4b65-9bb1-5383e3c9b99f",
   "metadata": {
    "execution": {
     "iopub.execute_input": "2022-04-01T22:32:31.758876Z",
     "iopub.status.busy": "2022-04-01T22:32:31.758681Z",
     "iopub.status.idle": "2022-04-01T22:32:31.764849Z",
     "shell.execute_reply": "2022-04-01T22:32:31.763815Z",
     "shell.execute_reply.started": "2022-04-01T22:32:31.758853Z"
    }
   },
   "outputs": [],
   "source": [
    "import warnings\n",
    "warnings.filterwarnings('ignore')\n",
    "\n",
    "%matplotlib inline\n",
    "import numpy as np\n",
    "import matplotlib.pyplot as plt\n",
    "import pandas as pd"
   ]
  },
  {
   "cell_type": "code",
   "execution_count": 27,
   "id": "6a07b770-0d94-4f09-90eb-67e9fd3b91c2",
   "metadata": {
    "execution": {
     "iopub.execute_input": "2022-04-01T22:32:31.766944Z",
     "iopub.status.busy": "2022-04-01T22:32:31.766740Z",
     "iopub.status.idle": "2022-04-01T22:32:31.772006Z",
     "shell.execute_reply": "2022-04-01T22:32:31.771188Z",
     "shell.execute_reply.started": "2022-04-01T22:32:31.766918Z"
    }
   },
   "outputs": [],
   "source": [
    "from sklearn.preprocessing import MinMaxScaler\n",
    "from sklearn.model_selection import train_test_split\n",
    "from sklearn.model_selection import RandomizedSearchCV\n",
    "from sklearn.pipeline import make_pipeline\n",
    "from sklearn.metrics import roc_curve, precision_recall_curve\n",
    "from sklearn.metrics import confusion_matrix, auc\n",
    "from sklearn.metrics import ConfusionMatrixDisplay, RocCurveDisplay, PrecisionRecallDisplay\n",
    "from sklearn.metrics import accuracy_score, precision_score, recall_score, f1_score"
   ]
  },
  {
   "cell_type": "code",
   "execution_count": 28,
   "id": "59d961c1-6447-4d93-9702-bd56b089e377",
   "metadata": {
    "execution": {
     "iopub.execute_input": "2022-04-01T22:32:31.773854Z",
     "iopub.status.busy": "2022-04-01T22:32:31.773544Z",
     "iopub.status.idle": "2022-04-01T22:32:34.696165Z",
     "shell.execute_reply": "2022-04-01T22:32:34.695097Z",
     "shell.execute_reply.started": "2022-04-01T22:32:31.773814Z"
    }
   },
   "outputs": [
    {
     "name": "stdout",
     "output_type": "stream",
     "text": [
      "Requirement already satisfied: imbalanced-learn in /usr/local/lib/python3.8/dist-packages (0.9.0)\n",
      "Requirement already satisfied: scikit-learn>=1.0.1 in /usr/local/lib/python3.8/dist-packages (from imbalanced-learn) (1.0.2)\n",
      "Requirement already satisfied: scipy>=1.1.0 in /usr/local/lib/python3.8/dist-packages (from imbalanced-learn) (1.4.1)\n",
      "Requirement already satisfied: threadpoolctl>=2.0.0 in /usr/local/lib/python3.8/dist-packages (from imbalanced-learn) (3.1.0)\n",
      "Requirement already satisfied: numpy>=1.14.6 in /usr/local/lib/python3.8/dist-packages (from imbalanced-learn) (1.19.4)\n",
      "Requirement already satisfied: joblib>=0.11 in /usr/local/lib/python3.8/dist-packages (from imbalanced-learn) (1.1.0)\n",
      "\u001b[33mWARNING: Running pip as the 'root' user can result in broken permissions and conflicting behaviour with the system package manager. It is recommended to use a virtual environment instead: https://pip.pypa.io/warnings/venv\u001b[0m\u001b[33m\n",
      "\u001b[0m\u001b[33mWARNING: You are using pip version 22.0.3; however, version 22.0.4 is available.\n",
      "You should consider upgrading via the '/usr/bin/python -m pip install --upgrade pip' command.\u001b[0m\u001b[33m\n",
      "\u001b[0m"
     ]
    }
   ],
   "source": [
    "!pip install imbalanced-learn"
   ]
  },
  {
   "cell_type": "code",
   "execution_count": 29,
   "id": "95351a5d-5e8e-4d76-85fc-b0e30330eaad",
   "metadata": {
    "execution": {
     "iopub.execute_input": "2022-04-01T22:32:34.698064Z",
     "iopub.status.busy": "2022-04-01T22:32:34.697820Z",
     "iopub.status.idle": "2022-04-01T22:32:34.703520Z",
     "shell.execute_reply": "2022-04-01T22:32:34.702231Z",
     "shell.execute_reply.started": "2022-04-01T22:32:34.698034Z"
    }
   },
   "outputs": [],
   "source": [
    "from imblearn.over_sampling import SMOTE\n",
    "from imblearn.under_sampling import RandomUnderSampler\n",
    "from imblearn.pipeline import Pipeline\n",
    "\n",
    "import tensorflow as tf\n",
    "from tensorflow import keras\n",
    "from keras import regularizers\n",
    "\n",
    "from numpy.random import seed\n",
    "seed(1)\n",
    "from tensorflow import set_random_seed\n",
    "set_random_seed(2)"
   ]
  },
  {
   "cell_type": "markdown",
   "id": "09c202c0-0fca-4d9b-82da-bd9c5f6bba19",
   "metadata": {},
   "source": [
    "## Load & Split data"
   ]
  },
  {
   "cell_type": "code",
   "execution_count": 30,
   "id": "ae15b86d-0ab0-4c91-9e29-df5ac76a23e3",
   "metadata": {
    "execution": {
     "iopub.execute_input": "2022-04-01T22:32:34.706412Z",
     "iopub.status.busy": "2022-04-01T22:32:34.706128Z",
     "iopub.status.idle": "2022-04-01T22:32:41.223300Z",
     "shell.execute_reply": "2022-04-01T22:32:41.222506Z",
     "shell.execute_reply.started": "2022-04-01T22:32:34.706386Z"
    }
   },
   "outputs": [
    {
     "data": {
      "text/html": [
       "<div>\n",
       "<style scoped>\n",
       "    .dataframe tbody tr th:only-of-type {\n",
       "        vertical-align: middle;\n",
       "    }\n",
       "\n",
       "    .dataframe tbody tr th {\n",
       "        vertical-align: top;\n",
       "    }\n",
       "\n",
       "    .dataframe thead th {\n",
       "        text-align: right;\n",
       "    }\n",
       "</style>\n",
       "<table border=\"1\" class=\"dataframe\">\n",
       "  <thead>\n",
       "    <tr style=\"text-align: right;\">\n",
       "      <th></th>\n",
       "      <th>ID_code</th>\n",
       "      <th>target</th>\n",
       "      <th>var_0</th>\n",
       "      <th>var_1</th>\n",
       "      <th>var_2</th>\n",
       "      <th>var_3</th>\n",
       "      <th>var_4</th>\n",
       "      <th>var_5</th>\n",
       "      <th>var_6</th>\n",
       "      <th>var_7</th>\n",
       "      <th>...</th>\n",
       "      <th>var_190</th>\n",
       "      <th>var_191</th>\n",
       "      <th>var_192</th>\n",
       "      <th>var_193</th>\n",
       "      <th>var_194</th>\n",
       "      <th>var_195</th>\n",
       "      <th>var_196</th>\n",
       "      <th>var_197</th>\n",
       "      <th>var_198</th>\n",
       "      <th>var_199</th>\n",
       "    </tr>\n",
       "  </thead>\n",
       "  <tbody>\n",
       "    <tr>\n",
       "      <th>0</th>\n",
       "      <td>train_0</td>\n",
       "      <td>0</td>\n",
       "      <td>8.9255</td>\n",
       "      <td>-6.7863</td>\n",
       "      <td>11.9081</td>\n",
       "      <td>5.0930</td>\n",
       "      <td>11.4607</td>\n",
       "      <td>-9.2834</td>\n",
       "      <td>5.1187</td>\n",
       "      <td>18.6266</td>\n",
       "      <td>...</td>\n",
       "      <td>4.4354</td>\n",
       "      <td>3.9642</td>\n",
       "      <td>3.1364</td>\n",
       "      <td>1.6910</td>\n",
       "      <td>18.5227</td>\n",
       "      <td>-2.3978</td>\n",
       "      <td>7.8784</td>\n",
       "      <td>8.5635</td>\n",
       "      <td>12.7803</td>\n",
       "      <td>-1.0914</td>\n",
       "    </tr>\n",
       "    <tr>\n",
       "      <th>1</th>\n",
       "      <td>train_1</td>\n",
       "      <td>0</td>\n",
       "      <td>11.5006</td>\n",
       "      <td>-4.1473</td>\n",
       "      <td>13.8588</td>\n",
       "      <td>5.3890</td>\n",
       "      <td>12.3622</td>\n",
       "      <td>7.0433</td>\n",
       "      <td>5.6208</td>\n",
       "      <td>16.5338</td>\n",
       "      <td>...</td>\n",
       "      <td>7.6421</td>\n",
       "      <td>7.7214</td>\n",
       "      <td>2.5837</td>\n",
       "      <td>10.9516</td>\n",
       "      <td>15.4305</td>\n",
       "      <td>2.0339</td>\n",
       "      <td>8.1267</td>\n",
       "      <td>8.7889</td>\n",
       "      <td>18.3560</td>\n",
       "      <td>1.9518</td>\n",
       "    </tr>\n",
       "    <tr>\n",
       "      <th>2</th>\n",
       "      <td>train_2</td>\n",
       "      <td>0</td>\n",
       "      <td>8.6093</td>\n",
       "      <td>-2.7457</td>\n",
       "      <td>12.0805</td>\n",
       "      <td>7.8928</td>\n",
       "      <td>10.5825</td>\n",
       "      <td>-9.0837</td>\n",
       "      <td>6.9427</td>\n",
       "      <td>14.6155</td>\n",
       "      <td>...</td>\n",
       "      <td>2.9057</td>\n",
       "      <td>9.7905</td>\n",
       "      <td>1.6704</td>\n",
       "      <td>1.6858</td>\n",
       "      <td>21.6042</td>\n",
       "      <td>3.1417</td>\n",
       "      <td>-6.5213</td>\n",
       "      <td>8.2675</td>\n",
       "      <td>14.7222</td>\n",
       "      <td>0.3965</td>\n",
       "    </tr>\n",
       "    <tr>\n",
       "      <th>3</th>\n",
       "      <td>train_3</td>\n",
       "      <td>0</td>\n",
       "      <td>11.0604</td>\n",
       "      <td>-2.1518</td>\n",
       "      <td>8.9522</td>\n",
       "      <td>7.1957</td>\n",
       "      <td>12.5846</td>\n",
       "      <td>-1.8361</td>\n",
       "      <td>5.8428</td>\n",
       "      <td>14.9250</td>\n",
       "      <td>...</td>\n",
       "      <td>4.4666</td>\n",
       "      <td>4.7433</td>\n",
       "      <td>0.7178</td>\n",
       "      <td>1.4214</td>\n",
       "      <td>23.0347</td>\n",
       "      <td>-1.2706</td>\n",
       "      <td>-2.9275</td>\n",
       "      <td>10.2922</td>\n",
       "      <td>17.9697</td>\n",
       "      <td>-8.9996</td>\n",
       "    </tr>\n",
       "    <tr>\n",
       "      <th>4</th>\n",
       "      <td>train_4</td>\n",
       "      <td>0</td>\n",
       "      <td>9.8369</td>\n",
       "      <td>-1.4834</td>\n",
       "      <td>12.8746</td>\n",
       "      <td>6.6375</td>\n",
       "      <td>12.2772</td>\n",
       "      <td>2.4486</td>\n",
       "      <td>5.9405</td>\n",
       "      <td>19.2514</td>\n",
       "      <td>...</td>\n",
       "      <td>-1.4905</td>\n",
       "      <td>9.5214</td>\n",
       "      <td>-0.1508</td>\n",
       "      <td>9.1942</td>\n",
       "      <td>13.2876</td>\n",
       "      <td>-1.5121</td>\n",
       "      <td>3.9267</td>\n",
       "      <td>9.5031</td>\n",
       "      <td>17.9974</td>\n",
       "      <td>-8.8104</td>\n",
       "    </tr>\n",
       "  </tbody>\n",
       "</table>\n",
       "<p>5 rows × 202 columns</p>\n",
       "</div>"
      ],
      "text/plain": [
       "   ID_code  target    var_0   var_1    var_2   var_3    var_4   var_5   var_6  \\\n",
       "0  train_0       0   8.9255 -6.7863  11.9081  5.0930  11.4607 -9.2834  5.1187   \n",
       "1  train_1       0  11.5006 -4.1473  13.8588  5.3890  12.3622  7.0433  5.6208   \n",
       "2  train_2       0   8.6093 -2.7457  12.0805  7.8928  10.5825 -9.0837  6.9427   \n",
       "3  train_3       0  11.0604 -2.1518   8.9522  7.1957  12.5846 -1.8361  5.8428   \n",
       "4  train_4       0   9.8369 -1.4834  12.8746  6.6375  12.2772  2.4486  5.9405   \n",
       "\n",
       "     var_7  ...  var_190  var_191  var_192  var_193  var_194  var_195  \\\n",
       "0  18.6266  ...   4.4354   3.9642   3.1364   1.6910  18.5227  -2.3978   \n",
       "1  16.5338  ...   7.6421   7.7214   2.5837  10.9516  15.4305   2.0339   \n",
       "2  14.6155  ...   2.9057   9.7905   1.6704   1.6858  21.6042   3.1417   \n",
       "3  14.9250  ...   4.4666   4.7433   0.7178   1.4214  23.0347  -1.2706   \n",
       "4  19.2514  ...  -1.4905   9.5214  -0.1508   9.1942  13.2876  -1.5121   \n",
       "\n",
       "   var_196  var_197  var_198  var_199  \n",
       "0   7.8784   8.5635  12.7803  -1.0914  \n",
       "1   8.1267   8.7889  18.3560   1.9518  \n",
       "2  -6.5213   8.2675  14.7222   0.3965  \n",
       "3  -2.9275  10.2922  17.9697  -8.9996  \n",
       "4   3.9267   9.5031  17.9974  -8.8104  \n",
       "\n",
       "[5 rows x 202 columns]"
      ]
     },
     "execution_count": 30,
     "metadata": {},
     "output_type": "execute_result"
    }
   ],
   "source": [
    "txns = pd.read_csv('./train.csv')\n",
    "txns.head()"
   ]
  },
  {
   "cell_type": "code",
   "execution_count": 31,
   "id": "535610e8-fed7-4bdd-be2d-2ec290f1fc99",
   "metadata": {
    "execution": {
     "iopub.execute_input": "2022-04-01T22:32:41.224779Z",
     "iopub.status.busy": "2022-04-01T22:32:41.224527Z",
     "iopub.status.idle": "2022-04-01T22:32:41.395784Z",
     "shell.execute_reply": "2022-04-01T22:32:41.394970Z",
     "shell.execute_reply.started": "2022-04-01T22:32:41.224752Z"
    }
   },
   "outputs": [
    {
     "name": "stdout",
     "output_type": "stream",
     "text": [
      "['var_0', 'var_1', 'var_2', 'var_3', 'var_4', 'var_5', 'var_6', 'var_7', 'var_8', 'var_9', 'var_10', 'var_11', 'var_12', 'var_13', 'var_14', 'var_15', 'var_16', 'var_17', 'var_18', 'var_19', 'var_20', 'var_21', 'var_22', 'var_23', 'var_24', 'var_25', 'var_26', 'var_27', 'var_28', 'var_29', 'var_30', 'var_31', 'var_32', 'var_33', 'var_34', 'var_35', 'var_36', 'var_37', 'var_38', 'var_39', 'var_40', 'var_41', 'var_42', 'var_43', 'var_44', 'var_45', 'var_46', 'var_47', 'var_48', 'var_49', 'var_50', 'var_51', 'var_52', 'var_53', 'var_54', 'var_55', 'var_56', 'var_57', 'var_58', 'var_59', 'var_60', 'var_61', 'var_62', 'var_63', 'var_64', 'var_65', 'var_66', 'var_67', 'var_68', 'var_69', 'var_70', 'var_71', 'var_72', 'var_73', 'var_74', 'var_75', 'var_76', 'var_77', 'var_78', 'var_79', 'var_80', 'var_81', 'var_82', 'var_83', 'var_84', 'var_85', 'var_86', 'var_87', 'var_88', 'var_89', 'var_90', 'var_91', 'var_92', 'var_93', 'var_94', 'var_95', 'var_96', 'var_97', 'var_98', 'var_99', 'var_100', 'var_101', 'var_102', 'var_103', 'var_104', 'var_105', 'var_106', 'var_107', 'var_108', 'var_109', 'var_110', 'var_111', 'var_112', 'var_113', 'var_114', 'var_115', 'var_116', 'var_117', 'var_118', 'var_119', 'var_120', 'var_121', 'var_122', 'var_123', 'var_124', 'var_125', 'var_126', 'var_127', 'var_128', 'var_129', 'var_130', 'var_131', 'var_132', 'var_133', 'var_134', 'var_135', 'var_136', 'var_137', 'var_138', 'var_139', 'var_140', 'var_141', 'var_142', 'var_143', 'var_144', 'var_145', 'var_146', 'var_147', 'var_148', 'var_149', 'var_150', 'var_151', 'var_152', 'var_153', 'var_154', 'var_155', 'var_156', 'var_157', 'var_158', 'var_159', 'var_160', 'var_161', 'var_162', 'var_163', 'var_164', 'var_165', 'var_166', 'var_167', 'var_168', 'var_169', 'var_170', 'var_171', 'var_172', 'var_173', 'var_174', 'var_175', 'var_176', 'var_177', 'var_178', 'var_179', 'var_180', 'var_181', 'var_182', 'var_183', 'var_184', 'var_185', 'var_186', 'var_187', 'var_188', 'var_189', 'var_190', 'var_191', 'var_192', 'var_193', 'var_194', 'var_195', 'var_196', 'var_197', 'var_198', 'var_199']\n"
     ]
    }
   ],
   "source": [
    "properties = list(txns.columns.values)\n",
    "properties.remove('ID_code')\n",
    "properties.remove('target')\n",
    "print(properties)\n",
    "X = txns[properties]\n",
    "y = txns['target']"
   ]
  },
  {
   "cell_type": "code",
   "execution_count": 32,
   "id": "718e49d6-d1b2-463d-8121-110c2fb07558",
   "metadata": {
    "execution": {
     "iopub.execute_input": "2022-04-01T22:32:41.397050Z",
     "iopub.status.busy": "2022-04-01T22:32:41.396824Z",
     "iopub.status.idle": "2022-04-01T22:32:41.441866Z",
     "shell.execute_reply": "2022-04-01T22:32:41.440150Z",
     "shell.execute_reply.started": "2022-04-01T22:32:41.397024Z"
    }
   },
   "outputs": [
    {
     "data": {
      "text/html": [
       "<div>\n",
       "<style scoped>\n",
       "    .dataframe tbody tr th:only-of-type {\n",
       "        vertical-align: middle;\n",
       "    }\n",
       "\n",
       "    .dataframe tbody tr th {\n",
       "        vertical-align: top;\n",
       "    }\n",
       "\n",
       "    .dataframe thead th {\n",
       "        text-align: right;\n",
       "    }\n",
       "</style>\n",
       "<table border=\"1\" class=\"dataframe\">\n",
       "  <thead>\n",
       "    <tr style=\"text-align: right;\">\n",
       "      <th></th>\n",
       "      <th>var_0</th>\n",
       "      <th>var_1</th>\n",
       "      <th>var_2</th>\n",
       "      <th>var_3</th>\n",
       "      <th>var_4</th>\n",
       "      <th>var_5</th>\n",
       "      <th>var_6</th>\n",
       "      <th>var_7</th>\n",
       "      <th>var_8</th>\n",
       "      <th>var_9</th>\n",
       "      <th>...</th>\n",
       "      <th>var_190</th>\n",
       "      <th>var_191</th>\n",
       "      <th>var_192</th>\n",
       "      <th>var_193</th>\n",
       "      <th>var_194</th>\n",
       "      <th>var_195</th>\n",
       "      <th>var_196</th>\n",
       "      <th>var_197</th>\n",
       "      <th>var_198</th>\n",
       "      <th>var_199</th>\n",
       "    </tr>\n",
       "  </thead>\n",
       "  <tbody>\n",
       "    <tr>\n",
       "      <th>0</th>\n",
       "      <td>8.9255</td>\n",
       "      <td>-6.7863</td>\n",
       "      <td>11.9081</td>\n",
       "      <td>5.0930</td>\n",
       "      <td>11.4607</td>\n",
       "      <td>-9.2834</td>\n",
       "      <td>5.1187</td>\n",
       "      <td>18.6266</td>\n",
       "      <td>-4.9200</td>\n",
       "      <td>5.7470</td>\n",
       "      <td>...</td>\n",
       "      <td>4.4354</td>\n",
       "      <td>3.9642</td>\n",
       "      <td>3.1364</td>\n",
       "      <td>1.6910</td>\n",
       "      <td>18.5227</td>\n",
       "      <td>-2.3978</td>\n",
       "      <td>7.8784</td>\n",
       "      <td>8.5635</td>\n",
       "      <td>12.7803</td>\n",
       "      <td>-1.0914</td>\n",
       "    </tr>\n",
       "    <tr>\n",
       "      <th>1</th>\n",
       "      <td>11.5006</td>\n",
       "      <td>-4.1473</td>\n",
       "      <td>13.8588</td>\n",
       "      <td>5.3890</td>\n",
       "      <td>12.3622</td>\n",
       "      <td>7.0433</td>\n",
       "      <td>5.6208</td>\n",
       "      <td>16.5338</td>\n",
       "      <td>3.1468</td>\n",
       "      <td>8.0851</td>\n",
       "      <td>...</td>\n",
       "      <td>7.6421</td>\n",
       "      <td>7.7214</td>\n",
       "      <td>2.5837</td>\n",
       "      <td>10.9516</td>\n",
       "      <td>15.4305</td>\n",
       "      <td>2.0339</td>\n",
       "      <td>8.1267</td>\n",
       "      <td>8.7889</td>\n",
       "      <td>18.3560</td>\n",
       "      <td>1.9518</td>\n",
       "    </tr>\n",
       "    <tr>\n",
       "      <th>2</th>\n",
       "      <td>8.6093</td>\n",
       "      <td>-2.7457</td>\n",
       "      <td>12.0805</td>\n",
       "      <td>7.8928</td>\n",
       "      <td>10.5825</td>\n",
       "      <td>-9.0837</td>\n",
       "      <td>6.9427</td>\n",
       "      <td>14.6155</td>\n",
       "      <td>-4.9193</td>\n",
       "      <td>5.9525</td>\n",
       "      <td>...</td>\n",
       "      <td>2.9057</td>\n",
       "      <td>9.7905</td>\n",
       "      <td>1.6704</td>\n",
       "      <td>1.6858</td>\n",
       "      <td>21.6042</td>\n",
       "      <td>3.1417</td>\n",
       "      <td>-6.5213</td>\n",
       "      <td>8.2675</td>\n",
       "      <td>14.7222</td>\n",
       "      <td>0.3965</td>\n",
       "    </tr>\n",
       "    <tr>\n",
       "      <th>3</th>\n",
       "      <td>11.0604</td>\n",
       "      <td>-2.1518</td>\n",
       "      <td>8.9522</td>\n",
       "      <td>7.1957</td>\n",
       "      <td>12.5846</td>\n",
       "      <td>-1.8361</td>\n",
       "      <td>5.8428</td>\n",
       "      <td>14.9250</td>\n",
       "      <td>-5.8609</td>\n",
       "      <td>8.2450</td>\n",
       "      <td>...</td>\n",
       "      <td>4.4666</td>\n",
       "      <td>4.7433</td>\n",
       "      <td>0.7178</td>\n",
       "      <td>1.4214</td>\n",
       "      <td>23.0347</td>\n",
       "      <td>-1.2706</td>\n",
       "      <td>-2.9275</td>\n",
       "      <td>10.2922</td>\n",
       "      <td>17.9697</td>\n",
       "      <td>-8.9996</td>\n",
       "    </tr>\n",
       "    <tr>\n",
       "      <th>4</th>\n",
       "      <td>9.8369</td>\n",
       "      <td>-1.4834</td>\n",
       "      <td>12.8746</td>\n",
       "      <td>6.6375</td>\n",
       "      <td>12.2772</td>\n",
       "      <td>2.4486</td>\n",
       "      <td>5.9405</td>\n",
       "      <td>19.2514</td>\n",
       "      <td>6.2654</td>\n",
       "      <td>7.6784</td>\n",
       "      <td>...</td>\n",
       "      <td>-1.4905</td>\n",
       "      <td>9.5214</td>\n",
       "      <td>-0.1508</td>\n",
       "      <td>9.1942</td>\n",
       "      <td>13.2876</td>\n",
       "      <td>-1.5121</td>\n",
       "      <td>3.9267</td>\n",
       "      <td>9.5031</td>\n",
       "      <td>17.9974</td>\n",
       "      <td>-8.8104</td>\n",
       "    </tr>\n",
       "  </tbody>\n",
       "</table>\n",
       "<p>5 rows × 200 columns</p>\n",
       "</div>"
      ],
      "text/plain": [
       "     var_0   var_1    var_2   var_3    var_4   var_5   var_6    var_7   var_8  \\\n",
       "0   8.9255 -6.7863  11.9081  5.0930  11.4607 -9.2834  5.1187  18.6266 -4.9200   \n",
       "1  11.5006 -4.1473  13.8588  5.3890  12.3622  7.0433  5.6208  16.5338  3.1468   \n",
       "2   8.6093 -2.7457  12.0805  7.8928  10.5825 -9.0837  6.9427  14.6155 -4.9193   \n",
       "3  11.0604 -2.1518   8.9522  7.1957  12.5846 -1.8361  5.8428  14.9250 -5.8609   \n",
       "4   9.8369 -1.4834  12.8746  6.6375  12.2772  2.4486  5.9405  19.2514  6.2654   \n",
       "\n",
       "    var_9  ...  var_190  var_191  var_192  var_193  var_194  var_195  var_196  \\\n",
       "0  5.7470  ...   4.4354   3.9642   3.1364   1.6910  18.5227  -2.3978   7.8784   \n",
       "1  8.0851  ...   7.6421   7.7214   2.5837  10.9516  15.4305   2.0339   8.1267   \n",
       "2  5.9525  ...   2.9057   9.7905   1.6704   1.6858  21.6042   3.1417  -6.5213   \n",
       "3  8.2450  ...   4.4666   4.7433   0.7178   1.4214  23.0347  -1.2706  -2.9275   \n",
       "4  7.6784  ...  -1.4905   9.5214  -0.1508   9.1942  13.2876  -1.5121   3.9267   \n",
       "\n",
       "   var_197  var_198  var_199  \n",
       "0   8.5635  12.7803  -1.0914  \n",
       "1   8.7889  18.3560   1.9518  \n",
       "2   8.2675  14.7222   0.3965  \n",
       "3  10.2922  17.9697  -8.9996  \n",
       "4   9.5031  17.9974  -8.8104  \n",
       "\n",
       "[5 rows x 200 columns]"
      ]
     },
     "execution_count": 32,
     "metadata": {},
     "output_type": "execute_result"
    }
   ],
   "source": [
    "X.head()"
   ]
  },
  {
   "cell_type": "code",
   "execution_count": 33,
   "id": "9760bbec-4c93-4214-ab33-b0d060e1c28c",
   "metadata": {
    "execution": {
     "iopub.execute_input": "2022-04-01T22:32:41.443855Z",
     "iopub.status.busy": "2022-04-01T22:32:41.443595Z",
     "iopub.status.idle": "2022-04-01T22:32:41.453180Z",
     "shell.execute_reply": "2022-04-01T22:32:41.451989Z",
     "shell.execute_reply.started": "2022-04-01T22:32:41.443827Z"
    }
   },
   "outputs": [
    {
     "data": {
      "text/plain": [
       "0    0\n",
       "1    0\n",
       "2    0\n",
       "3    0\n",
       "4    0\n",
       "Name: target, dtype: int64"
      ]
     },
     "execution_count": 33,
     "metadata": {},
     "output_type": "execute_result"
    }
   ],
   "source": [
    "y.head()"
   ]
  },
  {
   "cell_type": "markdown",
   "id": "34ce9879-3069-4bc5-a295-dcf3ae5ecb52",
   "metadata": {},
   "source": [
    "## SMOTE - Minority Oversampling"
   ]
  },
  {
   "cell_type": "code",
   "execution_count": 34,
   "id": "4b845ea5-5f3f-45bd-a3fe-b303705a75c7",
   "metadata": {
    "execution": {
     "iopub.execute_input": "2022-04-01T22:32:41.454831Z",
     "iopub.status.busy": "2022-04-01T22:32:41.454591Z",
     "iopub.status.idle": "2022-04-01T22:32:56.682760Z",
     "shell.execute_reply": "2022-04-01T22:32:56.681862Z",
     "shell.execute_reply.started": "2022-04-01T22:32:41.454787Z"
    }
   },
   "outputs": [
    {
     "data": {
      "text/plain": [
       "[]"
      ]
     },
     "execution_count": 34,
     "metadata": {},
     "output_type": "execute_result"
    },
    {
     "data": {
      "image/png": "[encoded data removed]",
      "text/plain": [
       "<Figure size 432x288 with 1 Axes>"
      ]
     },
     "metadata": {
      "needs_background": "light"
     },
     "output_type": "display_data"
    }
   ],
   "source": [
    "over = SMOTE(sampling_strategy=0.7, random_state=11, k_neighbors=7)\n",
    "under = RandomUnderSampler(sampling_strategy=1, random_state=11)\n",
    "\n",
    "steps = [('o', over), ('u', under)]\n",
    "pipeline = Pipeline(steps=steps)\n",
    "\n",
    "# transform the dataset\n",
    "X, y = pipeline.fit_resample(X, y)\n",
    "\n",
    "# Check the class distribution\n",
    "pd.concat([X, y], axis=1).pivot_table(index='target', aggfunc='size').plot(kind='bar', title = 'Class distribution').plot()"
   ]
  },
  {
   "cell_type": "code",
   "execution_count": null,
   "id": "bae509f3-ab4a-4e77-b7d4-ae1a3bb45748",
   "metadata": {
    "execution": {
     "iopub.execute_input": "2022-04-01T22:32:56.684074Z",
     "iopub.status.busy": "2022-04-01T22:32:56.683841Z"
    }
   },
   "outputs": [],
   "source": [
    "# Split the data into training and test set with a ration of 0.7:0.3 and constant random\n",
    "X_train, X_test, y_train, y_test = train_test_split(X, y, test_size=0.3, random_state=11)"
   ]
  },
  {
   "cell_type": "markdown",
   "id": "29a0f1c5-72c1-4660-a2da-48e553951f99",
   "metadata": {},
   "source": [
    "## Model Creation, Compiling & Fitting"
   ]
  },
  {
   "cell_type": "code",
   "execution_count": 42,
   "id": "5e5e6ef0-99ce-42a8-90d1-6726d659ccc9",
   "metadata": {
    "execution": {
     "iopub.execute_input": "2022-04-01T23:12:46.162047Z",
     "iopub.status.busy": "2022-04-01T23:12:46.161775Z",
     "iopub.status.idle": "2022-04-01T23:51:06.468813Z",
     "shell.execute_reply": "2022-04-01T23:51:06.468024Z",
     "shell.execute_reply.started": "2022-04-01T23:12:46.162018Z"
    }
   },
   "outputs": [
    {
     "name": "stdout",
     "output_type": "stream",
     "text": [
      "Epoch 1/50\n",
      "5510/5510 [==============================] - 48s 9ms/step - loss: 0.6678 - auc: 0.6311 - Accuracy: 0.5967 - precision: 0.5758 - recall: 0.7215 - val_loss: 0.5693 - val_auc: 0.8361 - val_Accuracy: 0.7547 - val_precision: 0.7848 - val_recall: 0.7083\n",
      "Epoch 2/50\n",
      "5510/5510 [==============================] - 46s 8ms/step - loss: 0.5833 - auc: 0.7659 - Accuracy: 0.6898 - precision: 0.6488 - recall: 0.8219 - val_loss: 0.5055 - val_auc: 0.8475 - val_Accuracy: 0.7670 - val_precision: 0.7815 - val_recall: 0.7475\n",
      "Epoch 3/50\n",
      "5510/5510 [==============================] - 46s 8ms/step - loss: 0.5348 - auc: 0.8206 - Accuracy: 0.7483 - precision: 0.7151 - recall: 0.8219 - val_loss: 0.4759 - val_auc: 0.8626 - val_Accuracy: 0.7830 - val_precision: 0.7697 - val_recall: 0.8137\n",
      "Epoch 4/50\n",
      "5510/5510 [==============================] - 45s 8ms/step - loss: 0.5247 - auc: 0.8295 - Accuracy: 0.7558 - precision: 0.7271 - recall: 0.8155 - val_loss: 0.4757 - val_auc: 0.8675 - val_Accuracy: 0.7863 - val_precision: 0.7915 - val_recall: 0.7831\n",
      "Epoch 5/50\n",
      "5510/5510 [==============================] - 46s 8ms/step - loss: 0.5199 - auc: 0.8332 - Accuracy: 0.7613 - precision: 0.7375 - recall: 0.8084 - val_loss: 0.4942 - val_auc: 0.8685 - val_Accuracy: 0.7514 - val_precision: 0.6883 - val_recall: 0.9279\n",
      "Epoch 6/50\n",
      "5510/5510 [==============================] - 46s 8ms/step - loss: 0.5172 - auc: 0.8361 - Accuracy: 0.7645 - precision: 0.7421 - recall: 0.8076 - val_loss: 0.4739 - val_auc: 0.8690 - val_Accuracy: 0.7868 - val_precision: 0.7956 - val_recall: 0.7775\n",
      "Epoch 7/50\n",
      "5510/5510 [==============================] - 46s 8ms/step - loss: 0.5159 - auc: 0.8370 - Accuracy: 0.7655 - precision: 0.7419 - recall: 0.8113 - val_loss: 0.4674 - val_auc: 0.8705 - val_Accuracy: 0.7885 - val_precision: 0.7559 - val_recall: 0.8582\n",
      "Epoch 8/50\n",
      "5510/5510 [==============================] - 45s 8ms/step - loss: 0.5137 - auc: 0.8395 - Accuracy: 0.7670 - precision: 0.7434 - recall: 0.8126 - val_loss: 0.4668 - val_auc: 0.8699 - val_Accuracy: 0.7885 - val_precision: 0.7711 - val_recall: 0.8262\n",
      "Epoch 9/50\n",
      "5510/5510 [==============================] - 45s 8ms/step - loss: 0.5123 - auc: 0.8411 - Accuracy: 0.7688 - precision: 0.7461 - recall: 0.8121 - val_loss: 0.4943 - val_auc: 0.8737 - val_Accuracy: 0.7735 - val_precision: 0.8425 - val_recall: 0.6783\n",
      "Epoch 10/50\n",
      "5510/5510 [==============================] - 46s 8ms/step - loss: 0.5128 - auc: 0.8416 - Accuracy: 0.7693 - precision: 0.7474 - recall: 0.8107 - val_loss: 0.4679 - val_auc: 0.8786 - val_Accuracy: 0.7976 - val_precision: 0.7706 - val_recall: 0.8530\n",
      "Epoch 11/50\n",
      "5510/5510 [==============================] - 45s 8ms/step - loss: 0.5139 - auc: 0.8411 - Accuracy: 0.7690 - precision: 0.7453 - recall: 0.8144 - val_loss: 0.4702 - val_auc: 0.8772 - val_Accuracy: 0.7974 - val_precision: 0.7989 - val_recall: 0.8001\n",
      "Epoch 12/50\n",
      "5510/5510 [==============================] - 45s 8ms/step - loss: 0.5111 - auc: 0.8426 - Accuracy: 0.7714 - precision: 0.7480 - recall: 0.8158 - val_loss: 0.4781 - val_auc: 0.8783 - val_Accuracy: 0.7976 - val_precision: 0.7649 - val_recall: 0.8650\n",
      "Epoch 13/50\n",
      "5510/5510 [==============================] - 46s 8ms/step - loss: 0.5110 - auc: 0.8433 - Accuracy: 0.7714 - precision: 0.7486 - recall: 0.8144 - val_loss: 0.4774 - val_auc: 0.8784 - val_Accuracy: 0.7988 - val_precision: 0.8028 - val_recall: 0.7972\n",
      "Epoch 14/50\n",
      "5510/5510 [==============================] - 46s 8ms/step - loss: 0.5105 - auc: 0.8438 - Accuracy: 0.7706 - precision: 0.7468 - recall: 0.8160 - val_loss: 0.4569 - val_auc: 0.8791 - val_Accuracy: 0.7970 - val_precision: 0.7658 - val_recall: 0.8611\n",
      "Epoch 15/50\n",
      "5510/5510 [==============================] - 46s 8ms/step - loss: 0.5113 - auc: 0.8437 - Accuracy: 0.7717 - precision: 0.7493 - recall: 0.8138 - val_loss: 0.4810 - val_auc: 0.8682 - val_Accuracy: 0.7801 - val_precision: 0.8118 - val_recall: 0.7348\n",
      "Epoch 16/50\n",
      "5510/5510 [==============================] - 47s 9ms/step - loss: 0.5116 - auc: 0.8442 - Accuracy: 0.7734 - precision: 0.7491 - recall: 0.8194 - val_loss: 0.4637 - val_auc: 0.8790 - val_Accuracy: 0.7981 - val_precision: 0.7853 - val_recall: 0.8258\n",
      "Epoch 17/50\n",
      "5510/5510 [==============================] - 46s 8ms/step - loss: 0.5103 - auc: 0.8448 - Accuracy: 0.7729 - precision: 0.7504 - recall: 0.8151 - val_loss: 0.4632 - val_auc: 0.8793 - val_Accuracy: 0.7946 - val_precision: 0.8170 - val_recall: 0.7644\n",
      "Epoch 18/50\n",
      "5510/5510 [==============================] - 45s 8ms/step - loss: 0.5090 - auc: 0.8456 - Accuracy: 0.7738 - precision: 0.7505 - recall: 0.8176 - val_loss: 0.4657 - val_auc: 0.8749 - val_Accuracy: 0.7896 - val_precision: 0.7502 - val_recall: 0.8744\n",
      "Epoch 19/50\n",
      "5510/5510 [==============================] - 46s 8ms/step - loss: 0.5081 - auc: 0.8467 - Accuracy: 0.7750 - precision: 0.7516 - recall: 0.8187 - val_loss: 0.4734 - val_auc: 0.8797 - val_Accuracy: 0.8018 - val_precision: 0.7834 - val_recall: 0.8394\n",
      "Epoch 20/50\n",
      "5510/5510 [==============================] - 46s 8ms/step - loss: 0.5091 - auc: 0.8462 - Accuracy: 0.7741 - precision: 0.7521 - recall: 0.8149 - val_loss: 0.4575 - val_auc: 0.8800 - val_Accuracy: 0.7921 - val_precision: 0.7531 - val_recall: 0.8751\n",
      "Epoch 21/50\n",
      "5510/5510 [==============================] - 46s 8ms/step - loss: 0.5074 - auc: 0.8475 - Accuracy: 0.7751 - precision: 0.7516 - recall: 0.8191 - val_loss: 0.4619 - val_auc: 0.8781 - val_Accuracy: 0.7973 - val_precision: 0.7980 - val_recall: 0.8012\n",
      "Epoch 22/50\n",
      "5510/5510 [==============================] - 46s 8ms/step - loss: 0.5081 - auc: 0.8469 - Accuracy: 0.7738 - precision: 0.7501 - recall: 0.8182 - val_loss: 0.4624 - val_auc: 0.8821 - val_Accuracy: 0.7975 - val_precision: 0.8222 - val_recall: 0.7641\n",
      "Epoch 23/50\n",
      "5510/5510 [==============================] - 46s 8ms/step - loss: 0.5095 - auc: 0.8463 - Accuracy: 0.7739 - precision: 0.7491 - recall: 0.8208 - val_loss: 0.4600 - val_auc: 0.8820 - val_Accuracy: 0.8012 - val_precision: 0.8000 - val_recall: 0.8084\n",
      "Epoch 24/50\n",
      "5510/5510 [==============================] - 46s 8ms/step - loss: 0.5076 - auc: 0.8478 - Accuracy: 0.7746 - precision: 0.7512 - recall: 0.8182 - val_loss: 0.4611 - val_auc: 0.8793 - val_Accuracy: 0.8000 - val_precision: 0.7978 - val_recall: 0.8088\n",
      "Epoch 25/50\n",
      "5510/5510 [==============================] - 45s 8ms/step - loss: 0.5079 - auc: 0.8473 - Accuracy: 0.7754 - precision: 0.7522 - recall: 0.8186 - val_loss: 0.4642 - val_auc: 0.8811 - val_Accuracy: 0.7943 - val_precision: 0.7529 - val_recall: 0.8819\n",
      "Epoch 26/50\n",
      "5510/5510 [==============================] - 47s 8ms/step - loss: 0.5082 - auc: 0.8475 - Accuracy: 0.7751 - precision: 0.7520 - recall: 0.8180 - val_loss: 0.4646 - val_auc: 0.8815 - val_Accuracy: 0.7961 - val_precision: 0.8255 - val_recall: 0.7558\n",
      "Epoch 27/50\n",
      "5510/5510 [==============================] - 46s 8ms/step - loss: 0.5075 - auc: 0.8482 - Accuracy: 0.7765 - precision: 0.7544 - recall: 0.8173 - val_loss: 0.4693 - val_auc: 0.8799 - val_Accuracy: 0.7913 - val_precision: 0.8287 - val_recall: 0.7393\n",
      "Epoch 28/50\n",
      "5510/5510 [==============================] - 46s 8ms/step - loss: 0.5083 - auc: 0.8474 - Accuracy: 0.7751 - precision: 0.7530 - recall: 0.8160 - val_loss: 0.4689 - val_auc: 0.8769 - val_Accuracy: 0.7929 - val_precision: 0.8143 - val_recall: 0.7641\n",
      "Epoch 29/50\n",
      "5510/5510 [==============================] - 46s 8ms/step - loss: 0.5087 - auc: 0.8470 - Accuracy: 0.7752 - precision: 0.7510 - recall: 0.8206 - val_loss: 0.4734 - val_auc: 0.8840 - val_Accuracy: 0.7993 - val_precision: 0.8277 - val_recall: 0.7608\n",
      "Epoch 30/50\n",
      "5510/5510 [==============================] - 46s 8ms/step - loss: 0.5089 - auc: 0.8473 - Accuracy: 0.7759 - precision: 0.7521 - recall: 0.8204 - val_loss: 0.4674 - val_auc: 0.8829 - val_Accuracy: 0.8020 - val_precision: 0.8156 - val_recall: 0.7854\n",
      "Epoch 31/50\n",
      "5510/5510 [==============================] - 46s 8ms/step - loss: 0.5077 - auc: 0.8482 - Accuracy: 0.7757 - precision: 0.7525 - recall: 0.8189 - val_loss: 0.4732 - val_auc: 0.8774 - val_Accuracy: 0.7853 - val_precision: 0.8312 - val_recall: 0.7212\n",
      "Epoch 32/50\n",
      "5510/5510 [==============================] - 46s 8ms/step - loss: 0.5098 - auc: 0.8472 - Accuracy: 0.7767 - precision: 0.7533 - recall: 0.8202 - val_loss: 0.4592 - val_auc: 0.8816 - val_Accuracy: 0.8016 - val_precision: 0.7913 - val_recall: 0.8245\n",
      "Epoch 33/50\n",
      "5510/5510 [==============================] - 45s 8ms/step - loss: 0.5073 - auc: 0.8484 - Accuracy: 0.7768 - precision: 0.7544 - recall: 0.8181 - val_loss: 0.4619 - val_auc: 0.8796 - val_Accuracy: 0.7992 - val_precision: 0.7990 - val_recall: 0.8048\n",
      "Epoch 34/50\n",
      "5510/5510 [==============================] - 46s 8ms/step - loss: 0.5070 - auc: 0.8479 - Accuracy: 0.7756 - precision: 0.7516 - recall: 0.8203 - val_loss: 0.4583 - val_auc: 0.8801 - val_Accuracy: 0.7997 - val_precision: 0.7956 - val_recall: 0.8118\n",
      "Epoch 35/50\n",
      "5510/5510 [==============================] - 47s 8ms/step - loss: 0.5068 - auc: 0.8489 - Accuracy: 0.7776 - precision: 0.7542 - recall: 0.8209 - val_loss: 0.4761 - val_auc: 0.8798 - val_Accuracy: 0.7885 - val_precision: 0.8317 - val_recall: 0.7285\n",
      "Epoch 36/50\n",
      "5510/5510 [==============================] - 46s 8ms/step - loss: 0.5055 - auc: 0.8496 - Accuracy: 0.7763 - precision: 0.7516 - recall: 0.8224 - val_loss: 0.4619 - val_auc: 0.8814 - val_Accuracy: 0.7952 - val_precision: 0.8244 - val_recall: 0.7551\n",
      "Epoch 37/50\n",
      "5510/5510 [==============================] - 46s 8ms/step - loss: 0.5081 - auc: 0.8478 - Accuracy: 0.7762 - precision: 0.7526 - recall: 0.8200 - val_loss: 0.4582 - val_auc: 0.8846 - val_Accuracy: 0.8068 - val_precision: 0.8016 - val_recall: 0.8203\n",
      "Epoch 38/50\n",
      "5510/5510 [==============================] - 46s 8ms/step - loss: 0.5086 - auc: 0.8480 - Accuracy: 0.7755 - precision: 0.7510 - recall: 0.8216 - val_loss: 0.4559 - val_auc: 0.8830 - val_Accuracy: 0.8048 - val_precision: 0.7881 - val_recall: 0.8388\n",
      "Epoch 39/50\n",
      "5510/5510 [==============================] - 45s 8ms/step - loss: 0.5062 - auc: 0.8494 - Accuracy: 0.7770 - precision: 0.7532 - recall: 0.8212 - val_loss: 0.4615 - val_auc: 0.8838 - val_Accuracy: 0.7967 - val_precision: 0.7546 - val_recall: 0.8850\n",
      "Epoch 40/50\n",
      "5510/5510 [==============================] - 47s 9ms/step - loss: 0.5071 - auc: 0.8482 - Accuracy: 0.7755 - precision: 0.7506 - recall: 0.8224 - val_loss: 0.4620 - val_auc: 0.8839 - val_Accuracy: 0.7979 - val_precision: 0.7584 - val_recall: 0.8801\n",
      "Epoch 41/50\n",
      "5510/5510 [==============================] - 46s 8ms/step - loss: 0.5063 - auc: 0.8492 - Accuracy: 0.7770 - precision: 0.7521 - recall: 0.8234 - val_loss: 0.4568 - val_auc: 0.8846 - val_Accuracy: 0.8032 - val_precision: 0.7760 - val_recall: 0.8578\n",
      "Epoch 42/50\n",
      "5510/5510 [==============================] - 46s 8ms/step - loss: 0.5082 - auc: 0.8478 - Accuracy: 0.7754 - precision: 0.7514 - recall: 0.8203 - val_loss: 0.4905 - val_auc: 0.8824 - val_Accuracy: 0.7665 - val_precision: 0.8608 - val_recall: 0.6411\n",
      "Epoch 43/50\n",
      "5510/5510 [==============================] - 46s 8ms/step - loss: 0.5066 - auc: 0.8488 - Accuracy: 0.7753 - precision: 0.7507 - recall: 0.8217 - val_loss: 0.4732 - val_auc: 0.8827 - val_Accuracy: 0.7908 - val_precision: 0.7393 - val_recall: 0.9046\n",
      "Epoch 44/50\n",
      "5510/5510 [==============================] - 46s 8ms/step - loss: 0.5058 - auc: 0.8496 - Accuracy: 0.7770 - precision: 0.7525 - recall: 0.8226 - val_loss: 0.4647 - val_auc: 0.8836 - val_Accuracy: 0.8041 - val_precision: 0.8095 - val_recall: 0.8003\n",
      "Epoch 45/50\n",
      "5510/5510 [==============================] - 46s 8ms/step - loss: 0.5061 - auc: 0.8495 - Accuracy: 0.7767 - precision: 0.7523 - recall: 0.8222 - val_loss: 0.4554 - val_auc: 0.8828 - val_Accuracy: 0.8029 - val_precision: 0.7863 - val_recall: 0.8369\n",
      "Epoch 46/50\n",
      "5510/5510 [==============================] - 47s 8ms/step - loss: 0.5057 - auc: 0.8492 - Accuracy: 0.7772 - precision: 0.7535 - recall: 0.8213 - val_loss: 0.4549 - val_auc: 0.8831 - val_Accuracy: 0.7984 - val_precision: 0.7661 - val_recall: 0.8645\n",
      "Epoch 47/50\n",
      "5510/5510 [==============================] - 46s 8ms/step - loss: 0.5068 - auc: 0.8490 - Accuracy: 0.7766 - precision: 0.7520 - recall: 0.8227 - val_loss: 0.4590 - val_auc: 0.8861 - val_Accuracy: 0.8049 - val_precision: 0.8190 - val_recall: 0.7875\n",
      "Epoch 48/50\n",
      "5510/5510 [==============================] - 47s 8ms/step - loss: 0.5060 - auc: 0.8494 - Accuracy: 0.7775 - precision: 0.7531 - recall: 0.8229 - val_loss: 0.4694 - val_auc: 0.8790 - val_Accuracy: 0.7905 - val_precision: 0.8314 - val_recall: 0.7337\n",
      "Epoch 49/50\n",
      "5510/5510 [==============================] - 46s 8ms/step - loss: 0.5064 - auc: 0.8485 - Accuracy: 0.7752 - precision: 0.7512 - recall: 0.8203 - val_loss: 0.4601 - val_auc: 0.8797 - val_Accuracy: 0.7999 - val_precision: 0.7670 - val_recall: 0.8670\n",
      "Epoch 50/50\n",
      "5510/5510 [==============================] - 46s 8ms/step - loss: 0.5077 - auc: 0.8483 - Accuracy: 0.7746 - precision: 0.7494 - recall: 0.8221 - val_loss: 0.4624 - val_auc: 0.8827 - val_Accuracy: 0.7983 - val_precision: 0.8221 - val_recall: 0.7663\n"
     ]
    }
   ],
   "source": [
    "callback = tf.keras.callbacks.EarlyStopping(monitor='loss', patience=5)\n",
    "\n",
    "model = keras.Sequential([\n",
    "        keras.layers.Flatten(input_shape=(200,1)),\n",
    "        keras.layers.Dense(128, activation='relu', kernel_regularizer=regularizers.l2(0.0001)),\n",
    "        keras.layers.Dropout(0.4),\n",
    "        keras.layers.Dense(8, activation='relu', kernel_regularizer=regularizers.l2(0.0001)),\n",
    "        keras.layers.Dropout(0.4),        \n",
    "        keras.layers.Dense(1, activation='sigmoid'),\n",
    "])\n",
    "\n",
    "model.compile(optimizer='adam',\n",
    "                  loss='binary_crossentropy',\n",
    "                  metrics=['AUC', \n",
    "                           'Accuracy',\n",
    "                           'Precision',\n",
    "                           'Recall'])\n",
    "\n",
    "history = model.fit(X_train, y_train, epochs=50, validation_data=(X_test, y_test), workers=4)"
   ]
  },
  {
   "cell_type": "markdown",
   "id": "fd1985c7-7607-4c44-b886-5c86956e6ad9",
   "metadata": {},
   "source": [
    "## Evaluate the Model"
   ]
  },
  {
   "cell_type": "markdown",
   "id": "d02e6464-5977-4958-99d9-07623fcb90ab",
   "metadata": {},
   "source": [
    "### Training vs Validation Plot - Loss, AUC, Accuracy, Precision, Recall "
   ]
  },
  {
   "cell_type": "code",
   "execution_count": 47,
   "id": "89b8aa93-d768-42e2-8eb7-22863f954075",
   "metadata": {
    "execution": {
     "iopub.execute_input": "2022-04-01T23:53:14.805754Z",
     "iopub.status.busy": "2022-04-01T23:53:14.804925Z",
     "iopub.status.idle": "2022-04-01T23:53:15.564323Z",
     "shell.execute_reply": "2022-04-01T23:53:15.563312Z",
     "shell.execute_reply.started": "2022-04-01T23:53:14.805723Z"
    }
   },
   "outputs": [
    {
     "data": {
      "image/png": "[encoded data removed]",
      "text/plain": [
       "<Figure size 432x288 with 1 Axes>"
      ]
     },
     "metadata": {
      "needs_background": "light"
     },
     "output_type": "display_data"
    },
    {
     "data": {
      "image/png": "[encoded data removed]",
      "text/plain": [
       "<Figure size 432x288 with 1 Axes>"
      ]
     },
     "metadata": {
      "needs_background": "light"
     },
     "output_type": "display_data"
    },
    {
     "data": {
      "image/png": "[encoded data removed]",
      "text/plain": [
       "<Figure size 432x288 with 1 Axes>"
      ]
     },
     "metadata": {
      "needs_background": "light"
     },
     "output_type": "display_data"
    },
    {
     "data": {
      "image/png": "[encoded data removed]",
      "text/plain": [
       "<Figure size 432x288 with 1 Axes>"
      ]
     },
     "metadata": {
      "needs_background": "light"
     },
     "output_type": "display_data"
    },
    {
     "data": {
      "image/png": "[encoded data removed]",
      "text/plain": [
       "<Figure size 432x288 with 1 Axes>"
      ]
     },
     "metadata": {
      "needs_background": "light"
     },
     "output_type": "display_data"
    }
   ],
   "source": [
    "# Loss\n",
    "plt.plot(history.history['loss'])\n",
    "plt.plot(history.history['val_loss'])\n",
    "plt.title('Model Loss')\n",
    "plt.ylabel('loss')\n",
    "plt.xlabel('epoch')\n",
    "plt.legend(['Train', 'Test'], loc='best')\n",
    "plt.show()\n",
    "\n",
    "# AUC\n",
    "plt.plot(history.history['auc'])\n",
    "plt.plot(history.history['val_auc'])\n",
    "plt.title('Model AUC')\n",
    "plt.ylabel('auc')\n",
    "plt.xlabel('epoch')\n",
    "plt.legend(['Train', 'Test'], loc='best')\n",
    "plt.show()\n",
    "\n",
    "# Accuracy\n",
    "plt.plot(history.history['Accuracy'])\n",
    "plt.plot(history.history['val_Accuracy'])\n",
    "plt.title('Model Accuracy')\n",
    "plt.ylabel('accuracy')\n",
    "plt.xlabel('epoch')\n",
    "plt.legend(['Train', 'Test'], loc='best')\n",
    "plt.show()\n",
    "\n",
    "# Precision\n",
    "plt.plot(history.history['precision'])\n",
    "plt.plot(history.history['val_precision'])\n",
    "plt.title('Model Precision')\n",
    "plt.ylabel('precision')\n",
    "plt.xlabel('epoch')\n",
    "plt.legend(['Train', 'Test'], loc='best')\n",
    "plt.show()\n",
    "\n",
    "# Recall\n",
    "plt.plot(history.history['recall'])\n",
    "plt.plot(history.history['val_recall'])\n",
    "plt.title('Model Recall')\n",
    "plt.ylabel('recall')\n",
    "plt.xlabel('epoch')\n",
    "plt.legend(['Train', 'Test'], loc='best')\n",
    "plt.show()\n",
    "\n"
   ]
  },
  {
   "cell_type": "code",
   "execution_count": 57,
   "id": "c54548d5-2254-42e8-8e85-477d2464630b",
   "metadata": {
    "execution": {
     "iopub.execute_input": "2022-04-02T00:10:45.851397Z",
     "iopub.status.busy": "2022-04-02T00:10:45.850983Z",
     "iopub.status.idle": "2022-04-02T00:10:49.604271Z",
     "shell.execute_reply": "2022-04-02T00:10:49.603657Z",
     "shell.execute_reply.started": "2022-04-02T00:10:45.851353Z"
    }
   },
   "outputs": [
    {
     "data": {
      "image/png": "[encoded data removed]",
      "text/plain": [
       "<Figure size 864x576 with 4 Axes>"
      ]
     },
     "metadata": {
      "needs_background": "light"
     },
     "output_type": "display_data"
    }
   ],
   "source": [
    "y_score = model.predict(X_test)[:,0]\n",
    "y_pred = list(map(lambda pred: 1 if pred > 0.5 else 0, y_score))\n",
    "\n",
    "\n",
    "# Confusion Matrix\n",
    "cm = confusion_matrix(y_test, y_pred)\n",
    "cm_display = ConfusionMatrixDisplay(cm)\n",
    "\n",
    "# ROC Curve\n",
    "fpr, tpr, _ = roc_curve(y_test, y_score)\n",
    "roc_display = RocCurveDisplay(fpr=fpr, tpr=tpr)\n",
    "\n",
    "# Precision-Recall Curve\n",
    "prec, recall, _ = precision_recall_curve(y_test, y_score)\n",
    "pr_display = PrecisionRecallDisplay(precision=prec, recall=recall)\n",
    "\n",
    "fig, (ax1, ax2, ax3) = plt.subplots(1, 3, figsize=(12, 8))\n",
    "cm_display.plot(ax=ax1)\n",
    "roc_display.plot(ax=ax2)\n",
    "pr_display.plot(ax=ax3)\n",
    "plt.show()"
   ]
  },
  {
   "cell_type": "code",
   "execution_count": 58,
   "id": "9d17e038-bfa7-43b2-8583-06b87d0e0cc8",
   "metadata": {
    "execution": {
     "iopub.execute_input": "2022-04-02T00:13:11.922113Z",
     "iopub.status.busy": "2022-04-02T00:13:11.921737Z",
     "iopub.status.idle": "2022-04-02T00:13:12.134647Z",
     "shell.execute_reply": "2022-04-02T00:13:12.133787Z",
     "shell.execute_reply.started": "2022-04-02T00:13:11.922086Z"
    }
   },
   "outputs": [
    {
     "name": "stdout",
     "output_type": "stream",
     "text": [
      "Accuracy:  0.7983165473338716\n",
      "Precision:  0.8221297181751701\n",
      "Recall:  0.7662865382094639\n",
      "F1-Score:  0.7932265023948765\n"
     ]
    }
   ],
   "source": [
    "print(\"Accuracy: \", accuracy_score(y_test, y_pred))\n",
    "print(\"Precision: \", precision_score(y_test, y_pred))\n",
    "print(\"Recall: \", recall_score(y_test, y_pred))\n",
    "print(\"F1-Score: \", f1_score(y_test, y_pred))"
   ]
  },
  {
   "cell_type": "code",
   "execution_count": null,
   "id": "20851597-7844-4358-89e8-406fedb3baf4",
   "metadata": {},
   "outputs": [],
   "source": []
  }
 ],
 "metadata": {
  "kernelspec": {
   "display_name": "Python 3 (ipykernel)",
   "language": "python",
   "name": "python3"
  },
  "language_info": {
   "codemirror_mode": {
    "name": "ipython",
    "version": 3
   },
   "file_extension": ".py",
   "mimetype": "text/x-python",
   "name": "python",
   "nbconvert_exporter": "python",
   "pygments_lexer": "ipython3",
   "version": "3.8.10"
  }
 },
 "nbformat": 4,
 "nbformat_minor": 5
}
