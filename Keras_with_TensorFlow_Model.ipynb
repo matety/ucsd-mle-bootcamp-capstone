{
 "cells": [
  {
   "cell_type": "markdown",
   "id": "3f5befc1-43f2-47e1-8ca5-640e8366bf65",
   "metadata": {},
   "source": [
    "# TensorFlow Model"
   ]
  },
  {
   "cell_type": "code",
   "execution_count": 16,
   "id": "af7bdabe-8e63-43df-9515-32f6fca4219d",
   "metadata": {
    "execution": {
     "iopub.execute_input": "2022-04-02T03:57:25.504377Z",
     "iopub.status.busy": "2022-04-02T03:57:25.503775Z",
     "iopub.status.idle": "2022-04-02T03:57:25.507581Z",
     "shell.execute_reply": "2022-04-02T03:57:25.507001Z",
     "shell.execute_reply.started": "2022-04-02T03:57:25.504349Z"
    }
   },
   "outputs": [],
   "source": [
    "#!pip uninstall scikit-learn -y\n",
    "#!pip install scikit-learn"
   ]
  },
  {
   "cell_type": "code",
   "execution_count": 17,
   "id": "34d1dec9-d260-4b65-9bb1-5383e3c9b99f",
   "metadata": {
    "execution": {
     "iopub.execute_input": "2022-04-02T03:57:25.517428Z",
     "iopub.status.busy": "2022-04-02T03:57:25.517050Z",
     "iopub.status.idle": "2022-04-02T03:57:25.521752Z",
     "shell.execute_reply": "2022-04-02T03:57:25.521159Z",
     "shell.execute_reply.started": "2022-04-02T03:57:25.517407Z"
    }
   },
   "outputs": [],
   "source": [
    "import warnings\n",
    "warnings.filterwarnings('ignore')\n",
    "\n",
    "%matplotlib inline\n",
    "import numpy as np\n",
    "import matplotlib.pyplot as plt\n",
    "import pandas as pd"
   ]
  },
  {
   "cell_type": "code",
   "execution_count": 18,
   "id": "6a07b770-0d94-4f09-90eb-67e9fd3b91c2",
   "metadata": {
    "execution": {
     "iopub.execute_input": "2022-04-02T03:57:25.523066Z",
     "iopub.status.busy": "2022-04-02T03:57:25.522921Z",
     "iopub.status.idle": "2022-04-02T03:57:25.527178Z",
     "shell.execute_reply": "2022-04-02T03:57:25.526645Z",
     "shell.execute_reply.started": "2022-04-02T03:57:25.523049Z"
    }
   },
   "outputs": [],
   "source": [
    "from sklearn.preprocessing import MinMaxScaler\n",
    "from sklearn.model_selection import train_test_split\n",
    "from sklearn.model_selection import RandomizedSearchCV\n",
    "from sklearn.pipeline import make_pipeline\n",
    "from sklearn.metrics import roc_curve, precision_recall_curve\n",
    "from sklearn.metrics import confusion_matrix, auc\n",
    "from sklearn.metrics import ConfusionMatrixDisplay, RocCurveDisplay, PrecisionRecallDisplay\n",
    "from sklearn.metrics import accuracy_score, precision_score, recall_score, f1_score"
   ]
  },
  {
   "cell_type": "code",
   "execution_count": 19,
   "id": "59d961c1-6447-4d93-9702-bd56b089e377",
   "metadata": {
    "execution": {
     "iopub.execute_input": "2022-04-02T03:57:25.608995Z",
     "iopub.status.busy": "2022-04-02T03:57:25.608815Z",
     "iopub.status.idle": "2022-04-02T03:57:28.021948Z",
     "shell.execute_reply": "2022-04-02T03:57:28.020800Z",
     "shell.execute_reply.started": "2022-04-02T03:57:25.608975Z"
    }
   },
   "outputs": [
    {
     "name": "stdout",
     "output_type": "stream",
     "text": [
      "Requirement already satisfied: imbalanced-learn in /usr/local/lib/python3.8/dist-packages (0.9.0)\n",
      "Requirement already satisfied: scikit-learn>=1.0.1 in /usr/local/lib/python3.8/dist-packages (from imbalanced-learn) (1.0.2)\n",
      "Requirement already satisfied: scipy>=1.1.0 in /usr/local/lib/python3.8/dist-packages (from imbalanced-learn) (1.4.1)\n",
      "Requirement already satisfied: numpy>=1.14.6 in /usr/local/lib/python3.8/dist-packages (from imbalanced-learn) (1.19.4)\n",
      "Requirement already satisfied: threadpoolctl>=2.0.0 in /usr/local/lib/python3.8/dist-packages (from imbalanced-learn) (3.1.0)\n",
      "Requirement already satisfied: joblib>=0.11 in /usr/local/lib/python3.8/dist-packages (from imbalanced-learn) (1.1.0)\n",
      "\u001b[33mWARNING: Running pip as the 'root' user can result in broken permissions and conflicting behaviour with the system package manager. It is recommended to use a virtual environment instead: https://pip.pypa.io/warnings/venv\u001b[0m\u001b[33m\n",
      "\u001b[0m\u001b[33mWARNING: You are using pip version 22.0.3; however, version 22.0.4 is available.\n",
      "You should consider upgrading via the '/usr/bin/python -m pip install --upgrade pip' command.\u001b[0m\u001b[33m\n",
      "\u001b[0m"
     ]
    }
   ],
   "source": [
    "!pip install imbalanced-learn"
   ]
  },
  {
   "cell_type": "code",
   "execution_count": 20,
   "id": "95351a5d-5e8e-4d76-85fc-b0e30330eaad",
   "metadata": {
    "execution": {
     "iopub.execute_input": "2022-04-02T03:57:28.026199Z",
     "iopub.status.busy": "2022-04-02T03:57:28.023672Z",
     "iopub.status.idle": "2022-04-02T03:57:28.044827Z",
     "shell.execute_reply": "2022-04-02T03:57:28.044166Z",
     "shell.execute_reply.started": "2022-04-02T03:57:28.026174Z"
    }
   },
   "outputs": [],
   "source": [
    "from imblearn.over_sampling import SMOTE\n",
    "from imblearn.under_sampling import RandomUnderSampler\n",
    "from imblearn.pipeline import Pipeline\n",
    "\n",
    "import tensorflow as tf\n",
    "from tensorflow import keras\n",
    "from keras import regularizers\n",
    "\n",
    "from numpy.random import seed\n",
    "seed(1)\n",
    "tf.random.set_seed(2)"
   ]
  },
  {
   "cell_type": "markdown",
   "id": "09c202c0-0fca-4d9b-82da-bd9c5f6bba19",
   "metadata": {},
   "source": [
    "## Load & Split data"
   ]
  },
  {
   "cell_type": "code",
   "execution_count": 21,
   "id": "ae15b86d-0ab0-4c91-9e29-df5ac76a23e3",
   "metadata": {
    "execution": {
     "iopub.execute_input": "2022-04-02T03:57:28.049587Z",
     "iopub.status.busy": "2022-04-02T03:57:28.049401Z",
     "iopub.status.idle": "2022-04-02T03:57:34.214678Z",
     "shell.execute_reply": "2022-04-02T03:57:34.214087Z",
     "shell.execute_reply.started": "2022-04-02T03:57:28.049563Z"
    }
   },
   "outputs": [
    {
     "data": {
      "text/html": [
       "<div>\n",
       "<style scoped>\n",
       "    .dataframe tbody tr th:only-of-type {\n",
       "        vertical-align: middle;\n",
       "    }\n",
       "\n",
       "    .dataframe tbody tr th {\n",
       "        vertical-align: top;\n",
       "    }\n",
       "\n",
       "    .dataframe thead th {\n",
       "        text-align: right;\n",
       "    }\n",
       "</style>\n",
       "<table border=\"1\" class=\"dataframe\">\n",
       "  <thead>\n",
       "    <tr style=\"text-align: right;\">\n",
       "      <th></th>\n",
       "      <th>ID_code</th>\n",
       "      <th>target</th>\n",
       "      <th>var_0</th>\n",
       "      <th>var_1</th>\n",
       "      <th>var_2</th>\n",
       "      <th>var_3</th>\n",
       "      <th>var_4</th>\n",
       "      <th>var_5</th>\n",
       "      <th>var_6</th>\n",
       "      <th>var_7</th>\n",
       "      <th>...</th>\n",
       "      <th>var_190</th>\n",
       "      <th>var_191</th>\n",
       "      <th>var_192</th>\n",
       "      <th>var_193</th>\n",
       "      <th>var_194</th>\n",
       "      <th>var_195</th>\n",
       "      <th>var_196</th>\n",
       "      <th>var_197</th>\n",
       "      <th>var_198</th>\n",
       "      <th>var_199</th>\n",
       "    </tr>\n",
       "  </thead>\n",
       "  <tbody>\n",
       "    <tr>\n",
       "      <th>0</th>\n",
       "      <td>train_0</td>\n",
       "      <td>0</td>\n",
       "      <td>8.9255</td>\n",
       "      <td>-6.7863</td>\n",
       "      <td>11.9081</td>\n",
       "      <td>5.0930</td>\n",
       "      <td>11.4607</td>\n",
       "      <td>-9.2834</td>\n",
       "      <td>5.1187</td>\n",
       "      <td>18.6266</td>\n",
       "      <td>...</td>\n",
       "      <td>4.4354</td>\n",
       "      <td>3.9642</td>\n",
       "      <td>3.1364</td>\n",
       "      <td>1.6910</td>\n",
       "      <td>18.5227</td>\n",
       "      <td>-2.3978</td>\n",
       "      <td>7.8784</td>\n",
       "      <td>8.5635</td>\n",
       "      <td>12.7803</td>\n",
       "      <td>-1.0914</td>\n",
       "    </tr>\n",
       "    <tr>\n",
       "      <th>1</th>\n",
       "      <td>train_1</td>\n",
       "      <td>0</td>\n",
       "      <td>11.5006</td>\n",
       "      <td>-4.1473</td>\n",
       "      <td>13.8588</td>\n",
       "      <td>5.3890</td>\n",
       "      <td>12.3622</td>\n",
       "      <td>7.0433</td>\n",
       "      <td>5.6208</td>\n",
       "      <td>16.5338</td>\n",
       "      <td>...</td>\n",
       "      <td>7.6421</td>\n",
       "      <td>7.7214</td>\n",
       "      <td>2.5837</td>\n",
       "      <td>10.9516</td>\n",
       "      <td>15.4305</td>\n",
       "      <td>2.0339</td>\n",
       "      <td>8.1267</td>\n",
       "      <td>8.7889</td>\n",
       "      <td>18.3560</td>\n",
       "      <td>1.9518</td>\n",
       "    </tr>\n",
       "    <tr>\n",
       "      <th>2</th>\n",
       "      <td>train_2</td>\n",
       "      <td>0</td>\n",
       "      <td>8.6093</td>\n",
       "      <td>-2.7457</td>\n",
       "      <td>12.0805</td>\n",
       "      <td>7.8928</td>\n",
       "      <td>10.5825</td>\n",
       "      <td>-9.0837</td>\n",
       "      <td>6.9427</td>\n",
       "      <td>14.6155</td>\n",
       "      <td>...</td>\n",
       "      <td>2.9057</td>\n",
       "      <td>9.7905</td>\n",
       "      <td>1.6704</td>\n",
       "      <td>1.6858</td>\n",
       "      <td>21.6042</td>\n",
       "      <td>3.1417</td>\n",
       "      <td>-6.5213</td>\n",
       "      <td>8.2675</td>\n",
       "      <td>14.7222</td>\n",
       "      <td>0.3965</td>\n",
       "    </tr>\n",
       "    <tr>\n",
       "      <th>3</th>\n",
       "      <td>train_3</td>\n",
       "      <td>0</td>\n",
       "      <td>11.0604</td>\n",
       "      <td>-2.1518</td>\n",
       "      <td>8.9522</td>\n",
       "      <td>7.1957</td>\n",
       "      <td>12.5846</td>\n",
       "      <td>-1.8361</td>\n",
       "      <td>5.8428</td>\n",
       "      <td>14.9250</td>\n",
       "      <td>...</td>\n",
       "      <td>4.4666</td>\n",
       "      <td>4.7433</td>\n",
       "      <td>0.7178</td>\n",
       "      <td>1.4214</td>\n",
       "      <td>23.0347</td>\n",
       "      <td>-1.2706</td>\n",
       "      <td>-2.9275</td>\n",
       "      <td>10.2922</td>\n",
       "      <td>17.9697</td>\n",
       "      <td>-8.9996</td>\n",
       "    </tr>\n",
       "    <tr>\n",
       "      <th>4</th>\n",
       "      <td>train_4</td>\n",
       "      <td>0</td>\n",
       "      <td>9.8369</td>\n",
       "      <td>-1.4834</td>\n",
       "      <td>12.8746</td>\n",
       "      <td>6.6375</td>\n",
       "      <td>12.2772</td>\n",
       "      <td>2.4486</td>\n",
       "      <td>5.9405</td>\n",
       "      <td>19.2514</td>\n",
       "      <td>...</td>\n",
       "      <td>-1.4905</td>\n",
       "      <td>9.5214</td>\n",
       "      <td>-0.1508</td>\n",
       "      <td>9.1942</td>\n",
       "      <td>13.2876</td>\n",
       "      <td>-1.5121</td>\n",
       "      <td>3.9267</td>\n",
       "      <td>9.5031</td>\n",
       "      <td>17.9974</td>\n",
       "      <td>-8.8104</td>\n",
       "    </tr>\n",
       "  </tbody>\n",
       "</table>\n",
       "<p>5 rows × 202 columns</p>\n",
       "</div>"
      ],
      "text/plain": [
       "   ID_code  target    var_0   var_1    var_2   var_3    var_4   var_5   var_6  \\\n",
       "0  train_0       0   8.9255 -6.7863  11.9081  5.0930  11.4607 -9.2834  5.1187   \n",
       "1  train_1       0  11.5006 -4.1473  13.8588  5.3890  12.3622  7.0433  5.6208   \n",
       "2  train_2       0   8.6093 -2.7457  12.0805  7.8928  10.5825 -9.0837  6.9427   \n",
       "3  train_3       0  11.0604 -2.1518   8.9522  7.1957  12.5846 -1.8361  5.8428   \n",
       "4  train_4       0   9.8369 -1.4834  12.8746  6.6375  12.2772  2.4486  5.9405   \n",
       "\n",
       "     var_7  ...  var_190  var_191  var_192  var_193  var_194  var_195  \\\n",
       "0  18.6266  ...   4.4354   3.9642   3.1364   1.6910  18.5227  -2.3978   \n",
       "1  16.5338  ...   7.6421   7.7214   2.5837  10.9516  15.4305   2.0339   \n",
       "2  14.6155  ...   2.9057   9.7905   1.6704   1.6858  21.6042   3.1417   \n",
       "3  14.9250  ...   4.4666   4.7433   0.7178   1.4214  23.0347  -1.2706   \n",
       "4  19.2514  ...  -1.4905   9.5214  -0.1508   9.1942  13.2876  -1.5121   \n",
       "\n",
       "   var_196  var_197  var_198  var_199  \n",
       "0   7.8784   8.5635  12.7803  -1.0914  \n",
       "1   8.1267   8.7889  18.3560   1.9518  \n",
       "2  -6.5213   8.2675  14.7222   0.3965  \n",
       "3  -2.9275  10.2922  17.9697  -8.9996  \n",
       "4   3.9267   9.5031  17.9974  -8.8104  \n",
       "\n",
       "[5 rows x 202 columns]"
      ]
     },
     "execution_count": 21,
     "metadata": {},
     "output_type": "execute_result"
    }
   ],
   "source": [
    "txns = pd.read_csv('./train.csv')\n",
    "txns.head()"
   ]
  },
  {
   "cell_type": "code",
   "execution_count": 22,
   "id": "535610e8-fed7-4bdd-be2d-2ec290f1fc99",
   "metadata": {
    "execution": {
     "iopub.execute_input": "2022-04-02T03:57:34.215914Z",
     "iopub.status.busy": "2022-04-02T03:57:34.215717Z",
     "iopub.status.idle": "2022-04-02T03:57:34.398952Z",
     "shell.execute_reply": "2022-04-02T03:57:34.398350Z",
     "shell.execute_reply.started": "2022-04-02T03:57:34.215893Z"
    }
   },
   "outputs": [
    {
     "name": "stdout",
     "output_type": "stream",
     "text": [
      "['var_0', 'var_1', 'var_2', 'var_3', 'var_4', 'var_5', 'var_6', 'var_7', 'var_8', 'var_9', 'var_10', 'var_11', 'var_12', 'var_13', 'var_14', 'var_15', 'var_16', 'var_17', 'var_18', 'var_19', 'var_20', 'var_21', 'var_22', 'var_23', 'var_24', 'var_25', 'var_26', 'var_27', 'var_28', 'var_29', 'var_30', 'var_31', 'var_32', 'var_33', 'var_34', 'var_35', 'var_36', 'var_37', 'var_38', 'var_39', 'var_40', 'var_41', 'var_42', 'var_43', 'var_44', 'var_45', 'var_46', 'var_47', 'var_48', 'var_49', 'var_50', 'var_51', 'var_52', 'var_53', 'var_54', 'var_55', 'var_56', 'var_57', 'var_58', 'var_59', 'var_60', 'var_61', 'var_62', 'var_63', 'var_64', 'var_65', 'var_66', 'var_67', 'var_68', 'var_69', 'var_70', 'var_71', 'var_72', 'var_73', 'var_74', 'var_75', 'var_76', 'var_77', 'var_78', 'var_79', 'var_80', 'var_81', 'var_82', 'var_83', 'var_84', 'var_85', 'var_86', 'var_87', 'var_88', 'var_89', 'var_90', 'var_91', 'var_92', 'var_93', 'var_94', 'var_95', 'var_96', 'var_97', 'var_98', 'var_99', 'var_100', 'var_101', 'var_102', 'var_103', 'var_104', 'var_105', 'var_106', 'var_107', 'var_108', 'var_109', 'var_110', 'var_111', 'var_112', 'var_113', 'var_114', 'var_115', 'var_116', 'var_117', 'var_118', 'var_119', 'var_120', 'var_121', 'var_122', 'var_123', 'var_124', 'var_125', 'var_126', 'var_127', 'var_128', 'var_129', 'var_130', 'var_131', 'var_132', 'var_133', 'var_134', 'var_135', 'var_136', 'var_137', 'var_138', 'var_139', 'var_140', 'var_141', 'var_142', 'var_143', 'var_144', 'var_145', 'var_146', 'var_147', 'var_148', 'var_149', 'var_150', 'var_151', 'var_152', 'var_153', 'var_154', 'var_155', 'var_156', 'var_157', 'var_158', 'var_159', 'var_160', 'var_161', 'var_162', 'var_163', 'var_164', 'var_165', 'var_166', 'var_167', 'var_168', 'var_169', 'var_170', 'var_171', 'var_172', 'var_173', 'var_174', 'var_175', 'var_176', 'var_177', 'var_178', 'var_179', 'var_180', 'var_181', 'var_182', 'var_183', 'var_184', 'var_185', 'var_186', 'var_187', 'var_188', 'var_189', 'var_190', 'var_191', 'var_192', 'var_193', 'var_194', 'var_195', 'var_196', 'var_197', 'var_198', 'var_199']\n"
     ]
    }
   ],
   "source": [
    "properties = list(txns.columns.values)\n",
    "properties.remove('ID_code')\n",
    "properties.remove('target')\n",
    "print(properties)\n",
    "X = txns[properties]\n",
    "y = txns['target']"
   ]
  },
  {
   "cell_type": "code",
   "execution_count": 23,
   "id": "718e49d6-d1b2-463d-8121-110c2fb07558",
   "metadata": {
    "execution": {
     "iopub.execute_input": "2022-04-02T03:57:34.400843Z",
     "iopub.status.busy": "2022-04-02T03:57:34.400665Z",
     "iopub.status.idle": "2022-04-02T03:57:34.421088Z",
     "shell.execute_reply": "2022-04-02T03:57:34.420527Z",
     "shell.execute_reply.started": "2022-04-02T03:57:34.400824Z"
    }
   },
   "outputs": [
    {
     "data": {
      "text/html": [
       "<div>\n",
       "<style scoped>\n",
       "    .dataframe tbody tr th:only-of-type {\n",
       "        vertical-align: middle;\n",
       "    }\n",
       "\n",
       "    .dataframe tbody tr th {\n",
       "        vertical-align: top;\n",
       "    }\n",
       "\n",
       "    .dataframe thead th {\n",
       "        text-align: right;\n",
       "    }\n",
       "</style>\n",
       "<table border=\"1\" class=\"dataframe\">\n",
       "  <thead>\n",
       "    <tr style=\"text-align: right;\">\n",
       "      <th></th>\n",
       "      <th>var_0</th>\n",
       "      <th>var_1</th>\n",
       "      <th>var_2</th>\n",
       "      <th>var_3</th>\n",
       "      <th>var_4</th>\n",
       "      <th>var_5</th>\n",
       "      <th>var_6</th>\n",
       "      <th>var_7</th>\n",
       "      <th>var_8</th>\n",
       "      <th>var_9</th>\n",
       "      <th>...</th>\n",
       "      <th>var_190</th>\n",
       "      <th>var_191</th>\n",
       "      <th>var_192</th>\n",
       "      <th>var_193</th>\n",
       "      <th>var_194</th>\n",
       "      <th>var_195</th>\n",
       "      <th>var_196</th>\n",
       "      <th>var_197</th>\n",
       "      <th>var_198</th>\n",
       "      <th>var_199</th>\n",
       "    </tr>\n",
       "  </thead>\n",
       "  <tbody>\n",
       "    <tr>\n",
       "      <th>0</th>\n",
       "      <td>8.9255</td>\n",
       "      <td>-6.7863</td>\n",
       "      <td>11.9081</td>\n",
       "      <td>5.0930</td>\n",
       "      <td>11.4607</td>\n",
       "      <td>-9.2834</td>\n",
       "      <td>5.1187</td>\n",
       "      <td>18.6266</td>\n",
       "      <td>-4.9200</td>\n",
       "      <td>5.7470</td>\n",
       "      <td>...</td>\n",
       "      <td>4.4354</td>\n",
       "      <td>3.9642</td>\n",
       "      <td>3.1364</td>\n",
       "      <td>1.6910</td>\n",
       "      <td>18.5227</td>\n",
       "      <td>-2.3978</td>\n",
       "      <td>7.8784</td>\n",
       "      <td>8.5635</td>\n",
       "      <td>12.7803</td>\n",
       "      <td>-1.0914</td>\n",
       "    </tr>\n",
       "    <tr>\n",
       "      <th>1</th>\n",
       "      <td>11.5006</td>\n",
       "      <td>-4.1473</td>\n",
       "      <td>13.8588</td>\n",
       "      <td>5.3890</td>\n",
       "      <td>12.3622</td>\n",
       "      <td>7.0433</td>\n",
       "      <td>5.6208</td>\n",
       "      <td>16.5338</td>\n",
       "      <td>3.1468</td>\n",
       "      <td>8.0851</td>\n",
       "      <td>...</td>\n",
       "      <td>7.6421</td>\n",
       "      <td>7.7214</td>\n",
       "      <td>2.5837</td>\n",
       "      <td>10.9516</td>\n",
       "      <td>15.4305</td>\n",
       "      <td>2.0339</td>\n",
       "      <td>8.1267</td>\n",
       "      <td>8.7889</td>\n",
       "      <td>18.3560</td>\n",
       "      <td>1.9518</td>\n",
       "    </tr>\n",
       "    <tr>\n",
       "      <th>2</th>\n",
       "      <td>8.6093</td>\n",
       "      <td>-2.7457</td>\n",
       "      <td>12.0805</td>\n",
       "      <td>7.8928</td>\n",
       "      <td>10.5825</td>\n",
       "      <td>-9.0837</td>\n",
       "      <td>6.9427</td>\n",
       "      <td>14.6155</td>\n",
       "      <td>-4.9193</td>\n",
       "      <td>5.9525</td>\n",
       "      <td>...</td>\n",
       "      <td>2.9057</td>\n",
       "      <td>9.7905</td>\n",
       "      <td>1.6704</td>\n",
       "      <td>1.6858</td>\n",
       "      <td>21.6042</td>\n",
       "      <td>3.1417</td>\n",
       "      <td>-6.5213</td>\n",
       "      <td>8.2675</td>\n",
       "      <td>14.7222</td>\n",
       "      <td>0.3965</td>\n",
       "    </tr>\n",
       "    <tr>\n",
       "      <th>3</th>\n",
       "      <td>11.0604</td>\n",
       "      <td>-2.1518</td>\n",
       "      <td>8.9522</td>\n",
       "      <td>7.1957</td>\n",
       "      <td>12.5846</td>\n",
       "      <td>-1.8361</td>\n",
       "      <td>5.8428</td>\n",
       "      <td>14.9250</td>\n",
       "      <td>-5.8609</td>\n",
       "      <td>8.2450</td>\n",
       "      <td>...</td>\n",
       "      <td>4.4666</td>\n",
       "      <td>4.7433</td>\n",
       "      <td>0.7178</td>\n",
       "      <td>1.4214</td>\n",
       "      <td>23.0347</td>\n",
       "      <td>-1.2706</td>\n",
       "      <td>-2.9275</td>\n",
       "      <td>10.2922</td>\n",
       "      <td>17.9697</td>\n",
       "      <td>-8.9996</td>\n",
       "    </tr>\n",
       "    <tr>\n",
       "      <th>4</th>\n",
       "      <td>9.8369</td>\n",
       "      <td>-1.4834</td>\n",
       "      <td>12.8746</td>\n",
       "      <td>6.6375</td>\n",
       "      <td>12.2772</td>\n",
       "      <td>2.4486</td>\n",
       "      <td>5.9405</td>\n",
       "      <td>19.2514</td>\n",
       "      <td>6.2654</td>\n",
       "      <td>7.6784</td>\n",
       "      <td>...</td>\n",
       "      <td>-1.4905</td>\n",
       "      <td>9.5214</td>\n",
       "      <td>-0.1508</td>\n",
       "      <td>9.1942</td>\n",
       "      <td>13.2876</td>\n",
       "      <td>-1.5121</td>\n",
       "      <td>3.9267</td>\n",
       "      <td>9.5031</td>\n",
       "      <td>17.9974</td>\n",
       "      <td>-8.8104</td>\n",
       "    </tr>\n",
       "  </tbody>\n",
       "</table>\n",
       "<p>5 rows × 200 columns</p>\n",
       "</div>"
      ],
      "text/plain": [
       "     var_0   var_1    var_2   var_3    var_4   var_5   var_6    var_7   var_8  \\\n",
       "0   8.9255 -6.7863  11.9081  5.0930  11.4607 -9.2834  5.1187  18.6266 -4.9200   \n",
       "1  11.5006 -4.1473  13.8588  5.3890  12.3622  7.0433  5.6208  16.5338  3.1468   \n",
       "2   8.6093 -2.7457  12.0805  7.8928  10.5825 -9.0837  6.9427  14.6155 -4.9193   \n",
       "3  11.0604 -2.1518   8.9522  7.1957  12.5846 -1.8361  5.8428  14.9250 -5.8609   \n",
       "4   9.8369 -1.4834  12.8746  6.6375  12.2772  2.4486  5.9405  19.2514  6.2654   \n",
       "\n",
       "    var_9  ...  var_190  var_191  var_192  var_193  var_194  var_195  var_196  \\\n",
       "0  5.7470  ...   4.4354   3.9642   3.1364   1.6910  18.5227  -2.3978   7.8784   \n",
       "1  8.0851  ...   7.6421   7.7214   2.5837  10.9516  15.4305   2.0339   8.1267   \n",
       "2  5.9525  ...   2.9057   9.7905   1.6704   1.6858  21.6042   3.1417  -6.5213   \n",
       "3  8.2450  ...   4.4666   4.7433   0.7178   1.4214  23.0347  -1.2706  -2.9275   \n",
       "4  7.6784  ...  -1.4905   9.5214  -0.1508   9.1942  13.2876  -1.5121   3.9267   \n",
       "\n",
       "   var_197  var_198  var_199  \n",
       "0   8.5635  12.7803  -1.0914  \n",
       "1   8.7889  18.3560   1.9518  \n",
       "2   8.2675  14.7222   0.3965  \n",
       "3  10.2922  17.9697  -8.9996  \n",
       "4   9.5031  17.9974  -8.8104  \n",
       "\n",
       "[5 rows x 200 columns]"
      ]
     },
     "execution_count": 23,
     "metadata": {},
     "output_type": "execute_result"
    }
   ],
   "source": [
    "X.head()"
   ]
  },
  {
   "cell_type": "code",
   "execution_count": 24,
   "id": "9760bbec-4c93-4214-ab33-b0d060e1c28c",
   "metadata": {
    "execution": {
     "iopub.execute_input": "2022-04-02T03:57:34.422330Z",
     "iopub.status.busy": "2022-04-02T03:57:34.422170Z",
     "iopub.status.idle": "2022-04-02T03:57:34.427357Z",
     "shell.execute_reply": "2022-04-02T03:57:34.426429Z",
     "shell.execute_reply.started": "2022-04-02T03:57:34.422310Z"
    }
   },
   "outputs": [
    {
     "data": {
      "text/plain": [
       "0    0\n",
       "1    0\n",
       "2    0\n",
       "3    0\n",
       "4    0\n",
       "Name: target, dtype: int64"
      ]
     },
     "execution_count": 24,
     "metadata": {},
     "output_type": "execute_result"
    }
   ],
   "source": [
    "y.head()"
   ]
  },
  {
   "cell_type": "markdown",
   "id": "34ce9879-3069-4bc5-a295-dcf3ae5ecb52",
   "metadata": {},
   "source": [
    "## SMOTE - Minority Oversampling"
   ]
  },
  {
   "cell_type": "code",
   "execution_count": 25,
   "id": "4b845ea5-5f3f-45bd-a3fe-b303705a75c7",
   "metadata": {
    "execution": {
     "iopub.execute_input": "2022-04-02T03:57:34.428422Z",
     "iopub.status.busy": "2022-04-02T03:57:34.428262Z",
     "iopub.status.idle": "2022-04-02T03:57:48.811756Z",
     "shell.execute_reply": "2022-04-02T03:57:48.811141Z",
     "shell.execute_reply.started": "2022-04-02T03:57:34.428404Z"
    }
   },
   "outputs": [
    {
     "data": {
      "text/plain": [
       "[]"
      ]
     },
     "execution_count": 25,
     "metadata": {},
     "output_type": "execute_result"
    },
    {
     "data": {
      "image/png": "[encoded data removed]",
      "text/plain": [
       "<Figure size 432x288 with 1 Axes>"
      ]
     },
     "metadata": {
      "needs_background": "light"
     },
     "output_type": "display_data"
    }
   ],
   "source": [
    "over = SMOTE(sampling_strategy=0.7, random_state=11, k_neighbors=7)\n",
    "under = RandomUnderSampler(sampling_strategy=1, random_state=11)\n",
    "\n",
    "steps = [('o', over), ('u', under)]\n",
    "pipeline = Pipeline(steps=steps)\n",
    "\n",
    "# transform the dataset\n",
    "X, y = pipeline.fit_resample(X, y)\n",
    "\n",
    "# Check the class distribution\n",
    "pd.concat([X, y], axis=1).pivot_table(index='target', aggfunc='size').plot(kind='bar', title = 'Class distribution').plot()"
   ]
  },
  {
   "cell_type": "code",
   "execution_count": 26,
   "id": "bae509f3-ab4a-4e77-b7d4-ae1a3bb45748",
   "metadata": {
    "execution": {
     "iopub.execute_input": "2022-04-02T03:57:48.812863Z",
     "iopub.status.busy": "2022-04-02T03:57:48.812699Z",
     "iopub.status.idle": "2022-04-02T03:57:49.396272Z",
     "shell.execute_reply": "2022-04-02T03:57:49.395360Z",
     "shell.execute_reply.started": "2022-04-02T03:57:48.812843Z"
    }
   },
   "outputs": [],
   "source": [
    "# Split the data into training and test set with a ration of 0.7:0.3 and constant random\n",
    "X_train, X_test, y_train, y_test = train_test_split(X, y, test_size=0.3, random_state=11, stratify=y)"
   ]
  },
  {
   "cell_type": "markdown",
   "id": "29a0f1c5-72c1-4660-a2da-48e553951f99",
   "metadata": {},
   "source": [
    "## Model Creation, Compiling & Fitting"
   ]
  },
  {
   "cell_type": "code",
   "execution_count": 27,
   "id": "5e5e6ef0-99ce-42a8-90d1-6726d659ccc9",
   "metadata": {
    "execution": {
     "iopub.execute_input": "2022-04-02T03:57:49.397506Z",
     "iopub.status.busy": "2022-04-02T03:57:49.397323Z",
     "iopub.status.idle": "2022-04-02T04:14:48.651545Z",
     "shell.execute_reply": "2022-04-02T04:14:48.651004Z",
     "shell.execute_reply.started": "2022-04-02T03:57:49.397485Z"
    }
   },
   "outputs": [
    {
     "name": "stdout",
     "output_type": "stream",
     "text": [
      "Epoch 1/100\n",
      "5510/5510 [==============================] - 34s 6ms/step - loss: 0.6792 - auc: 0.5807 - Accuracy: 0.5506 - precision: 0.5319 - recall: 0.8440 - val_loss: 0.6193 - val_auc: 0.7752 - val_Accuracy: 0.6897 - val_precision: 0.6258 - val_recall: 0.9432\n",
      "Epoch 2/100\n",
      "5510/5510 [==============================] - 32s 6ms/step - loss: 0.5638 - auc: 0.7828 - Accuracy: 0.7131 - precision: 0.6755 - recall: 0.8202 - val_loss: 0.4819 - val_auc: 0.8513 - val_Accuracy: 0.7726 - val_precision: 0.7609 - val_recall: 0.7951\n",
      "Epoch 3/100\n",
      "5510/5510 [==============================] - 35s 6ms/step - loss: 0.5229 - auc: 0.8243 - Accuracy: 0.7502 - precision: 0.7187 - recall: 0.8221 - val_loss: 0.4911 - val_auc: 0.8569 - val_Accuracy: 0.7649 - val_precision: 0.8136 - val_recall: 0.6872\n",
      "Epoch 4/100\n",
      "5510/5510 [==============================] - 33s 6ms/step - loss: 0.5125 - auc: 0.8321 - Accuracy: 0.7579 - precision: 0.7274 - recall: 0.8248 - val_loss: 0.4608 - val_auc: 0.8666 - val_Accuracy: 0.7862 - val_precision: 0.7683 - val_recall: 0.8195\n",
      "Epoch 5/100\n",
      "5510/5510 [==============================] - 33s 6ms/step - loss: 0.5060 - auc: 0.8369 - Accuracy: 0.7622 - precision: 0.7325 - recall: 0.8258 - val_loss: 0.4865 - val_auc: 0.8683 - val_Accuracy: 0.7718 - val_precision: 0.8305 - val_recall: 0.6831\n",
      "Epoch 6/100\n",
      "5510/5510 [==============================] - 32s 6ms/step - loss: 0.5004 - auc: 0.8406 - Accuracy: 0.7659 - precision: 0.7363 - recall: 0.8285 - val_loss: 0.4539 - val_auc: 0.8719 - val_Accuracy: 0.7909 - val_precision: 0.7693 - val_recall: 0.8311\n",
      "Epoch 7/100\n",
      "5510/5510 [==============================] - 33s 6ms/step - loss: 0.4992 - auc: 0.8414 - Accuracy: 0.7678 - precision: 0.7376 - recall: 0.8312 - val_loss: 0.4471 - val_auc: 0.8769 - val_Accuracy: 0.7972 - val_precision: 0.7730 - val_recall: 0.8415\n",
      "Epoch 8/100\n",
      "5510/5510 [==============================] - 33s 6ms/step - loss: 0.4965 - auc: 0.8437 - Accuracy: 0.7689 - precision: 0.7391 - recall: 0.8313 - val_loss: 0.4575 - val_auc: 0.8741 - val_Accuracy: 0.7890 - val_precision: 0.8166 - val_recall: 0.7454\n",
      "Epoch 9/100\n",
      "5510/5510 [==============================] - 32s 6ms/step - loss: 0.4936 - auc: 0.8456 - Accuracy: 0.7710 - precision: 0.7422 - recall: 0.8306 - val_loss: 0.4551 - val_auc: 0.8782 - val_Accuracy: 0.7980 - val_precision: 0.7640 - val_recall: 0.8623\n",
      "Epoch 10/100\n",
      "5510/5510 [==============================] - 36s 6ms/step - loss: 0.4921 - auc: 0.8466 - Accuracy: 0.7718 - precision: 0.7424 - recall: 0.8325 - val_loss: 0.4449 - val_auc: 0.8762 - val_Accuracy: 0.7959 - val_precision: 0.7833 - val_recall: 0.8182\n",
      "Epoch 11/100\n",
      "5510/5510 [==============================] - 32s 6ms/step - loss: 0.4915 - auc: 0.8471 - Accuracy: 0.7718 - precision: 0.7418 - recall: 0.8339 - val_loss: 0.4413 - val_auc: 0.8780 - val_Accuracy: 0.7986 - val_precision: 0.7893 - val_recall: 0.8148\n",
      "Epoch 12/100\n",
      "5510/5510 [==============================] - 33s 6ms/step - loss: 0.4901 - auc: 0.8484 - Accuracy: 0.7743 - precision: 0.7441 - recall: 0.8361 - val_loss: 0.4365 - val_auc: 0.8813 - val_Accuracy: 0.7999 - val_precision: 0.7765 - val_recall: 0.8423\n",
      "Epoch 13/100\n",
      "5510/5510 [==============================] - 32s 6ms/step - loss: 0.4880 - auc: 0.8497 - Accuracy: 0.7749 - precision: 0.7454 - recall: 0.8351 - val_loss: 0.4517 - val_auc: 0.8789 - val_Accuracy: 0.7948 - val_precision: 0.8169 - val_recall: 0.7601\n",
      "Epoch 14/100\n",
      "5510/5510 [==============================] - 36s 6ms/step - loss: 0.4871 - auc: 0.8500 - Accuracy: 0.7755 - precision: 0.7456 - recall: 0.8365 - val_loss: 0.4394 - val_auc: 0.8811 - val_Accuracy: 0.8032 - val_precision: 0.7765 - val_recall: 0.8515\n",
      "Epoch 15/100\n",
      "5510/5510 [==============================] - 32s 6ms/step - loss: 0.4855 - auc: 0.8505 - Accuracy: 0.7770 - precision: 0.7475 - recall: 0.8368 - val_loss: 0.4420 - val_auc: 0.8827 - val_Accuracy: 0.8038 - val_precision: 0.7772 - val_recall: 0.8517\n",
      "Epoch 16/100\n",
      "5510/5510 [==============================] - 32s 6ms/step - loss: 0.4851 - auc: 0.8519 - Accuracy: 0.7766 - precision: 0.7476 - recall: 0.8350 - val_loss: 0.4406 - val_auc: 0.8830 - val_Accuracy: 0.7965 - val_precision: 0.7518 - val_recall: 0.8852\n",
      "Epoch 17/100\n",
      "5510/5510 [==============================] - 32s 6ms/step - loss: 0.4850 - auc: 0.8513 - Accuracy: 0.7771 - precision: 0.7471 - recall: 0.8377 - val_loss: 0.4362 - val_auc: 0.8827 - val_Accuracy: 0.7991 - val_precision: 0.7638 - val_recall: 0.8660\n",
      "Epoch 18/100\n",
      "5510/5510 [==============================] - 32s 6ms/step - loss: 0.4828 - auc: 0.8531 - Accuracy: 0.7787 - precision: 0.7488 - recall: 0.8389 - val_loss: 0.4338 - val_auc: 0.8837 - val_Accuracy: 0.8066 - val_precision: 0.7838 - val_recall: 0.8469\n",
      "Epoch 19/100\n",
      "5510/5510 [==============================] - 32s 6ms/step - loss: 0.4830 - auc: 0.8528 - Accuracy: 0.7787 - precision: 0.7476 - recall: 0.8417 - val_loss: 0.4368 - val_auc: 0.8850 - val_Accuracy: 0.8060 - val_precision: 0.7761 - val_recall: 0.8599\n",
      "Epoch 20/100\n",
      "5510/5510 [==============================] - 32s 6ms/step - loss: 0.4825 - auc: 0.8534 - Accuracy: 0.7788 - precision: 0.7487 - recall: 0.8394 - val_loss: 0.4479 - val_auc: 0.8836 - val_Accuracy: 0.7887 - val_precision: 0.7338 - val_recall: 0.9060\n",
      "Epoch 21/100\n",
      "5510/5510 [==============================] - 35s 6ms/step - loss: 0.4824 - auc: 0.8531 - Accuracy: 0.7789 - precision: 0.7477 - recall: 0.8420 - val_loss: 0.4308 - val_auc: 0.8852 - val_Accuracy: 0.8076 - val_precision: 0.7930 - val_recall: 0.8327\n",
      "Epoch 22/100\n",
      "5510/5510 [==============================] - 32s 6ms/step - loss: 0.4814 - auc: 0.8544 - Accuracy: 0.7808 - precision: 0.7511 - recall: 0.8401 - val_loss: 0.4350 - val_auc: 0.8835 - val_Accuracy: 0.8054 - val_precision: 0.8008 - val_recall: 0.8131\n",
      "Epoch 23/100\n",
      "5510/5510 [==============================] - 32s 6ms/step - loss: 0.4799 - auc: 0.8551 - Accuracy: 0.7806 - precision: 0.7490 - recall: 0.8441 - val_loss: 0.4392 - val_auc: 0.8828 - val_Accuracy: 0.8037 - val_precision: 0.7966 - val_recall: 0.8157\n",
      "Epoch 24/100\n",
      "5510/5510 [==============================] - 32s 6ms/step - loss: 0.4807 - auc: 0.8548 - Accuracy: 0.7803 - precision: 0.7494 - recall: 0.8420 - val_loss: 0.4339 - val_auc: 0.8862 - val_Accuracy: 0.8083 - val_precision: 0.8096 - val_recall: 0.8061\n",
      "Epoch 25/100\n",
      "5510/5510 [==============================] - 32s 6ms/step - loss: 0.4790 - auc: 0.8555 - Accuracy: 0.7808 - precision: 0.7494 - recall: 0.8438 - val_loss: 0.4352 - val_auc: 0.8865 - val_Accuracy: 0.8084 - val_precision: 0.7955 - val_recall: 0.8304\n",
      "Epoch 26/100\n",
      "5510/5510 [==============================] - 35s 6ms/step - loss: 0.4786 - auc: 0.8558 - Accuracy: 0.7805 - precision: 0.7499 - recall: 0.8416 - val_loss: 0.4287 - val_auc: 0.8858 - val_Accuracy: 0.8026 - val_precision: 0.7687 - val_recall: 0.8657\n",
      "Epoch 27/100\n",
      "5510/5510 [==============================] - 32s 6ms/step - loss: 0.4781 - auc: 0.8567 - Accuracy: 0.7824 - precision: 0.7513 - recall: 0.8441 - val_loss: 0.4350 - val_auc: 0.8864 - val_Accuracy: 0.8075 - val_precision: 0.8078 - val_recall: 0.8070\n",
      "Epoch 28/100\n",
      "5510/5510 [==============================] - 32s 6ms/step - loss: 0.4761 - auc: 0.8574 - Accuracy: 0.7822 - precision: 0.7525 - recall: 0.8411 - val_loss: 0.4327 - val_auc: 0.8874 - val_Accuracy: 0.8083 - val_precision: 0.8073 - val_recall: 0.8099\n",
      "Epoch 29/100\n",
      "5510/5510 [==============================] - 32s 6ms/step - loss: 0.4769 - auc: 0.8568 - Accuracy: 0.7822 - precision: 0.7508 - recall: 0.8449 - val_loss: 0.4480 - val_auc: 0.8832 - val_Accuracy: 0.7961 - val_precision: 0.8279 - val_recall: 0.7474\n",
      "Epoch 30/100\n",
      "5510/5510 [==============================] - 32s 6ms/step - loss: 0.4770 - auc: 0.8572 - Accuracy: 0.7835 - precision: 0.7522 - recall: 0.8453 - val_loss: 0.4480 - val_auc: 0.8876 - val_Accuracy: 0.7879 - val_precision: 0.7276 - val_recall: 0.9204\n",
      "Epoch 31/100\n",
      "5510/5510 [==============================] - 32s 6ms/step - loss: 0.4772 - auc: 0.8572 - Accuracy: 0.7833 - precision: 0.7522 - recall: 0.8449 - val_loss: 0.4267 - val_auc: 0.8884 - val_Accuracy: 0.8109 - val_precision: 0.7962 - val_recall: 0.8358\n"
     ]
    }
   ],
   "source": [
    "earlyStopping = tf.keras.callbacks.EarlyStopping(monitor='loss', patience=3)\n",
    "\n",
    "model = keras.Sequential([\n",
    "        keras.layers.Flatten(input_shape=(200,1)),\n",
    "        keras.layers.Dense(128, activation='relu'),\n",
    "        keras.layers.Dropout(0.4),\n",
    "        keras.layers.Dense(8, activation='relu'),\n",
    "        keras.layers.Dropout(0.4),        \n",
    "        keras.layers.Dense(1, activation='sigmoid'),\n",
    "])\n",
    "\n",
    "model.compile(optimizer='adam',\n",
    "                  loss='binary_crossentropy',\n",
    "                  metrics=['AUC', \n",
    "                           'Accuracy',\n",
    "                           'Precision',\n",
    "                           'Recall'])\n",
    "\n",
    "history = model.fit(X_train, y_train, epochs=100, validation_data=(X_test, y_test),\n",
    "                  callbacks=[earlyStopping])"
   ]
  },
  {
   "cell_type": "markdown",
   "id": "fd1985c7-7607-4c44-b886-5c86956e6ad9",
   "metadata": {},
   "source": [
    "## Evaluate the Model"
   ]
  },
  {
   "cell_type": "markdown",
   "id": "d02e6464-5977-4958-99d9-07623fcb90ab",
   "metadata": {},
   "source": [
    "### Training vs Validation Plot - Loss, AUC, Accuracy, Precision, Recall "
   ]
  },
  {
   "cell_type": "code",
   "execution_count": 28,
   "id": "89b8aa93-d768-42e2-8eb7-22863f954075",
   "metadata": {
    "execution": {
     "iopub.execute_input": "2022-04-02T04:14:48.653339Z",
     "iopub.status.busy": "2022-04-02T04:14:48.653174Z",
     "iopub.status.idle": "2022-04-02T04:14:49.201621Z",
     "shell.execute_reply": "2022-04-02T04:14:49.201005Z",
     "shell.execute_reply.started": "2022-04-02T04:14:48.653319Z"
    }
   },
   "outputs": [
    {
     "data": {
      "image/png": "[encoded data removed]",
      "text/plain": [
       "<Figure size 432x288 with 1 Axes>"
      ]
     },
     "metadata": {
      "needs_background": "light"
     },
     "output_type": "display_data"
    },
    {
     "data": {
      "image/png": "[encoded data removed]",
      "text/plain": [
       "<Figure size 432x288 with 1 Axes>"
      ]
     },
     "metadata": {
      "needs_background": "light"
     },
     "output_type": "display_data"
    },
    {
     "data": {
      "image/png": "[encoded data removed]",
      "text/plain": [
       "<Figure size 432x288 with 1 Axes>"
      ]
     },
     "metadata": {
      "needs_background": "light"
     },
     "output_type": "display_data"
    },
    {
     "data": {
      "image/png": "[encoded data removed]",
      "text/plain": [
       "<Figure size 432x288 with 1 Axes>"
      ]
     },
     "metadata": {
      "needs_background": "light"
     },
     "output_type": "display_data"
    },
    {
     "data": {
      "image/png": "[encoded data removed]",
      "text/plain": [
       "<Figure size 432x288 with 1 Axes>"
      ]
     },
     "metadata": {
      "needs_background": "light"
     },
     "output_type": "display_data"
    }
   ],
   "source": [
    "# Loss\n",
    "plt.plot(history.history['loss'])\n",
    "plt.plot(history.history['val_loss'])\n",
    "plt.title('Model Loss')\n",
    "plt.ylabel('loss')\n",
    "plt.xlabel('epoch')\n",
    "plt.legend(['Train', 'Test'], loc='best')\n",
    "plt.show()\n",
    "\n",
    "# AUC\n",
    "plt.plot(history.history['auc'])\n",
    "plt.plot(history.history['val_auc'])\n",
    "plt.title('Model AUC')\n",
    "plt.ylabel('auc')\n",
    "plt.xlabel('epoch')\n",
    "plt.legend(['Train', 'Test'], loc='best')\n",
    "plt.show()\n",
    "\n",
    "# Accuracy\n",
    "plt.plot(history.history['Accuracy'])\n",
    "plt.plot(history.history['val_Accuracy'])\n",
    "plt.title('Model Accuracy')\n",
    "plt.ylabel('accuracy')\n",
    "plt.xlabel('epoch')\n",
    "plt.legend(['Train', 'Test'], loc='best')\n",
    "plt.show()\n",
    "\n",
    "# Precision\n",
    "plt.plot(history.history['precision'])\n",
    "plt.plot(history.history['val_precision'])\n",
    "plt.title('Model Precision')\n",
    "plt.ylabel('precision')\n",
    "plt.xlabel('epoch')\n",
    "plt.legend(['Train', 'Test'], loc='best')\n",
    "plt.show()\n",
    "\n",
    "# Recall\n",
    "plt.plot(history.history['recall'])\n",
    "plt.plot(history.history['val_recall'])\n",
    "plt.title('Model Recall')\n",
    "plt.ylabel('recall')\n",
    "plt.xlabel('epoch')\n",
    "plt.legend(['Train', 'Test'], loc='best')\n",
    "plt.show()\n",
    "\n"
   ]
  },
  {
   "cell_type": "code",
   "execution_count": 29,
   "id": "c54548d5-2254-42e8-8e85-477d2464630b",
   "metadata": {
    "execution": {
     "iopub.execute_input": "2022-04-02T04:14:49.202711Z",
     "iopub.status.busy": "2022-04-02T04:14:49.202533Z",
     "iopub.status.idle": "2022-04-02T04:14:52.304820Z",
     "shell.execute_reply": "2022-04-02T04:14:52.304052Z",
     "shell.execute_reply.started": "2022-04-02T04:14:49.202691Z"
    }
   },
   "outputs": [
    {
     "data": {
      "image/png": "[encoded data removed]",
      "text/plain": [
       "<Figure size 864x576 with 4 Axes>"
      ]
     },
     "metadata": {
      "needs_background": "light"
     },
     "output_type": "display_data"
    }
   ],
   "source": [
    "y_score = model.predict(X_test)[:,0]\n",
    "y_pred = list(map(lambda pred: 1 if pred > 0.5 else 0, y_score))\n",
    "\n",
    "\n",
    "# Confusion Matrix\n",
    "cm = confusion_matrix(y_test, y_pred)\n",
    "cm_display = ConfusionMatrixDisplay(cm)\n",
    "\n",
    "# ROC Curve\n",
    "fpr, tpr, _ = roc_curve(y_test, y_score)\n",
    "roc_display = RocCurveDisplay(fpr=fpr, tpr=tpr)\n",
    "\n",
    "# Precision-Recall Curve\n",
    "prec, recall, _ = precision_recall_curve(y_test, y_score)\n",
    "pr_display = PrecisionRecallDisplay(precision=prec, recall=recall)\n",
    "\n",
    "fig, (ax1, ax2, ax3) = plt.subplots(1, 3, figsize=(12, 8))\n",
    "cm_display.plot(ax=ax1)\n",
    "roc_display.plot(ax=ax2)\n",
    "pr_display.plot(ax=ax3)\n",
    "plt.show()"
   ]
  },
  {
   "cell_type": "code",
   "execution_count": 30,
   "id": "10801f76-8f7c-480a-9cc9-5ac9208faa23",
   "metadata": {
    "execution": {
     "iopub.execute_input": "2022-04-02T04:14:52.306318Z",
     "iopub.status.busy": "2022-04-02T04:14:52.305848Z",
     "iopub.status.idle": "2022-04-02T04:14:52.518964Z",
     "shell.execute_reply": "2022-04-02T04:14:52.518157Z",
     "shell.execute_reply.started": "2022-04-02T04:14:52.306295Z"
    }
   },
   "outputs": [
    {
     "name": "stdout",
     "output_type": "stream",
     "text": [
      "Accuracy:  0.8109424423298349\n",
      "Precision:  0.796212713381578\n",
      "Recall:  0.8358125992588671\n",
      "F1-Score:  0.8155322253644803\n"
     ]
    }
   ],
   "source": [
    "print(\"Accuracy: \", accuracy_score(y_test, y_pred))\n",
    "print(\"Precision: \", precision_score(y_test, y_pred))\n",
    "print(\"Recall: \", recall_score(y_test, y_pred))\n",
    "print(\"F1-Score: \", f1_score(y_test, y_pred))"
   ]
  }
 ],
 "metadata": {
  "kernelspec": {
   "display_name": "Python 3 (ipykernel)",
   "language": "python",
   "name": "python3"
  },
  "language_info": {
   "codemirror_mode": {
    "name": "ipython",
    "version": 3
   },
   "file_extension": ".py",
   "mimetype": "text/x-python",
   "name": "python",
   "nbconvert_exporter": "python",
   "pygments_lexer": "ipython3",
   "version": "3.8.10"
  }
 },
 "nbformat": 4,
 "nbformat_minor": 5
}
