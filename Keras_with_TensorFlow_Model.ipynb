{
 "cells": [
  {
   "cell_type": "markdown",
   "id": "3f5befc1-43f2-47e1-8ca5-640e8366bf65",
   "metadata": {},
   "source": [
    "# TensorFlow Model"
   ]
  },
  {
   "cell_type": "code",
   "execution_count": 23,
   "id": "af7bdabe-8e63-43df-9515-32f6fca4219d",
   "metadata": {
    "execution": {
     "iopub.execute_input": "2022-04-01T21:36:44.043908Z",
     "iopub.status.busy": "2022-04-01T21:36:44.043313Z",
     "iopub.status.idle": "2022-04-01T21:36:44.046996Z",
     "shell.execute_reply": "2022-04-01T21:36:44.046384Z",
     "shell.execute_reply.started": "2022-04-01T21:36:44.043879Z"
    }
   },
   "outputs": [],
   "source": [
    "#!pip uninstall scikit-learn -y\n",
    "#!pip install scikit-learn"
   ]
  },
  {
   "cell_type": "code",
   "execution_count": 24,
   "id": "34d1dec9-d260-4b65-9bb1-5383e3c9b99f",
   "metadata": {
    "execution": {
     "iopub.execute_input": "2022-04-01T21:36:44.048247Z",
     "iopub.status.busy": "2022-04-01T21:36:44.048078Z",
     "iopub.status.idle": "2022-04-01T21:36:44.053608Z",
     "shell.execute_reply": "2022-04-01T21:36:44.053049Z",
     "shell.execute_reply.started": "2022-04-01T21:36:44.048227Z"
    }
   },
   "outputs": [],
   "source": [
    "import warnings\n",
    "warnings.filterwarnings('ignore')\n",
    "\n",
    "%matplotlib inline\n",
    "import numpy as np\n",
    "import matplotlib.pyplot as plt\n",
    "import pandas as pd"
   ]
  },
  {
   "cell_type": "code",
   "execution_count": 25,
   "id": "6a07b770-0d94-4f09-90eb-67e9fd3b91c2",
   "metadata": {
    "execution": {
     "iopub.execute_input": "2022-04-01T21:36:44.058313Z",
     "iopub.status.busy": "2022-04-01T21:36:44.057907Z",
     "iopub.status.idle": "2022-04-01T21:36:44.062016Z",
     "shell.execute_reply": "2022-04-01T21:36:44.061376Z",
     "shell.execute_reply.started": "2022-04-01T21:36:44.058291Z"
    }
   },
   "outputs": [],
   "source": [
    "from sklearn.preprocessing import MinMaxScaler\n",
    "from sklearn.model_selection import train_test_split\n",
    "from sklearn.model_selection import RandomizedSearchCV\n",
    "from sklearn.pipeline import make_pipeline\n",
    "from sklearn.metrics import roc_curve, precision_recall_curve\n",
    "from sklearn.metrics import confusion_matrix, auc\n",
    "from sklearn.metrics import ConfusionMatrixDisplay, RocCurveDisplay, PrecisionRecallDisplay\n",
    "from sklearn.metrics import accuracy_score, precision_score, recall_score, f1_score"
   ]
  },
  {
   "cell_type": "code",
   "execution_count": 26,
   "id": "59d961c1-6447-4d93-9702-bd56b089e377",
   "metadata": {
    "execution": {
     "iopub.execute_input": "2022-04-01T21:36:44.063524Z",
     "iopub.status.busy": "2022-04-01T21:36:44.063151Z",
     "iopub.status.idle": "2022-04-01T21:36:46.512956Z",
     "shell.execute_reply": "2022-04-01T21:36:46.512108Z",
     "shell.execute_reply.started": "2022-04-01T21:36:44.063502Z"
    }
   },
   "outputs": [
    {
     "name": "stdout",
     "output_type": "stream",
     "text": [
      "Requirement already satisfied: imbalanced-learn in /usr/local/lib/python3.8/dist-packages (0.9.0)\n",
      "Requirement already satisfied: numpy>=1.14.6 in /usr/local/lib/python3.8/dist-packages (from imbalanced-learn) (1.19.4)\n",
      "Requirement already satisfied: scikit-learn>=1.0.1 in /usr/local/lib/python3.8/dist-packages (from imbalanced-learn) (1.0.2)\n",
      "Requirement already satisfied: threadpoolctl>=2.0.0 in /usr/local/lib/python3.8/dist-packages (from imbalanced-learn) (3.1.0)\n",
      "Requirement already satisfied: scipy>=1.1.0 in /usr/local/lib/python3.8/dist-packages (from imbalanced-learn) (1.4.1)\n",
      "Requirement already satisfied: joblib>=0.11 in /usr/local/lib/python3.8/dist-packages (from imbalanced-learn) (1.1.0)\n",
      "\u001b[33mWARNING: Running pip as the 'root' user can result in broken permissions and conflicting behaviour with the system package manager. It is recommended to use a virtual environment instead: https://pip.pypa.io/warnings/venv\u001b[0m\u001b[33m\n",
      "\u001b[0m\u001b[33mWARNING: You are using pip version 22.0.3; however, version 22.0.4 is available.\n",
      "You should consider upgrading via the '/usr/bin/python -m pip install --upgrade pip' command.\u001b[0m\u001b[33m\n",
      "\u001b[0m"
     ]
    }
   ],
   "source": [
    "!pip install imbalanced-learn"
   ]
  },
  {
   "cell_type": "code",
   "execution_count": 27,
   "id": "95351a5d-5e8e-4d76-85fc-b0e30330eaad",
   "metadata": {
    "execution": {
     "iopub.execute_input": "2022-04-01T21:36:46.514670Z",
     "iopub.status.busy": "2022-04-01T21:36:46.514469Z",
     "iopub.status.idle": "2022-04-01T21:36:46.518633Z",
     "shell.execute_reply": "2022-04-01T21:36:46.517918Z",
     "shell.execute_reply.started": "2022-04-01T21:36:46.514646Z"
    }
   },
   "outputs": [],
   "source": [
    "from imblearn.over_sampling import SMOTE\n",
    "from imblearn.under_sampling import RandomUnderSampler\n",
    "from imblearn.pipeline import Pipeline"
   ]
  },
  {
   "cell_type": "markdown",
   "id": "09c202c0-0fca-4d9b-82da-bd9c5f6bba19",
   "metadata": {},
   "source": [
    "## Load & Split data"
   ]
  },
  {
   "cell_type": "code",
   "execution_count": 28,
   "id": "ae15b86d-0ab0-4c91-9e29-df5ac76a23e3",
   "metadata": {
    "execution": {
     "iopub.execute_input": "2022-04-01T21:36:46.519574Z",
     "iopub.status.busy": "2022-04-01T21:36:46.519424Z",
     "iopub.status.idle": "2022-04-01T21:36:52.762780Z",
     "shell.execute_reply": "2022-04-01T21:36:52.761992Z",
     "shell.execute_reply.started": "2022-04-01T21:36:46.519556Z"
    }
   },
   "outputs": [
    {
     "data": {
      "text/html": [
       "<div>\n",
       "<style scoped>\n",
       "    .dataframe tbody tr th:only-of-type {\n",
       "        vertical-align: middle;\n",
       "    }\n",
       "\n",
       "    .dataframe tbody tr th {\n",
       "        vertical-align: top;\n",
       "    }\n",
       "\n",
       "    .dataframe thead th {\n",
       "        text-align: right;\n",
       "    }\n",
       "</style>\n",
       "<table border=\"1\" class=\"dataframe\">\n",
       "  <thead>\n",
       "    <tr style=\"text-align: right;\">\n",
       "      <th></th>\n",
       "      <th>ID_code</th>\n",
       "      <th>target</th>\n",
       "      <th>var_0</th>\n",
       "      <th>var_1</th>\n",
       "      <th>var_2</th>\n",
       "      <th>var_3</th>\n",
       "      <th>var_4</th>\n",
       "      <th>var_5</th>\n",
       "      <th>var_6</th>\n",
       "      <th>var_7</th>\n",
       "      <th>...</th>\n",
       "      <th>var_190</th>\n",
       "      <th>var_191</th>\n",
       "      <th>var_192</th>\n",
       "      <th>var_193</th>\n",
       "      <th>var_194</th>\n",
       "      <th>var_195</th>\n",
       "      <th>var_196</th>\n",
       "      <th>var_197</th>\n",
       "      <th>var_198</th>\n",
       "      <th>var_199</th>\n",
       "    </tr>\n",
       "  </thead>\n",
       "  <tbody>\n",
       "    <tr>\n",
       "      <th>0</th>\n",
       "      <td>train_0</td>\n",
       "      <td>0</td>\n",
       "      <td>8.9255</td>\n",
       "      <td>-6.7863</td>\n",
       "      <td>11.9081</td>\n",
       "      <td>5.0930</td>\n",
       "      <td>11.4607</td>\n",
       "      <td>-9.2834</td>\n",
       "      <td>5.1187</td>\n",
       "      <td>18.6266</td>\n",
       "      <td>...</td>\n",
       "      <td>4.4354</td>\n",
       "      <td>3.9642</td>\n",
       "      <td>3.1364</td>\n",
       "      <td>1.6910</td>\n",
       "      <td>18.5227</td>\n",
       "      <td>-2.3978</td>\n",
       "      <td>7.8784</td>\n",
       "      <td>8.5635</td>\n",
       "      <td>12.7803</td>\n",
       "      <td>-1.0914</td>\n",
       "    </tr>\n",
       "    <tr>\n",
       "      <th>1</th>\n",
       "      <td>train_1</td>\n",
       "      <td>0</td>\n",
       "      <td>11.5006</td>\n",
       "      <td>-4.1473</td>\n",
       "      <td>13.8588</td>\n",
       "      <td>5.3890</td>\n",
       "      <td>12.3622</td>\n",
       "      <td>7.0433</td>\n",
       "      <td>5.6208</td>\n",
       "      <td>16.5338</td>\n",
       "      <td>...</td>\n",
       "      <td>7.6421</td>\n",
       "      <td>7.7214</td>\n",
       "      <td>2.5837</td>\n",
       "      <td>10.9516</td>\n",
       "      <td>15.4305</td>\n",
       "      <td>2.0339</td>\n",
       "      <td>8.1267</td>\n",
       "      <td>8.7889</td>\n",
       "      <td>18.3560</td>\n",
       "      <td>1.9518</td>\n",
       "    </tr>\n",
       "    <tr>\n",
       "      <th>2</th>\n",
       "      <td>train_2</td>\n",
       "      <td>0</td>\n",
       "      <td>8.6093</td>\n",
       "      <td>-2.7457</td>\n",
       "      <td>12.0805</td>\n",
       "      <td>7.8928</td>\n",
       "      <td>10.5825</td>\n",
       "      <td>-9.0837</td>\n",
       "      <td>6.9427</td>\n",
       "      <td>14.6155</td>\n",
       "      <td>...</td>\n",
       "      <td>2.9057</td>\n",
       "      <td>9.7905</td>\n",
       "      <td>1.6704</td>\n",
       "      <td>1.6858</td>\n",
       "      <td>21.6042</td>\n",
       "      <td>3.1417</td>\n",
       "      <td>-6.5213</td>\n",
       "      <td>8.2675</td>\n",
       "      <td>14.7222</td>\n",
       "      <td>0.3965</td>\n",
       "    </tr>\n",
       "    <tr>\n",
       "      <th>3</th>\n",
       "      <td>train_3</td>\n",
       "      <td>0</td>\n",
       "      <td>11.0604</td>\n",
       "      <td>-2.1518</td>\n",
       "      <td>8.9522</td>\n",
       "      <td>7.1957</td>\n",
       "      <td>12.5846</td>\n",
       "      <td>-1.8361</td>\n",
       "      <td>5.8428</td>\n",
       "      <td>14.9250</td>\n",
       "      <td>...</td>\n",
       "      <td>4.4666</td>\n",
       "      <td>4.7433</td>\n",
       "      <td>0.7178</td>\n",
       "      <td>1.4214</td>\n",
       "      <td>23.0347</td>\n",
       "      <td>-1.2706</td>\n",
       "      <td>-2.9275</td>\n",
       "      <td>10.2922</td>\n",
       "      <td>17.9697</td>\n",
       "      <td>-8.9996</td>\n",
       "    </tr>\n",
       "    <tr>\n",
       "      <th>4</th>\n",
       "      <td>train_4</td>\n",
       "      <td>0</td>\n",
       "      <td>9.8369</td>\n",
       "      <td>-1.4834</td>\n",
       "      <td>12.8746</td>\n",
       "      <td>6.6375</td>\n",
       "      <td>12.2772</td>\n",
       "      <td>2.4486</td>\n",
       "      <td>5.9405</td>\n",
       "      <td>19.2514</td>\n",
       "      <td>...</td>\n",
       "      <td>-1.4905</td>\n",
       "      <td>9.5214</td>\n",
       "      <td>-0.1508</td>\n",
       "      <td>9.1942</td>\n",
       "      <td>13.2876</td>\n",
       "      <td>-1.5121</td>\n",
       "      <td>3.9267</td>\n",
       "      <td>9.5031</td>\n",
       "      <td>17.9974</td>\n",
       "      <td>-8.8104</td>\n",
       "    </tr>\n",
       "  </tbody>\n",
       "</table>\n",
       "<p>5 rows × 202 columns</p>\n",
       "</div>"
      ],
      "text/plain": [
       "   ID_code  target    var_0   var_1    var_2   var_3    var_4   var_5   var_6  \\\n",
       "0  train_0       0   8.9255 -6.7863  11.9081  5.0930  11.4607 -9.2834  5.1187   \n",
       "1  train_1       0  11.5006 -4.1473  13.8588  5.3890  12.3622  7.0433  5.6208   \n",
       "2  train_2       0   8.6093 -2.7457  12.0805  7.8928  10.5825 -9.0837  6.9427   \n",
       "3  train_3       0  11.0604 -2.1518   8.9522  7.1957  12.5846 -1.8361  5.8428   \n",
       "4  train_4       0   9.8369 -1.4834  12.8746  6.6375  12.2772  2.4486  5.9405   \n",
       "\n",
       "     var_7  ...  var_190  var_191  var_192  var_193  var_194  var_195  \\\n",
       "0  18.6266  ...   4.4354   3.9642   3.1364   1.6910  18.5227  -2.3978   \n",
       "1  16.5338  ...   7.6421   7.7214   2.5837  10.9516  15.4305   2.0339   \n",
       "2  14.6155  ...   2.9057   9.7905   1.6704   1.6858  21.6042   3.1417   \n",
       "3  14.9250  ...   4.4666   4.7433   0.7178   1.4214  23.0347  -1.2706   \n",
       "4  19.2514  ...  -1.4905   9.5214  -0.1508   9.1942  13.2876  -1.5121   \n",
       "\n",
       "   var_196  var_197  var_198  var_199  \n",
       "0   7.8784   8.5635  12.7803  -1.0914  \n",
       "1   8.1267   8.7889  18.3560   1.9518  \n",
       "2  -6.5213   8.2675  14.7222   0.3965  \n",
       "3  -2.9275  10.2922  17.9697  -8.9996  \n",
       "4   3.9267   9.5031  17.9974  -8.8104  \n",
       "\n",
       "[5 rows x 202 columns]"
      ]
     },
     "execution_count": 28,
     "metadata": {},
     "output_type": "execute_result"
    }
   ],
   "source": [
    "txns = pd.read_csv('./train.csv')\n",
    "txns.head()"
   ]
  },
  {
   "cell_type": "code",
   "execution_count": 29,
   "id": "535610e8-fed7-4bdd-be2d-2ec290f1fc99",
   "metadata": {
    "execution": {
     "iopub.execute_input": "2022-04-01T21:36:52.765942Z",
     "iopub.status.busy": "2022-04-01T21:36:52.765295Z",
     "iopub.status.idle": "2022-04-01T21:36:52.956276Z",
     "shell.execute_reply": "2022-04-01T21:36:52.955343Z",
     "shell.execute_reply.started": "2022-04-01T21:36:52.765917Z"
    }
   },
   "outputs": [
    {
     "name": "stdout",
     "output_type": "stream",
     "text": [
      "['var_0', 'var_1', 'var_2', 'var_3', 'var_4', 'var_5', 'var_6', 'var_7', 'var_8', 'var_9', 'var_10', 'var_11', 'var_12', 'var_13', 'var_14', 'var_15', 'var_16', 'var_17', 'var_18', 'var_19', 'var_20', 'var_21', 'var_22', 'var_23', 'var_24', 'var_25', 'var_26', 'var_27', 'var_28', 'var_29', 'var_30', 'var_31', 'var_32', 'var_33', 'var_34', 'var_35', 'var_36', 'var_37', 'var_38', 'var_39', 'var_40', 'var_41', 'var_42', 'var_43', 'var_44', 'var_45', 'var_46', 'var_47', 'var_48', 'var_49', 'var_50', 'var_51', 'var_52', 'var_53', 'var_54', 'var_55', 'var_56', 'var_57', 'var_58', 'var_59', 'var_60', 'var_61', 'var_62', 'var_63', 'var_64', 'var_65', 'var_66', 'var_67', 'var_68', 'var_69', 'var_70', 'var_71', 'var_72', 'var_73', 'var_74', 'var_75', 'var_76', 'var_77', 'var_78', 'var_79', 'var_80', 'var_81', 'var_82', 'var_83', 'var_84', 'var_85', 'var_86', 'var_87', 'var_88', 'var_89', 'var_90', 'var_91', 'var_92', 'var_93', 'var_94', 'var_95', 'var_96', 'var_97', 'var_98', 'var_99', 'var_100', 'var_101', 'var_102', 'var_103', 'var_104', 'var_105', 'var_106', 'var_107', 'var_108', 'var_109', 'var_110', 'var_111', 'var_112', 'var_113', 'var_114', 'var_115', 'var_116', 'var_117', 'var_118', 'var_119', 'var_120', 'var_121', 'var_122', 'var_123', 'var_124', 'var_125', 'var_126', 'var_127', 'var_128', 'var_129', 'var_130', 'var_131', 'var_132', 'var_133', 'var_134', 'var_135', 'var_136', 'var_137', 'var_138', 'var_139', 'var_140', 'var_141', 'var_142', 'var_143', 'var_144', 'var_145', 'var_146', 'var_147', 'var_148', 'var_149', 'var_150', 'var_151', 'var_152', 'var_153', 'var_154', 'var_155', 'var_156', 'var_157', 'var_158', 'var_159', 'var_160', 'var_161', 'var_162', 'var_163', 'var_164', 'var_165', 'var_166', 'var_167', 'var_168', 'var_169', 'var_170', 'var_171', 'var_172', 'var_173', 'var_174', 'var_175', 'var_176', 'var_177', 'var_178', 'var_179', 'var_180', 'var_181', 'var_182', 'var_183', 'var_184', 'var_185', 'var_186', 'var_187', 'var_188', 'var_189', 'var_190', 'var_191', 'var_192', 'var_193', 'var_194', 'var_195', 'var_196', 'var_197', 'var_198', 'var_199']\n"
     ]
    }
   ],
   "source": [
    "properties = list(txns.columns.values)\n",
    "properties.remove('ID_code')\n",
    "properties.remove('target')\n",
    "print(properties)\n",
    "X = txns[properties]\n",
    "y = txns['target']"
   ]
  },
  {
   "cell_type": "code",
   "execution_count": 30,
   "id": "718e49d6-d1b2-463d-8121-110c2fb07558",
   "metadata": {
    "execution": {
     "iopub.execute_input": "2022-04-01T21:36:52.957468Z",
     "iopub.status.busy": "2022-04-01T21:36:52.957286Z",
     "iopub.status.idle": "2022-04-01T21:36:52.980581Z",
     "shell.execute_reply": "2022-04-01T21:36:52.979830Z",
     "shell.execute_reply.started": "2022-04-01T21:36:52.957447Z"
    }
   },
   "outputs": [
    {
     "data": {
      "text/html": [
       "<div>\n",
       "<style scoped>\n",
       "    .dataframe tbody tr th:only-of-type {\n",
       "        vertical-align: middle;\n",
       "    }\n",
       "\n",
       "    .dataframe tbody tr th {\n",
       "        vertical-align: top;\n",
       "    }\n",
       "\n",
       "    .dataframe thead th {\n",
       "        text-align: right;\n",
       "    }\n",
       "</style>\n",
       "<table border=\"1\" class=\"dataframe\">\n",
       "  <thead>\n",
       "    <tr style=\"text-align: right;\">\n",
       "      <th></th>\n",
       "      <th>var_0</th>\n",
       "      <th>var_1</th>\n",
       "      <th>var_2</th>\n",
       "      <th>var_3</th>\n",
       "      <th>var_4</th>\n",
       "      <th>var_5</th>\n",
       "      <th>var_6</th>\n",
       "      <th>var_7</th>\n",
       "      <th>var_8</th>\n",
       "      <th>var_9</th>\n",
       "      <th>...</th>\n",
       "      <th>var_190</th>\n",
       "      <th>var_191</th>\n",
       "      <th>var_192</th>\n",
       "      <th>var_193</th>\n",
       "      <th>var_194</th>\n",
       "      <th>var_195</th>\n",
       "      <th>var_196</th>\n",
       "      <th>var_197</th>\n",
       "      <th>var_198</th>\n",
       "      <th>var_199</th>\n",
       "    </tr>\n",
       "  </thead>\n",
       "  <tbody>\n",
       "    <tr>\n",
       "      <th>0</th>\n",
       "      <td>8.9255</td>\n",
       "      <td>-6.7863</td>\n",
       "      <td>11.9081</td>\n",
       "      <td>5.0930</td>\n",
       "      <td>11.4607</td>\n",
       "      <td>-9.2834</td>\n",
       "      <td>5.1187</td>\n",
       "      <td>18.6266</td>\n",
       "      <td>-4.9200</td>\n",
       "      <td>5.7470</td>\n",
       "      <td>...</td>\n",
       "      <td>4.4354</td>\n",
       "      <td>3.9642</td>\n",
       "      <td>3.1364</td>\n",
       "      <td>1.6910</td>\n",
       "      <td>18.5227</td>\n",
       "      <td>-2.3978</td>\n",
       "      <td>7.8784</td>\n",
       "      <td>8.5635</td>\n",
       "      <td>12.7803</td>\n",
       "      <td>-1.0914</td>\n",
       "    </tr>\n",
       "    <tr>\n",
       "      <th>1</th>\n",
       "      <td>11.5006</td>\n",
       "      <td>-4.1473</td>\n",
       "      <td>13.8588</td>\n",
       "      <td>5.3890</td>\n",
       "      <td>12.3622</td>\n",
       "      <td>7.0433</td>\n",
       "      <td>5.6208</td>\n",
       "      <td>16.5338</td>\n",
       "      <td>3.1468</td>\n",
       "      <td>8.0851</td>\n",
       "      <td>...</td>\n",
       "      <td>7.6421</td>\n",
       "      <td>7.7214</td>\n",
       "      <td>2.5837</td>\n",
       "      <td>10.9516</td>\n",
       "      <td>15.4305</td>\n",
       "      <td>2.0339</td>\n",
       "      <td>8.1267</td>\n",
       "      <td>8.7889</td>\n",
       "      <td>18.3560</td>\n",
       "      <td>1.9518</td>\n",
       "    </tr>\n",
       "    <tr>\n",
       "      <th>2</th>\n",
       "      <td>8.6093</td>\n",
       "      <td>-2.7457</td>\n",
       "      <td>12.0805</td>\n",
       "      <td>7.8928</td>\n",
       "      <td>10.5825</td>\n",
       "      <td>-9.0837</td>\n",
       "      <td>6.9427</td>\n",
       "      <td>14.6155</td>\n",
       "      <td>-4.9193</td>\n",
       "      <td>5.9525</td>\n",
       "      <td>...</td>\n",
       "      <td>2.9057</td>\n",
       "      <td>9.7905</td>\n",
       "      <td>1.6704</td>\n",
       "      <td>1.6858</td>\n",
       "      <td>21.6042</td>\n",
       "      <td>3.1417</td>\n",
       "      <td>-6.5213</td>\n",
       "      <td>8.2675</td>\n",
       "      <td>14.7222</td>\n",
       "      <td>0.3965</td>\n",
       "    </tr>\n",
       "    <tr>\n",
       "      <th>3</th>\n",
       "      <td>11.0604</td>\n",
       "      <td>-2.1518</td>\n",
       "      <td>8.9522</td>\n",
       "      <td>7.1957</td>\n",
       "      <td>12.5846</td>\n",
       "      <td>-1.8361</td>\n",
       "      <td>5.8428</td>\n",
       "      <td>14.9250</td>\n",
       "      <td>-5.8609</td>\n",
       "      <td>8.2450</td>\n",
       "      <td>...</td>\n",
       "      <td>4.4666</td>\n",
       "      <td>4.7433</td>\n",
       "      <td>0.7178</td>\n",
       "      <td>1.4214</td>\n",
       "      <td>23.0347</td>\n",
       "      <td>-1.2706</td>\n",
       "      <td>-2.9275</td>\n",
       "      <td>10.2922</td>\n",
       "      <td>17.9697</td>\n",
       "      <td>-8.9996</td>\n",
       "    </tr>\n",
       "    <tr>\n",
       "      <th>4</th>\n",
       "      <td>9.8369</td>\n",
       "      <td>-1.4834</td>\n",
       "      <td>12.8746</td>\n",
       "      <td>6.6375</td>\n",
       "      <td>12.2772</td>\n",
       "      <td>2.4486</td>\n",
       "      <td>5.9405</td>\n",
       "      <td>19.2514</td>\n",
       "      <td>6.2654</td>\n",
       "      <td>7.6784</td>\n",
       "      <td>...</td>\n",
       "      <td>-1.4905</td>\n",
       "      <td>9.5214</td>\n",
       "      <td>-0.1508</td>\n",
       "      <td>9.1942</td>\n",
       "      <td>13.2876</td>\n",
       "      <td>-1.5121</td>\n",
       "      <td>3.9267</td>\n",
       "      <td>9.5031</td>\n",
       "      <td>17.9974</td>\n",
       "      <td>-8.8104</td>\n",
       "    </tr>\n",
       "  </tbody>\n",
       "</table>\n",
       "<p>5 rows × 200 columns</p>\n",
       "</div>"
      ],
      "text/plain": [
       "     var_0   var_1    var_2   var_3    var_4   var_5   var_6    var_7   var_8  \\\n",
       "0   8.9255 -6.7863  11.9081  5.0930  11.4607 -9.2834  5.1187  18.6266 -4.9200   \n",
       "1  11.5006 -4.1473  13.8588  5.3890  12.3622  7.0433  5.6208  16.5338  3.1468   \n",
       "2   8.6093 -2.7457  12.0805  7.8928  10.5825 -9.0837  6.9427  14.6155 -4.9193   \n",
       "3  11.0604 -2.1518   8.9522  7.1957  12.5846 -1.8361  5.8428  14.9250 -5.8609   \n",
       "4   9.8369 -1.4834  12.8746  6.6375  12.2772  2.4486  5.9405  19.2514  6.2654   \n",
       "\n",
       "    var_9  ...  var_190  var_191  var_192  var_193  var_194  var_195  var_196  \\\n",
       "0  5.7470  ...   4.4354   3.9642   3.1364   1.6910  18.5227  -2.3978   7.8784   \n",
       "1  8.0851  ...   7.6421   7.7214   2.5837  10.9516  15.4305   2.0339   8.1267   \n",
       "2  5.9525  ...   2.9057   9.7905   1.6704   1.6858  21.6042   3.1417  -6.5213   \n",
       "3  8.2450  ...   4.4666   4.7433   0.7178   1.4214  23.0347  -1.2706  -2.9275   \n",
       "4  7.6784  ...  -1.4905   9.5214  -0.1508   9.1942  13.2876  -1.5121   3.9267   \n",
       "\n",
       "   var_197  var_198  var_199  \n",
       "0   8.5635  12.7803  -1.0914  \n",
       "1   8.7889  18.3560   1.9518  \n",
       "2   8.2675  14.7222   0.3965  \n",
       "3  10.2922  17.9697  -8.9996  \n",
       "4   9.5031  17.9974  -8.8104  \n",
       "\n",
       "[5 rows x 200 columns]"
      ]
     },
     "execution_count": 30,
     "metadata": {},
     "output_type": "execute_result"
    }
   ],
   "source": [
    "X.head()"
   ]
  },
  {
   "cell_type": "code",
   "execution_count": 31,
   "id": "9760bbec-4c93-4214-ab33-b0d060e1c28c",
   "metadata": {
    "execution": {
     "iopub.execute_input": "2022-04-01T21:36:52.981719Z",
     "iopub.status.busy": "2022-04-01T21:36:52.981564Z",
     "iopub.status.idle": "2022-04-01T21:36:52.987735Z",
     "shell.execute_reply": "2022-04-01T21:36:52.987003Z",
     "shell.execute_reply.started": "2022-04-01T21:36:52.981700Z"
    }
   },
   "outputs": [
    {
     "data": {
      "text/plain": [
       "0    0\n",
       "1    0\n",
       "2    0\n",
       "3    0\n",
       "4    0\n",
       "Name: target, dtype: int64"
      ]
     },
     "execution_count": 31,
     "metadata": {},
     "output_type": "execute_result"
    }
   ],
   "source": [
    "y.head()"
   ]
  },
  {
   "cell_type": "markdown",
   "id": "34ce9879-3069-4bc5-a295-dcf3ae5ecb52",
   "metadata": {},
   "source": [
    "## SMOTE - Minority Oversampling"
   ]
  },
  {
   "cell_type": "code",
   "execution_count": 32,
   "id": "4b845ea5-5f3f-45bd-a3fe-b303705a75c7",
   "metadata": {
    "execution": {
     "iopub.execute_input": "2022-04-01T21:36:52.988735Z",
     "iopub.status.busy": "2022-04-01T21:36:52.988582Z",
     "iopub.status.idle": "2022-04-01T21:37:07.098252Z",
     "shell.execute_reply": "2022-04-01T21:37:07.094254Z",
     "shell.execute_reply.started": "2022-04-01T21:36:52.988717Z"
    }
   },
   "outputs": [
    {
     "data": {
      "text/plain": [
       "[]"
      ]
     },
     "execution_count": 32,
     "metadata": {},
     "output_type": "execute_result"
    },
    {
     "data": {
      "image/png": "[encoded data removed]",
      "text/plain": [
       "<Figure size 432x288 with 1 Axes>"
      ]
     },
     "metadata": {
      "needs_background": "light"
     },
     "output_type": "display_data"
    }
   ],
   "source": [
    "over = SMOTE(sampling_strategy=0.7, random_state=11, k_neighbors=7)\n",
    "under = RandomUnderSampler(sampling_strategy=1, random_state=11)\n",
    "\n",
    "steps = [('o', over), ('u', under)]\n",
    "pipeline = Pipeline(steps=steps)\n",
    "\n",
    "# transform the dataset\n",
    "X, y = pipeline.fit_resample(X, y)\n",
    "\n",
    "# Check the class distribution\n",
    "pd.concat([X, y], axis=1).pivot_table(index='target', aggfunc='size').plot(kind='bar', title = 'Class distribution').plot()"
   ]
  },
  {
   "cell_type": "code",
   "execution_count": 33,
   "id": "bae509f3-ab4a-4e77-b7d4-ae1a3bb45748",
   "metadata": {
    "execution": {
     "iopub.execute_input": "2022-04-01T21:37:07.099771Z",
     "iopub.status.busy": "2022-04-01T21:37:07.099222Z",
     "iopub.status.idle": "2022-04-01T21:37:07.627946Z",
     "shell.execute_reply": "2022-04-01T21:37:07.627184Z",
     "shell.execute_reply.started": "2022-04-01T21:37:07.099749Z"
    }
   },
   "outputs": [],
   "source": [
    "# Split the data into training and test set with a ration of 0.7:0.3 and constant random\n",
    "X_train, X_test, y_train, y_test = train_test_split(X, y, test_size=0.3, random_state=11)"
   ]
  },
  {
   "cell_type": "markdown",
   "id": "29a0f1c5-72c1-4660-a2da-48e553951f99",
   "metadata": {},
   "source": [
    "## Model Creation, Compiling & Fitting"
   ]
  },
  {
   "cell_type": "code",
   "execution_count": 34,
   "id": "5e5e6ef0-99ce-42a8-90d1-6726d659ccc9",
   "metadata": {
    "execution": {
     "iopub.execute_input": "2022-04-01T21:37:07.629070Z",
     "iopub.status.busy": "2022-04-01T21:37:07.628901Z",
     "iopub.status.idle": "2022-04-01T21:58:58.463837Z",
     "shell.execute_reply": "2022-04-01T21:58:58.463220Z",
     "shell.execute_reply.started": "2022-04-01T21:37:07.629050Z"
    }
   },
   "outputs": [
    {
     "name": "stdout",
     "output_type": "stream",
     "text": [
      "Epoch 1/50\n",
      "4408/4408 [==============================] - 27s 6ms/step - loss: 0.6929 - auc: 0.6322 - Accuracy: 0.5872 - precision: 0.5608 - recall: 0.7832 - val_loss: 0.5694 - val_auc: 0.8251 - val_Accuracy: 0.7414 - val_precision: 0.6941 - val_recall: 0.8647\n",
      "Epoch 2/50\n",
      "4408/4408 [==============================] - 28s 6ms/step - loss: 0.5819 - auc: 0.7843 - Accuracy: 0.7146 - precision: 0.6737 - recall: 0.8264 - val_loss: 0.5120 - val_auc: 0.8457 - val_Accuracy: 0.7634 - val_precision: 0.7378 - val_recall: 0.8182\n",
      "Epoch 3/50\n",
      "4408/4408 [==============================] - 26s 6ms/step - loss: 0.5513 - auc: 0.8073 - Accuracy: 0.7325 - precision: 0.6949 - recall: 0.8235 - val_loss: 0.4984 - val_auc: 0.8541 - val_Accuracy: 0.7758 - val_precision: 0.7712 - val_recall: 0.7853\n",
      "Epoch 4/50\n",
      "4408/4408 [==============================] - 27s 6ms/step - loss: 0.5379 - auc: 0.8158 - Accuracy: 0.7440 - precision: 0.7118 - recall: 0.8151 - val_loss: 0.4896 - val_auc: 0.8565 - val_Accuracy: 0.7750 - val_precision: 0.7463 - val_recall: 0.8342\n",
      "Epoch 5/50\n",
      "4408/4408 [==============================] - 26s 6ms/step - loss: 0.5331 - auc: 0.8200 - Accuracy: 0.7496 - precision: 0.7212 - recall: 0.8092 - val_loss: 0.5000 - val_auc: 0.8582 - val_Accuracy: 0.7788 - val_precision: 0.7782 - val_recall: 0.7807\n",
      "Epoch 6/50\n",
      "4408/4408 [==============================] - 26s 6ms/step - loss: 0.5327 - auc: 0.8204 - Accuracy: 0.7501 - precision: 0.7224 - recall: 0.8078 - val_loss: 0.4851 - val_auc: 0.8610 - val_Accuracy: 0.7817 - val_precision: 0.7730 - val_recall: 0.7985\n",
      "Epoch 7/50\n",
      "4408/4408 [==============================] - 26s 6ms/step - loss: 0.5302 - auc: 0.8231 - Accuracy: 0.7522 - precision: 0.7255 - recall: 0.8067 - val_loss: 0.4841 - val_auc: 0.8605 - val_Accuracy: 0.7796 - val_precision: 0.7846 - val_recall: 0.7717\n",
      "Epoch 8/50\n",
      "4408/4408 [==============================] - 26s 6ms/step - loss: 0.5281 - auc: 0.8256 - Accuracy: 0.7541 - precision: 0.7282 - recall: 0.8065 - val_loss: 0.4891 - val_auc: 0.8606 - val_Accuracy: 0.7815 - val_precision: 0.7648 - val_recall: 0.8139\n",
      "Epoch 9/50\n",
      "4408/4408 [==============================] - 27s 6ms/step - loss: 0.5293 - auc: 0.8250 - Accuracy: 0.7550 - precision: 0.7280 - recall: 0.8101 - val_loss: 0.4889 - val_auc: 0.8637 - val_Accuracy: 0.7760 - val_precision: 0.7318 - val_recall: 0.8721\n",
      "Epoch 10/50\n",
      "4408/4408 [==============================] - 26s 6ms/step - loss: 0.5285 - auc: 0.8257 - Accuracy: 0.7551 - precision: 0.7290 - recall: 0.8079 - val_loss: 0.4822 - val_auc: 0.8616 - val_Accuracy: 0.7806 - val_precision: 0.7782 - val_recall: 0.7857\n",
      "Epoch 11/50\n",
      "4408/4408 [==============================] - 26s 6ms/step - loss: 0.5280 - auc: 0.8268 - Accuracy: 0.7556 - precision: 0.7286 - recall: 0.8102 - val_loss: 0.4855 - val_auc: 0.8635 - val_Accuracy: 0.7837 - val_precision: 0.7542 - val_recall: 0.8428\n",
      "Epoch 12/50\n",
      "4408/4408 [==============================] - 29s 6ms/step - loss: 0.5289 - auc: 0.8262 - Accuracy: 0.7551 - precision: 0.7280 - recall: 0.8102 - val_loss: 0.4862 - val_auc: 0.8650 - val_Accuracy: 0.7820 - val_precision: 0.7486 - val_recall: 0.8501\n",
      "Epoch 13/50\n",
      "4408/4408 [==============================] - 26s 6ms/step - loss: 0.5262 - auc: 0.8291 - Accuracy: 0.7580 - precision: 0.7311 - recall: 0.8119 - val_loss: 0.4898 - val_auc: 0.8651 - val_Accuracy: 0.7836 - val_precision: 0.7620 - val_recall: 0.8256\n",
      "Epoch 14/50\n",
      "4408/4408 [==============================] - 26s 6ms/step - loss: 0.5266 - auc: 0.8288 - Accuracy: 0.7582 - precision: 0.7321 - recall: 0.8102 - val_loss: 0.4945 - val_auc: 0.8636 - val_Accuracy: 0.7823 - val_precision: 0.7618 - val_recall: 0.8223\n",
      "Epoch 15/50\n",
      "4408/4408 [==============================] - 26s 6ms/step - loss: 0.5267 - auc: 0.8288 - Accuracy: 0.7576 - precision: 0.7314 - recall: 0.8099 - val_loss: 0.4838 - val_auc: 0.8662 - val_Accuracy: 0.7825 - val_precision: 0.7533 - val_recall: 0.8410\n",
      "Epoch 16/50\n",
      "4408/4408 [==============================] - 27s 6ms/step - loss: 0.5255 - auc: 0.8303 - Accuracy: 0.7590 - precision: 0.7333 - recall: 0.8098 - val_loss: 0.4902 - val_auc: 0.8654 - val_Accuracy: 0.7856 - val_precision: 0.7906 - val_recall: 0.7778\n",
      "Epoch 17/50\n",
      "4408/4408 [==============================] - 26s 6ms/step - loss: 0.5256 - auc: 0.8301 - Accuracy: 0.7588 - precision: 0.7330 - recall: 0.8100 - val_loss: 0.4834 - val_auc: 0.8658 - val_Accuracy: 0.7826 - val_precision: 0.7510 - val_recall: 0.8464\n",
      "Epoch 18/50\n",
      "4408/4408 [==============================] - 26s 6ms/step - loss: 0.5256 - auc: 0.8307 - Accuracy: 0.7597 - precision: 0.7321 - recall: 0.8149 - val_loss: 0.4868 - val_auc: 0.8638 - val_Accuracy: 0.7852 - val_precision: 0.7849 - val_recall: 0.7865\n",
      "Epoch 19/50\n",
      "4408/4408 [==============================] - 26s 6ms/step - loss: 0.5251 - auc: 0.8310 - Accuracy: 0.7594 - precision: 0.7326 - recall: 0.8129 - val_loss: 0.4820 - val_auc: 0.8659 - val_Accuracy: 0.7854 - val_precision: 0.7651 - val_recall: 0.8246\n",
      "Epoch 20/50\n",
      "4408/4408 [==============================] - 26s 6ms/step - loss: 0.5242 - auc: 0.8320 - Accuracy: 0.7604 - precision: 0.7343 - recall: 0.8120 - val_loss: 0.4834 - val_auc: 0.8682 - val_Accuracy: 0.7895 - val_precision: 0.7722 - val_recall: 0.8222\n",
      "Epoch 21/50\n",
      "4408/4408 [==============================] - 26s 6ms/step - loss: 0.5252 - auc: 0.8316 - Accuracy: 0.7601 - precision: 0.7328 - recall: 0.8143 - val_loss: 0.4841 - val_auc: 0.8641 - val_Accuracy: 0.7844 - val_precision: 0.7781 - val_recall: 0.7965\n",
      "Epoch 22/50\n",
      "4408/4408 [==============================] - 27s 6ms/step - loss: 0.5249 - auc: 0.8316 - Accuracy: 0.7603 - precision: 0.7335 - recall: 0.8136 - val_loss: 0.4842 - val_auc: 0.8654 - val_Accuracy: 0.7837 - val_precision: 0.8002 - val_recall: 0.7570\n",
      "Epoch 23/50\n",
      "4408/4408 [==============================] - 26s 6ms/step - loss: 0.5272 - auc: 0.8304 - Accuracy: 0.7584 - precision: 0.7324 - recall: 0.8100 - val_loss: 0.4842 - val_auc: 0.8679 - val_Accuracy: 0.7849 - val_precision: 0.8058 - val_recall: 0.7514\n",
      "Epoch 24/50\n",
      "4408/4408 [==============================] - 27s 6ms/step - loss: 0.5238 - auc: 0.8334 - Accuracy: 0.7612 - precision: 0.7345 - recall: 0.8138 - val_loss: 0.4846 - val_auc: 0.8675 - val_Accuracy: 0.7846 - val_precision: 0.8091 - val_recall: 0.7457\n",
      "Epoch 25/50\n",
      "4408/4408 [==============================] - 26s 6ms/step - loss: 0.5245 - auc: 0.8319 - Accuracy: 0.7603 - precision: 0.7330 - recall: 0.8148 - val_loss: 0.4874 - val_auc: 0.8678 - val_Accuracy: 0.7855 - val_precision: 0.8049 - val_recall: 0.7546\n",
      "Epoch 26/50\n",
      "4408/4408 [==============================] - 26s 6ms/step - loss: 0.5243 - auc: 0.8331 - Accuracy: 0.7607 - precision: 0.7339 - recall: 0.8139 - val_loss: 0.4821 - val_auc: 0.8686 - val_Accuracy: 0.7896 - val_precision: 0.7704 - val_recall: 0.8259\n",
      "Epoch 27/50\n",
      "4408/4408 [==============================] - 25s 6ms/step - loss: 0.5252 - auc: 0.8325 - Accuracy: 0.7606 - precision: 0.7347 - recall: 0.8118 - val_loss: 0.4773 - val_auc: 0.8688 - val_Accuracy: 0.7866 - val_precision: 0.7649 - val_recall: 0.8284\n",
      "Epoch 28/50\n",
      "4408/4408 [==============================] - 26s 6ms/step - loss: 0.5248 - auc: 0.8325 - Accuracy: 0.7616 - precision: 0.7362 - recall: 0.8112 - val_loss: 0.4797 - val_auc: 0.8669 - val_Accuracy: 0.7863 - val_precision: 0.7908 - val_recall: 0.7793\n",
      "Epoch 29/50\n",
      "4408/4408 [==============================] - 26s 6ms/step - loss: 0.5242 - auc: 0.8332 - Accuracy: 0.7615 - precision: 0.7353 - recall: 0.8130 - val_loss: 0.4983 - val_auc: 0.8685 - val_Accuracy: 0.7877 - val_precision: 0.8013 - val_recall: 0.7659\n",
      "Epoch 30/50\n",
      "4408/4408 [==============================] - 26s 6ms/step - loss: 0.5235 - auc: 0.8336 - Accuracy: 0.7616 - precision: 0.7360 - recall: 0.8115 - val_loss: 0.4899 - val_auc: 0.8669 - val_Accuracy: 0.7883 - val_precision: 0.7786 - val_recall: 0.8067\n",
      "Epoch 31/50\n",
      "4408/4408 [==============================] - 27s 6ms/step - loss: 0.5225 - auc: 0.8345 - Accuracy: 0.7628 - precision: 0.7368 - recall: 0.8138 - val_loss: 0.4760 - val_auc: 0.8697 - val_Accuracy: 0.7894 - val_precision: 0.7679 - val_recall: 0.8305\n",
      "Epoch 32/50\n",
      "4408/4408 [==============================] - 27s 6ms/step - loss: 0.5252 - auc: 0.8329 - Accuracy: 0.7606 - precision: 0.7332 - recall: 0.8153 - val_loss: 0.4915 - val_auc: 0.8636 - val_Accuracy: 0.7865 - val_precision: 0.7680 - val_recall: 0.8219\n",
      "Epoch 33/50\n",
      "4408/4408 [==============================] - 26s 6ms/step - loss: 0.5249 - auc: 0.8331 - Accuracy: 0.7619 - precision: 0.7360 - recall: 0.8125 - val_loss: 0.4819 - val_auc: 0.8692 - val_Accuracy: 0.7870 - val_precision: 0.8019 - val_recall: 0.7631\n",
      "Epoch 34/50\n",
      "4408/4408 [==============================] - 26s 6ms/step - loss: 0.5235 - auc: 0.8339 - Accuracy: 0.7648 - precision: 0.7405 - recall: 0.8111 - val_loss: 0.4770 - val_auc: 0.8674 - val_Accuracy: 0.7864 - val_precision: 0.7716 - val_recall: 0.8146\n",
      "Epoch 35/50\n",
      "4408/4408 [==============================] - 26s 6ms/step - loss: 0.5242 - auc: 0.8339 - Accuracy: 0.7623 - precision: 0.7363 - recall: 0.8131 - val_loss: 0.4760 - val_auc: 0.8684 - val_Accuracy: 0.7884 - val_precision: 0.7743 - val_recall: 0.8150\n",
      "Epoch 36/50\n",
      "4408/4408 [==============================] - 26s 6ms/step - loss: 0.5231 - auc: 0.8347 - Accuracy: 0.7642 - precision: 0.7386 - recall: 0.8139 - val_loss: 0.4815 - val_auc: 0.8693 - val_Accuracy: 0.7857 - val_precision: 0.7513 - val_recall: 0.8551\n",
      "Epoch 37/50\n",
      "4408/4408 [==============================] - 27s 6ms/step - loss: 0.5239 - auc: 0.8335 - Accuracy: 0.7627 - precision: 0.7372 - recall: 0.8124 - val_loss: 0.4819 - val_auc: 0.8694 - val_Accuracy: 0.7909 - val_precision: 0.7977 - val_recall: 0.7802\n",
      "Epoch 38/50\n",
      "4408/4408 [==============================] - 26s 6ms/step - loss: 0.5234 - auc: 0.8347 - Accuracy: 0.7636 - precision: 0.7382 - recall: 0.8129 - val_loss: 0.4922 - val_auc: 0.8607 - val_Accuracy: 0.7824 - val_precision: 0.7664 - val_recall: 0.8133\n",
      "Epoch 39/50\n",
      "4408/4408 [==============================] - 26s 6ms/step - loss: 0.5246 - auc: 0.8334 - Accuracy: 0.7624 - precision: 0.7360 - recall: 0.8140 - val_loss: 0.4838 - val_auc: 0.8696 - val_Accuracy: 0.7920 - val_precision: 0.7788 - val_recall: 0.8166\n",
      "Epoch 40/50\n",
      "4408/4408 [==============================] - 26s 6ms/step - loss: 0.5252 - auc: 0.8327 - Accuracy: 0.7618 - precision: 0.7356 - recall: 0.8131 - val_loss: 0.4768 - val_auc: 0.8693 - val_Accuracy: 0.7880 - val_precision: 0.7693 - val_recall: 0.8234\n",
      "Epoch 41/50\n",
      "4408/4408 [==============================] - 26s 6ms/step - loss: 0.5241 - auc: 0.8335 - Accuracy: 0.7631 - precision: 0.7378 - recall: 0.8123 - val_loss: 0.4856 - val_auc: 0.8692 - val_Accuracy: 0.7816 - val_precision: 0.7394 - val_recall: 0.8707\n",
      "Epoch 42/50\n",
      "4408/4408 [==============================] - 28s 6ms/step - loss: 0.5234 - auc: 0.8344 - Accuracy: 0.7640 - precision: 0.7380 - recall: 0.8147 - val_loss: 0.4831 - val_auc: 0.8705 - val_Accuracy: 0.7893 - val_precision: 0.8010 - val_recall: 0.7707\n",
      "Epoch 43/50\n",
      "4408/4408 [==============================] - 26s 6ms/step - loss: 0.5243 - auc: 0.8341 - Accuracy: 0.7641 - precision: 0.7390 - recall: 0.8127 - val_loss: 0.4813 - val_auc: 0.8696 - val_Accuracy: 0.7891 - val_precision: 0.7642 - val_recall: 0.8369\n",
      "Epoch 44/50\n",
      "4408/4408 [==============================] - 26s 6ms/step - loss: 0.5238 - auc: 0.8341 - Accuracy: 0.7637 - precision: 0.7371 - recall: 0.8158 - val_loss: 0.5014 - val_auc: 0.8658 - val_Accuracy: 0.7846 - val_precision: 0.7605 - val_recall: 0.8317\n",
      "Epoch 45/50\n",
      "4408/4408 [==============================] - 26s 6ms/step - loss: 0.5249 - auc: 0.8332 - Accuracy: 0.7636 - precision: 0.7360 - recall: 0.8179 - val_loss: 0.4793 - val_auc: 0.8698 - val_Accuracy: 0.7911 - val_precision: 0.7782 - val_recall: 0.8152\n",
      "Epoch 46/50\n",
      "4408/4408 [==============================] - 26s 6ms/step - loss: 0.5238 - auc: 0.8337 - Accuracy: 0.7625 - precision: 0.7360 - recall: 0.8144 - val_loss: 0.4938 - val_auc: 0.8689 - val_Accuracy: 0.7899 - val_precision: 0.8032 - val_recall: 0.7687\n",
      "Epoch 47/50\n",
      "4408/4408 [==============================] - 25s 6ms/step - loss: 0.5248 - auc: 0.8333 - Accuracy: 0.7630 - precision: 0.7362 - recall: 0.8155 - val_loss: 0.4809 - val_auc: 0.8709 - val_Accuracy: 0.7922 - val_precision: 0.7862 - val_recall: 0.8036\n",
      "Epoch 48/50\n",
      "4408/4408 [==============================] - 25s 6ms/step - loss: 0.5229 - auc: 0.8340 - Accuracy: 0.7643 - precision: 0.7387 - recall: 0.8139 - val_loss: 0.4875 - val_auc: 0.8692 - val_Accuracy: 0.7903 - val_precision: 0.7927 - val_recall: 0.7871\n",
      "Epoch 49/50\n",
      "4408/4408 [==============================] - 24s 6ms/step - loss: 0.5235 - auc: 0.8344 - Accuracy: 0.7646 - precision: 0.7384 - recall: 0.8154 - val_loss: 0.4865 - val_auc: 0.8723 - val_Accuracy: 0.7877 - val_precision: 0.7467 - val_recall: 0.8718\n",
      "Epoch 50/50\n",
      "4408/4408 [==============================] - 24s 5ms/step - loss: 0.5245 - auc: 0.8341 - Accuracy: 0.7633 - precision: 0.7365 - recall: 0.8158 - val_loss: 0.4812 - val_auc: 0.8687 - val_Accuracy: 0.7869 - val_precision: 0.7515 - val_recall: 0.8583\n"
     ]
    }
   ],
   "source": [
    "import tensorflow as tf\n",
    "from tensorflow import keras\n",
    "from keras import regularizers\n",
    "\n",
    "callback = tf.keras.callbacks.EarlyStopping(monitor='loss', patience=5)\n",
    "\n",
    "model = keras.Sequential([\n",
    "        keras.layers.Flatten(input_shape=(200,1)),\n",
    "        keras.layers.Dense(128, activation='relu', kernel_regularizer=regularizers.l2(0.0001)),\n",
    "        keras.layers.Dropout(0.5),\n",
    "        keras.layers.Dense(16, activation='relu', kernel_regularizer=regularizers.l2(0.0001)),\n",
    "        keras.layers.Dropout(0.5),\n",
    "        keras.layers.Dense(1, activation='sigmoid'),\n",
    "])\n",
    "\n",
    "model.compile(optimizer='adam',\n",
    "                  loss='binary_crossentropy',\n",
    "                  metrics=['AUC', \n",
    "                           'Accuracy',\n",
    "                           'Precision',\n",
    "                           'Recall'])\n",
    "\n",
    "history = model.fit(X_train, y_train, epochs=50, validation_split=0.2, shuffle=True)"
   ]
  },
  {
   "cell_type": "markdown",
   "id": "fd1985c7-7607-4c44-b886-5c86956e6ad9",
   "metadata": {},
   "source": [
    "## Evaluate the Model"
   ]
  },
  {
   "cell_type": "markdown",
   "id": "d02e6464-5977-4958-99d9-07623fcb90ab",
   "metadata": {},
   "source": [
    "### Training vs Validation Plot - Loss, AUC, Accuracy, Precision, Recall "
   ]
  },
  {
   "cell_type": "code",
   "execution_count": 36,
   "id": "89b8aa93-d768-42e2-8eb7-22863f954075",
   "metadata": {
    "execution": {
     "iopub.execute_input": "2022-04-01T21:59:49.488999Z",
     "iopub.status.busy": "2022-04-01T21:59:49.488045Z",
     "iopub.status.idle": "2022-04-01T21:59:49.707861Z",
     "shell.execute_reply": "2022-04-01T21:59:49.706974Z",
     "shell.execute_reply.started": "2022-04-01T21:59:49.488965Z"
    }
   },
   "outputs": [
    {
     "data": {
      "image/png": "[encoded data removed]",
      "text/plain": [
       "<Figure size 432x288 with 1 Axes>"
      ]
     },
     "metadata": {
      "needs_background": "light"
     },
     "output_type": "display_data"
    },
    {
     "data": {
      "image/png": "[encoded data removed]",
      "text/plain": [
       "<Figure size 432x288 with 1 Axes>"
      ]
     },
     "metadata": {
      "needs_background": "light"
     },
     "output_type": "display_data"
    },
    {
     "ename": "KeyError",
     "evalue": "'accuracy'",
     "output_type": "error",
     "traceback": [
      "\u001b[0;31m---------------------------------------------------------------------------\u001b[0m",
      "\u001b[0;31mKeyError\u001b[0m                                  Traceback (most recent call last)",
      "\u001b[0;32m/tmp/ipykernel_107/3244629270.py\u001b[0m in \u001b[0;36m<module>\u001b[0;34m\u001b[0m\n\u001b[1;32m     18\u001b[0m \u001b[0;34m\u001b[0m\u001b[0m\n\u001b[1;32m     19\u001b[0m \u001b[0;31m# Accuracy\u001b[0m\u001b[0;34m\u001b[0m\u001b[0;34m\u001b[0m\u001b[0;34m\u001b[0m\u001b[0m\n\u001b[0;32m---> 20\u001b[0;31m \u001b[0mplt\u001b[0m\u001b[0;34m.\u001b[0m\u001b[0mplot\u001b[0m\u001b[0;34m(\u001b[0m\u001b[0mhistory\u001b[0m\u001b[0;34m.\u001b[0m\u001b[0mhistory\u001b[0m\u001b[0;34m[\u001b[0m\u001b[0;34m'accuracy'\u001b[0m\u001b[0;34m]\u001b[0m\u001b[0;34m)\u001b[0m\u001b[0;34m\u001b[0m\u001b[0;34m\u001b[0m\u001b[0m\n\u001b[0m\u001b[1;32m     21\u001b[0m \u001b[0mplt\u001b[0m\u001b[0;34m.\u001b[0m\u001b[0mplot\u001b[0m\u001b[0;34m(\u001b[0m\u001b[0mhistory\u001b[0m\u001b[0;34m.\u001b[0m\u001b[0mhistory\u001b[0m\u001b[0;34m[\u001b[0m\u001b[0;34m'val_accuracy'\u001b[0m\u001b[0;34m]\u001b[0m\u001b[0;34m)\u001b[0m\u001b[0;34m\u001b[0m\u001b[0;34m\u001b[0m\u001b[0m\n\u001b[1;32m     22\u001b[0m \u001b[0mplt\u001b[0m\u001b[0;34m.\u001b[0m\u001b[0mtitle\u001b[0m\u001b[0;34m(\u001b[0m\u001b[0;34m'Model Accuracy'\u001b[0m\u001b[0;34m)\u001b[0m\u001b[0;34m\u001b[0m\u001b[0;34m\u001b[0m\u001b[0m\n",
      "\u001b[0;31mKeyError\u001b[0m: 'accuracy'"
     ]
    }
   ],
   "source": [
    "# Loss\n",
    "plt.plot(history.history['loss'])\n",
    "plt.plot(history.history['val_loss'])\n",
    "plt.title('Model Loss')\n",
    "plt.ylabel('loss')\n",
    "plt.xlabel('epoch')\n",
    "plt.legend(['Train', 'Test'], loc='upper left')\n",
    "plt.show()\n",
    "\n",
    "# AUC\n",
    "plt.plot(history.history['auc'])\n",
    "plt.plot(history.history['val_auc'])\n",
    "plt.title('Model AUC')\n",
    "plt.ylabel('auc')\n",
    "plt.xlabel('epoch')\n",
    "plt.legend(['Train', 'Test'], loc='upper left')\n",
    "plt.show()\n",
    "\n",
    "# Accuracy\n",
    "plt.plot(history.history['Accuracy'])\n",
    "plt.plot(history.history['val_Accuracy'])\n",
    "plt.title('Model Accuracy')\n",
    "plt.ylabel('accuracy')\n",
    "plt.xlabel('epoch')\n",
    "plt.legend(['Train', 'Test'], loc='upper left')\n",
    "plt.show()\n",
    "\n",
    "# Precision\n",
    "plt.plot(history.history['precision'])\n",
    "plt.plot(history.history['val_precision'])\n",
    "plt.title('Model Precision')\n",
    "plt.ylabel('precision')\n",
    "plt.xlabel('epoch')\n",
    "plt.legend(['Train', 'Test'], loc='upper left')\n",
    "plt.show()\n",
    "\n",
    "# Recall\n",
    "plt.plot(history.history['recall'])\n",
    "plt.plot(history.history['val_recall'])\n",
    "plt.title('Model Recall')\n",
    "plt.ylabel('recall')\n",
    "plt.xlabel('epoch')\n",
    "plt.legend(['Train', 'Test'], loc='upper left')\n",
    "plt.show()\n",
    "\n"
   ]
  },
  {
   "cell_type": "code",
   "execution_count": 35,
   "id": "c54548d5-2254-42e8-8e85-477d2464630b",
   "metadata": {
    "execution": {
     "iopub.execute_input": "2022-04-01T21:58:58.465408Z",
     "iopub.status.busy": "2022-04-01T21:58:58.465084Z",
     "iopub.status.idle": "2022-04-01T21:59:03.944186Z",
     "shell.execute_reply": "2022-04-01T21:59:03.943527Z",
     "shell.execute_reply.started": "2022-04-01T21:58:58.465386Z"
    }
   },
   "outputs": [
    {
     "data": {
      "image/png": "[encoded data removed]",
      "text/plain": [
       "<Figure size 864x576 with 4 Axes>"
      ]
     },
     "metadata": {
      "needs_background": "light"
     },
     "output_type": "display_data"
    }
   ],
   "source": [
    "y_pred = np.argmax(model.predict(X_test), axis=1)\n",
    "y_score = model.predict(X_test)[:,0]\n",
    "\n",
    "# Confusion Matrix\n",
    "cm = confusion_matrix(y_test, y_pred)\n",
    "cm_display = ConfusionMatrixDisplay(cm)\n",
    "\n",
    "# ROC Curve\n",
    "fpr, tpr, _ = roc_curve(y_test, y_score)\n",
    "roc_display = RocCurveDisplay(fpr=fpr, tpr=tpr)\n",
    "\n",
    "# Precision-Recall Curve\n",
    "prec, recall, _ = precision_recall_curve(y_test, y_score)\n",
    "pr_display = PrecisionRecallDisplay(precision=prec, recall=recall)\n",
    "\n",
    "fig, (ax1, ax2, ax3) = plt.subplots(1, 3, figsize=(12, 8))\n",
    "cm_display.plot(ax=ax1)\n",
    "roc_display.plot(ax=ax2)\n",
    "pr_display.plot(ax=ax3)\n",
    "plt.show()"
   ]
  },
  {
   "cell_type": "code",
   "execution_count": null,
   "id": "178a05f8-f2e1-4954-9d37-9cca431f2446",
   "metadata": {},
   "outputs": [],
   "source": []
  }
 ],
 "metadata": {
  "kernelspec": {
   "display_name": "Python 3 (ipykernel)",
   "language": "python",
   "name": "python3"
  },
  "language_info": {
   "codemirror_mode": {
    "name": "ipython",
    "version": 3
   },
   "file_extension": ".py",
   "mimetype": "text/x-python",
   "name": "python",
   "nbconvert_exporter": "python",
   "pygments_lexer": "ipython3",
   "version": "3.8.10"
  }
 },
 "nbformat": 4,
 "nbformat_minor": 5
}
