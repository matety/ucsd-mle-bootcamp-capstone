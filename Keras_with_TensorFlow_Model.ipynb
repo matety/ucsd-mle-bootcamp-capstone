{
 "cells": [
  {
   "cell_type": "markdown",
   "id": "3f5befc1-43f2-47e1-8ca5-640e8366bf65",
   "metadata": {},
   "source": [
    "# TensorFlow Model"
   ]
  },
  {
   "cell_type": "code",
   "execution_count": 16,
   "id": "af7bdabe-8e63-43df-9515-32f6fca4219d",
   "metadata": {
    "execution": {
     "iopub.execute_input": "2022-04-13T23:24:34.895762Z",
     "iopub.status.busy": "2022-04-13T23:24:34.894905Z",
     "iopub.status.idle": "2022-04-13T23:24:34.897949Z",
     "shell.execute_reply": "2022-04-13T23:24:34.897531Z",
     "shell.execute_reply.started": "2022-04-13T23:24:34.895731Z"
    }
   },
   "outputs": [],
   "source": [
    "#!pip uninstall scikit-learn -y\n",
    "#!pip install scikit-learn"
   ]
  },
  {
   "cell_type": "code",
   "execution_count": 17,
   "id": "34d1dec9-d260-4b65-9bb1-5383e3c9b99f",
   "metadata": {
    "execution": {
     "iopub.execute_input": "2022-04-13T23:24:34.899538Z",
     "iopub.status.busy": "2022-04-13T23:24:34.898880Z",
     "iopub.status.idle": "2022-04-13T23:24:34.903821Z",
     "shell.execute_reply": "2022-04-13T23:24:34.903403Z",
     "shell.execute_reply.started": "2022-04-13T23:24:34.899512Z"
    }
   },
   "outputs": [],
   "source": [
    "import warnings\n",
    "warnings.filterwarnings('ignore')\n",
    "\n",
    "%matplotlib inline\n",
    "import numpy as np\n",
    "import matplotlib.pyplot as plt\n",
    "import pandas as pd"
   ]
  },
  {
   "cell_type": "code",
   "execution_count": 18,
   "id": "6a07b770-0d94-4f09-90eb-67e9fd3b91c2",
   "metadata": {
    "execution": {
     "iopub.execute_input": "2022-04-13T23:24:34.909751Z",
     "iopub.status.busy": "2022-04-13T23:24:34.909071Z",
     "iopub.status.idle": "2022-04-13T23:24:34.912971Z",
     "shell.execute_reply": "2022-04-13T23:24:34.912579Z",
     "shell.execute_reply.started": "2022-04-13T23:24:34.909729Z"
    }
   },
   "outputs": [],
   "source": [
    "from sklearn.preprocessing import MinMaxScaler\n",
    "from sklearn.model_selection import train_test_split\n",
    "from sklearn.model_selection import RandomizedSearchCV\n",
    "from sklearn.pipeline import make_pipeline\n",
    "from sklearn.metrics import roc_curve, precision_recall_curve\n",
    "from sklearn.metrics import confusion_matrix, auc\n",
    "from sklearn.metrics import ConfusionMatrixDisplay, RocCurveDisplay, PrecisionRecallDisplay\n",
    "from sklearn.metrics import accuracy_score, precision_score, recall_score, f1_score"
   ]
  },
  {
   "cell_type": "code",
   "execution_count": 19,
   "id": "59d961c1-6447-4d93-9702-bd56b089e377",
   "metadata": {
    "execution": {
     "iopub.execute_input": "2022-04-13T23:24:34.914510Z",
     "iopub.status.busy": "2022-04-13T23:24:34.913837Z",
     "iopub.status.idle": "2022-04-13T23:24:37.239698Z",
     "shell.execute_reply": "2022-04-13T23:24:37.239091Z",
     "shell.execute_reply.started": "2022-04-13T23:24:34.914483Z"
    }
   },
   "outputs": [
    {
     "name": "stdout",
     "output_type": "stream",
     "text": [
      "Requirement already satisfied: imbalanced-learn in /usr/local/lib/python3.8/dist-packages (0.9.0)\n",
      "Requirement already satisfied: joblib>=0.11 in /usr/local/lib/python3.8/dist-packages (from imbalanced-learn) (1.1.0)\n",
      "Requirement already satisfied: threadpoolctl>=2.0.0 in /usr/local/lib/python3.8/dist-packages (from imbalanced-learn) (3.1.0)\n",
      "Requirement already satisfied: numpy>=1.14.6 in /usr/local/lib/python3.8/dist-packages (from imbalanced-learn) (1.19.4)\n",
      "Requirement already satisfied: scipy>=1.1.0 in /usr/local/lib/python3.8/dist-packages (from imbalanced-learn) (1.4.1)\n",
      "Requirement already satisfied: scikit-learn>=1.0.1 in /usr/local/lib/python3.8/dist-packages (from imbalanced-learn) (1.0.2)\n",
      "\u001b[33mWARNING: Running pip as the 'root' user can result in broken permissions and conflicting behaviour with the system package manager. It is recommended to use a virtual environment instead: https://pip.pypa.io/warnings/venv\u001b[0m\u001b[33m\n",
      "\u001b[0m\u001b[33mWARNING: You are using pip version 22.0.3; however, version 22.0.4 is available.\n",
      "You should consider upgrading via the '/usr/bin/python -m pip install --upgrade pip' command.\u001b[0m\u001b[33m\n",
      "\u001b[0m"
     ]
    }
   ],
   "source": [
    "!pip install imbalanced-learn"
   ]
  },
  {
   "cell_type": "code",
   "execution_count": 20,
   "id": "95351a5d-5e8e-4d76-85fc-b0e30330eaad",
   "metadata": {
    "execution": {
     "iopub.execute_input": "2022-04-13T23:24:37.240988Z",
     "iopub.status.busy": "2022-04-13T23:24:37.240796Z",
     "iopub.status.idle": "2022-04-13T23:24:37.258642Z",
     "shell.execute_reply": "2022-04-13T23:24:37.257978Z",
     "shell.execute_reply.started": "2022-04-13T23:24:37.240965Z"
    }
   },
   "outputs": [],
   "source": [
    "from imblearn.over_sampling import SMOTE\n",
    "from imblearn.under_sampling import RandomUnderSampler\n",
    "from imblearn.pipeline import Pipeline\n",
    "\n",
    "import tensorflow as tf\n",
    "from tensorflow import keras\n",
    "from keras import regularizers\n",
    "\n",
    "from numpy.random import seed\n",
    "seed(1)\n",
    "tf.random.set_seed(2)"
   ]
  },
  {
   "cell_type": "markdown",
   "id": "09c202c0-0fca-4d9b-82da-bd9c5f6bba19",
   "metadata": {},
   "source": [
    "## Load & Split data"
   ]
  },
  {
   "cell_type": "code",
   "execution_count": 21,
   "id": "ae15b86d-0ab0-4c91-9e29-df5ac76a23e3",
   "metadata": {
    "execution": {
     "iopub.execute_input": "2022-04-13T23:24:37.263670Z",
     "iopub.status.busy": "2022-04-13T23:24:37.263464Z",
     "iopub.status.idle": "2022-04-13T23:24:43.286675Z",
     "shell.execute_reply": "2022-04-13T23:24:43.286247Z",
     "shell.execute_reply.started": "2022-04-13T23:24:37.263645Z"
    }
   },
   "outputs": [
    {
     "data": {
      "text/html": [
       "<div>\n",
       "<style scoped>\n",
       "    .dataframe tbody tr th:only-of-type {\n",
       "        vertical-align: middle;\n",
       "    }\n",
       "\n",
       "    .dataframe tbody tr th {\n",
       "        vertical-align: top;\n",
       "    }\n",
       "\n",
       "    .dataframe thead th {\n",
       "        text-align: right;\n",
       "    }\n",
       "</style>\n",
       "<table border=\"1\" class=\"dataframe\">\n",
       "  <thead>\n",
       "    <tr style=\"text-align: right;\">\n",
       "      <th></th>\n",
       "      <th>ID_code</th>\n",
       "      <th>target</th>\n",
       "      <th>var_0</th>\n",
       "      <th>var_1</th>\n",
       "      <th>var_2</th>\n",
       "      <th>var_3</th>\n",
       "      <th>var_4</th>\n",
       "      <th>var_5</th>\n",
       "      <th>var_6</th>\n",
       "      <th>var_7</th>\n",
       "      <th>...</th>\n",
       "      <th>var_190</th>\n",
       "      <th>var_191</th>\n",
       "      <th>var_192</th>\n",
       "      <th>var_193</th>\n",
       "      <th>var_194</th>\n",
       "      <th>var_195</th>\n",
       "      <th>var_196</th>\n",
       "      <th>var_197</th>\n",
       "      <th>var_198</th>\n",
       "      <th>var_199</th>\n",
       "    </tr>\n",
       "  </thead>\n",
       "  <tbody>\n",
       "    <tr>\n",
       "      <th>0</th>\n",
       "      <td>train_0</td>\n",
       "      <td>0</td>\n",
       "      <td>8.9255</td>\n",
       "      <td>-6.7863</td>\n",
       "      <td>11.9081</td>\n",
       "      <td>5.0930</td>\n",
       "      <td>11.4607</td>\n",
       "      <td>-9.2834</td>\n",
       "      <td>5.1187</td>\n",
       "      <td>18.6266</td>\n",
       "      <td>...</td>\n",
       "      <td>4.4354</td>\n",
       "      <td>3.9642</td>\n",
       "      <td>3.1364</td>\n",
       "      <td>1.6910</td>\n",
       "      <td>18.5227</td>\n",
       "      <td>-2.3978</td>\n",
       "      <td>7.8784</td>\n",
       "      <td>8.5635</td>\n",
       "      <td>12.7803</td>\n",
       "      <td>-1.0914</td>\n",
       "    </tr>\n",
       "    <tr>\n",
       "      <th>1</th>\n",
       "      <td>train_1</td>\n",
       "      <td>0</td>\n",
       "      <td>11.5006</td>\n",
       "      <td>-4.1473</td>\n",
       "      <td>13.8588</td>\n",
       "      <td>5.3890</td>\n",
       "      <td>12.3622</td>\n",
       "      <td>7.0433</td>\n",
       "      <td>5.6208</td>\n",
       "      <td>16.5338</td>\n",
       "      <td>...</td>\n",
       "      <td>7.6421</td>\n",
       "      <td>7.7214</td>\n",
       "      <td>2.5837</td>\n",
       "      <td>10.9516</td>\n",
       "      <td>15.4305</td>\n",
       "      <td>2.0339</td>\n",
       "      <td>8.1267</td>\n",
       "      <td>8.7889</td>\n",
       "      <td>18.3560</td>\n",
       "      <td>1.9518</td>\n",
       "    </tr>\n",
       "    <tr>\n",
       "      <th>2</th>\n",
       "      <td>train_2</td>\n",
       "      <td>0</td>\n",
       "      <td>8.6093</td>\n",
       "      <td>-2.7457</td>\n",
       "      <td>12.0805</td>\n",
       "      <td>7.8928</td>\n",
       "      <td>10.5825</td>\n",
       "      <td>-9.0837</td>\n",
       "      <td>6.9427</td>\n",
       "      <td>14.6155</td>\n",
       "      <td>...</td>\n",
       "      <td>2.9057</td>\n",
       "      <td>9.7905</td>\n",
       "      <td>1.6704</td>\n",
       "      <td>1.6858</td>\n",
       "      <td>21.6042</td>\n",
       "      <td>3.1417</td>\n",
       "      <td>-6.5213</td>\n",
       "      <td>8.2675</td>\n",
       "      <td>14.7222</td>\n",
       "      <td>0.3965</td>\n",
       "    </tr>\n",
       "    <tr>\n",
       "      <th>3</th>\n",
       "      <td>train_3</td>\n",
       "      <td>0</td>\n",
       "      <td>11.0604</td>\n",
       "      <td>-2.1518</td>\n",
       "      <td>8.9522</td>\n",
       "      <td>7.1957</td>\n",
       "      <td>12.5846</td>\n",
       "      <td>-1.8361</td>\n",
       "      <td>5.8428</td>\n",
       "      <td>14.9250</td>\n",
       "      <td>...</td>\n",
       "      <td>4.4666</td>\n",
       "      <td>4.7433</td>\n",
       "      <td>0.7178</td>\n",
       "      <td>1.4214</td>\n",
       "      <td>23.0347</td>\n",
       "      <td>-1.2706</td>\n",
       "      <td>-2.9275</td>\n",
       "      <td>10.2922</td>\n",
       "      <td>17.9697</td>\n",
       "      <td>-8.9996</td>\n",
       "    </tr>\n",
       "    <tr>\n",
       "      <th>4</th>\n",
       "      <td>train_4</td>\n",
       "      <td>0</td>\n",
       "      <td>9.8369</td>\n",
       "      <td>-1.4834</td>\n",
       "      <td>12.8746</td>\n",
       "      <td>6.6375</td>\n",
       "      <td>12.2772</td>\n",
       "      <td>2.4486</td>\n",
       "      <td>5.9405</td>\n",
       "      <td>19.2514</td>\n",
       "      <td>...</td>\n",
       "      <td>-1.4905</td>\n",
       "      <td>9.5214</td>\n",
       "      <td>-0.1508</td>\n",
       "      <td>9.1942</td>\n",
       "      <td>13.2876</td>\n",
       "      <td>-1.5121</td>\n",
       "      <td>3.9267</td>\n",
       "      <td>9.5031</td>\n",
       "      <td>17.9974</td>\n",
       "      <td>-8.8104</td>\n",
       "    </tr>\n",
       "  </tbody>\n",
       "</table>\n",
       "<p>5 rows × 202 columns</p>\n",
       "</div>"
      ],
      "text/plain": [
       "   ID_code  target    var_0   var_1    var_2   var_3    var_4   var_5   var_6  \\\n",
       "0  train_0       0   8.9255 -6.7863  11.9081  5.0930  11.4607 -9.2834  5.1187   \n",
       "1  train_1       0  11.5006 -4.1473  13.8588  5.3890  12.3622  7.0433  5.6208   \n",
       "2  train_2       0   8.6093 -2.7457  12.0805  7.8928  10.5825 -9.0837  6.9427   \n",
       "3  train_3       0  11.0604 -2.1518   8.9522  7.1957  12.5846 -1.8361  5.8428   \n",
       "4  train_4       0   9.8369 -1.4834  12.8746  6.6375  12.2772  2.4486  5.9405   \n",
       "\n",
       "     var_7  ...  var_190  var_191  var_192  var_193  var_194  var_195  \\\n",
       "0  18.6266  ...   4.4354   3.9642   3.1364   1.6910  18.5227  -2.3978   \n",
       "1  16.5338  ...   7.6421   7.7214   2.5837  10.9516  15.4305   2.0339   \n",
       "2  14.6155  ...   2.9057   9.7905   1.6704   1.6858  21.6042   3.1417   \n",
       "3  14.9250  ...   4.4666   4.7433   0.7178   1.4214  23.0347  -1.2706   \n",
       "4  19.2514  ...  -1.4905   9.5214  -0.1508   9.1942  13.2876  -1.5121   \n",
       "\n",
       "   var_196  var_197  var_198  var_199  \n",
       "0   7.8784   8.5635  12.7803  -1.0914  \n",
       "1   8.1267   8.7889  18.3560   1.9518  \n",
       "2  -6.5213   8.2675  14.7222   0.3965  \n",
       "3  -2.9275  10.2922  17.9697  -8.9996  \n",
       "4   3.9267   9.5031  17.9974  -8.8104  \n",
       "\n",
       "[5 rows x 202 columns]"
      ]
     },
     "execution_count": 21,
     "metadata": {},
     "output_type": "execute_result"
    }
   ],
   "source": [
    "txns = pd.read_csv('./train.csv')\n",
    "txns.head()"
   ]
  },
  {
   "cell_type": "code",
   "execution_count": 22,
   "id": "535610e8-fed7-4bdd-be2d-2ec290f1fc99",
   "metadata": {
    "execution": {
     "iopub.execute_input": "2022-04-13T23:24:43.288925Z",
     "iopub.status.busy": "2022-04-13T23:24:43.288249Z",
     "iopub.status.idle": "2022-04-13T23:24:43.469825Z",
     "shell.execute_reply": "2022-04-13T23:24:43.469320Z",
     "shell.execute_reply.started": "2022-04-13T23:24:43.288901Z"
    }
   },
   "outputs": [
    {
     "name": "stdout",
     "output_type": "stream",
     "text": [
      "['var_0', 'var_1', 'var_2', 'var_3', 'var_4', 'var_5', 'var_6', 'var_7', 'var_8', 'var_9', 'var_10', 'var_11', 'var_12', 'var_13', 'var_14', 'var_15', 'var_16', 'var_17', 'var_18', 'var_19', 'var_20', 'var_21', 'var_22', 'var_23', 'var_24', 'var_25', 'var_26', 'var_27', 'var_28', 'var_29', 'var_30', 'var_31', 'var_32', 'var_33', 'var_34', 'var_35', 'var_36', 'var_37', 'var_38', 'var_39', 'var_40', 'var_41', 'var_42', 'var_43', 'var_44', 'var_45', 'var_46', 'var_47', 'var_48', 'var_49', 'var_50', 'var_51', 'var_52', 'var_53', 'var_54', 'var_55', 'var_56', 'var_57', 'var_58', 'var_59', 'var_60', 'var_61', 'var_62', 'var_63', 'var_64', 'var_65', 'var_66', 'var_67', 'var_68', 'var_69', 'var_70', 'var_71', 'var_72', 'var_73', 'var_74', 'var_75', 'var_76', 'var_77', 'var_78', 'var_79', 'var_80', 'var_81', 'var_82', 'var_83', 'var_84', 'var_85', 'var_86', 'var_87', 'var_88', 'var_89', 'var_90', 'var_91', 'var_92', 'var_93', 'var_94', 'var_95', 'var_96', 'var_97', 'var_98', 'var_99', 'var_100', 'var_101', 'var_102', 'var_103', 'var_104', 'var_105', 'var_106', 'var_107', 'var_108', 'var_109', 'var_110', 'var_111', 'var_112', 'var_113', 'var_114', 'var_115', 'var_116', 'var_117', 'var_118', 'var_119', 'var_120', 'var_121', 'var_122', 'var_123', 'var_124', 'var_125', 'var_126', 'var_127', 'var_128', 'var_129', 'var_130', 'var_131', 'var_132', 'var_133', 'var_134', 'var_135', 'var_136', 'var_137', 'var_138', 'var_139', 'var_140', 'var_141', 'var_142', 'var_143', 'var_144', 'var_145', 'var_146', 'var_147', 'var_148', 'var_149', 'var_150', 'var_151', 'var_152', 'var_153', 'var_154', 'var_155', 'var_156', 'var_157', 'var_158', 'var_159', 'var_160', 'var_161', 'var_162', 'var_163', 'var_164', 'var_165', 'var_166', 'var_167', 'var_168', 'var_169', 'var_170', 'var_171', 'var_172', 'var_173', 'var_174', 'var_175', 'var_176', 'var_177', 'var_178', 'var_179', 'var_180', 'var_181', 'var_182', 'var_183', 'var_184', 'var_185', 'var_186', 'var_187', 'var_188', 'var_189', 'var_190', 'var_191', 'var_192', 'var_193', 'var_194', 'var_195', 'var_196', 'var_197', 'var_198', 'var_199']\n"
     ]
    }
   ],
   "source": [
    "properties = list(txns.columns.values)\n",
    "properties.remove('ID_code')\n",
    "properties.remove('target')\n",
    "print(properties)\n",
    "X = txns[properties]\n",
    "y = txns['target']"
   ]
  },
  {
   "cell_type": "code",
   "execution_count": 23,
   "id": "718e49d6-d1b2-463d-8121-110c2fb07558",
   "metadata": {
    "execution": {
     "iopub.execute_input": "2022-04-13T23:24:43.470780Z",
     "iopub.status.busy": "2022-04-13T23:24:43.470625Z",
     "iopub.status.idle": "2022-04-13T23:24:43.490190Z",
     "shell.execute_reply": "2022-04-13T23:24:43.489743Z",
     "shell.execute_reply.started": "2022-04-13T23:24:43.470761Z"
    }
   },
   "outputs": [
    {
     "data": {
      "text/html": [
       "<div>\n",
       "<style scoped>\n",
       "    .dataframe tbody tr th:only-of-type {\n",
       "        vertical-align: middle;\n",
       "    }\n",
       "\n",
       "    .dataframe tbody tr th {\n",
       "        vertical-align: top;\n",
       "    }\n",
       "\n",
       "    .dataframe thead th {\n",
       "        text-align: right;\n",
       "    }\n",
       "</style>\n",
       "<table border=\"1\" class=\"dataframe\">\n",
       "  <thead>\n",
       "    <tr style=\"text-align: right;\">\n",
       "      <th></th>\n",
       "      <th>var_0</th>\n",
       "      <th>var_1</th>\n",
       "      <th>var_2</th>\n",
       "      <th>var_3</th>\n",
       "      <th>var_4</th>\n",
       "      <th>var_5</th>\n",
       "      <th>var_6</th>\n",
       "      <th>var_7</th>\n",
       "      <th>var_8</th>\n",
       "      <th>var_9</th>\n",
       "      <th>...</th>\n",
       "      <th>var_190</th>\n",
       "      <th>var_191</th>\n",
       "      <th>var_192</th>\n",
       "      <th>var_193</th>\n",
       "      <th>var_194</th>\n",
       "      <th>var_195</th>\n",
       "      <th>var_196</th>\n",
       "      <th>var_197</th>\n",
       "      <th>var_198</th>\n",
       "      <th>var_199</th>\n",
       "    </tr>\n",
       "  </thead>\n",
       "  <tbody>\n",
       "    <tr>\n",
       "      <th>0</th>\n",
       "      <td>8.9255</td>\n",
       "      <td>-6.7863</td>\n",
       "      <td>11.9081</td>\n",
       "      <td>5.0930</td>\n",
       "      <td>11.4607</td>\n",
       "      <td>-9.2834</td>\n",
       "      <td>5.1187</td>\n",
       "      <td>18.6266</td>\n",
       "      <td>-4.9200</td>\n",
       "      <td>5.7470</td>\n",
       "      <td>...</td>\n",
       "      <td>4.4354</td>\n",
       "      <td>3.9642</td>\n",
       "      <td>3.1364</td>\n",
       "      <td>1.6910</td>\n",
       "      <td>18.5227</td>\n",
       "      <td>-2.3978</td>\n",
       "      <td>7.8784</td>\n",
       "      <td>8.5635</td>\n",
       "      <td>12.7803</td>\n",
       "      <td>-1.0914</td>\n",
       "    </tr>\n",
       "    <tr>\n",
       "      <th>1</th>\n",
       "      <td>11.5006</td>\n",
       "      <td>-4.1473</td>\n",
       "      <td>13.8588</td>\n",
       "      <td>5.3890</td>\n",
       "      <td>12.3622</td>\n",
       "      <td>7.0433</td>\n",
       "      <td>5.6208</td>\n",
       "      <td>16.5338</td>\n",
       "      <td>3.1468</td>\n",
       "      <td>8.0851</td>\n",
       "      <td>...</td>\n",
       "      <td>7.6421</td>\n",
       "      <td>7.7214</td>\n",
       "      <td>2.5837</td>\n",
       "      <td>10.9516</td>\n",
       "      <td>15.4305</td>\n",
       "      <td>2.0339</td>\n",
       "      <td>8.1267</td>\n",
       "      <td>8.7889</td>\n",
       "      <td>18.3560</td>\n",
       "      <td>1.9518</td>\n",
       "    </tr>\n",
       "    <tr>\n",
       "      <th>2</th>\n",
       "      <td>8.6093</td>\n",
       "      <td>-2.7457</td>\n",
       "      <td>12.0805</td>\n",
       "      <td>7.8928</td>\n",
       "      <td>10.5825</td>\n",
       "      <td>-9.0837</td>\n",
       "      <td>6.9427</td>\n",
       "      <td>14.6155</td>\n",
       "      <td>-4.9193</td>\n",
       "      <td>5.9525</td>\n",
       "      <td>...</td>\n",
       "      <td>2.9057</td>\n",
       "      <td>9.7905</td>\n",
       "      <td>1.6704</td>\n",
       "      <td>1.6858</td>\n",
       "      <td>21.6042</td>\n",
       "      <td>3.1417</td>\n",
       "      <td>-6.5213</td>\n",
       "      <td>8.2675</td>\n",
       "      <td>14.7222</td>\n",
       "      <td>0.3965</td>\n",
       "    </tr>\n",
       "    <tr>\n",
       "      <th>3</th>\n",
       "      <td>11.0604</td>\n",
       "      <td>-2.1518</td>\n",
       "      <td>8.9522</td>\n",
       "      <td>7.1957</td>\n",
       "      <td>12.5846</td>\n",
       "      <td>-1.8361</td>\n",
       "      <td>5.8428</td>\n",
       "      <td>14.9250</td>\n",
       "      <td>-5.8609</td>\n",
       "      <td>8.2450</td>\n",
       "      <td>...</td>\n",
       "      <td>4.4666</td>\n",
       "      <td>4.7433</td>\n",
       "      <td>0.7178</td>\n",
       "      <td>1.4214</td>\n",
       "      <td>23.0347</td>\n",
       "      <td>-1.2706</td>\n",
       "      <td>-2.9275</td>\n",
       "      <td>10.2922</td>\n",
       "      <td>17.9697</td>\n",
       "      <td>-8.9996</td>\n",
       "    </tr>\n",
       "    <tr>\n",
       "      <th>4</th>\n",
       "      <td>9.8369</td>\n",
       "      <td>-1.4834</td>\n",
       "      <td>12.8746</td>\n",
       "      <td>6.6375</td>\n",
       "      <td>12.2772</td>\n",
       "      <td>2.4486</td>\n",
       "      <td>5.9405</td>\n",
       "      <td>19.2514</td>\n",
       "      <td>6.2654</td>\n",
       "      <td>7.6784</td>\n",
       "      <td>...</td>\n",
       "      <td>-1.4905</td>\n",
       "      <td>9.5214</td>\n",
       "      <td>-0.1508</td>\n",
       "      <td>9.1942</td>\n",
       "      <td>13.2876</td>\n",
       "      <td>-1.5121</td>\n",
       "      <td>3.9267</td>\n",
       "      <td>9.5031</td>\n",
       "      <td>17.9974</td>\n",
       "      <td>-8.8104</td>\n",
       "    </tr>\n",
       "  </tbody>\n",
       "</table>\n",
       "<p>5 rows × 200 columns</p>\n",
       "</div>"
      ],
      "text/plain": [
       "     var_0   var_1    var_2   var_3    var_4   var_5   var_6    var_7   var_8  \\\n",
       "0   8.9255 -6.7863  11.9081  5.0930  11.4607 -9.2834  5.1187  18.6266 -4.9200   \n",
       "1  11.5006 -4.1473  13.8588  5.3890  12.3622  7.0433  5.6208  16.5338  3.1468   \n",
       "2   8.6093 -2.7457  12.0805  7.8928  10.5825 -9.0837  6.9427  14.6155 -4.9193   \n",
       "3  11.0604 -2.1518   8.9522  7.1957  12.5846 -1.8361  5.8428  14.9250 -5.8609   \n",
       "4   9.8369 -1.4834  12.8746  6.6375  12.2772  2.4486  5.9405  19.2514  6.2654   \n",
       "\n",
       "    var_9  ...  var_190  var_191  var_192  var_193  var_194  var_195  var_196  \\\n",
       "0  5.7470  ...   4.4354   3.9642   3.1364   1.6910  18.5227  -2.3978   7.8784   \n",
       "1  8.0851  ...   7.6421   7.7214   2.5837  10.9516  15.4305   2.0339   8.1267   \n",
       "2  5.9525  ...   2.9057   9.7905   1.6704   1.6858  21.6042   3.1417  -6.5213   \n",
       "3  8.2450  ...   4.4666   4.7433   0.7178   1.4214  23.0347  -1.2706  -2.9275   \n",
       "4  7.6784  ...  -1.4905   9.5214  -0.1508   9.1942  13.2876  -1.5121   3.9267   \n",
       "\n",
       "   var_197  var_198  var_199  \n",
       "0   8.5635  12.7803  -1.0914  \n",
       "1   8.7889  18.3560   1.9518  \n",
       "2   8.2675  14.7222   0.3965  \n",
       "3  10.2922  17.9697  -8.9996  \n",
       "4   9.5031  17.9974  -8.8104  \n",
       "\n",
       "[5 rows x 200 columns]"
      ]
     },
     "execution_count": 23,
     "metadata": {},
     "output_type": "execute_result"
    }
   ],
   "source": [
    "X.head()"
   ]
  },
  {
   "cell_type": "code",
   "execution_count": 24,
   "id": "9760bbec-4c93-4214-ab33-b0d060e1c28c",
   "metadata": {
    "execution": {
     "iopub.execute_input": "2022-04-13T23:24:43.491263Z",
     "iopub.status.busy": "2022-04-13T23:24:43.491117Z",
     "iopub.status.idle": "2022-04-13T23:24:43.495472Z",
     "shell.execute_reply": "2022-04-13T23:24:43.494965Z",
     "shell.execute_reply.started": "2022-04-13T23:24:43.491245Z"
    }
   },
   "outputs": [
    {
     "data": {
      "text/plain": [
       "0    0\n",
       "1    0\n",
       "2    0\n",
       "3    0\n",
       "4    0\n",
       "Name: target, dtype: int64"
      ]
     },
     "execution_count": 24,
     "metadata": {},
     "output_type": "execute_result"
    }
   ],
   "source": [
    "y.head()"
   ]
  },
  {
   "cell_type": "markdown",
   "id": "34ce9879-3069-4bc5-a295-dcf3ae5ecb52",
   "metadata": {},
   "source": [
    "## SMOTE - Minority Oversampling"
   ]
  },
  {
   "cell_type": "code",
   "execution_count": 25,
   "id": "4b845ea5-5f3f-45bd-a3fe-b303705a75c7",
   "metadata": {
    "execution": {
     "iopub.execute_input": "2022-04-13T23:24:43.496363Z",
     "iopub.status.busy": "2022-04-13T23:24:43.496213Z",
     "iopub.status.idle": "2022-04-13T23:24:58.168704Z",
     "shell.execute_reply": "2022-04-13T23:24:58.168107Z",
     "shell.execute_reply.started": "2022-04-13T23:24:43.496346Z"
    }
   },
   "outputs": [
    {
     "data": {
      "text/plain": [
       "[]"
      ]
     },
     "execution_count": 25,
     "metadata": {},
     "output_type": "execute_result"
    },
    {
     "data": {
      "image/png": "[encoded data removed]",
      "text/plain": [
       "<Figure size 432x288 with 1 Axes>"
      ]
     },
     "metadata": {
      "needs_background": "light"
     },
     "output_type": "display_data"
    }
   ],
   "source": [
    "over = SMOTE(sampling_strategy=0.7, random_state=11, k_neighbors=7)\n",
    "under = RandomUnderSampler(sampling_strategy=1, random_state=11)\n",
    "\n",
    "steps = [('o', over), ('u', under)]\n",
    "pipeline = Pipeline(steps=steps)\n",
    "\n",
    "# transform the dataset\n",
    "X, y = pipeline.fit_resample(X, y)\n",
    "\n",
    "# Check the class distribution\n",
    "pd.concat([X, y], axis=1).pivot_table(index='target', aggfunc='size').plot(kind='bar', title = 'Class distribution').plot()"
   ]
  },
  {
   "cell_type": "code",
   "execution_count": 26,
   "id": "bae509f3-ab4a-4e77-b7d4-ae1a3bb45748",
   "metadata": {
    "execution": {
     "iopub.execute_input": "2022-04-13T23:24:58.169895Z",
     "iopub.status.busy": "2022-04-13T23:24:58.169707Z",
     "iopub.status.idle": "2022-04-13T23:24:58.767769Z",
     "shell.execute_reply": "2022-04-13T23:24:58.766928Z",
     "shell.execute_reply.started": "2022-04-13T23:24:58.169870Z"
    }
   },
   "outputs": [],
   "source": [
    "# Split the data into training and test set with a ration of 0.7:0.3 and constant random\n",
    "X_train, X_test, y_train, y_test = train_test_split(X, y, test_size=0.3, random_state=11, stratify=y)"
   ]
  },
  {
   "cell_type": "markdown",
   "id": "29a0f1c5-72c1-4660-a2da-48e553951f99",
   "metadata": {},
   "source": [
    "## Model Creation, Compiling & Fitting"
   ]
  },
  {
   "cell_type": "code",
   "execution_count": 27,
   "id": "5e5e6ef0-99ce-42a8-90d1-6726d659ccc9",
   "metadata": {
    "execution": {
     "iopub.execute_input": "2022-04-13T23:24:58.768857Z",
     "iopub.status.busy": "2022-04-13T23:24:58.768682Z",
     "iopub.status.idle": "2022-04-14T00:02:16.939300Z",
     "shell.execute_reply": "2022-04-14T00:02:16.938317Z",
     "shell.execute_reply.started": "2022-04-13T23:24:58.768837Z"
    }
   },
   "outputs": [
    {
     "name": "stdout",
     "output_type": "stream",
     "text": [
      "Epoch 1/100\n",
      "5510/5510 [==============================] - 35s 6ms/step - loss: 0.4782 - auc: 0.8525 - Accuracy: 0.7719 - precision: 0.7645 - recall: 0.7858 - val_loss: 0.4561 - val_auc: 0.8883 - val_Accuracy: 0.7878 - val_precision: 0.8687 - val_recall: 0.6781\n",
      "Epoch 2/100\n",
      "5510/5510 [==============================] - 33s 6ms/step - loss: 0.4136 - auc: 0.8927 - Accuracy: 0.8139 - precision: 0.8088 - recall: 0.8221 - val_loss: 0.3932 - val_auc: 0.9047 - val_Accuracy: 0.8251 - val_precision: 0.8311 - val_recall: 0.8161\n",
      "Epoch 3/100\n",
      "5510/5510 [==============================] - 33s 6ms/step - loss: 0.3851 - auc: 0.9079 - Accuracy: 0.8298 - precision: 0.8283 - recall: 0.8321 - val_loss: 0.3931 - val_auc: 0.9090 - val_Accuracy: 0.8256 - val_precision: 0.8586 - val_recall: 0.7797\n",
      "Epoch 4/100\n",
      "5510/5510 [==============================] - 34s 6ms/step - loss: 0.3686 - auc: 0.9161 - Accuracy: 0.8389 - precision: 0.8389 - recall: 0.8388 - val_loss: 0.3934 - val_auc: 0.9099 - val_Accuracy: 0.8253 - val_precision: 0.7934 - val_recall: 0.8798\n",
      "Epoch 5/100\n",
      "5510/5510 [==============================] - 34s 6ms/step - loss: 0.3554 - auc: 0.9222 - Accuracy: 0.8455 - precision: 0.8471 - recall: 0.8433 - val_loss: 0.3644 - val_auc: 0.9195 - val_Accuracy: 0.8411 - val_precision: 0.8293 - val_recall: 0.8589\n",
      "Epoch 6/100\n",
      "5510/5510 [==============================] - 34s 6ms/step - loss: 0.3434 - auc: 0.9274 - Accuracy: 0.8510 - precision: 0.8539 - recall: 0.8470 - val_loss: 0.3848 - val_auc: 0.9211 - val_Accuracy: 0.8319 - val_precision: 0.7895 - val_recall: 0.9051\n",
      "Epoch 7/100\n",
      "5510/5510 [==============================] - 36s 7ms/step - loss: 0.3357 - auc: 0.9308 - Accuracy: 0.8567 - precision: 0.8594 - recall: 0.8530 - val_loss: 0.3637 - val_auc: 0.9209 - val_Accuracy: 0.8432 - val_precision: 0.8280 - val_recall: 0.8665\n",
      "Epoch 8/100\n",
      "5510/5510 [==============================] - 34s 6ms/step - loss: 0.3274 - auc: 0.9341 - Accuracy: 0.8595 - precision: 0.8636 - recall: 0.8540 - val_loss: 0.3513 - val_auc: 0.9246 - val_Accuracy: 0.8486 - val_precision: 0.8407 - val_recall: 0.8603\n",
      "Epoch 9/100\n",
      "5510/5510 [==============================] - 33s 6ms/step - loss: 0.3205 - auc: 0.9369 - Accuracy: 0.8630 - precision: 0.8663 - recall: 0.8585 - val_loss: 0.3526 - val_auc: 0.9249 - val_Accuracy: 0.8486 - val_precision: 0.8656 - val_recall: 0.8253\n",
      "Epoch 10/100\n",
      "5510/5510 [==============================] - 33s 6ms/step - loss: 0.3138 - auc: 0.9396 - Accuracy: 0.8663 - precision: 0.8718 - recall: 0.8589 - val_loss: 0.3507 - val_auc: 0.9275 - val_Accuracy: 0.8521 - val_precision: 0.8514 - val_recall: 0.8530\n",
      "Epoch 11/100\n",
      "5510/5510 [==============================] - 33s 6ms/step - loss: 0.3088 - auc: 0.9415 - Accuracy: 0.8685 - precision: 0.8748 - recall: 0.8600 - val_loss: 0.3475 - val_auc: 0.9287 - val_Accuracy: 0.8512 - val_precision: 0.8291 - val_recall: 0.8849\n",
      "Epoch 12/100\n",
      "5510/5510 [==============================] - 34s 6ms/step - loss: 0.3044 - auc: 0.9432 - Accuracy: 0.8706 - precision: 0.8768 - recall: 0.8625 - val_loss: 0.3921 - val_auc: 0.9268 - val_Accuracy: 0.8282 - val_precision: 0.7748 - val_recall: 0.9252\n",
      "Epoch 13/100\n",
      "5510/5510 [==============================] - 33s 6ms/step - loss: 0.2993 - auc: 0.9450 - Accuracy: 0.8730 - precision: 0.8778 - recall: 0.8665 - val_loss: 0.3523 - val_auc: 0.9301 - val_Accuracy: 0.8526 - val_precision: 0.8822 - val_recall: 0.8139\n",
      "Epoch 14/100\n",
      "5510/5510 [==============================] - 34s 6ms/step - loss: 0.2960 - auc: 0.9463 - Accuracy: 0.8749 - precision: 0.8817 - recall: 0.8661 - val_loss: 0.3469 - val_auc: 0.9276 - val_Accuracy: 0.8534 - val_precision: 0.8472 - val_recall: 0.8624\n",
      "Epoch 15/100\n",
      "5510/5510 [==============================] - 33s 6ms/step - loss: 0.2917 - auc: 0.9478 - Accuracy: 0.8771 - precision: 0.8827 - recall: 0.8698 - val_loss: 0.3419 - val_auc: 0.9304 - val_Accuracy: 0.8567 - val_precision: 0.8646 - val_recall: 0.8457\n",
      "Epoch 16/100\n",
      "5510/5510 [==============================] - 34s 6ms/step - loss: 0.2876 - auc: 0.9493 - Accuracy: 0.8783 - precision: 0.8834 - recall: 0.8717 - val_loss: 0.3451 - val_auc: 0.9309 - val_Accuracy: 0.8564 - val_precision: 0.8603 - val_recall: 0.8508\n",
      "Epoch 17/100\n",
      "5510/5510 [==============================] - 39s 7ms/step - loss: 0.2846 - auc: 0.9505 - Accuracy: 0.8796 - precision: 0.8845 - recall: 0.8731 - val_loss: 0.3561 - val_auc: 0.9288 - val_Accuracy: 0.8551 - val_precision: 0.8461 - val_recall: 0.8681\n",
      "Epoch 18/100\n",
      "5510/5510 [==============================] - 35s 6ms/step - loss: 0.2793 - auc: 0.9522 - Accuracy: 0.8817 - precision: 0.8872 - recall: 0.8747 - val_loss: 0.3405 - val_auc: 0.9324 - val_Accuracy: 0.8561 - val_precision: 0.8399 - val_recall: 0.8799\n",
      "Epoch 19/100\n",
      "5510/5510 [==============================] - 33s 6ms/step - loss: 0.2775 - auc: 0.9528 - Accuracy: 0.8834 - precision: 0.8879 - recall: 0.8775 - val_loss: 0.3468 - val_auc: 0.9333 - val_Accuracy: 0.8560 - val_precision: 0.8341 - val_recall: 0.8888\n",
      "Epoch 20/100\n",
      "5510/5510 [==============================] - 34s 6ms/step - loss: 0.2758 - auc: 0.9535 - Accuracy: 0.8844 - precision: 0.8888 - recall: 0.8788 - val_loss: 0.3667 - val_auc: 0.9323 - val_Accuracy: 0.8531 - val_precision: 0.8235 - val_recall: 0.8989\n",
      "Epoch 21/100\n",
      "5510/5510 [==============================] - 34s 6ms/step - loss: 0.2737 - auc: 0.9542 - Accuracy: 0.8839 - precision: 0.8889 - recall: 0.8775 - val_loss: 0.3549 - val_auc: 0.9332 - val_Accuracy: 0.8514 - val_precision: 0.8962 - val_recall: 0.7947\n",
      "Epoch 22/100\n",
      "5510/5510 [==============================] - 36s 7ms/step - loss: 0.2700 - auc: 0.9554 - Accuracy: 0.8864 - precision: 0.8919 - recall: 0.8794 - val_loss: 0.3358 - val_auc: 0.9354 - val_Accuracy: 0.8608 - val_precision: 0.8468 - val_recall: 0.8810\n",
      "Epoch 23/100\n",
      "5510/5510 [==============================] - 33s 6ms/step - loss: 0.2672 - auc: 0.9563 - Accuracy: 0.8874 - precision: 0.8915 - recall: 0.8822 - val_loss: 0.3414 - val_auc: 0.9358 - val_Accuracy: 0.8610 - val_precision: 0.8772 - val_recall: 0.8395\n",
      "Epoch 24/100\n",
      "5510/5510 [==============================] - 33s 6ms/step - loss: 0.2642 - auc: 0.9573 - Accuracy: 0.8889 - precision: 0.8927 - recall: 0.8840 - val_loss: 0.3538 - val_auc: 0.9315 - val_Accuracy: 0.8504 - val_precision: 0.8205 - val_recall: 0.8969\n",
      "Epoch 25/100\n",
      "5510/5510 [==============================] - 36s 7ms/step - loss: 0.2616 - auc: 0.9581 - Accuracy: 0.8905 - precision: 0.8930 - recall: 0.8873 - val_loss: 0.3619 - val_auc: 0.9332 - val_Accuracy: 0.8545 - val_precision: 0.8885 - val_recall: 0.8107\n",
      "Epoch 26/100\n",
      "5510/5510 [==============================] - 39s 7ms/step - loss: 0.2596 - auc: 0.9588 - Accuracy: 0.8908 - precision: 0.8935 - recall: 0.8874 - val_loss: 0.3817 - val_auc: 0.9344 - val_Accuracy: 0.8530 - val_precision: 0.9002 - val_recall: 0.7940\n",
      "Epoch 27/100\n",
      "5510/5510 [==============================] - 34s 6ms/step - loss: 0.2597 - auc: 0.9588 - Accuracy: 0.8911 - precision: 0.8955 - recall: 0.8855 - val_loss: 0.3527 - val_auc: 0.9336 - val_Accuracy: 0.8579 - val_precision: 0.8816 - val_recall: 0.8268\n",
      "Epoch 28/100\n",
      "5510/5510 [==============================] - 34s 6ms/step - loss: 0.2568 - auc: 0.9598 - Accuracy: 0.8919 - precision: 0.8966 - recall: 0.8860 - val_loss: 0.3426 - val_auc: 0.9356 - val_Accuracy: 0.8587 - val_precision: 0.8850 - val_recall: 0.8246\n",
      "Epoch 29/100\n",
      "5510/5510 [==============================] - 33s 6ms/step - loss: 0.2538 - auc: 0.9606 - Accuracy: 0.8932 - precision: 0.8979 - recall: 0.8872 - val_loss: 0.3500 - val_auc: 0.9342 - val_Accuracy: 0.8585 - val_precision: 0.8780 - val_recall: 0.8326\n",
      "Epoch 30/100\n",
      "5510/5510 [==============================] - 34s 6ms/step - loss: 0.2510 - auc: 0.9615 - Accuracy: 0.8945 - precision: 0.8978 - recall: 0.8905 - val_loss: 0.3486 - val_auc: 0.9362 - val_Accuracy: 0.8585 - val_precision: 0.8323 - val_recall: 0.8979\n",
      "Epoch 31/100\n",
      "5510/5510 [==============================] - 33s 6ms/step - loss: 0.2491 - auc: 0.9621 - Accuracy: 0.8959 - precision: 0.8989 - recall: 0.8922 - val_loss: 0.3512 - val_auc: 0.9362 - val_Accuracy: 0.8590 - val_precision: 0.8343 - val_recall: 0.8959\n",
      "Epoch 32/100\n",
      "5510/5510 [==============================] - 37s 7ms/step - loss: 0.2482 - auc: 0.9623 - Accuracy: 0.8955 - precision: 0.8985 - recall: 0.8917 - val_loss: 0.3447 - val_auc: 0.9356 - val_Accuracy: 0.8578 - val_precision: 0.8331 - val_recall: 0.8950\n",
      "Epoch 33/100\n",
      "5510/5510 [==============================] - 34s 6ms/step - loss: 0.2475 - auc: 0.9626 - Accuracy: 0.8959 - precision: 0.8996 - recall: 0.8912 - val_loss: 0.3532 - val_auc: 0.9361 - val_Accuracy: 0.8584 - val_precision: 0.8907 - val_recall: 0.8171\n",
      "Epoch 34/100\n",
      "5510/5510 [==============================] - 36s 7ms/step - loss: 0.2444 - auc: 0.9635 - Accuracy: 0.8972 - precision: 0.8999 - recall: 0.8938 - val_loss: 0.3600 - val_auc: 0.9375 - val_Accuracy: 0.8640 - val_precision: 0.8747 - val_recall: 0.8496\n",
      "Epoch 35/100\n",
      "5510/5510 [==============================] - 34s 6ms/step - loss: 0.2429 - auc: 0.9639 - Accuracy: 0.8979 - precision: 0.9012 - recall: 0.8939 - val_loss: 0.3961 - val_auc: 0.9316 - val_Accuracy: 0.8513 - val_precision: 0.8166 - val_recall: 0.9061\n",
      "Epoch 36/100\n",
      "5510/5510 [==============================] - 36s 6ms/step - loss: 0.2422 - auc: 0.9641 - Accuracy: 0.8981 - precision: 0.9014 - recall: 0.8940 - val_loss: 0.3542 - val_auc: 0.9376 - val_Accuracy: 0.8641 - val_precision: 0.8500 - val_recall: 0.8843\n",
      "Epoch 37/100\n",
      "5510/5510 [==============================] - 33s 6ms/step - loss: 0.2404 - auc: 0.9647 - Accuracy: 0.8997 - precision: 0.9030 - recall: 0.8957 - val_loss: 0.3685 - val_auc: 0.9374 - val_Accuracy: 0.8627 - val_precision: 0.8430 - val_recall: 0.8916\n",
      "Epoch 38/100\n",
      "5510/5510 [==============================] - 34s 6ms/step - loss: 0.2396 - auc: 0.9650 - Accuracy: 0.8989 - precision: 0.9017 - recall: 0.8955 - val_loss: 0.3448 - val_auc: 0.9378 - val_Accuracy: 0.8637 - val_precision: 0.8651 - val_recall: 0.8617\n",
      "Epoch 39/100\n",
      "5510/5510 [==============================] - 36s 7ms/step - loss: 0.2373 - auc: 0.9656 - Accuracy: 0.9003 - precision: 0.9041 - recall: 0.8957 - val_loss: 0.3616 - val_auc: 0.9366 - val_Accuracy: 0.8635 - val_precision: 0.8766 - val_recall: 0.8462\n",
      "Epoch 40/100\n",
      "5510/5510 [==============================] - 33s 6ms/step - loss: 0.2361 - auc: 0.9659 - Accuracy: 0.9004 - precision: 0.9039 - recall: 0.8961 - val_loss: 0.3459 - val_auc: 0.9397 - val_Accuracy: 0.8672 - val_precision: 0.8714 - val_recall: 0.8615\n",
      "Epoch 41/100\n",
      "5510/5510 [==============================] - 34s 6ms/step - loss: 0.2351 - auc: 0.9662 - Accuracy: 0.9012 - precision: 0.9037 - recall: 0.8981 - val_loss: 0.3480 - val_auc: 0.9372 - val_Accuracy: 0.8646 - val_precision: 0.8541 - val_recall: 0.8795\n",
      "Epoch 42/100\n",
      "5510/5510 [==============================] - 33s 6ms/step - loss: 0.2328 - auc: 0.9669 - Accuracy: 0.9026 - precision: 0.9049 - recall: 0.8998 - val_loss: 0.3513 - val_auc: 0.9285 - val_Accuracy: 0.8523 - val_precision: 0.8472 - val_recall: 0.8597\n",
      "Epoch 43/100\n",
      "5510/5510 [==============================] - 33s 6ms/step - loss: 0.2325 - auc: 0.9669 - Accuracy: 0.9028 - precision: 0.9061 - recall: 0.8988 - val_loss: 0.4162 - val_auc: 0.9379 - val_Accuracy: 0.8654 - val_precision: 0.8701 - val_recall: 0.8591\n",
      "Epoch 44/100\n",
      "5510/5510 [==============================] - 36s 7ms/step - loss: 0.2316 - auc: 0.9673 - Accuracy: 0.9024 - precision: 0.9047 - recall: 0.8996 - val_loss: 0.3638 - val_auc: 0.9382 - val_Accuracy: 0.8651 - val_precision: 0.8513 - val_recall: 0.8848\n",
      "Epoch 45/100\n",
      "5510/5510 [==============================] - 34s 6ms/step - loss: 0.2310 - auc: 0.9674 - Accuracy: 0.9025 - precision: 0.9059 - recall: 0.8982 - val_loss: 0.3796 - val_auc: 0.9366 - val_Accuracy: 0.8552 - val_precision: 0.8138 - val_recall: 0.9212\n",
      "Epoch 46/100\n",
      "5510/5510 [==============================] - 33s 6ms/step - loss: 0.2290 - auc: 0.9680 - Accuracy: 0.9041 - precision: 0.9062 - recall: 0.9016 - val_loss: 0.3902 - val_auc: 0.9371 - val_Accuracy: 0.8633 - val_precision: 0.8390 - val_recall: 0.8990\n",
      "Epoch 47/100\n",
      "5510/5510 [==============================] - 33s 6ms/step - loss: 0.2301 - auc: 0.9677 - Accuracy: 0.9030 - precision: 0.9059 - recall: 0.8995 - val_loss: 0.3444 - val_auc: 0.9383 - val_Accuracy: 0.8655 - val_precision: 0.8661 - val_recall: 0.8646\n",
      "Epoch 48/100\n",
      "5510/5510 [==============================] - 33s 6ms/step - loss: 0.2276 - auc: 0.9684 - Accuracy: 0.9052 - precision: 0.9078 - recall: 0.9019 - val_loss: 0.3515 - val_auc: 0.9372 - val_Accuracy: 0.8620 - val_precision: 0.8396 - val_recall: 0.8950\n",
      "Epoch 49/100\n",
      "5510/5510 [==============================] - 34s 6ms/step - loss: 0.2257 - auc: 0.9689 - Accuracy: 0.9055 - precision: 0.9073 - recall: 0.9033 - val_loss: 0.3583 - val_auc: 0.9387 - val_Accuracy: 0.8646 - val_precision: 0.8457 - val_recall: 0.8920\n",
      "Epoch 50/100\n",
      "5510/5510 [==============================] - 34s 6ms/step - loss: 0.2244 - auc: 0.9693 - Accuracy: 0.9059 - precision: 0.9081 - recall: 0.9032 - val_loss: 0.3674 - val_auc: 0.9375 - val_Accuracy: 0.8647 - val_precision: 0.8683 - val_recall: 0.8598\n",
      "Epoch 51/100\n",
      "5510/5510 [==============================] - 36s 7ms/step - loss: 0.2234 - auc: 0.9695 - Accuracy: 0.9058 - precision: 0.9075 - recall: 0.9038 - val_loss: 0.3564 - val_auc: 0.9374 - val_Accuracy: 0.8632 - val_precision: 0.8771 - val_recall: 0.8449\n",
      "Epoch 52/100\n",
      "5510/5510 [==============================] - 36s 6ms/step - loss: 0.2242 - auc: 0.9693 - Accuracy: 0.9061 - precision: 0.9077 - recall: 0.9041 - val_loss: 0.3537 - val_auc: 0.9385 - val_Accuracy: 0.8658 - val_precision: 0.8541 - val_recall: 0.8823\n",
      "Epoch 53/100\n",
      "5510/5510 [==============================] - 33s 6ms/step - loss: 0.2228 - auc: 0.9697 - Accuracy: 0.9064 - precision: 0.9085 - recall: 0.9039 - val_loss: 0.3547 - val_auc: 0.9385 - val_Accuracy: 0.8671 - val_precision: 0.8759 - val_recall: 0.8554\n",
      "Epoch 54/100\n",
      "5510/5510 [==============================] - 34s 6ms/step - loss: 0.2206 - auc: 0.9703 - Accuracy: 0.9072 - precision: 0.9089 - recall: 0.9052 - val_loss: 0.3720 - val_auc: 0.9395 - val_Accuracy: 0.8667 - val_precision: 0.8496 - val_recall: 0.8911\n",
      "Epoch 55/100\n",
      "5510/5510 [==============================] - 33s 6ms/step - loss: 0.2198 - auc: 0.9705 - Accuracy: 0.9082 - precision: 0.9102 - recall: 0.9057 - val_loss: 0.3668 - val_auc: 0.9379 - val_Accuracy: 0.8647 - val_precision: 0.8505 - val_recall: 0.8850\n",
      "Epoch 56/100\n",
      "5510/5510 [==============================] - 34s 6ms/step - loss: 0.2187 - auc: 0.9708 - Accuracy: 0.9084 - precision: 0.9105 - recall: 0.9059 - val_loss: 0.3846 - val_auc: 0.9402 - val_Accuracy: 0.8643 - val_precision: 0.8946 - val_recall: 0.8259\n",
      "Epoch 57/100\n",
      "5510/5510 [==============================] - 34s 6ms/step - loss: 0.2169 - auc: 0.9713 - Accuracy: 0.9091 - precision: 0.9113 - recall: 0.9064 - val_loss: 0.3916 - val_auc: 0.9373 - val_Accuracy: 0.8642 - val_precision: 0.8839 - val_recall: 0.8385\n",
      "Epoch 58/100\n",
      "5510/5510 [==============================] - 33s 6ms/step - loss: 0.2172 - auc: 0.9712 - Accuracy: 0.9092 - precision: 0.9112 - recall: 0.9068 - val_loss: 0.3644 - val_auc: 0.9385 - val_Accuracy: 0.8641 - val_precision: 0.8434 - val_recall: 0.8942\n",
      "Epoch 59/100\n",
      "5510/5510 [==============================] - 33s 6ms/step - loss: 0.2165 - auc: 0.9714 - Accuracy: 0.9090 - precision: 0.9103 - recall: 0.9074 - val_loss: 0.3733 - val_auc: 0.9359 - val_Accuracy: 0.8607 - val_precision: 0.8346 - val_recall: 0.8996\n",
      "Epoch 60/100\n",
      "5510/5510 [==============================] - 35s 6ms/step - loss: 0.2151 - auc: 0.9718 - Accuracy: 0.9096 - precision: 0.9114 - recall: 0.9074 - val_loss: 0.3899 - val_auc: 0.9391 - val_Accuracy: 0.8665 - val_precision: 0.8814 - val_recall: 0.8470\n",
      "Epoch 61/100\n",
      "5510/5510 [==============================] - 39s 7ms/step - loss: 0.2159 - auc: 0.9716 - Accuracy: 0.9101 - precision: 0.9112 - recall: 0.9088 - val_loss: 0.3788 - val_auc: 0.9389 - val_Accuracy: 0.8666 - val_precision: 0.8839 - val_recall: 0.8440\n",
      "Epoch 62/100\n",
      "5510/5510 [==============================] - 39s 7ms/step - loss: 0.2129 - auc: 0.9723 - Accuracy: 0.9106 - precision: 0.9118 - recall: 0.9092 - val_loss: 0.4067 - val_auc: 0.9371 - val_Accuracy: 0.8553 - val_precision: 0.9038 - val_recall: 0.7953\n",
      "Epoch 63/100\n",
      "5510/5510 [==============================] - 38s 7ms/step - loss: 0.2140 - auc: 0.9721 - Accuracy: 0.9100 - precision: 0.9103 - recall: 0.9096 - val_loss: 0.4616 - val_auc: 0.9353 - val_Accuracy: 0.8616 - val_precision: 0.8765 - val_recall: 0.8418\n",
      "Epoch 64/100\n",
      "5510/5510 [==============================] - 35s 6ms/step - loss: 0.2135 - auc: 0.9722 - Accuracy: 0.9103 - precision: 0.9118 - recall: 0.9085 - val_loss: 0.4218 - val_auc: 0.9394 - val_Accuracy: 0.8680 - val_precision: 0.8761 - val_recall: 0.8572\n",
      "Epoch 65/100\n",
      "5510/5510 [==============================] - 34s 6ms/step - loss: 0.2150 - auc: 0.9718 - Accuracy: 0.9105 - precision: 0.9109 - recall: 0.9101 - val_loss: 0.3488 - val_auc: 0.9398 - val_Accuracy: 0.8660 - val_precision: 0.8407 - val_recall: 0.9031\n"
     ]
    }
   ],
   "source": [
    "earlyStopping = tf.keras.callbacks.EarlyStopping(monitor='loss', patience=3)\n",
    "\n",
    "model = keras.Sequential([\n",
    "        keras.layers.Flatten(input_shape=(200,1)),\n",
    "        keras.layers.Dense(128, activation='relu'),\n",
    "        keras.layers.Dense(64, activation='relu'),\n",
    "        keras.layers.Dense(32, activation='relu'),\n",
    "        keras.layers.Dense(16, activation='relu'),\n",
    "        keras.layers.Dense(8, activation='relu'),\n",
    "        keras.layers.Dense(1, activation='sigmoid'),\n",
    "])\n",
    "\n",
    "model.compile(optimizer='adam',\n",
    "                  loss='binary_crossentropy',\n",
    "                  metrics=['AUC', \n",
    "                           'Accuracy',\n",
    "                           'Precision',\n",
    "                           'Recall'])\n",
    "\n",
    "history = model.fit(X_train, y_train, epochs=100, validation_data=(X_test, y_test),\n",
    "                  callbacks=[earlyStopping])"
   ]
  },
  {
   "cell_type": "markdown",
   "id": "fd1985c7-7607-4c44-b886-5c86956e6ad9",
   "metadata": {},
   "source": [
    "## Evaluate the Model"
   ]
  },
  {
   "cell_type": "markdown",
   "id": "d02e6464-5977-4958-99d9-07623fcb90ab",
   "metadata": {},
   "source": [
    "### Training vs Validation Plot - Loss, AUC, Accuracy, Precision, Recall "
   ]
  },
  {
   "cell_type": "code",
   "execution_count": 28,
   "id": "89b8aa93-d768-42e2-8eb7-22863f954075",
   "metadata": {
    "execution": {
     "iopub.execute_input": "2022-04-14T00:02:16.940892Z",
     "iopub.status.busy": "2022-04-14T00:02:16.940720Z",
     "iopub.status.idle": "2022-04-14T00:02:22.985828Z",
     "shell.execute_reply": "2022-04-14T00:02:22.985152Z",
     "shell.execute_reply.started": "2022-04-14T00:02:16.940872Z"
    }
   },
   "outputs": [
    {
     "data": {
      "image/png": "[encoded data removed]",
      "text/plain": [
       "<Figure size 432x288 with 1 Axes>"
      ]
     },
     "metadata": {
      "needs_background": "light"
     },
     "output_type": "display_data"
    },
    {
     "data": {
      "image/png": "[encoded data removed]",
      "text/plain": [
       "<Figure size 432x288 with 1 Axes>"
      ]
     },
     "metadata": {
      "needs_background": "light"
     },
     "output_type": "display_data"
    },
    {
     "data": {
      "image/png": "[encoded data removed]",
      "text/plain": [
       "<Figure size 432x288 with 1 Axes>"
      ]
     },
     "metadata": {
      "needs_background": "light"
     },
     "output_type": "display_data"
    },
    {
     "data": {
      "image/png": "[encoded data removed]",
      "text/plain": [
       "<Figure size 432x288 with 1 Axes>"
      ]
     },
     "metadata": {
      "needs_background": "light"
     },
     "output_type": "display_data"
    },
    {
     "data": {
      "image/png": "[encoded data removed]",
      "text/plain": [
       "<Figure size 432x288 with 1 Axes>"
      ]
     },
     "metadata": {
      "needs_background": "light"
     },
     "output_type": "display_data"
    }
   ],
   "source": [
    "# Loss\n",
    "plt.plot(history.history['loss'])\n",
    "plt.plot(history.history['val_loss'])\n",
    "plt.title('Model Loss')\n",
    "plt.ylabel('loss')\n",
    "plt.xlabel('epoch')\n",
    "plt.legend(['Train', 'Test'], loc='best')\n",
    "plt.show()\n",
    "\n",
    "# AUC\n",
    "plt.plot(history.history['auc'])\n",
    "plt.plot(history.history['val_auc'])\n",
    "plt.title('Model AUC')\n",
    "plt.ylabel('auc')\n",
    "plt.xlabel('epoch')\n",
    "plt.legend(['Train', 'Test'], loc='best')\n",
    "plt.show()\n",
    "\n",
    "# Accuracy\n",
    "plt.plot(history.history['Accuracy'])\n",
    "plt.plot(history.history['val_Accuracy'])\n",
    "plt.title('Model Accuracy')\n",
    "plt.ylabel('accuracy')\n",
    "plt.xlabel('epoch')\n",
    "plt.legend(['Train', 'Test'], loc='best')\n",
    "plt.show()\n",
    "\n",
    "# Precision\n",
    "plt.plot(history.history['precision'])\n",
    "plt.plot(history.history['val_precision'])\n",
    "plt.title('Model Precision')\n",
    "plt.ylabel('precision')\n",
    "plt.xlabel('epoch')\n",
    "plt.legend(['Train', 'Test'], loc='best')\n",
    "plt.show()\n",
    "\n",
    "# Recall\n",
    "plt.plot(history.history['recall'])\n",
    "plt.plot(history.history['val_recall'])\n",
    "plt.title('Model Recall')\n",
    "plt.ylabel('recall')\n",
    "plt.xlabel('epoch')\n",
    "plt.legend(['Train', 'Test'], loc='best')\n",
    "plt.show()\n",
    "\n"
   ]
  },
  {
   "cell_type": "code",
   "execution_count": 29,
   "id": "c54548d5-2254-42e8-8e85-477d2464630b",
   "metadata": {
    "execution": {
     "iopub.execute_input": "2022-04-14T00:02:22.987115Z",
     "iopub.status.busy": "2022-04-14T00:02:22.986953Z",
     "iopub.status.idle": "2022-04-14T00:02:26.256202Z",
     "shell.execute_reply": "2022-04-14T00:02:26.255677Z",
     "shell.execute_reply.started": "2022-04-14T00:02:22.987096Z"
    }
   },
   "outputs": [
    {
     "data": {
      "image/png": "[encoded data removed]",
      "text/plain": [
       "<Figure size 864x576 with 4 Axes>"
      ]
     },
     "metadata": {
      "needs_background": "light"
     },
     "output_type": "display_data"
    }
   ],
   "source": [
    "y_score = model.predict(X_test)[:,0]\n",
    "y_pred = list(map(lambda pred: 1 if pred > 0.5 else 0, y_score))\n",
    "\n",
    "\n",
    "# Confusion Matrix\n",
    "cm = confusion_matrix(y_test, y_pred)\n",
    "cm_display = ConfusionMatrixDisplay(cm)\n",
    "\n",
    "# ROC Curve\n",
    "fpr, tpr, _ = roc_curve(y_test, y_score)\n",
    "roc_display = RocCurveDisplay(fpr=fpr, tpr=tpr)\n",
    "\n",
    "# Precision-Recall Curve\n",
    "prec, recall, _ = precision_recall_curve(y_test, y_score)\n",
    "pr_display = PrecisionRecallDisplay(precision=prec, recall=recall)\n",
    "\n",
    "fig, (ax1, ax2, ax3) = plt.subplots(1, 3, figsize=(12, 8))\n",
    "cm_display.plot(ax=ax1)\n",
    "roc_display.plot(ax=ax2)\n",
    "pr_display.plot(ax=ax3)\n",
    "plt.show()"
   ]
  },
  {
   "cell_type": "code",
   "execution_count": 30,
   "id": "10801f76-8f7c-480a-9cc9-5ac9208faa23",
   "metadata": {
    "execution": {
     "iopub.execute_input": "2022-04-14T00:02:26.258025Z",
     "iopub.status.busy": "2022-04-14T00:02:26.257861Z",
     "iopub.status.idle": "2022-04-14T00:02:26.473852Z",
     "shell.execute_reply": "2022-04-14T00:02:26.473394Z",
     "shell.execute_reply.started": "2022-04-14T00:02:26.258006Z"
    }
   },
   "outputs": [
    {
     "name": "stdout",
     "output_type": "stream",
     "text": [
      "Accuracy:  0.8660252253206104\n",
      "Precision:  0.8407293334975976\n",
      "Recall:  0.9031498147167814\n",
      "F1-Score:  0.8708224334843361\n"
     ]
    }
   ],
   "source": [
    "print(\"Accuracy: \", accuracy_score(y_test, y_pred))\n",
    "print(\"Precision: \", precision_score(y_test, y_pred))\n",
    "print(\"Recall: \", recall_score(y_test, y_pred))\n",
    "print(\"F1-Score: \", f1_score(y_test, y_pred))"
   ]
  }
 ],
 "metadata": {
  "kernelspec": {
   "display_name": "Python 3 (ipykernel)",
   "language": "python",
   "name": "python3"
  },
  "language_info": {
   "codemirror_mode": {
    "name": "ipython",
    "version": 3
   },
   "file_extension": ".py",
   "mimetype": "text/x-python",
   "name": "python",
   "nbconvert_exporter": "python",
   "pygments_lexer": "ipython3",
   "version": "3.8.10"
  }
 },
 "nbformat": 4,
 "nbformat_minor": 5
}
