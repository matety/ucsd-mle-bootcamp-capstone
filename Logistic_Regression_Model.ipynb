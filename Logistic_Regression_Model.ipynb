{
 "cells": [
  {
   "cell_type": "markdown",
   "id": "01813332",
   "metadata": {},
   "source": [
    "# Santander Customer Transaction Prediction"
   ]
  },
  {
   "cell_type": "markdown",
   "id": "84790118",
   "metadata": {},
   "source": [
    "https://www.kaggle.com/c/santander-customer-transaction-prediction"
   ]
  },
  {
   "cell_type": "markdown",
   "id": "db24942a",
   "metadata": {},
   "source": [
    "At Santander our mission is to help people and businesses prosper. We are always looking for ways to help our customers understand their financial health and identify which products and services might help them achieve their monetary goals.\n",
    "\n",
    "Our data science team is continually challenging our machine learning algorithms, working with the global data science community to make sure we can more accurately identify new ways to solve our most common challenge, binary classification problems such as: is a customer satisfied? Will a customer buy this product? Can a customer pay this loan?\n",
    "\n",
    "In this challenge, we invite Kagglers to help us identify which customers will make a specific transaction in the future, irrespective of the amount of money transacted. The data provided for this competition has the same structure as the real data we have available to solve this problem."
   ]
  },
  {
   "cell_type": "markdown",
   "id": "d07025eb",
   "metadata": {
    "gradient": {
     "editing": false,
     "id": "d07025eb",
     "kernelId": "c55cb859-11c1-48bc-8669-9f4374ddcbed"
    }
   },
   "source": [
    "## Import the base libraries required for this modeling"
   ]
  },
  {
   "cell_type": "code",
   "execution_count": null,
   "id": "ae7c3ddc",
   "metadata": {
    "gradient": {
     "editing": false,
     "id": "ae7c3ddc",
     "kernelId": "c55cb859-11c1-48bc-8669-9f4374ddcbed"
    }
   },
   "outputs": [],
   "source": [
    "%matplotlib inline\n",
    "import numpy as np\n",
    "import matplotlib.pyplot as plt\n",
    "import pandas as pd\n",
    "import seaborn as sns"
   ]
  },
  {
   "cell_type": "markdown",
   "id": "6fab6467",
   "metadata": {
    "gradient": {
     "editing": false,
     "id": "6fab6467",
     "kernelId": "c55cb859-11c1-48bc-8669-9f4374ddcbed"
    }
   },
   "source": [
    "## Load the training data"
   ]
  },
  {
   "cell_type": "code",
   "execution_count": null,
   "id": "a55c6e60",
   "metadata": {
    "gradient": {
     "editing": false,
     "id": "a55c6e60",
     "kernelId": "c55cb859-11c1-48bc-8669-9f4374ddcbed"
    }
   },
   "outputs": [
    {
     "data": {
      "text/html": [
       "<div>\n",
       "<style scoped>\n",
       "    .dataframe tbody tr th:only-of-type {\n",
       "        vertical-align: middle;\n",
       "    }\n",
       "\n",
       "    .dataframe tbody tr th {\n",
       "        vertical-align: top;\n",
       "    }\n",
       "\n",
       "    .dataframe thead th {\n",
       "        text-align: right;\n",
       "    }\n",
       "</style>\n",
       "<table border=\"1\" class=\"dataframe\">\n",
       "  <thead>\n",
       "    <tr style=\"text-align: right;\">\n",
       "      <th></th>\n",
       "      <th>ID_code</th>\n",
       "      <th>target</th>\n",
       "      <th>var_0</th>\n",
       "      <th>var_1</th>\n",
       "      <th>var_2</th>\n",
       "      <th>var_3</th>\n",
       "      <th>var_4</th>\n",
       "      <th>var_5</th>\n",
       "      <th>var_6</th>\n",
       "      <th>var_7</th>\n",
       "      <th>...</th>\n",
       "      <th>var_190</th>\n",
       "      <th>var_191</th>\n",
       "      <th>var_192</th>\n",
       "      <th>var_193</th>\n",
       "      <th>var_194</th>\n",
       "      <th>var_195</th>\n",
       "      <th>var_196</th>\n",
       "      <th>var_197</th>\n",
       "      <th>var_198</th>\n",
       "      <th>var_199</th>\n",
       "    </tr>\n",
       "  </thead>\n",
       "  <tbody>\n",
       "    <tr>\n",
       "      <th>0</th>\n",
       "      <td>train_0</td>\n",
       "      <td>0</td>\n",
       "      <td>8.9255</td>\n",
       "      <td>-6.7863</td>\n",
       "      <td>11.9081</td>\n",
       "      <td>5.0930</td>\n",
       "      <td>11.4607</td>\n",
       "      <td>-9.2834</td>\n",
       "      <td>5.1187</td>\n",
       "      <td>18.6266</td>\n",
       "      <td>...</td>\n",
       "      <td>4.4354</td>\n",
       "      <td>3.9642</td>\n",
       "      <td>3.1364</td>\n",
       "      <td>1.6910</td>\n",
       "      <td>18.5227</td>\n",
       "      <td>-2.3978</td>\n",
       "      <td>7.8784</td>\n",
       "      <td>8.5635</td>\n",
       "      <td>12.7803</td>\n",
       "      <td>-1.0914</td>\n",
       "    </tr>\n",
       "    <tr>\n",
       "      <th>1</th>\n",
       "      <td>train_1</td>\n",
       "      <td>0</td>\n",
       "      <td>11.5006</td>\n",
       "      <td>-4.1473</td>\n",
       "      <td>13.8588</td>\n",
       "      <td>5.3890</td>\n",
       "      <td>12.3622</td>\n",
       "      <td>7.0433</td>\n",
       "      <td>5.6208</td>\n",
       "      <td>16.5338</td>\n",
       "      <td>...</td>\n",
       "      <td>7.6421</td>\n",
       "      <td>7.7214</td>\n",
       "      <td>2.5837</td>\n",
       "      <td>10.9516</td>\n",
       "      <td>15.4305</td>\n",
       "      <td>2.0339</td>\n",
       "      <td>8.1267</td>\n",
       "      <td>8.7889</td>\n",
       "      <td>18.3560</td>\n",
       "      <td>1.9518</td>\n",
       "    </tr>\n",
       "    <tr>\n",
       "      <th>2</th>\n",
       "      <td>train_2</td>\n",
       "      <td>0</td>\n",
       "      <td>8.6093</td>\n",
       "      <td>-2.7457</td>\n",
       "      <td>12.0805</td>\n",
       "      <td>7.8928</td>\n",
       "      <td>10.5825</td>\n",
       "      <td>-9.0837</td>\n",
       "      <td>6.9427</td>\n",
       "      <td>14.6155</td>\n",
       "      <td>...</td>\n",
       "      <td>2.9057</td>\n",
       "      <td>9.7905</td>\n",
       "      <td>1.6704</td>\n",
       "      <td>1.6858</td>\n",
       "      <td>21.6042</td>\n",
       "      <td>3.1417</td>\n",
       "      <td>-6.5213</td>\n",
       "      <td>8.2675</td>\n",
       "      <td>14.7222</td>\n",
       "      <td>0.3965</td>\n",
       "    </tr>\n",
       "    <tr>\n",
       "      <th>3</th>\n",
       "      <td>train_3</td>\n",
       "      <td>0</td>\n",
       "      <td>11.0604</td>\n",
       "      <td>-2.1518</td>\n",
       "      <td>8.9522</td>\n",
       "      <td>7.1957</td>\n",
       "      <td>12.5846</td>\n",
       "      <td>-1.8361</td>\n",
       "      <td>5.8428</td>\n",
       "      <td>14.9250</td>\n",
       "      <td>...</td>\n",
       "      <td>4.4666</td>\n",
       "      <td>4.7433</td>\n",
       "      <td>0.7178</td>\n",
       "      <td>1.4214</td>\n",
       "      <td>23.0347</td>\n",
       "      <td>-1.2706</td>\n",
       "      <td>-2.9275</td>\n",
       "      <td>10.2922</td>\n",
       "      <td>17.9697</td>\n",
       "      <td>-8.9996</td>\n",
       "    </tr>\n",
       "    <tr>\n",
       "      <th>4</th>\n",
       "      <td>train_4</td>\n",
       "      <td>0</td>\n",
       "      <td>9.8369</td>\n",
       "      <td>-1.4834</td>\n",
       "      <td>12.8746</td>\n",
       "      <td>6.6375</td>\n",
       "      <td>12.2772</td>\n",
       "      <td>2.4486</td>\n",
       "      <td>5.9405</td>\n",
       "      <td>19.2514</td>\n",
       "      <td>...</td>\n",
       "      <td>-1.4905</td>\n",
       "      <td>9.5214</td>\n",
       "      <td>-0.1508</td>\n",
       "      <td>9.1942</td>\n",
       "      <td>13.2876</td>\n",
       "      <td>-1.5121</td>\n",
       "      <td>3.9267</td>\n",
       "      <td>9.5031</td>\n",
       "      <td>17.9974</td>\n",
       "      <td>-8.8104</td>\n",
       "    </tr>\n",
       "  </tbody>\n",
       "</table>\n",
       "<p>5 rows × 202 columns</p>\n",
       "</div>"
      ],
      "text/plain": [
       "   ID_code  target    var_0   var_1    var_2   var_3    var_4   var_5   var_6  \\\n",
       "0  train_0       0   8.9255 -6.7863  11.9081  5.0930  11.4607 -9.2834  5.1187   \n",
       "1  train_1       0  11.5006 -4.1473  13.8588  5.3890  12.3622  7.0433  5.6208   \n",
       "2  train_2       0   8.6093 -2.7457  12.0805  7.8928  10.5825 -9.0837  6.9427   \n",
       "3  train_3       0  11.0604 -2.1518   8.9522  7.1957  12.5846 -1.8361  5.8428   \n",
       "4  train_4       0   9.8369 -1.4834  12.8746  6.6375  12.2772  2.4486  5.9405   \n",
       "\n",
       "     var_7  ...  var_190  var_191  var_192  var_193  var_194  var_195  \\\n",
       "0  18.6266  ...   4.4354   3.9642   3.1364   1.6910  18.5227  -2.3978   \n",
       "1  16.5338  ...   7.6421   7.7214   2.5837  10.9516  15.4305   2.0339   \n",
       "2  14.6155  ...   2.9057   9.7905   1.6704   1.6858  21.6042   3.1417   \n",
       "3  14.9250  ...   4.4666   4.7433   0.7178   1.4214  23.0347  -1.2706   \n",
       "4  19.2514  ...  -1.4905   9.5214  -0.1508   9.1942  13.2876  -1.5121   \n",
       "\n",
       "   var_196  var_197  var_198  var_199  \n",
       "0   7.8784   8.5635  12.7803  -1.0914  \n",
       "1   8.1267   8.7889  18.3560   1.9518  \n",
       "2  -6.5213   8.2675  14.7222   0.3965  \n",
       "3  -2.9275  10.2922  17.9697  -8.9996  \n",
       "4   3.9267   9.5031  17.9974  -8.8104  \n",
       "\n",
       "[5 rows x 202 columns]"
      ]
     },
     "execution_count": 2,
     "metadata": {},
     "output_type": "execute_result"
    }
   ],
   "source": [
    "txns = pd.read_csv('./train.csv')\n",
    "txns.head(5)"
   ]
  },
  {
   "cell_type": "markdown",
   "id": "ba255268",
   "metadata": {
    "gradient": {
     "editing": false,
     "id": "ba255268",
     "kernelId": "c55cb859-11c1-48bc-8669-9f4374ddcbed"
    }
   },
   "source": [
    "## Explore the training data"
   ]
  },
  {
   "cell_type": "code",
   "execution_count": null,
   "id": "d06f9799",
   "metadata": {
    "gradient": {
     "editing": false,
     "id": "d06f9799",
     "kernelId": "c55cb859-11c1-48bc-8669-9f4374ddcbed"
    }
   },
   "outputs": [
    {
     "name": "stdout",
     "output_type": "stream",
     "text": [
      "<class 'pandas.core.frame.DataFrame'>\n",
      "RangeIndex: 200000 entries, 0 to 199999\n",
      "Columns: 202 entries, ID_code to var_199\n",
      "dtypes: float64(200), int64(1), object(1)\n",
      "memory usage: 308.2+ MB\n"
     ]
    }
   ],
   "source": [
    "# Info about the training data\n",
    "txns.info()"
   ]
  },
  {
   "cell_type": "code",
   "execution_count": null,
   "id": "cc5ce74a",
   "metadata": {
    "gradient": {
     "editing": false,
     "id": "cc5ce74a",
     "kernelId": "c55cb859-11c1-48bc-8669-9f4374ddcbed"
    }
   },
   "outputs": [
    {
     "data": {
      "text/html": [
       "<div>\n",
       "<style scoped>\n",
       "    .dataframe tbody tr th:only-of-type {\n",
       "        vertical-align: middle;\n",
       "    }\n",
       "\n",
       "    .dataframe tbody tr th {\n",
       "        vertical-align: top;\n",
       "    }\n",
       "\n",
       "    .dataframe thead th {\n",
       "        text-align: right;\n",
       "    }\n",
       "</style>\n",
       "<table border=\"1\" class=\"dataframe\">\n",
       "  <thead>\n",
       "    <tr style=\"text-align: right;\">\n",
       "      <th></th>\n",
       "      <th>target</th>\n",
       "      <th>var_0</th>\n",
       "      <th>var_1</th>\n",
       "      <th>var_2</th>\n",
       "      <th>var_3</th>\n",
       "      <th>var_4</th>\n",
       "      <th>var_5</th>\n",
       "      <th>var_6</th>\n",
       "      <th>var_7</th>\n",
       "      <th>var_8</th>\n",
       "      <th>...</th>\n",
       "      <th>var_190</th>\n",
       "      <th>var_191</th>\n",
       "      <th>var_192</th>\n",
       "      <th>var_193</th>\n",
       "      <th>var_194</th>\n",
       "      <th>var_195</th>\n",
       "      <th>var_196</th>\n",
       "      <th>var_197</th>\n",
       "      <th>var_198</th>\n",
       "      <th>var_199</th>\n",
       "    </tr>\n",
       "  </thead>\n",
       "  <tbody>\n",
       "    <tr>\n",
       "      <th>count</th>\n",
       "      <td>200000.000000</td>\n",
       "      <td>200000.000000</td>\n",
       "      <td>200000.000000</td>\n",
       "      <td>200000.000000</td>\n",
       "      <td>200000.000000</td>\n",
       "      <td>200000.000000</td>\n",
       "      <td>200000.000000</td>\n",
       "      <td>200000.000000</td>\n",
       "      <td>200000.000000</td>\n",
       "      <td>200000.000000</td>\n",
       "      <td>...</td>\n",
       "      <td>200000.000000</td>\n",
       "      <td>200000.000000</td>\n",
       "      <td>200000.000000</td>\n",
       "      <td>200000.000000</td>\n",
       "      <td>200000.000000</td>\n",
       "      <td>200000.000000</td>\n",
       "      <td>200000.000000</td>\n",
       "      <td>200000.000000</td>\n",
       "      <td>200000.000000</td>\n",
       "      <td>200000.000000</td>\n",
       "    </tr>\n",
       "    <tr>\n",
       "      <th>mean</th>\n",
       "      <td>0.100490</td>\n",
       "      <td>10.679914</td>\n",
       "      <td>-1.627622</td>\n",
       "      <td>10.715192</td>\n",
       "      <td>6.796529</td>\n",
       "      <td>11.078333</td>\n",
       "      <td>-5.065317</td>\n",
       "      <td>5.408949</td>\n",
       "      <td>16.545850</td>\n",
       "      <td>0.284162</td>\n",
       "      <td>...</td>\n",
       "      <td>3.234440</td>\n",
       "      <td>7.438408</td>\n",
       "      <td>1.927839</td>\n",
       "      <td>3.331774</td>\n",
       "      <td>17.993784</td>\n",
       "      <td>-0.142088</td>\n",
       "      <td>2.303335</td>\n",
       "      <td>8.908158</td>\n",
       "      <td>15.870720</td>\n",
       "      <td>-3.326537</td>\n",
       "    </tr>\n",
       "    <tr>\n",
       "      <th>std</th>\n",
       "      <td>0.300653</td>\n",
       "      <td>3.040051</td>\n",
       "      <td>4.050044</td>\n",
       "      <td>2.640894</td>\n",
       "      <td>2.043319</td>\n",
       "      <td>1.623150</td>\n",
       "      <td>7.863267</td>\n",
       "      <td>0.866607</td>\n",
       "      <td>3.418076</td>\n",
       "      <td>3.332634</td>\n",
       "      <td>...</td>\n",
       "      <td>4.559922</td>\n",
       "      <td>3.023272</td>\n",
       "      <td>1.478423</td>\n",
       "      <td>3.992030</td>\n",
       "      <td>3.135162</td>\n",
       "      <td>1.429372</td>\n",
       "      <td>5.454369</td>\n",
       "      <td>0.921625</td>\n",
       "      <td>3.010945</td>\n",
       "      <td>10.438015</td>\n",
       "    </tr>\n",
       "    <tr>\n",
       "      <th>min</th>\n",
       "      <td>0.000000</td>\n",
       "      <td>0.408400</td>\n",
       "      <td>-15.043400</td>\n",
       "      <td>2.117100</td>\n",
       "      <td>-0.040200</td>\n",
       "      <td>5.074800</td>\n",
       "      <td>-32.562600</td>\n",
       "      <td>2.347300</td>\n",
       "      <td>5.349700</td>\n",
       "      <td>-10.505500</td>\n",
       "      <td>...</td>\n",
       "      <td>-14.093300</td>\n",
       "      <td>-2.691700</td>\n",
       "      <td>-3.814500</td>\n",
       "      <td>-11.783400</td>\n",
       "      <td>8.694400</td>\n",
       "      <td>-5.261000</td>\n",
       "      <td>-14.209600</td>\n",
       "      <td>5.960600</td>\n",
       "      <td>6.299300</td>\n",
       "      <td>-38.852800</td>\n",
       "    </tr>\n",
       "    <tr>\n",
       "      <th>25%</th>\n",
       "      <td>0.000000</td>\n",
       "      <td>8.453850</td>\n",
       "      <td>-4.740025</td>\n",
       "      <td>8.722475</td>\n",
       "      <td>5.254075</td>\n",
       "      <td>9.883175</td>\n",
       "      <td>-11.200350</td>\n",
       "      <td>4.767700</td>\n",
       "      <td>13.943800</td>\n",
       "      <td>-2.317800</td>\n",
       "      <td>...</td>\n",
       "      <td>-0.058825</td>\n",
       "      <td>5.157400</td>\n",
       "      <td>0.889775</td>\n",
       "      <td>0.584600</td>\n",
       "      <td>15.629800</td>\n",
       "      <td>-1.170700</td>\n",
       "      <td>-1.946925</td>\n",
       "      <td>8.252800</td>\n",
       "      <td>13.829700</td>\n",
       "      <td>-11.208475</td>\n",
       "    </tr>\n",
       "    <tr>\n",
       "      <th>50%</th>\n",
       "      <td>0.000000</td>\n",
       "      <td>10.524750</td>\n",
       "      <td>-1.608050</td>\n",
       "      <td>10.580000</td>\n",
       "      <td>6.825000</td>\n",
       "      <td>11.108250</td>\n",
       "      <td>-4.833150</td>\n",
       "      <td>5.385100</td>\n",
       "      <td>16.456800</td>\n",
       "      <td>0.393700</td>\n",
       "      <td>...</td>\n",
       "      <td>3.203600</td>\n",
       "      <td>7.347750</td>\n",
       "      <td>1.901300</td>\n",
       "      <td>3.396350</td>\n",
       "      <td>17.957950</td>\n",
       "      <td>-0.172700</td>\n",
       "      <td>2.408900</td>\n",
       "      <td>8.888200</td>\n",
       "      <td>15.934050</td>\n",
       "      <td>-2.819550</td>\n",
       "    </tr>\n",
       "    <tr>\n",
       "      <th>75%</th>\n",
       "      <td>0.000000</td>\n",
       "      <td>12.758200</td>\n",
       "      <td>1.358625</td>\n",
       "      <td>12.516700</td>\n",
       "      <td>8.324100</td>\n",
       "      <td>12.261125</td>\n",
       "      <td>0.924800</td>\n",
       "      <td>6.003000</td>\n",
       "      <td>19.102900</td>\n",
       "      <td>2.937900</td>\n",
       "      <td>...</td>\n",
       "      <td>6.406200</td>\n",
       "      <td>9.512525</td>\n",
       "      <td>2.949500</td>\n",
       "      <td>6.205800</td>\n",
       "      <td>20.396525</td>\n",
       "      <td>0.829600</td>\n",
       "      <td>6.556725</td>\n",
       "      <td>9.593300</td>\n",
       "      <td>18.064725</td>\n",
       "      <td>4.836800</td>\n",
       "    </tr>\n",
       "    <tr>\n",
       "      <th>max</th>\n",
       "      <td>1.000000</td>\n",
       "      <td>20.315000</td>\n",
       "      <td>10.376800</td>\n",
       "      <td>19.353000</td>\n",
       "      <td>13.188300</td>\n",
       "      <td>16.671400</td>\n",
       "      <td>17.251600</td>\n",
       "      <td>8.447700</td>\n",
       "      <td>27.691800</td>\n",
       "      <td>10.151300</td>\n",
       "      <td>...</td>\n",
       "      <td>18.440900</td>\n",
       "      <td>16.716500</td>\n",
       "      <td>8.402400</td>\n",
       "      <td>18.281800</td>\n",
       "      <td>27.928800</td>\n",
       "      <td>4.272900</td>\n",
       "      <td>18.321500</td>\n",
       "      <td>12.000400</td>\n",
       "      <td>26.079100</td>\n",
       "      <td>28.500700</td>\n",
       "    </tr>\n",
       "  </tbody>\n",
       "</table>\n",
       "<p>8 rows × 201 columns</p>\n",
       "</div>"
      ],
      "text/plain": [
       "              target          var_0          var_1          var_2  \\\n",
       "count  200000.000000  200000.000000  200000.000000  200000.000000   \n",
       "mean        0.100490      10.679914      -1.627622      10.715192   \n",
       "std         0.300653       3.040051       4.050044       2.640894   \n",
       "min         0.000000       0.408400     -15.043400       2.117100   \n",
       "25%         0.000000       8.453850      -4.740025       8.722475   \n",
       "50%         0.000000      10.524750      -1.608050      10.580000   \n",
       "75%         0.000000      12.758200       1.358625      12.516700   \n",
       "max         1.000000      20.315000      10.376800      19.353000   \n",
       "\n",
       "               var_3          var_4          var_5          var_6  \\\n",
       "count  200000.000000  200000.000000  200000.000000  200000.000000   \n",
       "mean        6.796529      11.078333      -5.065317       5.408949   \n",
       "std         2.043319       1.623150       7.863267       0.866607   \n",
       "min        -0.040200       5.074800     -32.562600       2.347300   \n",
       "25%         5.254075       9.883175     -11.200350       4.767700   \n",
       "50%         6.825000      11.108250      -4.833150       5.385100   \n",
       "75%         8.324100      12.261125       0.924800       6.003000   \n",
       "max        13.188300      16.671400      17.251600       8.447700   \n",
       "\n",
       "               var_7          var_8  ...        var_190        var_191  \\\n",
       "count  200000.000000  200000.000000  ...  200000.000000  200000.000000   \n",
       "mean       16.545850       0.284162  ...       3.234440       7.438408   \n",
       "std         3.418076       3.332634  ...       4.559922       3.023272   \n",
       "min         5.349700     -10.505500  ...     -14.093300      -2.691700   \n",
       "25%        13.943800      -2.317800  ...      -0.058825       5.157400   \n",
       "50%        16.456800       0.393700  ...       3.203600       7.347750   \n",
       "75%        19.102900       2.937900  ...       6.406200       9.512525   \n",
       "max        27.691800      10.151300  ...      18.440900      16.716500   \n",
       "\n",
       "             var_192        var_193        var_194        var_195  \\\n",
       "count  200000.000000  200000.000000  200000.000000  200000.000000   \n",
       "mean        1.927839       3.331774      17.993784      -0.142088   \n",
       "std         1.478423       3.992030       3.135162       1.429372   \n",
       "min        -3.814500     -11.783400       8.694400      -5.261000   \n",
       "25%         0.889775       0.584600      15.629800      -1.170700   \n",
       "50%         1.901300       3.396350      17.957950      -0.172700   \n",
       "75%         2.949500       6.205800      20.396525       0.829600   \n",
       "max         8.402400      18.281800      27.928800       4.272900   \n",
       "\n",
       "             var_196        var_197        var_198        var_199  \n",
       "count  200000.000000  200000.000000  200000.000000  200000.000000  \n",
       "mean        2.303335       8.908158      15.870720      -3.326537  \n",
       "std         5.454369       0.921625       3.010945      10.438015  \n",
       "min       -14.209600       5.960600       6.299300     -38.852800  \n",
       "25%        -1.946925       8.252800      13.829700     -11.208475  \n",
       "50%         2.408900       8.888200      15.934050      -2.819550  \n",
       "75%         6.556725       9.593300      18.064725       4.836800  \n",
       "max        18.321500      12.000400      26.079100      28.500700  \n",
       "\n",
       "[8 rows x 201 columns]"
      ]
     },
     "execution_count": 4,
     "metadata": {},
     "output_type": "execute_result"
    }
   ],
   "source": [
    "# Describe the training data\n",
    "txns.describe()"
   ]
  },
  {
   "cell_type": "code",
   "execution_count": null,
   "id": "7697e91e",
   "metadata": {
    "gradient": {
     "editing": false,
     "id": "7697e91e",
     "kernelId": "c55cb859-11c1-48bc-8669-9f4374ddcbed"
    }
   },
   "outputs": [
    {
     "data": {
      "text/plain": [
       "False"
      ]
     },
     "execution_count": 5,
     "metadata": {},
     "output_type": "execute_result"
    }
   ],
   "source": [
    "# Check if there any null values that we have to deal with\n",
    "txns.isnull().values.any()\n",
    "# There are no null values in this dataset"
   ]
  },
  {
   "cell_type": "code",
   "execution_count": null,
   "id": "c9c31791",
   "metadata": {
    "gradient": {
     "editing": false,
     "id": "c9c31791",
     "kernelId": "c55cb859-11c1-48bc-8669-9f4374ddcbed"
    }
   },
   "outputs": [
    {
     "data": {
      "text/html": [
       "<div>\n",
       "<style scoped>\n",
       "    .dataframe tbody tr th:only-of-type {\n",
       "        vertical-align: middle;\n",
       "    }\n",
       "\n",
       "    .dataframe tbody tr th {\n",
       "        vertical-align: top;\n",
       "    }\n",
       "\n",
       "    .dataframe thead th {\n",
       "        text-align: right;\n",
       "    }\n",
       "</style>\n",
       "<table border=\"1\" class=\"dataframe\">\n",
       "  <thead>\n",
       "    <tr style=\"text-align: right;\">\n",
       "      <th></th>\n",
       "      <th>var_0</th>\n",
       "      <th>var_1</th>\n",
       "      <th>var_2</th>\n",
       "      <th>var_3</th>\n",
       "      <th>var_4</th>\n",
       "      <th>var_5</th>\n",
       "      <th>var_6</th>\n",
       "      <th>var_7</th>\n",
       "      <th>var_8</th>\n",
       "      <th>var_9</th>\n",
       "      <th>...</th>\n",
       "      <th>var_190</th>\n",
       "      <th>var_191</th>\n",
       "      <th>var_192</th>\n",
       "      <th>var_193</th>\n",
       "      <th>var_194</th>\n",
       "      <th>var_195</th>\n",
       "      <th>var_196</th>\n",
       "      <th>var_197</th>\n",
       "      <th>var_198</th>\n",
       "      <th>var_199</th>\n",
       "    </tr>\n",
       "  </thead>\n",
       "  <tbody>\n",
       "    <tr>\n",
       "      <th>var_0</th>\n",
       "      <td>1.000000</td>\n",
       "      <td>-0.000544</td>\n",
       "      <td>0.006573</td>\n",
       "      <td>0.003801</td>\n",
       "      <td>0.001326</td>\n",
       "      <td>0.003046</td>\n",
       "      <td>0.006983</td>\n",
       "      <td>0.002429</td>\n",
       "      <td>0.004962</td>\n",
       "      <td>-0.002613</td>\n",
       "      <td>...</td>\n",
       "      <td>0.002752</td>\n",
       "      <td>0.000206</td>\n",
       "      <td>-0.005373</td>\n",
       "      <td>0.001616</td>\n",
       "      <td>-0.001514</td>\n",
       "      <td>0.002073</td>\n",
       "      <td>0.004386</td>\n",
       "      <td>-0.000753</td>\n",
       "      <td>-0.005776</td>\n",
       "      <td>0.003850</td>\n",
       "    </tr>\n",
       "    <tr>\n",
       "      <th>var_1</th>\n",
       "      <td>-0.000544</td>\n",
       "      <td>1.000000</td>\n",
       "      <td>0.003980</td>\n",
       "      <td>0.000010</td>\n",
       "      <td>0.000303</td>\n",
       "      <td>-0.000902</td>\n",
       "      <td>0.003258</td>\n",
       "      <td>0.001511</td>\n",
       "      <td>0.004098</td>\n",
       "      <td>-0.000832</td>\n",
       "      <td>...</td>\n",
       "      <td>0.006627</td>\n",
       "      <td>0.003621</td>\n",
       "      <td>-0.002604</td>\n",
       "      <td>0.001153</td>\n",
       "      <td>-0.002557</td>\n",
       "      <td>-0.000785</td>\n",
       "      <td>-0.000377</td>\n",
       "      <td>-0.004157</td>\n",
       "      <td>-0.004861</td>\n",
       "      <td>0.002287</td>\n",
       "    </tr>\n",
       "    <tr>\n",
       "      <th>var_2</th>\n",
       "      <td>0.006573</td>\n",
       "      <td>0.003980</td>\n",
       "      <td>1.000000</td>\n",
       "      <td>0.001001</td>\n",
       "      <td>0.000723</td>\n",
       "      <td>0.001569</td>\n",
       "      <td>0.000883</td>\n",
       "      <td>-0.000991</td>\n",
       "      <td>0.002648</td>\n",
       "      <td>-0.001932</td>\n",
       "      <td>...</td>\n",
       "      <td>0.000197</td>\n",
       "      <td>0.001285</td>\n",
       "      <td>-0.003400</td>\n",
       "      <td>0.000549</td>\n",
       "      <td>0.002104</td>\n",
       "      <td>-0.001070</td>\n",
       "      <td>0.003952</td>\n",
       "      <td>0.001078</td>\n",
       "      <td>-0.000877</td>\n",
       "      <td>0.003855</td>\n",
       "    </tr>\n",
       "    <tr>\n",
       "      <th>var_3</th>\n",
       "      <td>0.003801</td>\n",
       "      <td>0.000010</td>\n",
       "      <td>0.001001</td>\n",
       "      <td>1.000000</td>\n",
       "      <td>-0.000322</td>\n",
       "      <td>0.003253</td>\n",
       "      <td>-0.000774</td>\n",
       "      <td>0.002500</td>\n",
       "      <td>0.003553</td>\n",
       "      <td>-0.000826</td>\n",
       "      <td>...</td>\n",
       "      <td>0.000151</td>\n",
       "      <td>0.002445</td>\n",
       "      <td>-0.001530</td>\n",
       "      <td>-0.001699</td>\n",
       "      <td>-0.001054</td>\n",
       "      <td>0.001206</td>\n",
       "      <td>-0.002800</td>\n",
       "      <td>0.001164</td>\n",
       "      <td>-0.001651</td>\n",
       "      <td>0.000506</td>\n",
       "    </tr>\n",
       "    <tr>\n",
       "      <th>var_4</th>\n",
       "      <td>0.001326</td>\n",
       "      <td>0.000303</td>\n",
       "      <td>0.000723</td>\n",
       "      <td>-0.000322</td>\n",
       "      <td>1.000000</td>\n",
       "      <td>-0.001368</td>\n",
       "      <td>0.000049</td>\n",
       "      <td>0.004549</td>\n",
       "      <td>0.001194</td>\n",
       "      <td>-0.000918</td>\n",
       "      <td>...</td>\n",
       "      <td>0.001514</td>\n",
       "      <td>0.004357</td>\n",
       "      <td>0.003347</td>\n",
       "      <td>0.000813</td>\n",
       "      <td>-0.000068</td>\n",
       "      <td>0.003706</td>\n",
       "      <td>0.000513</td>\n",
       "      <td>-0.000046</td>\n",
       "      <td>-0.001821</td>\n",
       "      <td>-0.000786</td>\n",
       "    </tr>\n",
       "    <tr>\n",
       "      <th>...</th>\n",
       "      <td>...</td>\n",
       "      <td>...</td>\n",
       "      <td>...</td>\n",
       "      <td>...</td>\n",
       "      <td>...</td>\n",
       "      <td>...</td>\n",
       "      <td>...</td>\n",
       "      <td>...</td>\n",
       "      <td>...</td>\n",
       "      <td>...</td>\n",
       "      <td>...</td>\n",
       "      <td>...</td>\n",
       "      <td>...</td>\n",
       "      <td>...</td>\n",
       "      <td>...</td>\n",
       "      <td>...</td>\n",
       "      <td>...</td>\n",
       "      <td>...</td>\n",
       "      <td>...</td>\n",
       "      <td>...</td>\n",
       "      <td>...</td>\n",
       "    </tr>\n",
       "    <tr>\n",
       "      <th>var_195</th>\n",
       "      <td>0.002073</td>\n",
       "      <td>-0.000785</td>\n",
       "      <td>-0.001070</td>\n",
       "      <td>0.001206</td>\n",
       "      <td>0.003706</td>\n",
       "      <td>-0.001274</td>\n",
       "      <td>0.001244</td>\n",
       "      <td>0.001854</td>\n",
       "      <td>0.001396</td>\n",
       "      <td>-0.000868</td>\n",
       "      <td>...</td>\n",
       "      <td>0.004571</td>\n",
       "      <td>0.000870</td>\n",
       "      <td>-0.004745</td>\n",
       "      <td>-0.003143</td>\n",
       "      <td>-0.001201</td>\n",
       "      <td>1.000000</td>\n",
       "      <td>0.002517</td>\n",
       "      <td>-0.004170</td>\n",
       "      <td>-0.000536</td>\n",
       "      <td>0.002042</td>\n",
       "    </tr>\n",
       "    <tr>\n",
       "      <th>var_196</th>\n",
       "      <td>0.004386</td>\n",
       "      <td>-0.000377</td>\n",
       "      <td>0.003952</td>\n",
       "      <td>-0.002800</td>\n",
       "      <td>0.000513</td>\n",
       "      <td>0.002880</td>\n",
       "      <td>0.005378</td>\n",
       "      <td>0.001045</td>\n",
       "      <td>-0.003242</td>\n",
       "      <td>0.000052</td>\n",
       "      <td>...</td>\n",
       "      <td>-0.000847</td>\n",
       "      <td>0.002466</td>\n",
       "      <td>-0.001386</td>\n",
       "      <td>-0.005308</td>\n",
       "      <td>-0.005040</td>\n",
       "      <td>0.002517</td>\n",
       "      <td>1.000000</td>\n",
       "      <td>-0.000454</td>\n",
       "      <td>0.000253</td>\n",
       "      <td>0.000607</td>\n",
       "    </tr>\n",
       "    <tr>\n",
       "      <th>var_197</th>\n",
       "      <td>-0.000753</td>\n",
       "      <td>-0.004157</td>\n",
       "      <td>0.001078</td>\n",
       "      <td>0.001164</td>\n",
       "      <td>-0.000046</td>\n",
       "      <td>-0.000535</td>\n",
       "      <td>-0.003565</td>\n",
       "      <td>0.003466</td>\n",
       "      <td>-0.004583</td>\n",
       "      <td>0.003701</td>\n",
       "      <td>...</td>\n",
       "      <td>-0.004974</td>\n",
       "      <td>0.000906</td>\n",
       "      <td>-0.000527</td>\n",
       "      <td>0.005068</td>\n",
       "      <td>0.000884</td>\n",
       "      <td>-0.004170</td>\n",
       "      <td>-0.000454</td>\n",
       "      <td>1.000000</td>\n",
       "      <td>0.001183</td>\n",
       "      <td>0.004991</td>\n",
       "    </tr>\n",
       "    <tr>\n",
       "      <th>var_198</th>\n",
       "      <td>-0.005776</td>\n",
       "      <td>-0.004861</td>\n",
       "      <td>-0.000877</td>\n",
       "      <td>-0.001651</td>\n",
       "      <td>-0.001821</td>\n",
       "      <td>-0.000953</td>\n",
       "      <td>-0.003025</td>\n",
       "      <td>0.000650</td>\n",
       "      <td>0.002950</td>\n",
       "      <td>0.002343</td>\n",
       "      <td>...</td>\n",
       "      <td>-0.000153</td>\n",
       "      <td>-0.000067</td>\n",
       "      <td>0.003451</td>\n",
       "      <td>0.001646</td>\n",
       "      <td>0.003194</td>\n",
       "      <td>-0.000536</td>\n",
       "      <td>0.000253</td>\n",
       "      <td>0.001183</td>\n",
       "      <td>1.000000</td>\n",
       "      <td>-0.004731</td>\n",
       "    </tr>\n",
       "    <tr>\n",
       "      <th>var_199</th>\n",
       "      <td>0.003850</td>\n",
       "      <td>0.002287</td>\n",
       "      <td>0.003855</td>\n",
       "      <td>0.000506</td>\n",
       "      <td>-0.000786</td>\n",
       "      <td>0.002767</td>\n",
       "      <td>0.006096</td>\n",
       "      <td>-0.001457</td>\n",
       "      <td>0.000854</td>\n",
       "      <td>0.001070</td>\n",
       "      <td>...</td>\n",
       "      <td>-0.000404</td>\n",
       "      <td>0.003595</td>\n",
       "      <td>-0.001239</td>\n",
       "      <td>-0.000552</td>\n",
       "      <td>-0.005615</td>\n",
       "      <td>0.002042</td>\n",
       "      <td>0.000607</td>\n",
       "      <td>0.004991</td>\n",
       "      <td>-0.004731</td>\n",
       "      <td>1.000000</td>\n",
       "    </tr>\n",
       "  </tbody>\n",
       "</table>\n",
       "<p>200 rows × 200 columns</p>\n",
       "</div>"
      ],
      "text/plain": [
       "            var_0     var_1     var_2     var_3     var_4     var_5     var_6  \\\n",
       "var_0    1.000000 -0.000544  0.006573  0.003801  0.001326  0.003046  0.006983   \n",
       "var_1   -0.000544  1.000000  0.003980  0.000010  0.000303 -0.000902  0.003258   \n",
       "var_2    0.006573  0.003980  1.000000  0.001001  0.000723  0.001569  0.000883   \n",
       "var_3    0.003801  0.000010  0.001001  1.000000 -0.000322  0.003253 -0.000774   \n",
       "var_4    0.001326  0.000303  0.000723 -0.000322  1.000000 -0.001368  0.000049   \n",
       "...           ...       ...       ...       ...       ...       ...       ...   \n",
       "var_195  0.002073 -0.000785 -0.001070  0.001206  0.003706 -0.001274  0.001244   \n",
       "var_196  0.004386 -0.000377  0.003952 -0.002800  0.000513  0.002880  0.005378   \n",
       "var_197 -0.000753 -0.004157  0.001078  0.001164 -0.000046 -0.000535 -0.003565   \n",
       "var_198 -0.005776 -0.004861 -0.000877 -0.001651 -0.001821 -0.000953 -0.003025   \n",
       "var_199  0.003850  0.002287  0.003855  0.000506 -0.000786  0.002767  0.006096   \n",
       "\n",
       "            var_7     var_8     var_9  ...   var_190   var_191   var_192  \\\n",
       "var_0    0.002429  0.004962 -0.002613  ...  0.002752  0.000206 -0.005373   \n",
       "var_1    0.001511  0.004098 -0.000832  ...  0.006627  0.003621 -0.002604   \n",
       "var_2   -0.000991  0.002648 -0.001932  ...  0.000197  0.001285 -0.003400   \n",
       "var_3    0.002500  0.003553 -0.000826  ...  0.000151  0.002445 -0.001530   \n",
       "var_4    0.004549  0.001194 -0.000918  ...  0.001514  0.004357  0.003347   \n",
       "...           ...       ...       ...  ...       ...       ...       ...   \n",
       "var_195  0.001854  0.001396 -0.000868  ...  0.004571  0.000870 -0.004745   \n",
       "var_196  0.001045 -0.003242  0.000052  ... -0.000847  0.002466 -0.001386   \n",
       "var_197  0.003466 -0.004583  0.003701  ... -0.004974  0.000906 -0.000527   \n",
       "var_198  0.000650  0.002950  0.002343  ... -0.000153 -0.000067  0.003451   \n",
       "var_199 -0.001457  0.000854  0.001070  ... -0.000404  0.003595 -0.001239   \n",
       "\n",
       "          var_193   var_194   var_195   var_196   var_197   var_198   var_199  \n",
       "var_0    0.001616 -0.001514  0.002073  0.004386 -0.000753 -0.005776  0.003850  \n",
       "var_1    0.001153 -0.002557 -0.000785 -0.000377 -0.004157 -0.004861  0.002287  \n",
       "var_2    0.000549  0.002104 -0.001070  0.003952  0.001078 -0.000877  0.003855  \n",
       "var_3   -0.001699 -0.001054  0.001206 -0.002800  0.001164 -0.001651  0.000506  \n",
       "var_4    0.000813 -0.000068  0.003706  0.000513 -0.000046 -0.001821 -0.000786  \n",
       "...           ...       ...       ...       ...       ...       ...       ...  \n",
       "var_195 -0.003143 -0.001201  1.000000  0.002517 -0.004170 -0.000536  0.002042  \n",
       "var_196 -0.005308 -0.005040  0.002517  1.000000 -0.000454  0.000253  0.000607  \n",
       "var_197  0.005068  0.000884 -0.004170 -0.000454  1.000000  0.001183  0.004991  \n",
       "var_198  0.001646  0.003194 -0.000536  0.000253  0.001183  1.000000 -0.004731  \n",
       "var_199 -0.000552 -0.005615  0.002042  0.000607  0.004991 -0.004731  1.000000  \n",
       "\n",
       "[200 rows x 200 columns]"
      ]
     },
     "execution_count": 6,
     "metadata": {},
     "output_type": "execute_result"
    }
   ],
   "source": [
    "# Are there any correlations in the training data with regards to the feature columns var_*?\n",
    "txns_features = txns.drop(columns=['ID_code','target'])\n",
    "txns_features.corr()"
   ]
  },
  {
   "cell_type": "code",
   "execution_count": null,
   "id": "c8928a7c",
   "metadata": {
    "gradient": {
     "editing": false,
     "id": "c8928a7c",
     "kernelId": "c55cb859-11c1-48bc-8669-9f4374ddcbed"
    }
   },
   "outputs": [
    {
     "data": {
      "text/plain": [
       "<AxesSubplot:>"
      ]
     },
     "execution_count": 7,
     "metadata": {},
     "output_type": "execute_result"
    },
    {
     "data": {
      "image/png": "[encoded data removed]",
      "text/plain": [
       "<Figure size 432x288 with 2 Axes>"
      ]
     },
     "metadata": {
      "needs_background": "light"
     },
     "output_type": "display_data"
    }
   ],
   "source": [
    "# Seaborn heatmap showing the correlation\n",
    "sns.heatmap(txns_features.corr())"
   ]
  },
  {
   "cell_type": "code",
   "execution_count": null,
   "id": "130630fc",
   "metadata": {
    "gradient": {
     "editing": false,
     "id": "130630fc",
     "kernelId": "c55cb859-11c1-48bc-8669-9f4374ddcbed"
    }
   },
   "outputs": [
    {
     "data": {
      "text/plain": [
       "[]"
      ]
     },
     "execution_count": 8,
     "metadata": {},
     "output_type": "execute_result"
    },
    {
     "data": {
      "image/png": "[encoded data removed]",
      "text/plain": [
       "<Figure size 432x288 with 1 Axes>"
      ]
     },
     "metadata": {
      "needs_background": "light"
     },
     "output_type": "display_data"
    }
   ],
   "source": [
    "# Table below shows that we have a high class imbalance between the binary classification\n",
    "txns.pivot_table(index='target', aggfunc='size').plot(kind='bar', title = 'Class distribution').plot()"
   ]
  },
  {
   "cell_type": "markdown",
   "id": "3923fd65",
   "metadata": {
    "gradient": {
     "editing": false,
     "id": "3923fd65",
     "kernelId": "c55cb859-11c1-48bc-8669-9f4374ddcbed"
    }
   },
   "source": [
    "## Split the data into training and test"
   ]
  },
  {
   "cell_type": "code",
   "execution_count": null,
   "id": "cf50dbb5",
   "metadata": {
    "gradient": {
     "editing": false,
     "id": "cf50dbb5",
     "kernelId": "c55cb859-11c1-48bc-8669-9f4374ddcbed"
    }
   },
   "outputs": [],
   "source": [
    "from sklearn.model_selection import train_test_split\n",
    "from sklearn.linear_model import LogisticRegression\n",
    "from sklearn.metrics import accuracy_score\n",
    "from sklearn.pipeline import make_pipeline\n",
    "from sklearn.preprocessing import MinMaxScaler"
   ]
  },
  {
   "cell_type": "code",
   "execution_count": null,
   "id": "5548692a",
   "metadata": {
    "gradient": {
     "editing": false,
     "id": "5548692a",
     "kernelId": "c55cb859-11c1-48bc-8669-9f4374ddcbed"
    }
   },
   "outputs": [],
   "source": [
    "# Split the data into training and test set with a ration of 0.7:0.3 and constant random\n",
    "X_train, X_test, y_train, y_test = train_test_split(txns_features, txns['target'], test_size=0.3, random_state=11, stratify=txns['target'])"
   ]
  },
  {
   "cell_type": "code",
   "execution_count": null,
   "id": "65082228",
   "metadata": {
    "gradient": {
     "editing": false,
     "id": "65082228",
     "kernelId": "c55cb859-11c1-48bc-8669-9f4374ddcbed"
    }
   },
   "outputs": [],
   "source": [
    "# Preprocessing - Scaled\n",
    "scaler_train = MinMaxScaler().fit(X_train)\n",
    "X_train_scaled = scaler_train.transform(X_train)\n",
    "scaler_test = MinMaxScaler().fit(X_test)\n",
    "X_test_scaled = scaler_test.transform(X_test)"
   ]
  },
  {
   "cell_type": "markdown",
   "id": "c3ca4051",
   "metadata": {
    "gradient": {
     "editing": false,
     "id": "c3ca4051",
     "kernelId": "c55cb859-11c1-48bc-8669-9f4374ddcbed"
    }
   },
   "source": [
    "## Hyperparameter tuning using Grid Search Cross Validation"
   ]
  },
  {
   "cell_type": "code",
   "execution_count": null,
   "id": "61a074a7",
   "metadata": {
    "gradient": {
     "editing": false,
     "id": "61a074a7",
     "kernelId": "c55cb859-11c1-48bc-8669-9f4374ddcbed"
    }
   },
   "outputs": [],
   "source": [
    "from sklearn.model_selection import GridSearchCV"
   ]
  },
  {
   "cell_type": "code",
   "execution_count": null,
   "id": "d78256df",
   "metadata": {
    "gradient": {
     "editing": false,
     "id": "d78256df",
     "kernelId": "c55cb859-11c1-48bc-8669-9f4374ddcbed"
    },
    "scrolled": false
   },
   "outputs": [
    {
     "data": {
      "text/plain": [
       "GridSearchCV(cv=5, estimator=LogisticRegression(),\n",
       "             param_grid={'C': [0.01, 0.1, 1, 10], 'solver': ['lbfgs', 'saga']})"
      ]
     },
     "execution_count": 13,
     "metadata": {},
     "output_type": "execute_result"
    }
   ],
   "source": [
    "# GridSearchCV\n",
    "lr = LogisticRegression()\n",
    "params = {'solver':['lbfgs', 'saga'], 'C': [0.01, 0.1, 1, 10]}\n",
    "gs_cv = GridSearchCV(estimator=lr, param_grid=params, cv=5)\n",
    "# Fit the pipeline\n",
    "gs_cv.fit(X_train_scaled, y_train)"
   ]
  },
  {
   "cell_type": "code",
   "execution_count": null,
   "id": "14402745",
   "metadata": {
    "gradient": {
     "editing": false,
     "id": "14402745",
     "kernelId": "c55cb859-11c1-48bc-8669-9f4374ddcbed"
    }
   },
   "outputs": [
    {
     "data": {
      "text/plain": [
       "{'C': 1, 'solver': 'saga'}"
      ]
     },
     "execution_count": 14,
     "metadata": {},
     "output_type": "execute_result"
    }
   ],
   "source": [
    "gs_cv.best_params_"
   ]
  },
  {
   "cell_type": "code",
   "execution_count": null,
   "id": "b13539ab",
   "metadata": {
    "gradient": {
     "editing": false,
     "id": "b13539ab",
     "kernelId": "c55cb859-11c1-48bc-8669-9f4374ddcbed"
    }
   },
   "outputs": [
    {
     "data": {
      "text/plain": [
       "LogisticRegression(C=1, solver='saga')"
      ]
     },
     "execution_count": 15,
     "metadata": {},
     "output_type": "execute_result"
    }
   ],
   "source": [
    "# LogisticRegression\n",
    "lr_tuned = gs_cv.best_estimator_\n",
    "# Fit the model\n",
    "lr_tuned.fit(X_train_scaled, y_train)"
   ]
  },
  {
   "cell_type": "markdown",
   "id": "422b1117",
   "metadata": {
    "gradient": {
     "editing": false,
     "id": "422b1117",
     "kernelId": "c55cb859-11c1-48bc-8669-9f4374ddcbed"
    }
   },
   "source": [
    "## Evaluate the Model"
   ]
  },
  {
   "cell_type": "code",
   "execution_count": null,
   "id": "e588246d",
   "metadata": {
    "gradient": {
     "editing": false,
     "id": "e588246d",
     "kernelId": "c55cb859-11c1-48bc-8669-9f4374ddcbed"
    }
   },
   "outputs": [
    {
     "name": "stderr",
     "output_type": "stream",
     "text": [
      "/opt/conda/lib/python3.9/site-packages/sklearn/base.py:443: UserWarning: X has feature names, but LogisticRegression was fitted without feature names\n",
      "  warnings.warn(\n"
     ]
    },
    {
     "data": {
      "image/png": "[encoded data removed]",
      "text/plain": [
       "<Figure size 864x576 with 4 Axes>"
      ]
     },
     "metadata": {
      "needs_background": "light"
     },
     "output_type": "display_data"
    }
   ],
   "source": [
    "from sklearn.metrics import roc_curve, confusion_matrix, auc\n",
    "from sklearn.metrics import ConfusionMatrixDisplay\n",
    "from sklearn.metrics import roc_curve\n",
    "from sklearn.metrics import RocCurveDisplay\n",
    "from sklearn.metrics import precision_recall_curve\n",
    "from sklearn.metrics import PrecisionRecallDisplay\n",
    "from sklearn.metrics import precision_score, recall_score, f1_score\n",
    "\n",
    "# Confusion Matrix\n",
    "y_pred = lr_tuned.predict(X_test_scaled)\n",
    "cm = confusion_matrix(y_test, y_pred)\n",
    "cm_display = ConfusionMatrixDisplay(cm)\n",
    "\n",
    "# ROC Curve\n",
    "y_score = lr_tuned.decision_function(X_test)\n",
    "\n",
    "fpr, tpr, _ = roc_curve(y_test, y_score, pos_label=lr_tuned.classes_[1])\n",
    "roc_display = RocCurveDisplay(fpr=fpr, tpr=tpr)\n",
    "\n",
    "# Precision-Recall Curve\n",
    "prec, recall, _ = precision_recall_curve(y_test, y_score, pos_label=lr_tuned.classes_[1])\n",
    "pr_display = PrecisionRecallDisplay(precision=prec, recall=recall)\n",
    "\n",
    "fig, (ax1, ax2, ax3) = plt.subplots(1, 3, figsize=(12, 8))\n",
    "\n",
    "cm_display.plot(ax=ax1)\n",
    "roc_display.plot(ax=ax2)\n",
    "pr_display.plot(ax=ax3)\n",
    "plt.show()"
   ]
  },
  {
   "cell_type": "code",
   "execution_count": null,
   "id": "9ce0fba5",
   "metadata": {
    "gradient": {
     "editing": false,
     "id": "9ce0fba5",
     "kernelId": "c55cb859-11c1-48bc-8669-9f4374ddcbed"
    }
   },
   "outputs": [
    {
     "name": "stdout",
     "output_type": "stream",
     "text": [
      "Accuracy:  0.9125\n",
      "Precision:  0.6479301177364223\n",
      "Recall:  0.2829656659479184\n",
      "F1-Score:  0.3939044100669591\n"
     ]
    }
   ],
   "source": [
    "y_pred = lr_tuned.predict(X_test_scaled)\n",
    "print(\"Accuracy: \", accuracy_score(y_test, y_pred))\n",
    "print(\"Precision: \", precision_score(y_test, y_pred, pos_label=lr_tuned.classes_[1]))\n",
    "print(\"Recall: \", recall_score(y_test, y_pred, pos_label=lr_tuned.classes_[1]))\n",
    "print(\"F1-Score: \", f1_score(y_test, y_pred, pos_label=lr_tuned.classes_[1]))"
   ]
  },
  {
   "cell_type": "markdown",
   "id": "d97e7f5d",
   "metadata": {
    "gradient": {
     "editing": false,
     "id": "d97e7f5d",
     "kernelId": "c55cb859-11c1-48bc-8669-9f4374ddcbed"
    }
   },
   "source": [
    "#### Accuracy is pretty high but from previous observation, we know that the data imbalance could be a prime reason driving this. Looking at the Precision/Recall/F1-score tells us the story that the model is sub-optimal and Accuracy is the wrong metric to look at in this scenario."
   ]
  },
  {
   "cell_type": "markdown",
   "id": "4ab0f1ee",
   "metadata": {
    "gradient": {
     "editing": false,
     "id": "4ab0f1ee",
     "kernelId": "c55cb859-11c1-48bc-8669-9f4374ddcbed"
    }
   },
   "source": [
    "### Upsampling"
   ]
  },
  {
   "cell_type": "code",
   "execution_count": null,
   "id": "a599b0b2",
   "metadata": {
    "gradient": {
     "editing": false,
     "id": "a599b0b2",
     "kernelId": "c55cb859-11c1-48bc-8669-9f4374ddcbed"
    }
   },
   "outputs": [
    {
     "data": {
      "text/plain": [
       "[]"
      ]
     },
     "execution_count": 18,
     "metadata": {},
     "output_type": "execute_result"
    },
    {
     "data": {
      "image/png": "[encoded data removed]",
      "text/plain": [
       "<Figure size 432x288 with 1 Axes>"
      ]
     },
     "metadata": {
      "needs_background": "light"
     },
     "output_type": "display_data"
    }
   ],
   "source": [
    "from sklearn.utils import resample\n",
    "\n",
    "temp_df = pd.concat([X_train, y_train], axis=1)\n",
    "\n",
    "buy = temp_df[temp_df['target'] == 1]\n",
    "not_buy = temp_df[temp_df['target'] == 0]\n",
    "\n",
    "# Upsample to have equal number of customer buy and not_buy features\n",
    "buy_upsampled = resample(buy, replace=True, n_samples=len(not_buy), random_state=11)\n",
    "\n",
    "upsampled = pd.concat([not_buy, buy_upsampled])\n",
    "\n",
    "# Check the class distribution\n",
    "upsampled.pivot_table(index='target', aggfunc='size').plot(kind='bar', title = 'Class distribution').plot()"
   ]
  },
  {
   "cell_type": "code",
   "execution_count": null,
   "id": "0309a3a1",
   "metadata": {
    "gradient": {
     "editing": false,
     "id": "0309a3a1",
     "kernelId": "c55cb859-11c1-48bc-8669-9f4374ddcbed"
    }
   },
   "outputs": [],
   "source": [
    "# Create the feature and target dataframes including appropriate scaling\n",
    "X_train_upsampled = upsampled.drop(['target'], axis=1)\n",
    "y_train_upsampled = upsampled['target']\n",
    "\n",
    "scaler_train_upsampled = MinMaxScaler().fit(X_train_upsampled)\n",
    "X_train_upsampled_scaled = scaler_train_upsampled.transform(X_train_upsampled)"
   ]
  },
  {
   "cell_type": "markdown",
   "id": "23d0b2f1",
   "metadata": {
    "gradient": {
     "editing": false,
     "id": "23d0b2f1",
     "kernelId": "c55cb859-11c1-48bc-8669-9f4374ddcbed"
    }
   },
   "source": [
    "### Re-train the Model"
   ]
  },
  {
   "cell_type": "code",
   "execution_count": null,
   "id": "8a67d8fb",
   "metadata": {
    "gradient": {
     "editing": false,
     "id": "8a67d8fb",
     "kernelId": "c55cb859-11c1-48bc-8669-9f4374ddcbed"
    }
   },
   "outputs": [
    {
     "data": {
      "text/plain": [
       "LogisticRegression(C=10)"
      ]
     },
     "execution_count": 28,
     "metadata": {},
     "output_type": "execute_result"
    }
   ],
   "source": [
    "from sklearn.model_selection import GridSearchCV\n",
    "\n",
    "# GridSearchCV\n",
    "lr_upsampled = LogisticRegression()\n",
    "params = {'solver':['lbfgs', 'saga'], 'C': [0.01, 0.1, 1, 10]}\n",
    "gs_cv_upsampled = GridSearchCV(estimator=lr_upsampled, param_grid=params, cv=5)\n",
    "# Fit the pipeline\n",
    "gs_cv_upsampled.fit(X_train_upsampled_scaled, y_train_upsampled)\n",
    "\n",
    "gs_cv_upsampled.best_params_\n",
    "\n",
    "# LogisticRegression\n",
    "lr_tuned_upsampled = gs_cv_upsampled.best_estimator_\n",
    "# Fit the model\n",
    "lr_tuned_upsampled.fit(X_train_upsampled_scaled, y_train_upsampled)"
   ]
  },
  {
   "cell_type": "markdown",
   "id": "115cc721",
   "metadata": {
    "gradient": {
     "editing": false,
     "id": "115cc721",
     "kernelId": "c55cb859-11c1-48bc-8669-9f4374ddcbed"
    }
   },
   "source": [
    "### Re-Evaluate the Model"
   ]
  },
  {
   "cell_type": "code",
   "execution_count": null,
   "id": "6f38b841",
   "metadata": {
    "gradient": {
     "editing": false,
     "execution_count": 35,
     "id": "6f38b841",
     "kernelId": "c55cb859-11c1-48bc-8669-9f4374ddcbed"
    }
   },
   "outputs": [
    {
     "name": "stderr",
     "output_type": "stream",
     "text": [
      "/opt/conda/lib/python3.9/site-packages/sklearn/base.py:443: UserWarning: X has feature names, but LogisticRegression was fitted without feature names\n",
      "  warnings.warn(\n"
     ]
    },
    {
     "data": {
      "image/png": "[encoded data removed]",
      "text/plain": [
       "<Figure size 864x576 with 4 Axes>"
      ]
     },
     "metadata": {
      "needs_background": "light"
     },
     "output_type": "display_data"
    }
   ],
   "source": [
    "from sklearn.metrics import roc_curve, confusion_matrix, auc\n",
    "from sklearn.metrics import ConfusionMatrixDisplay\n",
    "from sklearn.metrics import roc_curve\n",
    "from sklearn.metrics import RocCurveDisplay\n",
    "from sklearn.metrics import precision_recall_curve\n",
    "from sklearn.metrics import PrecisionRecallDisplay\n",
    "from sklearn.metrics import precision_score, recall_score, f1_score\n",
    "\n",
    "# Confusion Matrix\n",
    "y_pred_upsampled = lr_tuned_upsampled.predict(X_test_scaled)\n",
    "cm = confusion_matrix(y_test, y_pred_upsampled)\n",
    "cm_display = ConfusionMatrixDisplay(cm)\n",
    "\n",
    "# ROC Curve\n",
    "y_score_upsampled = lr_tuned_upsampled.decision_function(X_test)\n",
    "\n",
    "fpr_upsampled, tpr_upsampled, _ = roc_curve(y_test, y_score_upsampled, pos_label=lr_tuned_upsampled.classes_[1])\n",
    "roc_display = RocCurveDisplay(fpr=fpr_upsampled, tpr=tpr_upsampled)\n",
    "\n",
    "# Precision-Recall Curve\n",
    "prec_upsampled, recall_upsampled, _ = precision_recall_curve(y_test, y_score_upsampled, pos_label=lr_tuned_upsampled.classes_[1])\n",
    "pr_display = PrecisionRecallDisplay(precision=prec, recall=recall)\n",
    "\n",
    "fig, (ax1, ax2, ax3) = plt.subplots(1, 3, figsize=(12, 8))\n",
    "\n",
    "cm_display.plot(ax=ax1)\n",
    "roc_display.plot(ax=ax2)\n",
    "pr_display.plot(ax=ax3)\n",
    "plt.show()"
   ]
  },
  {
   "cell_type": "code",
   "execution_count": null,
   "id": "b94c040f",
   "metadata": {
    "gradient": {
     "editing": false,
     "execution_count": 36,
     "id": "b94c040f",
     "kernelId": "c55cb859-11c1-48bc-8669-9f4374ddcbed"
    }
   },
   "outputs": [
    {
     "name": "stdout",
     "output_type": "stream",
     "text": [
      "Accuracy:  0.7762\n",
      "Precision:  0.2808223235973695\n",
      "Recall:  0.7862000331729971\n",
      "F1-Score:  0.4138292299633316\n"
     ]
    }
   ],
   "source": [
    "y_pred = lr_tuned_upsampled.predict(X_test_scaled)\n",
    "print(\"Accuracy: \", accuracy_score(y_test, y_pred))\n",
    "print(\"Precision: \", precision_score(y_test, y_pred, pos_label=lr_tuned_upsampled.classes_[1]))\n",
    "print(\"Recall: \", recall_score(y_test, y_pred, pos_label=lr_tuned_upsampled.classes_[1]))\n",
    "print(\"F1-Score: \", f1_score(y_test, y_pred, pos_label=lr_tuned_upsampled.classes_[1]))"
   ]
  },
  {
   "cell_type": "markdown",
   "id": "2ce1c435-777f-402f-855e-5fbaa7f49288",
   "metadata": {
    "gradient": {
     "editing": false,
     "id": "2ce1c435-777f-402f-855e-5fbaa7f49288",
     "kernelId": "c55cb859-11c1-48bc-8669-9f4374ddcbed"
    }
   },
   "source": [
    "#### Metric before upsampling:\n",
    "\n",
    "- Accuracy:  0.9125\n",
    "- Precision:  0.6479301177364223\n",
    "- Recall:  0.2829656659479184\n",
    "- F1-Score:  0.3939044100669591\n",
    "\n",
    "#### Metric after upsampling: \n",
    "\n",
    "- Accuracy:  0.7762\n",
    "- Precision:  0.2808223235973695\n",
    "- Recall:  0.7862000331729971\n",
    "- F1-Score:  0.4138292299633316\n",
    "\n",
    "#### Conclusion\n",
    "Upsampling did help with increasing the Recall but at the expense of Precision. There was a minimal bump\n",
    "in F1-Score which resulted in Precision and Recall moving substantially in the opposite direction."
   ]
  },
  {
   "cell_type": "markdown",
   "id": "3cf3b622-777e-4aa6-a44f-a3f344fbdb6b",
   "metadata": {
    "gradient": {
     "editing": false,
     "id": "3cf3b622-777e-4aa6-a44f-a3f344fbdb6b",
     "kernelId": "c55cb859-11c1-48bc-8669-9f4374ddcbed"
    }
   },
   "source": [
    "### Downsampling"
   ]
  },
  {
   "cell_type": "code",
   "execution_count": null,
   "id": "d4fc8899-ab6c-46af-95b6-6d1ab7d43bfc",
   "metadata": {
    "gradient": {
     "editing": false,
     "id": "d4fc8899-ab6c-46af-95b6-6d1ab7d43bfc",
     "kernelId": "c55cb859-11c1-48bc-8669-9f4374ddcbed",
     "source_hidden": false
    }
   },
   "outputs": [
    {
     "data": {
      "text/plain": [
       "[]"
      ]
     },
     "execution_count": 32,
     "metadata": {},
     "output_type": "execute_result"
    },
    {
     "data": {
      "image/png": "[encoded data removed]",
      "text/plain": [
       "<Figure size 432x288 with 1 Axes>"
      ]
     },
     "metadata": {
      "needs_background": "light"
     },
     "output_type": "display_data"
    }
   ],
   "source": [
    "from sklearn.utils import resample\n",
    "\n",
    "temp_df = pd.concat([X_train, y_train], axis=1)\n",
    "\n",
    "buy = temp_df[temp_df['target'] == 1]\n",
    "not_buy = temp_df[temp_df['target'] == 0]\n",
    "\n",
    "# Upsample to have equal number of customer buy and not_buy features\n",
    "not_buy_downsampled = resample(not_buy, replace=False, n_samples=len(buy), random_state=11)\n",
    "\n",
    "downsampled = pd.concat([buy, not_buy_downsampled])\n",
    "\n",
    "# Check the class distribution\n",
    "downsampled.pivot_table(index='target', aggfunc='size').plot(kind='bar', title = 'Class distribution').plot()"
   ]
  },
  {
   "cell_type": "code",
   "execution_count": null,
   "id": "61ebdc98-dfe3-420f-9349-63a4d874b024",
   "metadata": {
    "gradient": {
     "editing": false,
     "execution_count": 33,
     "id": "61ebdc98-dfe3-420f-9349-63a4d874b024",
     "kernelId": "c55cb859-11c1-48bc-8669-9f4374ddcbed",
     "source_hidden": false
    }
   },
   "outputs": [],
   "source": [
    "# Create the feature and target dataframes including appropriate scaling\n",
    "X_train_downsampled = downsampled.drop(['target'], axis=1)\n",
    "y_train_downsampled = downsampled['target']\n",
    "\n",
    "scaler_train_downsampled = MinMaxScaler().fit(X_train_downsampled)\n",
    "X_train_downsampled_scaled = scaler_train_downsampled.transform(X_train_downsampled)"
   ]
  },
  {
   "cell_type": "markdown",
   "id": "00e469b1-1ac3-41eb-919b-8c800e921874",
   "metadata": {
    "gradient": {
     "editing": false,
     "id": "00e469b1-1ac3-41eb-919b-8c800e921874",
     "kernelId": "c55cb859-11c1-48bc-8669-9f4374ddcbed"
    }
   },
   "source": [
    "### Re-train the Model"
   ]
  },
  {
   "cell_type": "code",
   "execution_count": null,
   "id": "7878c098-63d9-4d26-b036-8faf566fac50",
   "metadata": {
    "gradient": {
     "editing": false,
     "execution_count": 34,
     "id": "7878c098-63d9-4d26-b036-8faf566fac50",
     "kernelId": "c55cb859-11c1-48bc-8669-9f4374ddcbed",
     "source_hidden": false
    }
   },
   "outputs": [
    {
     "data": {
      "text/plain": [
       "LogisticRegression(C=0.01, solver='saga')"
      ]
     },
     "execution_count": 34,
     "metadata": {},
     "output_type": "execute_result"
    }
   ],
   "source": [
    "from sklearn.model_selection import GridSearchCV\n",
    "\n",
    "# GridSearchCV\n",
    "lr_downsampled = LogisticRegression()\n",
    "params = {'solver':['lbfgs', 'saga'], 'C': [0.01, 0.1, 1, 10]}\n",
    "gs_cv_downsampled = GridSearchCV(estimator=lr_downsampled, param_grid=params, cv=5)\n",
    "# Fit the pipeline\n",
    "gs_cv_downsampled.fit(X_train_downsampled_scaled, y_train_downsampled)\n",
    "\n",
    "gs_cv_downsampled.best_params_\n",
    "\n",
    "# LogisticRegression\n",
    "lr_tuned_downsampled = gs_cv_downsampled.best_estimator_\n",
    "# Fit the model\n",
    "lr_tuned_downsampled.fit(X_train_downsampled_scaled, y_train_downsampled)"
   ]
  },
  {
   "cell_type": "markdown",
   "id": "5a77e284-1e64-4d7d-a536-0b6235445756",
   "metadata": {
    "gradient": {
     "editing": false,
     "id": "5a77e284-1e64-4d7d-a536-0b6235445756",
     "kernelId": "c55cb859-11c1-48bc-8669-9f4374ddcbed"
    }
   },
   "source": [
    "### Re-Evaluate the Model"
   ]
  },
  {
   "cell_type": "code",
   "execution_count": null,
   "id": "0d06a489-69d2-453d-96a3-345a40d52d50",
   "metadata": {
    "gradient": {
     "editing": false,
     "execution_count": 37,
     "id": "0d06a489-69d2-453d-96a3-345a40d52d50",
     "kernelId": "c55cb859-11c1-48bc-8669-9f4374ddcbed",
     "source_hidden": false
    }
   },
   "outputs": [
    {
     "name": "stderr",
     "output_type": "stream",
     "text": [
      "/opt/conda/lib/python3.9/site-packages/sklearn/base.py:443: UserWarning: X has feature names, but LogisticRegression was fitted without feature names\n",
      "  warnings.warn(\n"
     ]
    },
    {
     "data": {
      "image/png": "[encoded data removed]",
      "text/plain": [
       "<Figure size 864x576 with 4 Axes>"
      ]
     },
     "metadata": {
      "needs_background": "light"
     },
     "output_type": "display_data"
    }
   ],
   "source": [
    "from sklearn.metrics import roc_curve, confusion_matrix, auc\n",
    "from sklearn.metrics import ConfusionMatrixDisplay\n",
    "from sklearn.metrics import roc_curve\n",
    "from sklearn.metrics import RocCurveDisplay\n",
    "from sklearn.metrics import precision_recall_curve\n",
    "from sklearn.metrics import PrecisionRecallDisplay\n",
    "from sklearn.metrics import precision_score, recall_score, f1_score\n",
    "\n",
    "# Confusion Matrix\n",
    "y_pred_downsampled = lr_tuned_downsampled.predict(X_test_scaled)\n",
    "cm = confusion_matrix(y_test, y_pred_downsampled)\n",
    "cm_display = ConfusionMatrixDisplay(cm)\n",
    "\n",
    "# ROC Curve\n",
    "y_score_downsampled = lr_tuned_downsampled.decision_function(X_test)\n",
    "\n",
    "fpr_downsampled, tpr_downsampled, _ = roc_curve(y_test, y_score_downsampled, pos_label=lr_tuned_downsampled.classes_[1])\n",
    "roc_display = RocCurveDisplay(fpr=fpr_upsampled, tpr=tpr_upsampled)\n",
    "\n",
    "# Precision-Recall Curve\n",
    "prec_downsampled, recall_downsampled, _ = precision_recall_curve(y_test, y_score_downsampled, pos_label=lr_tuned_downsampled.classes_[1])\n",
    "pr_display = PrecisionRecallDisplay(precision=prec, recall=recall)\n",
    "\n",
    "fig, (ax1, ax2, ax3) = plt.subplots(1, 3, figsize=(12, 8))\n",
    "\n",
    "cm_display.plot(ax=ax1)\n",
    "roc_display.plot(ax=ax2)\n",
    "pr_display.plot(ax=ax3)\n",
    "plt.show()"
   ]
  },
  {
   "cell_type": "code",
   "execution_count": null,
   "id": "77960f22-91e2-48f7-90e6-341afc121f6c",
   "metadata": {
    "gradient": {
     "editing": false,
     "execution_count": 38,
     "id": "77960f22-91e2-48f7-90e6-341afc121f6c",
     "kernelId": "c55cb859-11c1-48bc-8669-9f4374ddcbed",
     "source_hidden": false
    }
   },
   "outputs": [
    {
     "name": "stdout",
     "output_type": "stream",
     "text": [
      "Accuracy:  0.7334\n",
      "Precision:  0.25016293176918836\n",
      "Recall:  0.8276662796483663\n",
      "F1-Score:  0.38420080073914387\n"
     ]
    }
   ],
   "source": [
    "y_pred_downsampled = lr_tuned_downsampled.predict(X_test_scaled)\n",
    "print(\"Accuracy: \", accuracy_score(y_test, y_pred_downsampled))\n",
    "print(\"Precision: \", precision_score(y_test, y_pred_downsampled, pos_label=lr_tuned_downsampled.classes_[1]))\n",
    "print(\"Recall: \", recall_score(y_test, y_pred_downsampled, pos_label=lr_tuned_downsampled.classes_[1]))\n",
    "print(\"F1-Score: \", f1_score(y_test, y_pred_downsampled, pos_label=lr_tuned_downsampled.classes_[1]))"
   ]
  },
  {
   "cell_type": "markdown",
   "id": "8001d0f4-edb1-4ded-a56d-446fde0b721d",
   "metadata": {
    "gradient": {
     "editing": false,
     "id": "8001d0f4-edb1-4ded-a56d-446fde0b721d",
     "kernelId": "c55cb859-11c1-48bc-8669-9f4374ddcbed"
    }
   },
   "source": [
    "#### Metric before downsampling:\n",
    "\n",
    "- Accuracy:  0.9125\n",
    "- Precision:  0.6479301177364223\n",
    "- Recall:  0.2829656659479184\n",
    "- F1-Score:  0.3939044100669591\n",
    "\n",
    "#### Metric after downsampling: \n",
    "\n",
    "- Accuracy:  0.7334\n",
    "- Precision:  0.25016293176918836\n",
    "- Recall:  0.8276662796483663\n",
    "- F1-Score:  0.38420080073914387\n",
    "\n",
    "#### Conclusion\n",
    "Downsampling did worst that Upsampling purely on basis of the F1-Score. The Recall improved but both the Precision and Accuracy \n",
    "went down further. Sticking with Upsampling makes sense for LogisticRegression."
   ]
  },
  {
   "cell_type": "markdown",
   "id": "c77ad82e-06b8-48ed-a97f-5fcf2b8526c3",
   "metadata": {
    "gradient": {
     "editing": false,
     "id": "c77ad82e-06b8-48ed-a97f-5fcf2b8526c3",
     "kernelId": "c55cb859-11c1-48bc-8669-9f4374ddcbed"
    }
   },
   "source": [
    "## Best metric achieved with LogisticRegression with MinMaxScaling and Upsampling:\n",
    "\n",
    "### Accuracy: 0.7762\n",
    "### Precision: 0.2808223235973695\n",
    "### Recall: 0.7862000331729971\n",
    "### F1-Score: 0.4138292299633316"
   ]
  }
 ],
 "metadata": {
  "kernelspec": {
   "display_name": "Python 3",
   "language": "python",
   "name": "python3"
  },
  "language_info": {
   "codemirror_mode": {
    "name": "ipython",
    "version": 3
   },
   "file_extension": ".py",
   "mimetype": "text/x-python",
   "name": "python",
   "nbconvert_exporter": "python",
   "pygments_lexer": "ipython3",
   "version": "3.8.8"
  }
 },
 "nbformat": 4,
 "nbformat_minor": 5
}
